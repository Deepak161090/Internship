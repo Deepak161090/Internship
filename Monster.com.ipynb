{
 "cells": [
  {
   "cell_type": "code",
   "execution_count": 25,
   "metadata": {},
   "outputs": [],
   "source": [
    "import requests\n",
    "from bs4 import BeautifulSoup\n",
    "from selenium import webdriver\n",
    "import pandas as pd"
   ]
  },
  {
   "cell_type": "code",
   "execution_count": 27,
   "metadata": {},
   "outputs": [],
   "source": [
    "driver = webdriver.Chrome(r\"C:\\chromedriver.exe\")"
   ]
  },
  {
   "cell_type": "code",
   "execution_count": 28,
   "metadata": {},
   "outputs": [],
   "source": [
    "driver.get(\"https://www.monsterindia.com/srp/results?query=software%20developer&searchId=d85c4d41-6578-4690-8a60-b57134e0a24e\")"
   ]
  },
  {
   "cell_type": "code",
   "execution_count": 33,
   "metadata": {},
   "outputs": [],
   "source": [
    "page1= []\n",
    "page2= []\n",
    "page3= []\n",
    "page4= []\n",
    "page5= []\n"
   ]
  },
  {
   "cell_type": "code",
   "execution_count": 34,
   "metadata": {},
   "outputs": [
    {
     "data": {
      "text/plain": [
       "[<selenium.webdriver.remote.webelement.WebElement (session=\"965bb1bade78166b6de0aaf4fa0231c5\", element=\"6db2d40c-ddc2-4762-a858-a0783b5264ae\")>,\n",
       " <selenium.webdriver.remote.webelement.WebElement (session=\"965bb1bade78166b6de0aaf4fa0231c5\", element=\"5251283e-e6e0-4255-b617-6946b6b810d1\")>,\n",
       " <selenium.webdriver.remote.webelement.WebElement (session=\"965bb1bade78166b6de0aaf4fa0231c5\", element=\"d6673a09-fd26-488a-be2e-df25dd28d774\")>,\n",
       " <selenium.webdriver.remote.webelement.WebElement (session=\"965bb1bade78166b6de0aaf4fa0231c5\", element=\"7515133a-dd06-4f15-9d38-3ab2857bfe78\")>]"
      ]
     },
     "execution_count": 34,
     "metadata": {},
     "output_type": "execute_result"
    }
   ],
   "source": [
    "jobs= driver.find_elements_by_xpath(\"//h3[@class='medium']\")\n",
    "jobs[0:4]"
   ]
  },
  {
   "cell_type": "code",
   "execution_count": 35,
   "metadata": {},
   "outputs": [
    {
     "data": {
      "text/plain": [
       "['urgent hiring work from home job for (AWS Dev Ops Engineer) for permanent position',\n",
       " 'Hiring \"Software Developer\" - Mumbai',\n",
       " 'Position: Full Stack Developer',\n",
       " 'Software Developer - Australia/Canada']"
      ]
     },
     "execution_count": 35,
     "metadata": {},
     "output_type": "execute_result"
    }
   ],
   "source": [
    "for i in jobs:\n",
    "    titles=i.text\n",
    "    page1.append(titles)\n",
    "page1[0:4]"
   ]
  },
  {
   "cell_type": "code",
   "execution_count": 36,
   "metadata": {},
   "outputs": [
    {
     "data": {
      "text/plain": [
       "['urgent hiring work from home job for (AWS Dev Ops Engineer) for permanent position',\n",
       " 'Hiring \"Software Developer\" - Mumbai',\n",
       " 'Position: Full Stack Developer',\n",
       " 'Software Developer - Australia/Canada',\n",
       " 'SOFTWARE DEVELOPER- DOT NET',\n",
       " 'SOFTWARE DEVELOPER',\n",
       " 'PHP Software Developer',\n",
       " 'Software Developer ( Fresher)',\n",
       " 'Software Developer 3',\n",
       " 'SOFTWARE DEVELOPER',\n",
       " 'SOFTWARE DEVELOPER',\n",
       " 'Junior Software Developer Opening for Freshers in chennai',\n",
       " 'Software Developer, Dot Net Programmer Dot Net Developer',\n",
       " 'Software Developer',\n",
       " 'Integration Developer',\n",
       " 'React.Js',\n",
       " 'one identity management',\n",
       " 'Software Developer - Freshers - Spot Offer (Any Degree)',\n",
       " 'Fresher Software Developer',\n",
       " 'Software Developer',\n",
       " '.Net Developer For Chandigarh Location',\n",
       " 'CONTROL PLANE DEVELOPER',\n",
       " 'Software Developer Trainee- Java, J2ee Certified Freshers',\n",
       " 'Fresher Software Developer',\n",
       " 'SOFTWARE DEVELOPER / SOFTWARE ENGINEER (Encryption / Decryption)']"
      ]
     },
     "execution_count": 36,
     "metadata": {},
     "output_type": "execute_result"
    }
   ],
   "source": [
    "page1"
   ]
  },
  {
   "cell_type": "code",
   "execution_count": 39,
   "metadata": {},
   "outputs": [],
   "source": [
    "driver.get(\"https://www.monsterindia.com/srp/results?start=25&sort=1&limit=25&query=software%20developer&searchId=d85c4d41-6578-4690-8a60-b57134e0a24e\")"
   ]
  },
  {
   "cell_type": "code",
   "execution_count": 40,
   "metadata": {},
   "outputs": [
    {
     "data": {
      "text/plain": [
       "[<selenium.webdriver.remote.webelement.WebElement (session=\"965bb1bade78166b6de0aaf4fa0231c5\", element=\"7ea8f131-553a-49ad-8d69-07df3a95f63e\")>,\n",
       " <selenium.webdriver.remote.webelement.WebElement (session=\"965bb1bade78166b6de0aaf4fa0231c5\", element=\"bbc15582-ed3b-4456-8edb-51ee0194fd7c\")>,\n",
       " <selenium.webdriver.remote.webelement.WebElement (session=\"965bb1bade78166b6de0aaf4fa0231c5\", element=\"6efec926-601c-4a4f-9724-bcd5648f6eba\")>,\n",
       " <selenium.webdriver.remote.webelement.WebElement (session=\"965bb1bade78166b6de0aaf4fa0231c5\", element=\"7747dedc-ed01-41d5-a452-778908b857f5\")>]"
      ]
     },
     "execution_count": 40,
     "metadata": {},
     "output_type": "execute_result"
    }
   ],
   "source": [
    "jobs1= driver.find_elements_by_xpath(\"//h3[@class='medium']\")\n",
    "jobs1[0:4]"
   ]
  },
  {
   "cell_type": "code",
   "execution_count": 41,
   "metadata": {},
   "outputs": [
    {
     "data": {
      "text/plain": [
       "['CRM Developer/ Software Developer',\n",
       " 'Software Developer Web/Mobile',\n",
       " 'Software Developer',\n",
       " 'SOFTWARE DEVELOPER']"
      ]
     },
     "execution_count": 41,
     "metadata": {},
     "output_type": "execute_result"
    }
   ],
   "source": [
    "for i in jobs1:\n",
    "    titles=i.text\n",
    "    page2.append(titles)\n",
    "page2[0:4]"
   ]
  },
  {
   "cell_type": "code",
   "execution_count": 42,
   "metadata": {},
   "outputs": [
    {
     "data": {
      "text/plain": [
       "['CRM Developer/ Software Developer',\n",
       " 'Software Developer Web/Mobile',\n",
       " 'Software Developer',\n",
       " 'SOFTWARE DEVELOPER',\n",
       " 'Software Developer',\n",
       " 'Software Developer',\n",
       " 'Software Developer',\n",
       " 'Software developer',\n",
       " 'Android Developer/ Php developer/ Web Designer/ Software Developer/ Software Programmer',\n",
       " 'Software Developer',\n",
       " 'Opening For Junior Software Developer Fresher',\n",
       " 'Software Developer',\n",
       " 'Software Developer',\n",
       " 'Software Developer',\n",
       " 'Associate Software Developer',\n",
       " 'Api Development',\n",
       " 'Gunank Technologies PVT LTD',\n",
       " 'Software Developer - Australia/Canada',\n",
       " 'Software Developer',\n",
       " 'Fresher Software Developer',\n",
       " 'Software Engineer are required For CANADA & AUSTRALIA',\n",
       " 'Software Test Engineer, Software Engineer/Programmer',\n",
       " 'Software Developer',\n",
       " 'Full Stack Developer',\n",
       " 'WLAN DEVELOPER']"
      ]
     },
     "execution_count": 42,
     "metadata": {},
     "output_type": "execute_result"
    }
   ],
   "source": [
    "page2"
   ]
  },
  {
   "cell_type": "code",
   "execution_count": 43,
   "metadata": {},
   "outputs": [],
   "source": [
    "driver.get(\"https://www.monsterindia.com/srp/results?start=50&sort=1&limit=25&query=software%20developer&searchId=d85c4d41-6578-4690-8a60-b57134e0a24e\")"
   ]
  },
  {
   "cell_type": "code",
   "execution_count": 44,
   "metadata": {},
   "outputs": [
    {
     "data": {
      "text/plain": [
       "[<selenium.webdriver.remote.webelement.WebElement (session=\"965bb1bade78166b6de0aaf4fa0231c5\", element=\"f611544e-d5ee-4938-bdfc-b5e9a1d0b9cd\")>,\n",
       " <selenium.webdriver.remote.webelement.WebElement (session=\"965bb1bade78166b6de0aaf4fa0231c5\", element=\"3e958c6a-a8bf-4c9f-b0f2-a15f7d07e19b\")>,\n",
       " <selenium.webdriver.remote.webelement.WebElement (session=\"965bb1bade78166b6de0aaf4fa0231c5\", element=\"81ad3df3-0ece-4c88-8958-71e1e21b4847\")>,\n",
       " <selenium.webdriver.remote.webelement.WebElement (session=\"965bb1bade78166b6de0aaf4fa0231c5\", element=\"9452d382-4a6a-483c-ace0-3c1822f9b519\")>]"
      ]
     },
     "execution_count": 44,
     "metadata": {},
     "output_type": "execute_result"
    }
   ],
   "source": [
    "jobs2= driver.find_elements_by_xpath(\"//h3[@class='medium']\")\n",
    "jobs2[0:4]"
   ]
  },
  {
   "cell_type": "code",
   "execution_count": 45,
   "metadata": {},
   "outputs": [
    {
     "data": {
      "text/plain": [
       "['Software Developer',\n",
       " 'Senior Software Developer',\n",
       " 'Software Developer',\n",
       " 'Software Developer']"
      ]
     },
     "execution_count": 45,
     "metadata": {},
     "output_type": "execute_result"
    }
   ],
   "source": [
    "for i in jobs2:\n",
    "    titles=i.text\n",
    "    page3.append(titles)\n",
    "page3[0:4]"
   ]
  },
  {
   "cell_type": "code",
   "execution_count": 46,
   "metadata": {},
   "outputs": [],
   "source": [
    "driver.get(\"https://www.monsterindia.com/srp/results?start=75&sort=1&limit=25&query=software%20developer&searchId=d85c4d41-6578-4690-8a60-b57134e0a24e\")"
   ]
  },
  {
   "cell_type": "code",
   "execution_count": 47,
   "metadata": {},
   "outputs": [
    {
     "data": {
      "text/plain": [
       "[<selenium.webdriver.remote.webelement.WebElement (session=\"965bb1bade78166b6de0aaf4fa0231c5\", element=\"8ee3c396-c0b4-4b92-8c56-4fe6acad1da0\")>,\n",
       " <selenium.webdriver.remote.webelement.WebElement (session=\"965bb1bade78166b6de0aaf4fa0231c5\", element=\"4c3627cd-9e04-47a4-959c-faf4f2375bf2\")>,\n",
       " <selenium.webdriver.remote.webelement.WebElement (session=\"965bb1bade78166b6de0aaf4fa0231c5\", element=\"8915d486-aa62-4754-b9fd-9eb99c3ae29a\")>,\n",
       " <selenium.webdriver.remote.webelement.WebElement (session=\"965bb1bade78166b6de0aaf4fa0231c5\", element=\"5f362370-cd9c-4c0d-9b7d-ad1061737055\")>]"
      ]
     },
     "execution_count": 47,
     "metadata": {},
     "output_type": "execute_result"
    }
   ],
   "source": [
    "jobs3= driver.find_elements_by_xpath(\"//h3[@class='medium']\")\n",
    "jobs3[0:4]"
   ]
  },
  {
   "cell_type": "code",
   "execution_count": 48,
   "metadata": {},
   "outputs": [
    {
     "data": {
      "text/plain": [
       "['Cashier & Clerk',\n",
       " 'Software Developer (RoR, JavaScript)',\n",
       " 'Software Developer',\n",
       " 'Software Engineer']"
      ]
     },
     "execution_count": 48,
     "metadata": {},
     "output_type": "execute_result"
    }
   ],
   "source": [
    "for i in jobs3:\n",
    "    titles=i.text\n",
    "    page4.append(titles)\n",
    "page4[0:4]"
   ]
  },
  {
   "cell_type": "code",
   "execution_count": 52,
   "metadata": {},
   "outputs": [
    {
     "data": {
      "text/plain": [
       "['Cashier & Clerk',\n",
       " 'Software Developer (RoR, JavaScript)',\n",
       " 'Software Developer',\n",
       " 'Software Engineer',\n",
       " 'Senior Software Developer',\n",
       " 'Hiring IT Freshers Software Engineer',\n",
       " 'Software Developer',\n",
       " 'URGENT REQUIRED 15 JAVA DEVELOPERS (FRESHER) FOR A BANGALORE BASED REPUTED IT COMPANY.',\n",
       " 'Software Engineer Software Developer Software Programmer',\n",
       " 'Software Developer',\n",
       " 'Software Developer',\n",
       " 'Java Backend Developer - Blockchain Consulting & Solutions based software company,Narhe,Pune',\n",
       " 'Software Developer',\n",
       " 'Full Stack Engineer (Node.JS, NoSQL)',\n",
       " 'Computer Hardware and Networking',\n",
       " 'Laravel Developer',\n",
       " 'Software Engineering',\n",
       " 'Software Engineer Associate / software engineer / software developer',\n",
       " 'Software Developer Software Engineer',\n",
       " 'C/C++ Engineer with SQL and DB2',\n",
       " 'Software Developer / Software Engineer / Software Programmer',\n",
       " 'Senior Azure Developer',\n",
       " 'Urgent Opening for Software Developer ( PHP ) at Mulund',\n",
       " 'Software Developer - Australia/Canada',\n",
       " 'SERVICENOW DEVELOPER/ Lead Developer / Software Developer']"
      ]
     },
     "execution_count": 52,
     "metadata": {},
     "output_type": "execute_result"
    }
   ],
   "source": [
    "page4"
   ]
  },
  {
   "cell_type": "code",
   "execution_count": 49,
   "metadata": {},
   "outputs": [],
   "source": [
    "driver.get(\"https://www.monsterindia.com/srp/results?start=100&sort=1&limit=25&query=software%20developer&searchId=d85c4d41-6578-4690-8a60-b57134e0a24e\")"
   ]
  },
  {
   "cell_type": "code",
   "execution_count": 50,
   "metadata": {},
   "outputs": [
    {
     "data": {
      "text/plain": [
       "[<selenium.webdriver.remote.webelement.WebElement (session=\"965bb1bade78166b6de0aaf4fa0231c5\", element=\"873b1cc6-7eea-4f23-87ab-a9b5ee5de107\")>,\n",
       " <selenium.webdriver.remote.webelement.WebElement (session=\"965bb1bade78166b6de0aaf4fa0231c5\", element=\"eb765ce9-144a-4175-81fd-16de86d9524b\")>,\n",
       " <selenium.webdriver.remote.webelement.WebElement (session=\"965bb1bade78166b6de0aaf4fa0231c5\", element=\"cb2bf014-cc4c-428d-9b5a-1c8b51eb2f59\")>,\n",
       " <selenium.webdriver.remote.webelement.WebElement (session=\"965bb1bade78166b6de0aaf4fa0231c5\", element=\"08c0356c-6bb8-48cd-a11b-8b94329fec46\")>]"
      ]
     },
     "execution_count": 50,
     "metadata": {},
     "output_type": "execute_result"
    }
   ],
   "source": [
    "jobs4= driver.find_elements_by_xpath(\"//h3[@class='medium']\")\n",
    "jobs4[0:4]"
   ]
  },
  {
   "cell_type": "code",
   "execution_count": 51,
   "metadata": {},
   "outputs": [
    {
     "data": {
      "text/plain": [
       "['Software Engineering',\n",
       " 'Software Engineer Associate / software engineer / software developer',\n",
       " 'Software Engineers - Australia/Canada',\n",
       " 'Software Engineer (Developer / Programmer) 2019-20 Passout']"
      ]
     },
     "execution_count": 51,
     "metadata": {},
     "output_type": "execute_result"
    }
   ],
   "source": [
    "for i in jobs4:\n",
    "    titles=i.text\n",
    "    page5.append(titles)\n",
    "page5[0:4]"
   ]
  },
  {
   "cell_type": "code",
   "execution_count": 53,
   "metadata": {},
   "outputs": [],
   "source": [
    "JobsList = pd.DataFrame({})\n",
    "JobsList['Page1']=page1\n",
    "JobsList['Page2']=page2\n",
    "JobsList['Page3']=page3\n",
    "JobsList['Page4']=page4\n",
    "JobsList['Page5']=page5"
   ]
  },
  {
   "cell_type": "code",
   "execution_count": 54,
   "metadata": {},
   "outputs": [
    {
     "data": {
      "text/html": [
       "<div>\n",
       "<style scoped>\n",
       "    .dataframe tbody tr th:only-of-type {\n",
       "        vertical-align: middle;\n",
       "    }\n",
       "\n",
       "    .dataframe tbody tr th {\n",
       "        vertical-align: top;\n",
       "    }\n",
       "\n",
       "    .dataframe thead th {\n",
       "        text-align: right;\n",
       "    }\n",
       "</style>\n",
       "<table border=\"1\" class=\"dataframe\">\n",
       "  <thead>\n",
       "    <tr style=\"text-align: right;\">\n",
       "      <th></th>\n",
       "      <th>Page1</th>\n",
       "      <th>Page2</th>\n",
       "      <th>Page3</th>\n",
       "      <th>Page4</th>\n",
       "      <th>Page5</th>\n",
       "    </tr>\n",
       "  </thead>\n",
       "  <tbody>\n",
       "    <tr>\n",
       "      <th>0</th>\n",
       "      <td>urgent hiring work from home job for (AWS Dev ...</td>\n",
       "      <td>CRM Developer/ Software Developer</td>\n",
       "      <td>Software Developer</td>\n",
       "      <td>Cashier &amp; Clerk</td>\n",
       "      <td>Software Engineering</td>\n",
       "    </tr>\n",
       "    <tr>\n",
       "      <th>1</th>\n",
       "      <td>Hiring \"Software Developer\" - Mumbai</td>\n",
       "      <td>Software Developer Web/Mobile</td>\n",
       "      <td>Senior Software Developer</td>\n",
       "      <td>Software Developer (RoR, JavaScript)</td>\n",
       "      <td>Software Engineer Associate / software enginee...</td>\n",
       "    </tr>\n",
       "    <tr>\n",
       "      <th>2</th>\n",
       "      <td>Position: Full Stack Developer</td>\n",
       "      <td>Software Developer</td>\n",
       "      <td>Software Developer</td>\n",
       "      <td>Software Developer</td>\n",
       "      <td>Software Engineers - Australia/Canada</td>\n",
       "    </tr>\n",
       "    <tr>\n",
       "      <th>3</th>\n",
       "      <td>Software Developer - Australia/Canada</td>\n",
       "      <td>SOFTWARE DEVELOPER</td>\n",
       "      <td>Software Developer</td>\n",
       "      <td>Software Engineer</td>\n",
       "      <td>Software Engineer (Developer / Programmer) 201...</td>\n",
       "    </tr>\n",
       "    <tr>\n",
       "      <th>4</th>\n",
       "      <td>SOFTWARE DEVELOPER- DOT NET</td>\n",
       "      <td>Software Developer</td>\n",
       "      <td>Chief Technology Officer (Product Head) for Ba...</td>\n",
       "      <td>Senior Software Developer</td>\n",
       "      <td>Software Engineers - Australia/Canada</td>\n",
       "    </tr>\n",
       "    <tr>\n",
       "      <th>5</th>\n",
       "      <td>SOFTWARE DEVELOPER</td>\n",
       "      <td>Software Developer</td>\n",
       "      <td>Software Developer</td>\n",
       "      <td>Hiring IT Freshers Software Engineer</td>\n",
       "      <td>Urgent wanted for Software Engineer/Testing En...</td>\n",
       "    </tr>\n",
       "    <tr>\n",
       "      <th>6</th>\n",
       "      <td>PHP Software Developer</td>\n",
       "      <td>Software Developer</td>\n",
       "      <td>Python/Django Developer</td>\n",
       "      <td>Software Developer</td>\n",
       "      <td>Software Developer - Australia/Canada</td>\n",
       "    </tr>\n",
       "    <tr>\n",
       "      <th>7</th>\n",
       "      <td>Software Developer ( Fresher)</td>\n",
       "      <td>Software developer</td>\n",
       "      <td>Software Engineer</td>\n",
       "      <td>URGENT REQUIRED 15 JAVA DEVELOPERS (FRESHER) F...</td>\n",
       "      <td>Trainee Software Engineers</td>\n",
       "    </tr>\n",
       "    <tr>\n",
       "      <th>8</th>\n",
       "      <td>Software Developer 3</td>\n",
       "      <td>Android Developer/ Php developer/ Web Designer...</td>\n",
       "      <td>Software Developer</td>\n",
       "      <td>Software Engineer Software Developer Software ...</td>\n",
       "      <td>Sr. Software Developer - Angular JS</td>\n",
       "    </tr>\n",
       "    <tr>\n",
       "      <th>9</th>\n",
       "      <td>SOFTWARE DEVELOPER</td>\n",
       "      <td>Software Developer</td>\n",
       "      <td>Software Developer/Programmer/Engineer</td>\n",
       "      <td>Software Developer</td>\n",
       "      <td>Openings for Software Developer freshers</td>\n",
       "    </tr>\n",
       "    <tr>\n",
       "      <th>10</th>\n",
       "      <td>SOFTWARE DEVELOPER</td>\n",
       "      <td>Opening For Junior Software Developer Fresher</td>\n",
       "      <td>Software and Applications Programmers for USA ...</td>\n",
       "      <td>Software Developer</td>\n",
       "      <td>Back-End Software Developer</td>\n",
       "    </tr>\n",
       "    <tr>\n",
       "      <th>11</th>\n",
       "      <td>Junior Software Developer Opening for Freshers...</td>\n",
       "      <td>Software Developer</td>\n",
       "      <td>Fresher Java Developer, Java Programmer</td>\n",
       "      <td>Java Backend Developer - Blockchain Consulting...</td>\n",
       "      <td>Front End Software Developer</td>\n",
       "    </tr>\n",
       "    <tr>\n",
       "      <th>12</th>\n",
       "      <td>Software Developer, Dot Net Programmer Dot Net...</td>\n",
       "      <td>Software Developer</td>\n",
       "      <td>Software Developer</td>\n",
       "      <td>Software Developer</td>\n",
       "      <td>QA Workday developer with finance</td>\n",
       "    </tr>\n",
       "    <tr>\n",
       "      <th>13</th>\n",
       "      <td>Software Developer</td>\n",
       "      <td>Software Developer</td>\n",
       "      <td>Software Programmer</td>\n",
       "      <td>Full Stack Engineer (Node.JS, NoSQL)</td>\n",
       "      <td>C++DirectX Developer</td>\n",
       "    </tr>\n",
       "    <tr>\n",
       "      <th>14</th>\n",
       "      <td>Integration Developer</td>\n",
       "      <td>Associate Software Developer</td>\n",
       "      <td>Software Engineer, and Designer Job in Canada ...</td>\n",
       "      <td>Computer Hardware and Networking</td>\n",
       "      <td>Workday finance</td>\n",
       "    </tr>\n",
       "    <tr>\n",
       "      <th>15</th>\n",
       "      <td>React.Js</td>\n",
       "      <td>Api Development</td>\n",
       "      <td>URGENT REQUIRED 15 JAVA DEVELOPERS (FRESHER) F...</td>\n",
       "      <td>Laravel Developer</td>\n",
       "      <td>Workday</td>\n",
       "    </tr>\n",
       "    <tr>\n",
       "      <th>16</th>\n",
       "      <td>one identity management</td>\n",
       "      <td>Gunank Technologies PVT LTD</td>\n",
       "      <td>Software Developer / Pentaho Developer / Penta...</td>\n",
       "      <td>Software Engineering</td>\n",
       "      <td>MERN developer Software Developer</td>\n",
       "    </tr>\n",
       "    <tr>\n",
       "      <th>17</th>\n",
       "      <td>Software Developer - Freshers - Spot Offer (An...</td>\n",
       "      <td>Software Developer - Australia/Canada</td>\n",
       "      <td>Software Engineer in Germany</td>\n",
       "      <td>Software Engineer Associate / software enginee...</td>\n",
       "      <td>Php developer - Experienced and Freshers.</td>\n",
       "    </tr>\n",
       "    <tr>\n",
       "      <th>18</th>\n",
       "      <td>Fresher Software Developer</td>\n",
       "      <td>Software Developer</td>\n",
       "      <td>Immediate -AWS - Cloud Developers/ Engineers w...</td>\n",
       "      <td>Software Developer Software Engineer</td>\n",
       "      <td>Requirement of Software Developer</td>\n",
       "    </tr>\n",
       "    <tr>\n",
       "      <th>19</th>\n",
       "      <td>Software Developer</td>\n",
       "      <td>Fresher Software Developer</td>\n",
       "      <td>Software Developer /Android Developer / Web de...</td>\n",
       "      <td>C/C++ Engineer with SQL and DB2</td>\n",
       "      <td>Urgent wanted for Software Engineer/Testing En...</td>\n",
       "    </tr>\n",
       "    <tr>\n",
       "      <th>20</th>\n",
       "      <td>.Net Developer For Chandigarh Location</td>\n",
       "      <td>Software Engineer are required For CANADA &amp; AU...</td>\n",
       "      <td>Dotnet Web Developer</td>\n",
       "      <td>Software Developer / Software Engineer / Softw...</td>\n",
       "      <td>Software Engineer</td>\n",
       "    </tr>\n",
       "    <tr>\n",
       "      <th>21</th>\n",
       "      <td>CONTROL PLANE DEVELOPER</td>\n",
       "      <td>Software Test Engineer, Software Engineer/Prog...</td>\n",
       "      <td>URGENT REQUIRED 15 JAVA DEVELOPERS (FRESHER) F...</td>\n",
       "      <td>Senior Azure Developer</td>\n",
       "      <td>Software Developer/Programmer/Engineer</td>\n",
       "    </tr>\n",
       "    <tr>\n",
       "      <th>22</th>\n",
       "      <td>Software Developer Trainee- Java, J2ee Certifi...</td>\n",
       "      <td>Software Developer</td>\n",
       "      <td>Software Engineer - JavaScript SDK</td>\n",
       "      <td>Urgent Opening for Software Developer ( PHP ) ...</td>\n",
       "      <td>Software Engineer</td>\n",
       "    </tr>\n",
       "    <tr>\n",
       "      <th>23</th>\n",
       "      <td>Fresher Software Developer</td>\n",
       "      <td>Full Stack Developer</td>\n",
       "      <td>angular developer,software developer</td>\n",
       "      <td>Software Developer - Australia/Canada</td>\n",
       "      <td>Software Developer for an IT Co.(financial ser...</td>\n",
       "    </tr>\n",
       "    <tr>\n",
       "      <th>24</th>\n",
       "      <td>SOFTWARE DEVELOPER / SOFTWARE ENGINEER (Encryp...</td>\n",
       "      <td>WLAN DEVELOPER</td>\n",
       "      <td>Senior Software Developer - Salesforce</td>\n",
       "      <td>SERVICENOW DEVELOPER/ Lead Developer / Softwar...</td>\n",
       "      <td>Senior Software Developer</td>\n",
       "    </tr>\n",
       "  </tbody>\n",
       "</table>\n",
       "</div>"
      ],
      "text/plain": [
       "                                                Page1  \\\n",
       "0   urgent hiring work from home job for (AWS Dev ...   \n",
       "1                Hiring \"Software Developer\" - Mumbai   \n",
       "2                      Position: Full Stack Developer   \n",
       "3               Software Developer - Australia/Canada   \n",
       "4                         SOFTWARE DEVELOPER- DOT NET   \n",
       "5                                  SOFTWARE DEVELOPER   \n",
       "6                              PHP Software Developer   \n",
       "7                       Software Developer ( Fresher)   \n",
       "8                                Software Developer 3   \n",
       "9                                  SOFTWARE DEVELOPER   \n",
       "10                                 SOFTWARE DEVELOPER   \n",
       "11  Junior Software Developer Opening for Freshers...   \n",
       "12  Software Developer, Dot Net Programmer Dot Net...   \n",
       "13                                 Software Developer   \n",
       "14                              Integration Developer   \n",
       "15                                           React.Js   \n",
       "16                            one identity management   \n",
       "17  Software Developer - Freshers - Spot Offer (An...   \n",
       "18                         Fresher Software Developer   \n",
       "19                                 Software Developer   \n",
       "20             .Net Developer For Chandigarh Location   \n",
       "21                            CONTROL PLANE DEVELOPER   \n",
       "22  Software Developer Trainee- Java, J2ee Certifi...   \n",
       "23                         Fresher Software Developer   \n",
       "24  SOFTWARE DEVELOPER / SOFTWARE ENGINEER (Encryp...   \n",
       "\n",
       "                                                Page2  \\\n",
       "0                   CRM Developer/ Software Developer   \n",
       "1                       Software Developer Web/Mobile   \n",
       "2                                  Software Developer   \n",
       "3                                  SOFTWARE DEVELOPER   \n",
       "4                                  Software Developer   \n",
       "5                                  Software Developer   \n",
       "6                                  Software Developer   \n",
       "7                                  Software developer   \n",
       "8   Android Developer/ Php developer/ Web Designer...   \n",
       "9                                  Software Developer   \n",
       "10      Opening For Junior Software Developer Fresher   \n",
       "11                                 Software Developer   \n",
       "12                                 Software Developer   \n",
       "13                                 Software Developer   \n",
       "14                       Associate Software Developer   \n",
       "15                                    Api Development   \n",
       "16                        Gunank Technologies PVT LTD   \n",
       "17              Software Developer - Australia/Canada   \n",
       "18                                 Software Developer   \n",
       "19                         Fresher Software Developer   \n",
       "20  Software Engineer are required For CANADA & AU...   \n",
       "21  Software Test Engineer, Software Engineer/Prog...   \n",
       "22                                 Software Developer   \n",
       "23                               Full Stack Developer   \n",
       "24                                     WLAN DEVELOPER   \n",
       "\n",
       "                                                Page3  \\\n",
       "0                                  Software Developer   \n",
       "1                           Senior Software Developer   \n",
       "2                                  Software Developer   \n",
       "3                                  Software Developer   \n",
       "4   Chief Technology Officer (Product Head) for Ba...   \n",
       "5                                  Software Developer   \n",
       "6                             Python/Django Developer   \n",
       "7                                   Software Engineer   \n",
       "8                                  Software Developer   \n",
       "9              Software Developer/Programmer/Engineer   \n",
       "10  Software and Applications Programmers for USA ...   \n",
       "11            Fresher Java Developer, Java Programmer   \n",
       "12                                 Software Developer   \n",
       "13                                Software Programmer   \n",
       "14  Software Engineer, and Designer Job in Canada ...   \n",
       "15  URGENT REQUIRED 15 JAVA DEVELOPERS (FRESHER) F...   \n",
       "16  Software Developer / Pentaho Developer / Penta...   \n",
       "17                       Software Engineer in Germany   \n",
       "18  Immediate -AWS - Cloud Developers/ Engineers w...   \n",
       "19  Software Developer /Android Developer / Web de...   \n",
       "20                               Dotnet Web Developer   \n",
       "21  URGENT REQUIRED 15 JAVA DEVELOPERS (FRESHER) F...   \n",
       "22                 Software Engineer - JavaScript SDK   \n",
       "23               angular developer,software developer   \n",
       "24             Senior Software Developer - Salesforce   \n",
       "\n",
       "                                                Page4  \\\n",
       "0                                     Cashier & Clerk   \n",
       "1                Software Developer (RoR, JavaScript)   \n",
       "2                                  Software Developer   \n",
       "3                                   Software Engineer   \n",
       "4                           Senior Software Developer   \n",
       "5                Hiring IT Freshers Software Engineer   \n",
       "6                                  Software Developer   \n",
       "7   URGENT REQUIRED 15 JAVA DEVELOPERS (FRESHER) F...   \n",
       "8   Software Engineer Software Developer Software ...   \n",
       "9                                  Software Developer   \n",
       "10                                 Software Developer   \n",
       "11  Java Backend Developer - Blockchain Consulting...   \n",
       "12                                 Software Developer   \n",
       "13               Full Stack Engineer (Node.JS, NoSQL)   \n",
       "14                   Computer Hardware and Networking   \n",
       "15                                  Laravel Developer   \n",
       "16                               Software Engineering   \n",
       "17  Software Engineer Associate / software enginee...   \n",
       "18               Software Developer Software Engineer   \n",
       "19                    C/C++ Engineer with SQL and DB2   \n",
       "20  Software Developer / Software Engineer / Softw...   \n",
       "21                             Senior Azure Developer   \n",
       "22  Urgent Opening for Software Developer ( PHP ) ...   \n",
       "23              Software Developer - Australia/Canada   \n",
       "24  SERVICENOW DEVELOPER/ Lead Developer / Softwar...   \n",
       "\n",
       "                                                Page5  \n",
       "0                                Software Engineering  \n",
       "1   Software Engineer Associate / software enginee...  \n",
       "2               Software Engineers - Australia/Canada  \n",
       "3   Software Engineer (Developer / Programmer) 201...  \n",
       "4               Software Engineers - Australia/Canada  \n",
       "5   Urgent wanted for Software Engineer/Testing En...  \n",
       "6               Software Developer - Australia/Canada  \n",
       "7                          Trainee Software Engineers  \n",
       "8                 Sr. Software Developer - Angular JS  \n",
       "9            Openings for Software Developer freshers  \n",
       "10                        Back-End Software Developer  \n",
       "11                       Front End Software Developer  \n",
       "12                  QA Workday developer with finance  \n",
       "13                               C++DirectX Developer  \n",
       "14                                    Workday finance  \n",
       "15                                            Workday  \n",
       "16                  MERN developer Software Developer  \n",
       "17          Php developer - Experienced and Freshers.  \n",
       "18                  Requirement of Software Developer  \n",
       "19  Urgent wanted for Software Engineer/Testing En...  \n",
       "20                                  Software Engineer  \n",
       "21             Software Developer/Programmer/Engineer  \n",
       "22                                  Software Engineer  \n",
       "23  Software Developer for an IT Co.(financial ser...  \n",
       "24                          Senior Software Developer  "
      ]
     },
     "execution_count": 54,
     "metadata": {},
     "output_type": "execute_result"
    }
   ],
   "source": [
    "JobsList"
   ]
  },
  {
   "cell_type": "code",
   "execution_count": null,
   "metadata": {},
   "outputs": [],
   "source": []
  }
 ],
 "metadata": {
  "kernelspec": {
   "display_name": "Python 3",
   "language": "python",
   "name": "python3"
  },
  "language_info": {
   "codemirror_mode": {
    "name": "ipython",
    "version": 3
   },
   "file_extension": ".py",
   "mimetype": "text/x-python",
   "name": "python",
   "nbconvert_exporter": "python",
   "pygments_lexer": "ipython3",
   "version": "3.7.6"
  }
 },
 "nbformat": 4,
 "nbformat_minor": 4
}
