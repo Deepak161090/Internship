{
 "cells": [
  {
   "cell_type": "code",
   "execution_count": 6,
   "metadata": {},
   "outputs": [],
   "source": [
    "import pandas as pd\n",
    "from bs4 import BeautifulSoup\n",
    "import requests\n",
    "import selenium\n",
    "from selenium import webdriver\n",
    "import time"
   ]
  },
  {
   "cell_type": "code",
   "execution_count": 7,
   "metadata": {},
   "outputs": [],
   "source": [
    "driver = webdriver.Chrome(r\"C:\\chromedriver.exe\")\n",
    "driver.get('https://www.naukri.com/')\n",
    "url = driver.page_source\n",
    "soup = BeautifulSoup(url,'html.parser')\n",
    "driver.find_element_by_id('qsb-keyword-sugg').send_keys('Data Scientist')\n",
    "driver.find_element_by_xpath(\"//input[@id='qsb-location-sugg']\").send_keys('Bangalore')\n",
    "driver.find_element_by_xpath(\"//div[@class='search-btn']/button\").click()\n",
    "time.sleep(10)"
   ]
  },
  {
   "cell_type": "code",
   "execution_count": 8,
   "metadata": {},
   "outputs": [],
   "source": [
    "job = driver.find_elements_by_xpath(\"//a[@class='title fw500 ellipsis']\")"
   ]
  },
  {
   "cell_type": "code",
   "execution_count": 9,
   "metadata": {},
   "outputs": [
    {
     "name": "stdout",
     "output_type": "stream",
     "text": [
      "                                           Job_Names  \\\n",
      "0  Fresher Data Engineer / Data Scientist / Data ...   \n",
      "1                        Data Scientist/Data Analyst   \n",
      "2      Data Scientist - Machine Learning/Data Mining   \n",
      "3                  Data Scientist - Machine Learning   \n",
      "4             Senior Data Scientist - NLP/ Python/ R   \n",
      "5  Senior Data Scientist | CES IT LTD | CMMI Level 5   \n",
      "6  Senior Data Scientist | CES IT LTD | CMMI Level 5   \n",
      "7  Data Scientist - Python/MATLAB/Machine Learnin...   \n",
      "8  Lead Data Scientist - Machine Learning/Data Mi...   \n",
      "9     Artificial Intelligence Analyst/Data Scientist   \n",
      "\n",
      "                                             Company  \\\n",
      "0                      ACHYUTAS SOFT PRIVATE LIMITED   \n",
      "1  CAIA-Center For Artificial Intelligence & Adva...   \n",
      "2                                   Minions Ventures   \n",
      "3                  BLUE YONDER INDIA PRIVATE LIMITED   \n",
      "4                                 AVI Consulting LLP   \n",
      "5                                           CES Ltd.   \n",
      "6                                           CES Ltd.   \n",
      "7                       Wrackle Technologies Pvt Ltd   \n",
      "8                       Wrackle Technologies Pvt Ltd   \n",
      "9                            TalentCo Search Pvt Ltd   \n",
      "\n",
      "                                            location  \\\n",
      "0                    Delhi NCR, Bengaluru, Hyderabad   \n",
      "1                Chennai, Pune, Bengaluru, Hyderabad   \n",
      "2                                          Bengaluru   \n",
      "3                                          Bengaluru   \n",
      "4                               Bengaluru, Hyderabad   \n",
      "5  Chennai, Pune, Delhi NCR, Mumbai, Bengaluru, H...   \n",
      "6  Chennai, Pune, Delhi NCR, Mumbai, Bengaluru, H...   \n",
      "7                                          Bengaluru   \n",
      "8                                          Bengaluru   \n",
      "9                                  Mumbai, Bengaluru   \n",
      "\n",
      "                                         Description  \\\n",
      "0  https://www.naukri.com/job-listings-fresher-da...   \n",
      "1  https://www.naukri.com/job-listings-data-scien...   \n",
      "2  https://www.naukri.com/job-listings-data-scien...   \n",
      "3  https://www.naukri.com/job-listings-data-scien...   \n",
      "4  https://www.naukri.com/job-listings-senior-dat...   \n",
      "5  https://www.naukri.com/job-listings-senior-dat...   \n",
      "6  https://www.naukri.com/job-listings-senior-dat...   \n",
      "7  https://www.naukri.com/job-listings-data-scien...   \n",
      "8  https://www.naukri.com/job-listings-lead-data-...   \n",
      "9  https://www.naukri.com/job-listings-artificial...   \n",
      "\n",
      "                                            Job Info  \n",
      "0  Roles and ResponsibilitiesAnalytical Skills:To...  \n",
      "1  Dear CandidateSchedule a Telephonic Interview ...  \n",
      "2  Key Responsibilities :- Use analytical rigor a...  \n",
      "3  Roles and ResponsibilitiesSkill : NLP,Semantic...  \n",
      "4  Roles and ResponsibilitiesMust have strong Pyt...  \n",
      "5  Roles and ResponsibilitiesMust have strong Pyt...  \n",
      "6  Roles and ResponsibilitiesData Scientist - Dat...  \n",
      "7  Roles and ResponsibilitiesRequirements :- 6-9 ...  \n",
      "8  Roles and Responsibilities- Machine Learning t...  \n",
      "9  Mailkit is an European Marketing Automation co...  \n"
     ]
    }
   ],
   "source": [
    "job_names=[]\n",
    "company=[]\n",
    "location=[]\n",
    "description=[]\n",
    "job_info=[]\n",
    "for i in list(driver.find_elements_by_xpath(\"//a[@class='title fw500 ellipsis']\")):\n",
    "    job_names.append(i.text)\n",
    "for i in list(driver.find_elements_by_xpath(\"//a[@class='subTitle ellipsis fleft']\")):  \n",
    "    company.append(i.text)\n",
    "for i in list(driver.find_elements_by_xpath(\"//li[@class='fleft grey-text br2 placeHolderLi location']\")):\n",
    "    location.append(i.text)\n",
    "for i in job:\n",
    "    description.append(i.get_attribute('href'))\n",
    "for i in description:\n",
    "    driver.get(i)\n",
    "    for i in list(driver.find_elements_by_xpath(\"//div[@class='dang-inner-html']\")):\n",
    "        job_info.append(i.text.replace(\"\\n\",\"\"))\n",
    "    \n",
    "job_df=pd.DataFrame({'Job_Names':job_names[:10],\n",
    "                         'Company':company[:10],\n",
    "                         'location':location[:10],\n",
    "                         'Description':description[:10],\n",
    "                         'Job Info':job_info[:10]})\n",
    "job_df.to_csv('Naukri.com Job Info', index = False)\n",
    "print(job_df)"
   ]
  }
 ],
 "metadata": {
  "kernelspec": {
   "display_name": "Python 3",
   "language": "python",
   "name": "python3"
  },
  "language_info": {
   "codemirror_mode": {
    "name": "ipython",
    "version": 3
   },
   "file_extension": ".py",
   "mimetype": "text/x-python",
   "name": "python",
   "nbconvert_exporter": "python",
   "pygments_lexer": "ipython3",
   "version": "3.7.6"
  }
 },
 "nbformat": 4,
 "nbformat_minor": 4
}
