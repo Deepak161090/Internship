{
 "cells": [
  {
   "cell_type": "code",
   "execution_count": 10,
   "metadata": {},
   "outputs": [],
   "source": [
    "import pandas as pd\n",
    "from bs4 import BeautifulSoup\n",
    "import requests\n",
    "import selenium\n",
    "from selenium import webdriver\n",
    "import time"
   ]
  },
  {
   "cell_type": "code",
   "execution_count": 11,
   "metadata": {},
   "outputs": [],
   "source": [
    "driver = webdriver.Chrome(r\"C:\\chromedriver.exe\")\n",
    "driver.get('https://www.glassdoor.co.in/index.htm')\n",
    "driver.find_element_by_xpath(\"//a[@class='track-click gd-btn-locked-transparent susiLink sign-in strong nowrap']\").click()\n",
    "driver.find_element_by_id('userEmail').send_keys('harmankumar726@gmail.com')\n",
    "driver.find_element_by_id('userPassword').send_keys('hhhh1234kkkk')\n",
    "driver.find_element_by_xpath(\"//button[@class='gd-ui-button minWidthBtn css-8i7bc2']\").click()\n",
    "time.sleep(5)"
   ]
  },
  {
   "cell_type": "code",
   "execution_count": 12,
   "metadata": {},
   "outputs": [],
   "source": [
    "button = driver.find_element_by_xpath(\"//a[@class='btn gd-btn-1 green searchJobsBtn']\")"
   ]
  },
  {
   "cell_type": "code",
   "execution_count": 13,
   "metadata": {},
   "outputs": [],
   "source": [
    "button.click()"
   ]
  },
  {
   "cell_type": "code",
   "execution_count": 14,
   "metadata": {},
   "outputs": [],
   "source": [
    "driver.find_element_by_id('sc.keyword').send_keys('Data Scientist')\n",
    "time.sleep(10)"
   ]
  },
  {
   "cell_type": "code",
   "execution_count": 15,
   "metadata": {},
   "outputs": [],
   "source": [
    "driver.find_element_by_id('sc.location').clear() \n",
    "time.sleep(20)"
   ]
  },
  {
   "cell_type": "code",
   "execution_count": 24,
   "metadata": {},
   "outputs": [],
   "source": [
    "driver.find_element_by_id('sc.location').send_keys('Noida')\n",
    "time.sleep(20)"
   ]
  },
  {
   "cell_type": "code",
   "execution_count": 25,
   "metadata": {},
   "outputs": [],
   "source": [
    "driver.find_element_by_xpath(\"//button[@class='gd-ui-button ml-std col-auto SearchStyles__newSearchButton css-iixdfr']\").click()\n",
    "time.sleep(20)"
   ]
  },
  {
   "cell_type": "code",
   "execution_count": 26,
   "metadata": {},
   "outputs": [
    {
     "name": "stdout",
     "output_type": "stream",
     "text": [
      "                             Company Name Days Posted Rating\n",
      "0                                 Genpact         24h    3.8\n",
      "1                                 Genpact          5d    3.8\n",
      "2                              IHS Markit          7d    4.1\n",
      "3                             GroundTruth         15d    3.3\n",
      "4  Terra Economics & Analytics Lab (TEAL)         24h    4.9\n",
      "5                      Ericsson-Worldwide         15d      4\n",
      "6                             GroundTruth         20d    3.3\n",
      "7                                Brickred         18d    3.7\n",
      "8                                Techlive          5d      5\n",
      "9                               Algoscale         27d    3.7\n"
     ]
    }
   ],
   "source": [
    "company=[]\n",
    "Days=[]\n",
    "Rating=[]\n",
    "for i in list(driver.find_elements_by_xpath(\"//div[@class='jobHeader d-flex justify-content-between align-items-start']\"))[:10]:\n",
    "    company.append(i.text)\n",
    "for i in list(driver.find_elements_by_xpath(\"//div[@class='d-flex align-items-end pl-std css-mi55ob']\"))[:10]:  \n",
    "    Days.append(i.text)\n",
    "for i in list(driver.find_elements_by_xpath(\"//span[@class='compactStars ']\"))[:10]:\n",
    "    Rating.append(i.text)\n",
    "job_df=pd.DataFrame({'Company Name':company,\n",
    "                         'Days Posted':Days,\n",
    "                         'Rating':Rating})\n",
    "job_df.to_csv('Data Scientist GlassDoor.com', index = False)\n",
    "print(job_df)\n",
    " "
   ]
  },
  {
   "cell_type": "code",
   "execution_count": null,
   "metadata": {},
   "outputs": [],
   "source": [
    "job_df"
   ]
  },
  {
   "cell_type": "code",
   "execution_count": null,
   "metadata": {},
   "outputs": [],
   "source": []
  }
 ],
 "metadata": {
  "kernelspec": {
   "display_name": "Python 3",
   "language": "python",
   "name": "python3"
  },
  "language_info": {
   "codemirror_mode": {
    "name": "ipython",
    "version": 3
   },
   "file_extension": ".py",
   "mimetype": "text/x-python",
   "name": "python",
   "nbconvert_exporter": "python",
   "pygments_lexer": "ipython3",
   "version": "3.7.6"
  }
 },
 "nbformat": 4,
 "nbformat_minor": 4
}
