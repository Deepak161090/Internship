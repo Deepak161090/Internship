{
 "cells": [
  {
   "cell_type": "code",
   "execution_count": 15,
   "metadata": {},
   "outputs": [],
   "source": [
    "import pandas as pd\n",
    "from bs4 import BeautifulSoup\n",
    "import requests\n",
    "import selenium\n",
    "from selenium import webdriver\n",
    "import time"
   ]
  },
  {
   "cell_type": "code",
   "execution_count": 16,
   "metadata": {},
   "outputs": [],
   "source": [
    "driver = webdriver.Chrome(r\"C:\\chromedriver.exe\")\n",
    "driver.get('https://www.flipkart.com/apple-iphone-11-black-64-gb-includes-earpods-power-adapter/p/itm0f37c2240b217?pid=MOBFKCTSVZAXUHGR&lid=LSTMOBFKCTSVZAXUHGREPBFGI&marketplace')\n",
    "link = driver.find_element_by_xpath(\"//div[@class='col JOpGWq']/a\") \n",
    "w = link.get_attribute('href')\n",
    "driver.get(w)"
   ]
  },
  {
   "cell_type": "code",
   "execution_count": 17,
   "metadata": {},
   "outputs": [],
   "source": [
    "review=[]\n",
    "pages = []\n",
    "l = driver.find_element_by_xpath(\"//a[@class='ge-49M _2Kfbh8']\")\n",
    "pages.append(l.get_attribute('href'))\n",
    "li = driver.find_elements_by_xpath(\"//a[@class='ge-49M']\")\n",
    "for i in li:\n",
    "    pages.append(i.get_attribute('href'))\n",
    "for i in pages:\n",
    "    driver.get(i)\n",
    "    url = driver.page_source\n",
    "    soup = BeautifulSoup(url,'lxml')\n",
    "    for i in soup.find_all('div','t-ZTKy'):\n",
    "        review.append(i.text)"
   ]
  },
  {
   "cell_type": "code",
   "execution_count": 21,
   "metadata": {},
   "outputs": [],
   "source": [
    "Reviews = pd.DataFrame({'Review':review})"
   ]
  },
  {
   "cell_type": "code",
   "execution_count": 22,
   "metadata": {},
   "outputs": [
    {
     "data": {
      "text/html": [
       "<div>\n",
       "<style scoped>\n",
       "    .dataframe tbody tr th:only-of-type {\n",
       "        vertical-align: middle;\n",
       "    }\n",
       "\n",
       "    .dataframe tbody tr th {\n",
       "        vertical-align: top;\n",
       "    }\n",
       "\n",
       "    .dataframe thead th {\n",
       "        text-align: right;\n",
       "    }\n",
       "</style>\n",
       "<table border=\"1\" class=\"dataframe\">\n",
       "  <thead>\n",
       "    <tr style=\"text-align: right;\">\n",
       "      <th></th>\n",
       "      <th>Review</th>\n",
       "    </tr>\n",
       "  </thead>\n",
       "  <tbody>\n",
       "    <tr>\n",
       "      <th>0</th>\n",
       "      <td>Amazing phone with great cameras and better ba...</td>\n",
       "    </tr>\n",
       "    <tr>\n",
       "      <th>1</th>\n",
       "      <td>Amazing Powerful and Durable Gadget.I’m am ver...</td>\n",
       "    </tr>\n",
       "    <tr>\n",
       "      <th>2</th>\n",
       "      <td>It’s a must buy who is looking for an upgrade ...</td>\n",
       "    </tr>\n",
       "    <tr>\n",
       "      <th>3</th>\n",
       "      <td>iphone 11 is a very good phone to buy only if ...</td>\n",
       "    </tr>\n",
       "    <tr>\n",
       "      <th>4</th>\n",
       "      <td>Value for money❤️❤️Its awesome mobile phone in...</td>\n",
       "    </tr>\n",
       "    <tr>\n",
       "      <th>...</th>\n",
       "      <td>...</td>\n",
       "    </tr>\n",
       "    <tr>\n",
       "      <th>95</th>\n",
       "      <td>Iphone 11 black 64gb is really a cool phone 1....</td>\n",
       "    </tr>\n",
       "    <tr>\n",
       "      <th>96</th>\n",
       "      <td>Although it’s an iPhone, it doesn’t give anyth...</td>\n",
       "    </tr>\n",
       "    <tr>\n",
       "      <th>97</th>\n",
       "      <td>Apple i Phone is the best phone available in t...</td>\n",
       "    </tr>\n",
       "    <tr>\n",
       "      <th>98</th>\n",
       "      <td>use outside gives a outstanding experience ......</td>\n",
       "    </tr>\n",
       "    <tr>\n",
       "      <th>99</th>\n",
       "      <td>Just the display held it from being a 5star ph...</td>\n",
       "    </tr>\n",
       "  </tbody>\n",
       "</table>\n",
       "<p>100 rows × 1 columns</p>\n",
       "</div>"
      ],
      "text/plain": [
       "                                               Review\n",
       "0   Amazing phone with great cameras and better ba...\n",
       "1   Amazing Powerful and Durable Gadget.I’m am ver...\n",
       "2   It’s a must buy who is looking for an upgrade ...\n",
       "3   iphone 11 is a very good phone to buy only if ...\n",
       "4   Value for money❤️❤️Its awesome mobile phone in...\n",
       "..                                                ...\n",
       "95  Iphone 11 black 64gb is really a cool phone 1....\n",
       "96  Although it’s an iPhone, it doesn’t give anyth...\n",
       "97  Apple i Phone is the best phone available in t...\n",
       "98  use outside gives a outstanding experience ......\n",
       "99  Just the display held it from being a 5star ph...\n",
       "\n",
       "[100 rows x 1 columns]"
      ]
     },
     "execution_count": 22,
     "metadata": {},
     "output_type": "execute_result"
    }
   ],
   "source": [
    "Reviews"
   ]
  },
  {
   "cell_type": "code",
   "execution_count": 23,
   "metadata": {},
   "outputs": [
    {
     "name": "stdout",
     "output_type": "stream",
     "text": [
      "                                               Review\n",
      "0   Amazing phone with great cameras and better ba...\n",
      "1   Amazing Powerful and Durable Gadget.I’m am ver...\n",
      "2   It’s a must buy who is looking for an upgrade ...\n",
      "3   iphone 11 is a very good phone to buy only if ...\n",
      "4   Value for money❤️❤️Its awesome mobile phone in...\n",
      "..                                                ...\n",
      "95  Iphone 11 black 64gb is really a cool phone 1....\n",
      "96  Although it’s an iPhone, it doesn’t give anyth...\n",
      "97  Apple i Phone is the best phone available in t...\n",
      "98  use outside gives a outstanding experience ......\n",
      "99  Just the display held it from being a 5star ph...\n",
      "\n",
      "[100 rows x 1 columns]\n"
     ]
    }
   ],
   "source": [
    "Reviews.to_csv('Iphone Reviews', index = False)\n",
    "print(Reviews)"
   ]
  },
  {
   "cell_type": "code",
   "execution_count": null,
   "metadata": {},
   "outputs": [],
   "source": []
  }
 ],
 "metadata": {
  "kernelspec": {
   "display_name": "Python 3",
   "language": "python",
   "name": "python3"
  },
  "language_info": {
   "codemirror_mode": {
    "name": "ipython",
    "version": 3
   },
   "file_extension": ".py",
   "mimetype": "text/x-python",
   "name": "python",
   "nbconvert_exporter": "python",
   "pygments_lexer": "ipython3",
   "version": "3.7.6"
  }
 },
 "nbformat": 4,
 "nbformat_minor": 4
}
