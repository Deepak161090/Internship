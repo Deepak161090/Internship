{
 "cells": [
  {
   "cell_type": "code",
   "execution_count": 1,
   "metadata": {},
   "outputs": [],
   "source": [
    "import requests\n",
    "from bs4 import BeautifulSoup\n",
    "from selenium import webdriver\n",
    "import pandas as pd"
   ]
  },
  {
   "cell_type": "code",
   "execution_count": 2,
   "metadata": {},
   "outputs": [],
   "source": [
    "page = requests.get('https://www.icc-cricket.com/rankings/mens/team-rankings/odi')"
   ]
  },
  {
   "cell_type": "code",
   "execution_count": 3,
   "metadata": {},
   "outputs": [],
   "source": [
    "soup = BeautifulSoup(page.content,'html.parser')"
   ]
  },
  {
   "cell_type": "code",
   "execution_count": 4,
   "metadata": {},
   "outputs": [],
   "source": [
    "driver = webdriver.Chrome(r\"C:\\chromedriver.exe\")\n",
    "driver.get(\"https://www.icc-cricket.com/rankings/mens/team-rankings/odi\")"
   ]
  },
  {
   "cell_type": "markdown",
   "metadata": {},
   "source": [
    "# Top 10 ODI Teams"
   ]
  },
  {
   "cell_type": "code",
   "execution_count": 5,
   "metadata": {},
   "outputs": [],
   "source": [
    "Team=[]\n",
    "Matches =[]\n",
    "Points=[]\n",
    "Rating=[]\n",
    "M=[]\n",
    "A=[]\n",
    "R1=[]\n",
    "R2=[]"
   ]
  },
  {
   "cell_type": "code",
   "execution_count": 6,
   "metadata": {},
   "outputs": [
    {
     "data": {
      "text/plain": [
       "[<selenium.webdriver.remote.webelement.WebElement (session=\"b668f4ad7d57e85138476c61e2f4063b\", element=\"6fc24918-03ff-4bfe-9708-ea01897cc6a7\")>,\n",
       " <selenium.webdriver.remote.webelement.WebElement (session=\"b668f4ad7d57e85138476c61e2f4063b\", element=\"01941b27-cba1-43df-8b64-ad4a363615e2\")>,\n",
       " <selenium.webdriver.remote.webelement.WebElement (session=\"b668f4ad7d57e85138476c61e2f4063b\", element=\"1d4edae9-6599-4de5-be4e-f521000bc816\")>,\n",
       " <selenium.webdriver.remote.webelement.WebElement (session=\"b668f4ad7d57e85138476c61e2f4063b\", element=\"bbe1cc0d-7efb-4a04-8ce0-23aaf2790ff3\")>,\n",
       " <selenium.webdriver.remote.webelement.WebElement (session=\"b668f4ad7d57e85138476c61e2f4063b\", element=\"a39c7191-1d00-4b53-ab1a-5fd54b5df894\")>,\n",
       " <selenium.webdriver.remote.webelement.WebElement (session=\"b668f4ad7d57e85138476c61e2f4063b\", element=\"01b161dc-4f01-4274-ba37-5a17e84b1f15\")>,\n",
       " <selenium.webdriver.remote.webelement.WebElement (session=\"b668f4ad7d57e85138476c61e2f4063b\", element=\"05a2bede-4e61-457a-874c-e02e95c8893c\")>,\n",
       " <selenium.webdriver.remote.webelement.WebElement (session=\"b668f4ad7d57e85138476c61e2f4063b\", element=\"0a64c5b1-fd52-4958-9aa0-141fe7c9a236\")>,\n",
       " <selenium.webdriver.remote.webelement.WebElement (session=\"b668f4ad7d57e85138476c61e2f4063b\", element=\"151d3104-4ced-4f1e-aaa9-a7a834b01cf7\")>,\n",
       " <selenium.webdriver.remote.webelement.WebElement (session=\"b668f4ad7d57e85138476c61e2f4063b\", element=\"f0174d82-5b49-4a77-b87f-36e67ac7c60d\")>]"
      ]
     },
     "execution_count": 6,
     "metadata": {},
     "output_type": "execute_result"
    }
   ],
   "source": [
    "team_list=driver.find_elements_by_xpath(\"//span[@class='u-hide-phablet']\")\n",
    "team_list[0:10]"
   ]
  },
  {
   "cell_type": "code",
   "execution_count": 7,
   "metadata": {},
   "outputs": [
    {
     "data": {
      "text/plain": [
       "['England',\n",
       " 'India',\n",
       " 'New Zealand',\n",
       " 'Australia',\n",
       " 'South Africa',\n",
       " 'Pakistan',\n",
       " 'Bangladesh',\n",
       " 'Sri Lanka',\n",
       " 'West Indies',\n",
       " 'Afghanistan']"
      ]
     },
     "execution_count": 7,
     "metadata": {},
     "output_type": "execute_result"
    }
   ],
   "source": [
    "for i in team_list:\n",
    "    teams=i.text\n",
    "    Team.append(teams)\n",
    "Team[0:10]"
   ]
  },
  {
   "cell_type": "code",
   "execution_count": 8,
   "metadata": {},
   "outputs": [
    {
     "data": {
      "text/plain": [
       "[<selenium.webdriver.remote.webelement.WebElement (session=\"b668f4ad7d57e85138476c61e2f4063b\", element=\"3e866388-1bbe-430d-8e0b-a67bcd4ef663\")>,\n",
       " <selenium.webdriver.remote.webelement.WebElement (session=\"b668f4ad7d57e85138476c61e2f4063b\", element=\"4d37005e-67b3-4b83-9ff3-9d6a0661a4fd\")>,\n",
       " <selenium.webdriver.remote.webelement.WebElement (session=\"b668f4ad7d57e85138476c61e2f4063b\", element=\"43311815-fd3e-4fab-a640-507319a1dc81\")>,\n",
       " <selenium.webdriver.remote.webelement.WebElement (session=\"b668f4ad7d57e85138476c61e2f4063b\", element=\"be9c2081-bd9e-40fd-8a23-cb8596aa9af6\")>,\n",
       " <selenium.webdriver.remote.webelement.WebElement (session=\"b668f4ad7d57e85138476c61e2f4063b\", element=\"b75c6ead-dbba-4171-9cde-177fb3a4ed0c\")>,\n",
       " <selenium.webdriver.remote.webelement.WebElement (session=\"b668f4ad7d57e85138476c61e2f4063b\", element=\"716a8b18-994e-470f-b04a-9cebadde92ce\")>,\n",
       " <selenium.webdriver.remote.webelement.WebElement (session=\"b668f4ad7d57e85138476c61e2f4063b\", element=\"3047bb2c-06f7-4abd-acc8-93905ed5e607\")>,\n",
       " <selenium.webdriver.remote.webelement.WebElement (session=\"b668f4ad7d57e85138476c61e2f4063b\", element=\"b6b12bff-d99b-4f0f-a7be-495c9ab47f12\")>,\n",
       " <selenium.webdriver.remote.webelement.WebElement (session=\"b668f4ad7d57e85138476c61e2f4063b\", element=\"07d96fb6-64d5-44f4-87c2-9a8b4d771485\")>,\n",
       " <selenium.webdriver.remote.webelement.WebElement (session=\"b668f4ad7d57e85138476c61e2f4063b\", element=\"b0e85b28-269a-4765-bfb3-1ddc357dfb29\")>,\n",
       " <selenium.webdriver.remote.webelement.WebElement (session=\"b668f4ad7d57e85138476c61e2f4063b\", element=\"c9111914-7e43-48a6-b7f8-773239642133\")>,\n",
       " <selenium.webdriver.remote.webelement.WebElement (session=\"b668f4ad7d57e85138476c61e2f4063b\", element=\"98838db8-3657-4229-913e-c2c8391ee1b4\")>,\n",
       " <selenium.webdriver.remote.webelement.WebElement (session=\"b668f4ad7d57e85138476c61e2f4063b\", element=\"d24663ca-00c5-4423-b583-c9898c8a1a8e\")>,\n",
       " <selenium.webdriver.remote.webelement.WebElement (session=\"b668f4ad7d57e85138476c61e2f4063b\", element=\"ecc9ea86-b10a-47da-b46b-8aa9fcf92861\")>,\n",
       " <selenium.webdriver.remote.webelement.WebElement (session=\"b668f4ad7d57e85138476c61e2f4063b\", element=\"08ed0f5f-eef3-45ec-bbfc-9bb418235d3c\")>,\n",
       " <selenium.webdriver.remote.webelement.WebElement (session=\"b668f4ad7d57e85138476c61e2f4063b\", element=\"3a879887-e240-4bc5-88e8-80d0e72f0877\")>,\n",
       " <selenium.webdriver.remote.webelement.WebElement (session=\"b668f4ad7d57e85138476c61e2f4063b\", element=\"3a440144-ff4d-4022-81ba-c5dc89a81157\")>,\n",
       " <selenium.webdriver.remote.webelement.WebElement (session=\"b668f4ad7d57e85138476c61e2f4063b\", element=\"ef896f3e-33c6-488e-ac1e-11c5aa14cc86\")>,\n",
       " <selenium.webdriver.remote.webelement.WebElement (session=\"b668f4ad7d57e85138476c61e2f4063b\", element=\"012a4b4d-3c30-4ecf-b59a-971a0c0f35d2\")>,\n",
       " <selenium.webdriver.remote.webelement.WebElement (session=\"b668f4ad7d57e85138476c61e2f4063b\", element=\"932637fd-e87e-47dc-bd35-5f0460b771be\")>,\n",
       " <selenium.webdriver.remote.webelement.WebElement (session=\"b668f4ad7d57e85138476c61e2f4063b\", element=\"6a94e831-a026-4bc0-81f3-d4364d464b9f\")>,\n",
       " <selenium.webdriver.remote.webelement.WebElement (session=\"b668f4ad7d57e85138476c61e2f4063b\", element=\"cfa0ddce-b335-4b87-8a35-becd4ee25b31\")>,\n",
       " <selenium.webdriver.remote.webelement.WebElement (session=\"b668f4ad7d57e85138476c61e2f4063b\", element=\"bd977ff4-2957-4ebe-9195-07549d6cb443\")>,\n",
       " <selenium.webdriver.remote.webelement.WebElement (session=\"b668f4ad7d57e85138476c61e2f4063b\", element=\"92413210-89c2-4961-b653-269ff83b1e65\")>,\n",
       " <selenium.webdriver.remote.webelement.WebElement (session=\"b668f4ad7d57e85138476c61e2f4063b\", element=\"c477b07b-ff80-4588-bf71-0b8ae9d5adc0\")>,\n",
       " <selenium.webdriver.remote.webelement.WebElement (session=\"b668f4ad7d57e85138476c61e2f4063b\", element=\"19922408-0c3f-447a-8b33-dbdfca821c91\")>,\n",
       " <selenium.webdriver.remote.webelement.WebElement (session=\"b668f4ad7d57e85138476c61e2f4063b\", element=\"35c5d431-440c-49f7-a478-182f865ff2f5\")>,\n",
       " <selenium.webdriver.remote.webelement.WebElement (session=\"b668f4ad7d57e85138476c61e2f4063b\", element=\"e02e47c8-e424-4612-b163-a40d3d3ee159\")>,\n",
       " <selenium.webdriver.remote.webelement.WebElement (session=\"b668f4ad7d57e85138476c61e2f4063b\", element=\"892efd3e-d09c-4b4a-93c8-0f1065f7e513\")>,\n",
       " <selenium.webdriver.remote.webelement.WebElement (session=\"b668f4ad7d57e85138476c61e2f4063b\", element=\"888162cc-2ffd-4134-b199-14f6db469769\")>,\n",
       " <selenium.webdriver.remote.webelement.WebElement (session=\"b668f4ad7d57e85138476c61e2f4063b\", element=\"f95a4917-57d5-4aae-b59a-af17a09e8d9a\")>,\n",
       " <selenium.webdriver.remote.webelement.WebElement (session=\"b668f4ad7d57e85138476c61e2f4063b\", element=\"4bd0d86f-7386-46e6-ab73-e51fe8c441d2\")>,\n",
       " <selenium.webdriver.remote.webelement.WebElement (session=\"b668f4ad7d57e85138476c61e2f4063b\", element=\"397b2871-57d3-4c65-a9d0-8ec2a26142d8\")>,\n",
       " <selenium.webdriver.remote.webelement.WebElement (session=\"b668f4ad7d57e85138476c61e2f4063b\", element=\"23736a02-2de4-427b-baef-3e0afd7f32e0\")>,\n",
       " <selenium.webdriver.remote.webelement.WebElement (session=\"b668f4ad7d57e85138476c61e2f4063b\", element=\"72e21774-fc81-4a40-b230-f5f5c5c59858\")>,\n",
       " <selenium.webdriver.remote.webelement.WebElement (session=\"b668f4ad7d57e85138476c61e2f4063b\", element=\"879c36dc-8e9c-4d12-9e11-e7ed2a5f041b\")>,\n",
       " <selenium.webdriver.remote.webelement.WebElement (session=\"b668f4ad7d57e85138476c61e2f4063b\", element=\"f852310e-a10e-4f16-9af0-6c48ebbc3a3d\")>,\n",
       " <selenium.webdriver.remote.webelement.WebElement (session=\"b668f4ad7d57e85138476c61e2f4063b\", element=\"46e1916c-ce63-4e9a-8d4c-336fc30a60f4\")>]"
      ]
     },
     "execution_count": 8,
     "metadata": {},
     "output_type": "execute_result"
    }
   ],
   "source": [
    "matches_list = driver.find_elements_by_xpath(\"//td[@class='rankings-block__banner--matches']\")\n",
    "matches_list   \n",
    "matches_list2 = driver.find_elements_by_xpath(\"//td[@class='table-body__cell u-center-text']\")\n",
    "matches_list2    "
   ]
  },
  {
   "cell_type": "code",
   "execution_count": 9,
   "metadata": {},
   "outputs": [
    {
     "data": {
      "text/plain": [
       "['44']"
      ]
     },
     "execution_count": 9,
     "metadata": {},
     "output_type": "execute_result"
    }
   ],
   "source": [
    "for i in matches_list:\n",
    "    m=i.text\n",
    "    Matches.append(m)\n",
    "Matches"
   ]
  },
  {
   "cell_type": "code",
   "execution_count": 10,
   "metadata": {},
   "outputs": [],
   "source": [
    "for i in matches_list2:\n",
    "    m2=i.text\n",
    "    M.append(m2)"
   ]
  },
  {
   "cell_type": "code",
   "execution_count": 11,
   "metadata": {},
   "outputs": [],
   "source": [
    "Points=M[1::2]"
   ]
  },
  {
   "cell_type": "code",
   "execution_count": 12,
   "metadata": {},
   "outputs": [
    {
     "data": {
      "text/plain": [
       "['6,102',\n",
       " '3,716',\n",
       " '4,344',\n",
       " '3,345',\n",
       " '3,590',\n",
       " '2,989',\n",
       " '3,297',\n",
       " '3,285',\n",
       " '1,549',\n",
       " '1,256',\n",
       " '222',\n",
       " '479',\n",
       " '1,021',\n",
       " '419',\n",
       " '161',\n",
       " '259',\n",
       " '152',\n",
       " '185',\n",
       " '0']"
      ]
     },
     "execution_count": 12,
     "metadata": {},
     "output_type": "execute_result"
    }
   ],
   "source": [
    "Points"
   ]
  },
  {
   "cell_type": "code",
   "execution_count": 13,
   "metadata": {},
   "outputs": [
    {
     "data": {
      "text/plain": [
       "['52',\n",
       " '32',\n",
       " '39',\n",
       " '31',\n",
       " '35',\n",
       " '34',\n",
       " '39',\n",
       " '43',\n",
       " '28',\n",
       " '24',\n",
       " '5',\n",
       " '12',\n",
       " '27',\n",
       " '16',\n",
       " '9',\n",
       " '15',\n",
       " '9',\n",
       " '14',\n",
       " '14']"
      ]
     },
     "execution_count": 13,
     "metadata": {},
     "output_type": "execute_result"
    }
   ],
   "source": [
    "M[::2]"
   ]
  },
  {
   "cell_type": "code",
   "execution_count": 14,
   "metadata": {},
   "outputs": [],
   "source": [
    "A=M[::2]"
   ]
  },
  {
   "cell_type": "code",
   "execution_count": 15,
   "metadata": {},
   "outputs": [
    {
     "data": {
      "text/plain": [
       "['52',\n",
       " '32',\n",
       " '39',\n",
       " '31',\n",
       " '35',\n",
       " '34',\n",
       " '39',\n",
       " '43',\n",
       " '28',\n",
       " '24',\n",
       " '5',\n",
       " '12',\n",
       " '27',\n",
       " '16',\n",
       " '9',\n",
       " '15',\n",
       " '9',\n",
       " '14',\n",
       " '14']"
      ]
     },
     "execution_count": 15,
     "metadata": {},
     "output_type": "execute_result"
    }
   ],
   "source": [
    "A"
   ]
  },
  {
   "cell_type": "code",
   "execution_count": 16,
   "metadata": {},
   "outputs": [],
   "source": [
    "Played = Matches+A"
   ]
  },
  {
   "cell_type": "code",
   "execution_count": 17,
   "metadata": {},
   "outputs": [
    {
     "data": {
      "text/plain": [
       "['44',\n",
       " '52',\n",
       " '32',\n",
       " '39',\n",
       " '31',\n",
       " '35',\n",
       " '34',\n",
       " '39',\n",
       " '43',\n",
       " '28',\n",
       " '24',\n",
       " '5',\n",
       " '12',\n",
       " '27',\n",
       " '16',\n",
       " '9',\n",
       " '15',\n",
       " '9',\n",
       " '14',\n",
       " '14']"
      ]
     },
     "execution_count": 17,
     "metadata": {},
     "output_type": "execute_result"
    }
   ],
   "source": [
    "Played"
   ]
  },
  {
   "cell_type": "code",
   "execution_count": 18,
   "metadata": {},
   "outputs": [
    {
     "data": {
      "text/plain": [
       "[<selenium.webdriver.remote.webelement.WebElement (session=\"b668f4ad7d57e85138476c61e2f4063b\", element=\"d6ec3e88-096b-4576-8adf-24273081ce52\")>]"
      ]
     },
     "execution_count": 18,
     "metadata": {},
     "output_type": "execute_result"
    }
   ],
   "source": [
    "rating_list=driver.find_elements_by_xpath(\"//td[@class='rankings-block__banner--rating u-text-right']\")\n",
    "rating_list[0:10]"
   ]
  },
  {
   "cell_type": "code",
   "execution_count": 19,
   "metadata": {},
   "outputs": [
    {
     "data": {
      "text/plain": [
       "[<selenium.webdriver.remote.webelement.WebElement (session=\"b668f4ad7d57e85138476c61e2f4063b\", element=\"3c6b7e68-2474-4c83-a496-aec68464c11b\")>,\n",
       " <selenium.webdriver.remote.webelement.WebElement (session=\"b668f4ad7d57e85138476c61e2f4063b\", element=\"f74db4cc-04c9-42f6-aa6e-a32ab68a6301\")>,\n",
       " <selenium.webdriver.remote.webelement.WebElement (session=\"b668f4ad7d57e85138476c61e2f4063b\", element=\"1cf0ea02-988b-43f7-964a-4b9adb5513c1\")>,\n",
       " <selenium.webdriver.remote.webelement.WebElement (session=\"b668f4ad7d57e85138476c61e2f4063b\", element=\"ac6aee5a-33b8-4d90-bbb1-1555eb92d01b\")>,\n",
       " <selenium.webdriver.remote.webelement.WebElement (session=\"b668f4ad7d57e85138476c61e2f4063b\", element=\"94251012-65ba-475b-a1ba-34a6b41b1358\")>,\n",
       " <selenium.webdriver.remote.webelement.WebElement (session=\"b668f4ad7d57e85138476c61e2f4063b\", element=\"1b0aaf74-ed53-4d9f-8aad-ef808c8a6d6e\")>,\n",
       " <selenium.webdriver.remote.webelement.WebElement (session=\"b668f4ad7d57e85138476c61e2f4063b\", element=\"6158d3c2-518b-4749-b7bf-098891f32b2b\")>,\n",
       " <selenium.webdriver.remote.webelement.WebElement (session=\"b668f4ad7d57e85138476c61e2f4063b\", element=\"53f39b6c-ebcb-4ad5-84ea-9dd9568b6c74\")>,\n",
       " <selenium.webdriver.remote.webelement.WebElement (session=\"b668f4ad7d57e85138476c61e2f4063b\", element=\"b8d8a6c2-0fcd-4895-a8dd-b0b634111db6\")>,\n",
       " <selenium.webdriver.remote.webelement.WebElement (session=\"b668f4ad7d57e85138476c61e2f4063b\", element=\"01f29c6b-1e8b-4871-9658-70ae54fc7ae2\")>]"
      ]
     },
     "execution_count": 19,
     "metadata": {},
     "output_type": "execute_result"
    }
   ],
   "source": [
    "rating_list2=driver.find_elements_by_xpath(\"//td[@class='table-body__cell u-text-right rating']\")\n",
    "rating_list2[0:10]\n",
    "\n"
   ]
  },
  {
   "cell_type": "code",
   "execution_count": 20,
   "metadata": {},
   "outputs": [
    {
     "data": {
      "text/plain": [
       "['123']"
      ]
     },
     "execution_count": 20,
     "metadata": {},
     "output_type": "execute_result"
    }
   ],
   "source": [
    "for i in rating_list:\n",
    "    r1=i.text\n",
    "    R1.append(r1)\n",
    "R1"
   ]
  },
  {
   "cell_type": "code",
   "execution_count": 21,
   "metadata": {},
   "outputs": [
    {
     "data": {
      "text/plain": [
       "['117',\n",
       " '116',\n",
       " '111',\n",
       " '108',\n",
       " '103',\n",
       " '88',\n",
       " '85',\n",
       " '76',\n",
       " '55',\n",
       " '52',\n",
       " '44',\n",
       " '40',\n",
       " '38',\n",
       " '26',\n",
       " '18',\n",
       " '17',\n",
       " '17',\n",
       " '13',\n",
       " '0']"
      ]
     },
     "execution_count": 21,
     "metadata": {},
     "output_type": "execute_result"
    }
   ],
   "source": [
    "for i in rating_list2:\n",
    "    r2=i.text\n",
    "    R2.append(r2)\n",
    "R2"
   ]
  },
  {
   "cell_type": "code",
   "execution_count": 22,
   "metadata": {},
   "outputs": [],
   "source": [
    "Rates=R1+R2"
   ]
  },
  {
   "cell_type": "code",
   "execution_count": 23,
   "metadata": {},
   "outputs": [
    {
     "data": {
      "text/plain": [
       "['123',\n",
       " '117',\n",
       " '116',\n",
       " '111',\n",
       " '108',\n",
       " '103',\n",
       " '88',\n",
       " '85',\n",
       " '76',\n",
       " '55',\n",
       " '52',\n",
       " '44',\n",
       " '40',\n",
       " '38',\n",
       " '26',\n",
       " '18',\n",
       " '17',\n",
       " '17',\n",
       " '13',\n",
       " '0']"
      ]
     },
     "execution_count": 23,
     "metadata": {},
     "output_type": "execute_result"
    }
   ],
   "source": [
    "Rates"
   ]
  },
  {
   "cell_type": "code",
   "execution_count": 24,
   "metadata": {},
   "outputs": [],
   "source": [
    "ODI=pd.DataFrame({})\n",
    "ODI['Teams']    =Team[:10]\n",
    "ODI['Matches']  =Played[:10]\n",
    "ODI['Points']   =Points[:10]\n",
    "ODI['Rating']   =Rates[:10]"
   ]
  },
  {
   "cell_type": "code",
   "execution_count": 25,
   "metadata": {},
   "outputs": [
    {
     "data": {
      "text/html": [
       "<div>\n",
       "<style scoped>\n",
       "    .dataframe tbody tr th:only-of-type {\n",
       "        vertical-align: middle;\n",
       "    }\n",
       "\n",
       "    .dataframe tbody tr th {\n",
       "        vertical-align: top;\n",
       "    }\n",
       "\n",
       "    .dataframe thead th {\n",
       "        text-align: right;\n",
       "    }\n",
       "</style>\n",
       "<table border=\"1\" class=\"dataframe\">\n",
       "  <thead>\n",
       "    <tr style=\"text-align: right;\">\n",
       "      <th></th>\n",
       "      <th>Teams</th>\n",
       "      <th>Matches</th>\n",
       "      <th>Points</th>\n",
       "      <th>Rating</th>\n",
       "    </tr>\n",
       "  </thead>\n",
       "  <tbody>\n",
       "    <tr>\n",
       "      <th>0</th>\n",
       "      <td>England</td>\n",
       "      <td>44</td>\n",
       "      <td>6,102</td>\n",
       "      <td>123</td>\n",
       "    </tr>\n",
       "    <tr>\n",
       "      <th>1</th>\n",
       "      <td>India</td>\n",
       "      <td>52</td>\n",
       "      <td>3,716</td>\n",
       "      <td>117</td>\n",
       "    </tr>\n",
       "    <tr>\n",
       "      <th>2</th>\n",
       "      <td>New Zealand</td>\n",
       "      <td>32</td>\n",
       "      <td>4,344</td>\n",
       "      <td>116</td>\n",
       "    </tr>\n",
       "    <tr>\n",
       "      <th>3</th>\n",
       "      <td>Australia</td>\n",
       "      <td>39</td>\n",
       "      <td>3,345</td>\n",
       "      <td>111</td>\n",
       "    </tr>\n",
       "    <tr>\n",
       "      <th>4</th>\n",
       "      <td>South Africa</td>\n",
       "      <td>31</td>\n",
       "      <td>3,590</td>\n",
       "      <td>108</td>\n",
       "    </tr>\n",
       "    <tr>\n",
       "      <th>5</th>\n",
       "      <td>Pakistan</td>\n",
       "      <td>35</td>\n",
       "      <td>2,989</td>\n",
       "      <td>103</td>\n",
       "    </tr>\n",
       "    <tr>\n",
       "      <th>6</th>\n",
       "      <td>Bangladesh</td>\n",
       "      <td>34</td>\n",
       "      <td>3,297</td>\n",
       "      <td>88</td>\n",
       "    </tr>\n",
       "    <tr>\n",
       "      <th>7</th>\n",
       "      <td>Sri Lanka</td>\n",
       "      <td>39</td>\n",
       "      <td>3,285</td>\n",
       "      <td>85</td>\n",
       "    </tr>\n",
       "    <tr>\n",
       "      <th>8</th>\n",
       "      <td>West Indies</td>\n",
       "      <td>43</td>\n",
       "      <td>1,549</td>\n",
       "      <td>76</td>\n",
       "    </tr>\n",
       "    <tr>\n",
       "      <th>9</th>\n",
       "      <td>Afghanistan</td>\n",
       "      <td>28</td>\n",
       "      <td>1,256</td>\n",
       "      <td>55</td>\n",
       "    </tr>\n",
       "  </tbody>\n",
       "</table>\n",
       "</div>"
      ],
      "text/plain": [
       "          Teams Matches Points Rating\n",
       "0       England      44  6,102    123\n",
       "1         India      52  3,716    117\n",
       "2   New Zealand      32  4,344    116\n",
       "3     Australia      39  3,345    111\n",
       "4  South Africa      31  3,590    108\n",
       "5      Pakistan      35  2,989    103\n",
       "6    Bangladesh      34  3,297     88\n",
       "7     Sri Lanka      39  3,285     85\n",
       "8   West Indies      43  1,549     76\n",
       "9   Afghanistan      28  1,256     55"
      ]
     },
     "execution_count": 25,
     "metadata": {},
     "output_type": "execute_result"
    }
   ],
   "source": [
    "ODI"
   ]
  },
  {
   "cell_type": "markdown",
   "metadata": {},
   "source": [
    "# Top 10 ODI Batsmen"
   ]
  },
  {
   "cell_type": "code",
   "execution_count": 26,
   "metadata": {},
   "outputs": [],
   "source": [
    "driver.get(\"https://www.icc-cricket.com/rankings/mens/player-rankings/odi/batting?at=2020-12-01\")"
   ]
  },
  {
   "cell_type": "code",
   "execution_count": 27,
   "metadata": {},
   "outputs": [],
   "source": [
    "Player=[]\n",
    "PlayerTeam=[]\n",
    "PlayerRating=[]\n",
    "p=[]\n",
    "t=[]\n",
    "k=[]\n",
    "p6=[]"
   ]
  },
  {
   "cell_type": "code",
   "execution_count": 28,
   "metadata": {},
   "outputs": [
    {
     "data": {
      "text/plain": [
       "[<selenium.webdriver.remote.webelement.WebElement (session=\"b668f4ad7d57e85138476c61e2f4063b\", element=\"bdf7c2fb-de98-4048-9c4f-dd9bcd057400\")>]"
      ]
     },
     "execution_count": 28,
     "metadata": {},
     "output_type": "execute_result"
    }
   ],
   "source": [
    "player_list=driver.find_elements_by_xpath(\"//div[@class='rankings-block__banner--name-large']\")\n",
    "player_list"
   ]
  },
  {
   "cell_type": "code",
   "execution_count": 29,
   "metadata": {},
   "outputs": [
    {
     "data": {
      "text/plain": [
       "['Virat Kohli']"
      ]
     },
     "execution_count": 29,
     "metadata": {},
     "output_type": "execute_result"
    }
   ],
   "source": [
    "for i in player_list:\n",
    "    p1=i.text\n",
    "    p.append(p1)\n",
    "p"
   ]
  },
  {
   "cell_type": "code",
   "execution_count": 30,
   "metadata": {},
   "outputs": [
    {
     "data": {
      "text/plain": [
       "[<selenium.webdriver.remote.webelement.WebElement (session=\"b668f4ad7d57e85138476c61e2f4063b\", element=\"c8caeb3a-2e75-43a6-8de2-bdf301d12e50\")>,\n",
       " <selenium.webdriver.remote.webelement.WebElement (session=\"b668f4ad7d57e85138476c61e2f4063b\", element=\"2ca5a8c8-2c3e-4d59-aa19-fd78479b7416\")>,\n",
       " <selenium.webdriver.remote.webelement.WebElement (session=\"b668f4ad7d57e85138476c61e2f4063b\", element=\"b092beff-1e37-4ccf-8298-ba6c609c7300\")>,\n",
       " <selenium.webdriver.remote.webelement.WebElement (session=\"b668f4ad7d57e85138476c61e2f4063b\", element=\"d48ed580-ded6-41c8-bb69-bc794ccc5506\")>,\n",
       " <selenium.webdriver.remote.webelement.WebElement (session=\"b668f4ad7d57e85138476c61e2f4063b\", element=\"a6e389c2-a088-48b2-808a-55624fb0f15a\")>,\n",
       " <selenium.webdriver.remote.webelement.WebElement (session=\"b668f4ad7d57e85138476c61e2f4063b\", element=\"cb1a3945-d608-42c2-a3df-d672bb7f22bb\")>,\n",
       " <selenium.webdriver.remote.webelement.WebElement (session=\"b668f4ad7d57e85138476c61e2f4063b\", element=\"50dc296c-4dac-4800-a021-740de64eb8bb\")>,\n",
       " <selenium.webdriver.remote.webelement.WebElement (session=\"b668f4ad7d57e85138476c61e2f4063b\", element=\"baa64ffd-df1b-493f-8e62-2577d4547960\")>,\n",
       " <selenium.webdriver.remote.webelement.WebElement (session=\"b668f4ad7d57e85138476c61e2f4063b\", element=\"e1e04699-71c5-47b6-8213-da3ea573c3ff\")>,\n",
       " <selenium.webdriver.remote.webelement.WebElement (session=\"b668f4ad7d57e85138476c61e2f4063b\", element=\"c9f9110d-f9a4-4076-b638-a23ec58c86d7\")>,\n",
       " <selenium.webdriver.remote.webelement.WebElement (session=\"b668f4ad7d57e85138476c61e2f4063b\", element=\"201e901f-e16d-4575-85d7-12473e3ff587\")>,\n",
       " <selenium.webdriver.remote.webelement.WebElement (session=\"b668f4ad7d57e85138476c61e2f4063b\", element=\"4f3fa0f1-39af-44a3-b152-698fd09ec60d\")>,\n",
       " <selenium.webdriver.remote.webelement.WebElement (session=\"b668f4ad7d57e85138476c61e2f4063b\", element=\"08729e39-771f-4895-bd07-71917edcc7a5\")>,\n",
       " <selenium.webdriver.remote.webelement.WebElement (session=\"b668f4ad7d57e85138476c61e2f4063b\", element=\"683dcea7-bafe-4f1c-8563-d00bd7c57f28\")>,\n",
       " <selenium.webdriver.remote.webelement.WebElement (session=\"b668f4ad7d57e85138476c61e2f4063b\", element=\"2a39e17a-a694-45fd-bbfa-65f38d8b21d1\")>,\n",
       " <selenium.webdriver.remote.webelement.WebElement (session=\"b668f4ad7d57e85138476c61e2f4063b\", element=\"70923061-b0da-4558-9ab9-1ab155541f96\")>,\n",
       " <selenium.webdriver.remote.webelement.WebElement (session=\"b668f4ad7d57e85138476c61e2f4063b\", element=\"ab7d12f1-4cbb-4da3-a1c4-e6e0167d5eea\")>,\n",
       " <selenium.webdriver.remote.webelement.WebElement (session=\"b668f4ad7d57e85138476c61e2f4063b\", element=\"93162a5c-273b-4d5d-8eae-8de98e0bca68\")>,\n",
       " <selenium.webdriver.remote.webelement.WebElement (session=\"b668f4ad7d57e85138476c61e2f4063b\", element=\"a13f8e96-bc2e-4626-9d94-c9a80f8f7b98\")>,\n",
       " <selenium.webdriver.remote.webelement.WebElement (session=\"b668f4ad7d57e85138476c61e2f4063b\", element=\"fcd635d0-df4c-47c1-8286-dd55fd766ecc\")>,\n",
       " <selenium.webdriver.remote.webelement.WebElement (session=\"b668f4ad7d57e85138476c61e2f4063b\", element=\"1cf00c5d-d992-4c21-9b2c-f2cf244f13f3\")>,\n",
       " <selenium.webdriver.remote.webelement.WebElement (session=\"b668f4ad7d57e85138476c61e2f4063b\", element=\"8497230a-55f1-487d-b537-aef86d36eb50\")>,\n",
       " <selenium.webdriver.remote.webelement.WebElement (session=\"b668f4ad7d57e85138476c61e2f4063b\", element=\"29af812a-9e0b-445f-93d9-d82d0049fd1b\")>,\n",
       " <selenium.webdriver.remote.webelement.WebElement (session=\"b668f4ad7d57e85138476c61e2f4063b\", element=\"769f8b36-994e-439b-be8e-c69b8f096e5e\")>,\n",
       " <selenium.webdriver.remote.webelement.WebElement (session=\"b668f4ad7d57e85138476c61e2f4063b\", element=\"0488f678-a592-4bcf-80e6-60a3e06498f7\")>,\n",
       " <selenium.webdriver.remote.webelement.WebElement (session=\"b668f4ad7d57e85138476c61e2f4063b\", element=\"397d1f1a-ed69-47e5-816a-3f99afcdd129\")>,\n",
       " <selenium.webdriver.remote.webelement.WebElement (session=\"b668f4ad7d57e85138476c61e2f4063b\", element=\"96c2e9bf-e1c5-42ae-8b87-0a0cade1ae6c\")>,\n",
       " <selenium.webdriver.remote.webelement.WebElement (session=\"b668f4ad7d57e85138476c61e2f4063b\", element=\"0d2a8a07-c6b4-4f76-9a4c-91f1c929a053\")>,\n",
       " <selenium.webdriver.remote.webelement.WebElement (session=\"b668f4ad7d57e85138476c61e2f4063b\", element=\"ac538d7e-926e-4925-adca-fcc562e9ba5f\")>,\n",
       " <selenium.webdriver.remote.webelement.WebElement (session=\"b668f4ad7d57e85138476c61e2f4063b\", element=\"f00815a5-7e3d-4ac2-8048-ad66e563e19b\")>,\n",
       " <selenium.webdriver.remote.webelement.WebElement (session=\"b668f4ad7d57e85138476c61e2f4063b\", element=\"eaf0635e-1bef-460d-8120-94f719e73b13\")>,\n",
       " <selenium.webdriver.remote.webelement.WebElement (session=\"b668f4ad7d57e85138476c61e2f4063b\", element=\"b5e2f018-d996-44c1-bbf4-e8f3a5b7279b\")>,\n",
       " <selenium.webdriver.remote.webelement.WebElement (session=\"b668f4ad7d57e85138476c61e2f4063b\", element=\"328e5512-e709-410b-b1dc-28cd40d967eb\")>,\n",
       " <selenium.webdriver.remote.webelement.WebElement (session=\"b668f4ad7d57e85138476c61e2f4063b\", element=\"76a80406-94d0-445a-ab4a-3ae4c4d099cb\")>,\n",
       " <selenium.webdriver.remote.webelement.WebElement (session=\"b668f4ad7d57e85138476c61e2f4063b\", element=\"cb20c794-4d26-4f0a-b10b-68aab9363475\")>,\n",
       " <selenium.webdriver.remote.webelement.WebElement (session=\"b668f4ad7d57e85138476c61e2f4063b\", element=\"844fbd94-3571-44bc-8374-dced928703c5\")>,\n",
       " <selenium.webdriver.remote.webelement.WebElement (session=\"b668f4ad7d57e85138476c61e2f4063b\", element=\"906e17c8-bb95-4b4e-ac42-188d15f02db0\")>,\n",
       " <selenium.webdriver.remote.webelement.WebElement (session=\"b668f4ad7d57e85138476c61e2f4063b\", element=\"b5250e88-c9fc-4c11-8e7c-0e17089469a3\")>,\n",
       " <selenium.webdriver.remote.webelement.WebElement (session=\"b668f4ad7d57e85138476c61e2f4063b\", element=\"6018030f-f114-49c4-8479-cd352fd78ba7\")>,\n",
       " <selenium.webdriver.remote.webelement.WebElement (session=\"b668f4ad7d57e85138476c61e2f4063b\", element=\"f8c35ff6-bd60-45a7-a91d-62b50fad8416\")>,\n",
       " <selenium.webdriver.remote.webelement.WebElement (session=\"b668f4ad7d57e85138476c61e2f4063b\", element=\"4aeb8875-9908-4264-ba30-0530cd4a2099\")>,\n",
       " <selenium.webdriver.remote.webelement.WebElement (session=\"b668f4ad7d57e85138476c61e2f4063b\", element=\"4893a56b-a5db-412c-8a6b-ad5b83188ded\")>,\n",
       " <selenium.webdriver.remote.webelement.WebElement (session=\"b668f4ad7d57e85138476c61e2f4063b\", element=\"aa48a4e1-fd4e-4560-8013-b790307654c4\")>,\n",
       " <selenium.webdriver.remote.webelement.WebElement (session=\"b668f4ad7d57e85138476c61e2f4063b\", element=\"9f4b7812-f4c9-49d4-9df4-d66e2e119894\")>,\n",
       " <selenium.webdriver.remote.webelement.WebElement (session=\"b668f4ad7d57e85138476c61e2f4063b\", element=\"3d177a1c-1652-4654-bab6-65b902ec630a\")>,\n",
       " <selenium.webdriver.remote.webelement.WebElement (session=\"b668f4ad7d57e85138476c61e2f4063b\", element=\"70fc76d0-0599-45e2-8c43-8aa8f9370840\")>,\n",
       " <selenium.webdriver.remote.webelement.WebElement (session=\"b668f4ad7d57e85138476c61e2f4063b\", element=\"95a0fbf2-315e-40ea-8007-ab9f02c525dd\")>,\n",
       " <selenium.webdriver.remote.webelement.WebElement (session=\"b668f4ad7d57e85138476c61e2f4063b\", element=\"45378c33-06f7-4b7a-9428-0d4cc6e1b051\")>,\n",
       " <selenium.webdriver.remote.webelement.WebElement (session=\"b668f4ad7d57e85138476c61e2f4063b\", element=\"5af9ff71-9533-4df2-b6bd-3cec610a10d5\")>,\n",
       " <selenium.webdriver.remote.webelement.WebElement (session=\"b668f4ad7d57e85138476c61e2f4063b\", element=\"4a282615-f220-4665-9338-5f733ee26647\")>,\n",
       " <selenium.webdriver.remote.webelement.WebElement (session=\"b668f4ad7d57e85138476c61e2f4063b\", element=\"104b0041-474a-4231-a839-0c5823ee2995\")>,\n",
       " <selenium.webdriver.remote.webelement.WebElement (session=\"b668f4ad7d57e85138476c61e2f4063b\", element=\"63e31fd9-13e1-42c2-8366-ac6fa937cfc7\")>,\n",
       " <selenium.webdriver.remote.webelement.WebElement (session=\"b668f4ad7d57e85138476c61e2f4063b\", element=\"33773730-866a-41f3-9e6d-a3f96cab85ec\")>,\n",
       " <selenium.webdriver.remote.webelement.WebElement (session=\"b668f4ad7d57e85138476c61e2f4063b\", element=\"ccf2ba7f-abfe-44c9-81e4-079aa4f4c375\")>,\n",
       " <selenium.webdriver.remote.webelement.WebElement (session=\"b668f4ad7d57e85138476c61e2f4063b\", element=\"996ece1d-19b6-4d83-aa98-be6558715baa\")>,\n",
       " <selenium.webdriver.remote.webelement.WebElement (session=\"b668f4ad7d57e85138476c61e2f4063b\", element=\"de17f030-e548-48e6-a46b-b00988266844\")>,\n",
       " <selenium.webdriver.remote.webelement.WebElement (session=\"b668f4ad7d57e85138476c61e2f4063b\", element=\"31c7d7ec-095b-451b-9e80-c4d454711950\")>,\n",
       " <selenium.webdriver.remote.webelement.WebElement (session=\"b668f4ad7d57e85138476c61e2f4063b\", element=\"7d088989-33b6-4758-af99-b4977cd7091e\")>,\n",
       " <selenium.webdriver.remote.webelement.WebElement (session=\"b668f4ad7d57e85138476c61e2f4063b\", element=\"9e403d7e-8b7f-49dc-b942-d0572463f24b\")>,\n",
       " <selenium.webdriver.remote.webelement.WebElement (session=\"b668f4ad7d57e85138476c61e2f4063b\", element=\"20c2fe53-9b05-405b-8126-504eaf468b16\")>,\n",
       " <selenium.webdriver.remote.webelement.WebElement (session=\"b668f4ad7d57e85138476c61e2f4063b\", element=\"1ec7e054-afb3-4250-837a-0fcd68cf4e05\")>,\n",
       " <selenium.webdriver.remote.webelement.WebElement (session=\"b668f4ad7d57e85138476c61e2f4063b\", element=\"814dbbb2-22b6-4b51-aaf2-88f754df8a7e\")>,\n",
       " <selenium.webdriver.remote.webelement.WebElement (session=\"b668f4ad7d57e85138476c61e2f4063b\", element=\"58fab950-b3b7-4a28-917a-a7cc3b19db62\")>,\n",
       " <selenium.webdriver.remote.webelement.WebElement (session=\"b668f4ad7d57e85138476c61e2f4063b\", element=\"4ac150ae-6f34-4f8e-8068-6470847c0553\")>,\n",
       " <selenium.webdriver.remote.webelement.WebElement (session=\"b668f4ad7d57e85138476c61e2f4063b\", element=\"c06e2929-15af-4a2c-8fa6-56c077030e4e\")>,\n",
       " <selenium.webdriver.remote.webelement.WebElement (session=\"b668f4ad7d57e85138476c61e2f4063b\", element=\"8ce02dd9-27fc-4aaa-97de-15e7bc39a942\")>,\n",
       " <selenium.webdriver.remote.webelement.WebElement (session=\"b668f4ad7d57e85138476c61e2f4063b\", element=\"b54cf46a-c5f1-4830-9e81-3e1b95bd7142\")>,\n",
       " <selenium.webdriver.remote.webelement.WebElement (session=\"b668f4ad7d57e85138476c61e2f4063b\", element=\"e1be8ecc-7814-4809-a082-0bd9faaac15e\")>,\n",
       " <selenium.webdriver.remote.webelement.WebElement (session=\"b668f4ad7d57e85138476c61e2f4063b\", element=\"712b7d2c-acb8-4231-83c0-f72dafda1d1d\")>,\n",
       " <selenium.webdriver.remote.webelement.WebElement (session=\"b668f4ad7d57e85138476c61e2f4063b\", element=\"20defc05-b3e3-4772-8aef-265dffb778dd\")>,\n",
       " <selenium.webdriver.remote.webelement.WebElement (session=\"b668f4ad7d57e85138476c61e2f4063b\", element=\"e509015f-b000-44ae-92fc-d66fee7f14d5\")>,\n",
       " <selenium.webdriver.remote.webelement.WebElement (session=\"b668f4ad7d57e85138476c61e2f4063b\", element=\"d90913a4-dff4-4eca-96c6-3b5c4e80dd19\")>,\n",
       " <selenium.webdriver.remote.webelement.WebElement (session=\"b668f4ad7d57e85138476c61e2f4063b\", element=\"bd4d9750-3102-4e7b-a104-0b6ec7361149\")>,\n",
       " <selenium.webdriver.remote.webelement.WebElement (session=\"b668f4ad7d57e85138476c61e2f4063b\", element=\"54ff9e0b-6b8a-4afd-9497-17bd45d9e9fa\")>,\n",
       " <selenium.webdriver.remote.webelement.WebElement (session=\"b668f4ad7d57e85138476c61e2f4063b\", element=\"70244ccf-7483-4eed-859c-1663793a60b6\")>,\n",
       " <selenium.webdriver.remote.webelement.WebElement (session=\"b668f4ad7d57e85138476c61e2f4063b\", element=\"57dc3895-eb6f-4d2d-b43e-e131233a70e4\")>,\n",
       " <selenium.webdriver.remote.webelement.WebElement (session=\"b668f4ad7d57e85138476c61e2f4063b\", element=\"c4defd79-8a72-4e83-8a42-ba80f654b34a\")>,\n",
       " <selenium.webdriver.remote.webelement.WebElement (session=\"b668f4ad7d57e85138476c61e2f4063b\", element=\"23157298-55a1-48f1-b753-3cc225a15131\")>,\n",
       " <selenium.webdriver.remote.webelement.WebElement (session=\"b668f4ad7d57e85138476c61e2f4063b\", element=\"ed402b1c-9d00-4a49-bc2e-b612953a173f\")>,\n",
       " <selenium.webdriver.remote.webelement.WebElement (session=\"b668f4ad7d57e85138476c61e2f4063b\", element=\"1ef53234-260d-4de0-a2c5-ed6a38922856\")>,\n",
       " <selenium.webdriver.remote.webelement.WebElement (session=\"b668f4ad7d57e85138476c61e2f4063b\", element=\"cf8242cd-5f07-4d3d-9a42-88faac9eea84\")>,\n",
       " <selenium.webdriver.remote.webelement.WebElement (session=\"b668f4ad7d57e85138476c61e2f4063b\", element=\"da20ae9e-9588-44e0-89dc-0c326b0245ec\")>,\n",
       " <selenium.webdriver.remote.webelement.WebElement (session=\"b668f4ad7d57e85138476c61e2f4063b\", element=\"76169db8-8585-4fd4-8d51-127ed6aaba82\")>,\n",
       " <selenium.webdriver.remote.webelement.WebElement (session=\"b668f4ad7d57e85138476c61e2f4063b\", element=\"0d5b6433-49b8-49ce-9ff1-ad0dd8d57388\")>,\n",
       " <selenium.webdriver.remote.webelement.WebElement (session=\"b668f4ad7d57e85138476c61e2f4063b\", element=\"b6e23abf-af40-4d4f-a67a-a41fcdae9d7a\")>,\n",
       " <selenium.webdriver.remote.webelement.WebElement (session=\"b668f4ad7d57e85138476c61e2f4063b\", element=\"21c1ce1f-2e23-4d93-8e09-f9366f9cf9a9\")>,\n",
       " <selenium.webdriver.remote.webelement.WebElement (session=\"b668f4ad7d57e85138476c61e2f4063b\", element=\"a09d1a08-cb70-470e-8211-6f513cebd6fe\")>,\n",
       " <selenium.webdriver.remote.webelement.WebElement (session=\"b668f4ad7d57e85138476c61e2f4063b\", element=\"3284f74a-0f9d-4830-a73a-c5687e74f6d9\")>,\n",
       " <selenium.webdriver.remote.webelement.WebElement (session=\"b668f4ad7d57e85138476c61e2f4063b\", element=\"e336ff39-b63c-4af2-bd7c-50dd4fc3218e\")>,\n",
       " <selenium.webdriver.remote.webelement.WebElement (session=\"b668f4ad7d57e85138476c61e2f4063b\", element=\"0c7da1f3-94d2-4fd8-bdd9-13ade77c4e22\")>,\n",
       " <selenium.webdriver.remote.webelement.WebElement (session=\"b668f4ad7d57e85138476c61e2f4063b\", element=\"24d72de0-495c-4985-acf0-a5354f0d188e\")>,\n",
       " <selenium.webdriver.remote.webelement.WebElement (session=\"b668f4ad7d57e85138476c61e2f4063b\", element=\"96aeb63d-3b85-437a-8cd7-3031e221e789\")>,\n",
       " <selenium.webdriver.remote.webelement.WebElement (session=\"b668f4ad7d57e85138476c61e2f4063b\", element=\"3483d9f8-c95b-469e-bbeb-460d55f51b90\")>,\n",
       " <selenium.webdriver.remote.webelement.WebElement (session=\"b668f4ad7d57e85138476c61e2f4063b\", element=\"67951e0a-9a51-4246-b792-6ecc3e625477\")>,\n",
       " <selenium.webdriver.remote.webelement.WebElement (session=\"b668f4ad7d57e85138476c61e2f4063b\", element=\"0123be91-c3ff-474d-bfae-371cc8230e79\")>,\n",
       " <selenium.webdriver.remote.webelement.WebElement (session=\"b668f4ad7d57e85138476c61e2f4063b\", element=\"0766a02a-8841-4e94-857b-01dd476afd9f\")>,\n",
       " <selenium.webdriver.remote.webelement.WebElement (session=\"b668f4ad7d57e85138476c61e2f4063b\", element=\"22e4c3e1-5b40-46f1-a387-e35b9454e8e9\")>,\n",
       " <selenium.webdriver.remote.webelement.WebElement (session=\"b668f4ad7d57e85138476c61e2f4063b\", element=\"7d5c3643-e2cd-4657-9078-30a5a588916d\")>,\n",
       " <selenium.webdriver.remote.webelement.WebElement (session=\"b668f4ad7d57e85138476c61e2f4063b\", element=\"06e990ef-792b-4726-9e89-aa0a814e0a1b\")>]"
      ]
     },
     "execution_count": 30,
     "metadata": {},
     "output_type": "execute_result"
    }
   ],
   "source": [
    "player_list2=driver.find_elements_by_xpath(\"//td[@class='table-body__cell rankings-table__name name']\")\n",
    "player_list2"
   ]
  },
  {
   "cell_type": "code",
   "execution_count": 31,
   "metadata": {},
   "outputs": [
    {
     "data": {
      "text/plain": [
       "['Rohit Sharma',\n",
       " 'Babar Azam',\n",
       " 'Ross Taylor',\n",
       " 'Francois du Plessis',\n",
       " 'Kane Williamson',\n",
       " 'Aaron Finch']"
      ]
     },
     "execution_count": 31,
     "metadata": {},
     "output_type": "execute_result"
    }
   ],
   "source": [
    "for i in player_list2:\n",
    "    p2=i.text\n",
    "    p6.append(p2)\n",
    "p6[:6]"
   ]
  },
  {
   "cell_type": "code",
   "execution_count": 32,
   "metadata": {},
   "outputs": [
    {
     "data": {
      "text/plain": [
       "['Virat Kohli',\n",
       " 'Rohit Sharma',\n",
       " 'Babar Azam',\n",
       " 'Ross Taylor',\n",
       " 'Francois du Plessis',\n",
       " 'Kane Williamson',\n",
       " 'Aaron Finch',\n",
       " 'David Warner',\n",
       " 'Quinton de Kock']"
      ]
     },
     "execution_count": 32,
     "metadata": {},
     "output_type": "execute_result"
    }
   ],
   "source": [
    "players= p+p6\n",
    "players[:9]"
   ]
  },
  {
   "cell_type": "code",
   "execution_count": 33,
   "metadata": {},
   "outputs": [],
   "source": [
    "team_list=driver.find_elements_by_xpath(\"//div[@class='rankings-block__banner--nationality']\")"
   ]
  },
  {
   "cell_type": "code",
   "execution_count": 34,
   "metadata": {},
   "outputs": [
    {
     "data": {
      "text/plain": [
       "['IND']"
      ]
     },
     "execution_count": 34,
     "metadata": {},
     "output_type": "execute_result"
    }
   ],
   "source": [
    "for i in team_list:\n",
    "    d=i.text\n",
    "    PlayerTeam.append(d)\n",
    "PlayerTeam"
   ]
  },
  {
   "cell_type": "code",
   "execution_count": 35,
   "metadata": {},
   "outputs": [
    {
     "data": {
      "text/plain": [
       "[<selenium.webdriver.remote.webelement.WebElement (session=\"b668f4ad7d57e85138476c61e2f4063b\", element=\"6249846c-fdb4-44c7-803a-29f68465f34d\")>,\n",
       " <selenium.webdriver.remote.webelement.WebElement (session=\"b668f4ad7d57e85138476c61e2f4063b\", element=\"cf23308b-ab0d-4323-af55-1f19b6d670f1\")>,\n",
       " <selenium.webdriver.remote.webelement.WebElement (session=\"b668f4ad7d57e85138476c61e2f4063b\", element=\"f1217c6a-2ba5-4e35-9423-f16b0eee2cf3\")>,\n",
       " <selenium.webdriver.remote.webelement.WebElement (session=\"b668f4ad7d57e85138476c61e2f4063b\", element=\"c1b3013f-7bf7-4868-96b8-554372217458\")>,\n",
       " <selenium.webdriver.remote.webelement.WebElement (session=\"b668f4ad7d57e85138476c61e2f4063b\", element=\"480394fe-0cde-4621-b7cf-c35f0189dcf5\")>,\n",
       " <selenium.webdriver.remote.webelement.WebElement (session=\"b668f4ad7d57e85138476c61e2f4063b\", element=\"ab3fbce6-30e2-4fa9-bcb9-cf28906e54ec\")>,\n",
       " <selenium.webdriver.remote.webelement.WebElement (session=\"b668f4ad7d57e85138476c61e2f4063b\", element=\"956aaae5-e371-45fe-8294-d43d8bfde35f\")>,\n",
       " <selenium.webdriver.remote.webelement.WebElement (session=\"b668f4ad7d57e85138476c61e2f4063b\", element=\"8b84b3d8-184b-4b8f-87d7-8bbbc42a4e9f\")>,\n",
       " <selenium.webdriver.remote.webelement.WebElement (session=\"b668f4ad7d57e85138476c61e2f4063b\", element=\"9c332186-134f-4ca7-b150-fdf7d27269cd\")>,\n",
       " <selenium.webdriver.remote.webelement.WebElement (session=\"b668f4ad7d57e85138476c61e2f4063b\", element=\"75647fab-8c30-4946-ba91-c7123d89eed1\")>,\n",
       " <selenium.webdriver.remote.webelement.WebElement (session=\"b668f4ad7d57e85138476c61e2f4063b\", element=\"71f8c284-8ed0-4f1e-8b50-4cfff9f2eace\")>,\n",
       " <selenium.webdriver.remote.webelement.WebElement (session=\"b668f4ad7d57e85138476c61e2f4063b\", element=\"6c867132-84b6-4a5a-b175-9c56becfa993\")>,\n",
       " <selenium.webdriver.remote.webelement.WebElement (session=\"b668f4ad7d57e85138476c61e2f4063b\", element=\"a3a569f8-b537-47a2-b276-7fe2c58693b0\")>,\n",
       " <selenium.webdriver.remote.webelement.WebElement (session=\"b668f4ad7d57e85138476c61e2f4063b\", element=\"6c758957-a63d-47a2-95c8-fc00ff5a4092\")>,\n",
       " <selenium.webdriver.remote.webelement.WebElement (session=\"b668f4ad7d57e85138476c61e2f4063b\", element=\"04329852-2e03-4b34-bc7d-701fdd6712d0\")>,\n",
       " <selenium.webdriver.remote.webelement.WebElement (session=\"b668f4ad7d57e85138476c61e2f4063b\", element=\"617270f2-9aed-4525-98d5-0c8811b0f1d5\")>,\n",
       " <selenium.webdriver.remote.webelement.WebElement (session=\"b668f4ad7d57e85138476c61e2f4063b\", element=\"8d3ffb52-2818-40f1-8b50-ab8fe7464600\")>,\n",
       " <selenium.webdriver.remote.webelement.WebElement (session=\"b668f4ad7d57e85138476c61e2f4063b\", element=\"d4681b6d-c58a-4607-b8ef-16008a688069\")>,\n",
       " <selenium.webdriver.remote.webelement.WebElement (session=\"b668f4ad7d57e85138476c61e2f4063b\", element=\"18e96483-8fcd-4c00-985c-d992ce77adfe\")>,\n",
       " <selenium.webdriver.remote.webelement.WebElement (session=\"b668f4ad7d57e85138476c61e2f4063b\", element=\"cfd04681-bd22-410a-9314-25a233c73052\")>,\n",
       " <selenium.webdriver.remote.webelement.WebElement (session=\"b668f4ad7d57e85138476c61e2f4063b\", element=\"6b6ec332-1521-48ac-a542-92905f5eba5a\")>,\n",
       " <selenium.webdriver.remote.webelement.WebElement (session=\"b668f4ad7d57e85138476c61e2f4063b\", element=\"6e108c75-6484-4ab0-8b46-4968fd081db4\")>,\n",
       " <selenium.webdriver.remote.webelement.WebElement (session=\"b668f4ad7d57e85138476c61e2f4063b\", element=\"3b817f88-391f-445e-8dfb-48ce43fed515\")>,\n",
       " <selenium.webdriver.remote.webelement.WebElement (session=\"b668f4ad7d57e85138476c61e2f4063b\", element=\"eab632e0-7f01-4621-b5dc-fc12c521fe07\")>,\n",
       " <selenium.webdriver.remote.webelement.WebElement (session=\"b668f4ad7d57e85138476c61e2f4063b\", element=\"b455a1d1-6a93-4798-9c98-5f649c5c753b\")>,\n",
       " <selenium.webdriver.remote.webelement.WebElement (session=\"b668f4ad7d57e85138476c61e2f4063b\", element=\"1d803f66-1a07-4a8d-a582-8acff67d71a2\")>,\n",
       " <selenium.webdriver.remote.webelement.WebElement (session=\"b668f4ad7d57e85138476c61e2f4063b\", element=\"80730e28-067f-4c1a-be63-0dcb6924fb59\")>,\n",
       " <selenium.webdriver.remote.webelement.WebElement (session=\"b668f4ad7d57e85138476c61e2f4063b\", element=\"260474da-1d6b-4543-9baa-08e3a520938d\")>,\n",
       " <selenium.webdriver.remote.webelement.WebElement (session=\"b668f4ad7d57e85138476c61e2f4063b\", element=\"9263a795-8e03-4bc3-ba57-4524ae62b8d4\")>,\n",
       " <selenium.webdriver.remote.webelement.WebElement (session=\"b668f4ad7d57e85138476c61e2f4063b\", element=\"4089fa3d-a0cc-4549-8aa6-70379e239303\")>,\n",
       " <selenium.webdriver.remote.webelement.WebElement (session=\"b668f4ad7d57e85138476c61e2f4063b\", element=\"61276696-f511-43fc-a0cb-7b4e4f4a152a\")>,\n",
       " <selenium.webdriver.remote.webelement.WebElement (session=\"b668f4ad7d57e85138476c61e2f4063b\", element=\"bea3ae5e-fde0-4a4d-8f2c-9615af1c7c3e\")>,\n",
       " <selenium.webdriver.remote.webelement.WebElement (session=\"b668f4ad7d57e85138476c61e2f4063b\", element=\"87f0d901-bd59-4d62-8df8-df754e6d4ece\")>,\n",
       " <selenium.webdriver.remote.webelement.WebElement (session=\"b668f4ad7d57e85138476c61e2f4063b\", element=\"e2f51e11-f054-4cc9-9af9-736a069f810c\")>,\n",
       " <selenium.webdriver.remote.webelement.WebElement (session=\"b668f4ad7d57e85138476c61e2f4063b\", element=\"125ff26a-8b9c-4f4d-96c6-5697dcd41ef4\")>,\n",
       " <selenium.webdriver.remote.webelement.WebElement (session=\"b668f4ad7d57e85138476c61e2f4063b\", element=\"5e394054-6c27-4058-ba48-c51be702a75d\")>,\n",
       " <selenium.webdriver.remote.webelement.WebElement (session=\"b668f4ad7d57e85138476c61e2f4063b\", element=\"a26b6703-0f56-409e-bd07-5f942dd74656\")>,\n",
       " <selenium.webdriver.remote.webelement.WebElement (session=\"b668f4ad7d57e85138476c61e2f4063b\", element=\"d49927b0-b8ad-467f-ac90-b309e42545f0\")>,\n",
       " <selenium.webdriver.remote.webelement.WebElement (session=\"b668f4ad7d57e85138476c61e2f4063b\", element=\"7a124fe6-3313-4e29-a3c7-b331ea9fc238\")>,\n",
       " <selenium.webdriver.remote.webelement.WebElement (session=\"b668f4ad7d57e85138476c61e2f4063b\", element=\"44284bd4-bdd6-4cc4-ae33-2c06205aa8f1\")>,\n",
       " <selenium.webdriver.remote.webelement.WebElement (session=\"b668f4ad7d57e85138476c61e2f4063b\", element=\"e326c3ea-712c-4156-a217-57e29bfb7817\")>,\n",
       " <selenium.webdriver.remote.webelement.WebElement (session=\"b668f4ad7d57e85138476c61e2f4063b\", element=\"7465c322-ef55-4134-9772-fefd5d22ae07\")>,\n",
       " <selenium.webdriver.remote.webelement.WebElement (session=\"b668f4ad7d57e85138476c61e2f4063b\", element=\"76d293d4-12b6-47a3-a63e-49728a70361a\")>,\n",
       " <selenium.webdriver.remote.webelement.WebElement (session=\"b668f4ad7d57e85138476c61e2f4063b\", element=\"def71412-08b7-4083-9dc0-ea82f1b92b19\")>,\n",
       " <selenium.webdriver.remote.webelement.WebElement (session=\"b668f4ad7d57e85138476c61e2f4063b\", element=\"684c9875-ef76-4bfe-abc6-45e08fb4e749\")>,\n",
       " <selenium.webdriver.remote.webelement.WebElement (session=\"b668f4ad7d57e85138476c61e2f4063b\", element=\"aebd67cd-c316-4076-b35b-894e2c5c2bdd\")>,\n",
       " <selenium.webdriver.remote.webelement.WebElement (session=\"b668f4ad7d57e85138476c61e2f4063b\", element=\"b4a9bb77-3335-44f5-8d59-559419fa74e8\")>,\n",
       " <selenium.webdriver.remote.webelement.WebElement (session=\"b668f4ad7d57e85138476c61e2f4063b\", element=\"937bd00c-3cfa-4141-b6b9-c117ef8dab82\")>,\n",
       " <selenium.webdriver.remote.webelement.WebElement (session=\"b668f4ad7d57e85138476c61e2f4063b\", element=\"4e0fb3a1-1e47-49a4-b02c-3cc9592b6d9b\")>,\n",
       " <selenium.webdriver.remote.webelement.WebElement (session=\"b668f4ad7d57e85138476c61e2f4063b\", element=\"36714606-29a9-47e8-927f-4d2d6a417299\")>,\n",
       " <selenium.webdriver.remote.webelement.WebElement (session=\"b668f4ad7d57e85138476c61e2f4063b\", element=\"7d1990d8-f9a8-4e39-8234-4bd67018f670\")>,\n",
       " <selenium.webdriver.remote.webelement.WebElement (session=\"b668f4ad7d57e85138476c61e2f4063b\", element=\"74d02370-d6e3-4659-a0b5-ec8029c0dfed\")>,\n",
       " <selenium.webdriver.remote.webelement.WebElement (session=\"b668f4ad7d57e85138476c61e2f4063b\", element=\"2b036bc9-3494-4685-8cf2-ef2ccccd5d55\")>,\n",
       " <selenium.webdriver.remote.webelement.WebElement (session=\"b668f4ad7d57e85138476c61e2f4063b\", element=\"45d8606c-c07e-4f1b-8334-fe11c09a1494\")>,\n",
       " <selenium.webdriver.remote.webelement.WebElement (session=\"b668f4ad7d57e85138476c61e2f4063b\", element=\"7cbf689a-3bc9-4084-bf0a-90a1fb6a1252\")>,\n",
       " <selenium.webdriver.remote.webelement.WebElement (session=\"b668f4ad7d57e85138476c61e2f4063b\", element=\"68d31b67-4b04-4285-bdaa-baabcb77f655\")>,\n",
       " <selenium.webdriver.remote.webelement.WebElement (session=\"b668f4ad7d57e85138476c61e2f4063b\", element=\"e53f185e-747f-403f-9fda-c49246fa33e4\")>,\n",
       " <selenium.webdriver.remote.webelement.WebElement (session=\"b668f4ad7d57e85138476c61e2f4063b\", element=\"78dbff88-e99e-4827-9705-7a02234b06cf\")>,\n",
       " <selenium.webdriver.remote.webelement.WebElement (session=\"b668f4ad7d57e85138476c61e2f4063b\", element=\"c52f9a5e-33a8-4ff6-8b79-c6debc776e0f\")>,\n",
       " <selenium.webdriver.remote.webelement.WebElement (session=\"b668f4ad7d57e85138476c61e2f4063b\", element=\"708ba58e-7640-4b68-9ee9-a9b2b197aedc\")>,\n",
       " <selenium.webdriver.remote.webelement.WebElement (session=\"b668f4ad7d57e85138476c61e2f4063b\", element=\"cbe977a4-8c86-42f6-bfee-62c26ba1779e\")>,\n",
       " <selenium.webdriver.remote.webelement.WebElement (session=\"b668f4ad7d57e85138476c61e2f4063b\", element=\"19e21092-f035-4af3-a9a8-d830cf825d31\")>,\n",
       " <selenium.webdriver.remote.webelement.WebElement (session=\"b668f4ad7d57e85138476c61e2f4063b\", element=\"f48ebf96-3c22-459c-9d26-37e6a672d07f\")>,\n",
       " <selenium.webdriver.remote.webelement.WebElement (session=\"b668f4ad7d57e85138476c61e2f4063b\", element=\"fbdebcc1-f564-4ce3-b72d-52a5330092f5\")>,\n",
       " <selenium.webdriver.remote.webelement.WebElement (session=\"b668f4ad7d57e85138476c61e2f4063b\", element=\"622b71bb-eab0-4f90-af64-42a642b6dfc3\")>,\n",
       " <selenium.webdriver.remote.webelement.WebElement (session=\"b668f4ad7d57e85138476c61e2f4063b\", element=\"353f1cf7-e6a9-4aec-aff8-0942f45cb3eb\")>,\n",
       " <selenium.webdriver.remote.webelement.WebElement (session=\"b668f4ad7d57e85138476c61e2f4063b\", element=\"255c27b2-60c1-4b54-a53c-e78e37332739\")>,\n",
       " <selenium.webdriver.remote.webelement.WebElement (session=\"b668f4ad7d57e85138476c61e2f4063b\", element=\"5d28ab9f-5504-4c0a-9a60-7a240e355747\")>,\n",
       " <selenium.webdriver.remote.webelement.WebElement (session=\"b668f4ad7d57e85138476c61e2f4063b\", element=\"d57a5840-17d1-4fe5-9113-ffd950652f9c\")>,\n",
       " <selenium.webdriver.remote.webelement.WebElement (session=\"b668f4ad7d57e85138476c61e2f4063b\", element=\"698d359c-56c9-4bbb-af28-0795586ed8cd\")>,\n",
       " <selenium.webdriver.remote.webelement.WebElement (session=\"b668f4ad7d57e85138476c61e2f4063b\", element=\"acda2bdc-74b1-408e-b8c3-004dbc7a661b\")>,\n",
       " <selenium.webdriver.remote.webelement.WebElement (session=\"b668f4ad7d57e85138476c61e2f4063b\", element=\"6e18e315-a6b1-4a48-bb11-3f21bf623e71\")>,\n",
       " <selenium.webdriver.remote.webelement.WebElement (session=\"b668f4ad7d57e85138476c61e2f4063b\", element=\"457ab23d-139f-4ad0-9d2c-16a5a04e5af1\")>,\n",
       " <selenium.webdriver.remote.webelement.WebElement (session=\"b668f4ad7d57e85138476c61e2f4063b\", element=\"dcd6bb26-89c3-4ff9-8c91-9e248249a268\")>,\n",
       " <selenium.webdriver.remote.webelement.WebElement (session=\"b668f4ad7d57e85138476c61e2f4063b\", element=\"ccef4a8d-d3ad-4a8a-aeb2-414b5d58b913\")>,\n",
       " <selenium.webdriver.remote.webelement.WebElement (session=\"b668f4ad7d57e85138476c61e2f4063b\", element=\"0ccacb72-54b0-4bf6-acee-da6fb2c00850\")>,\n",
       " <selenium.webdriver.remote.webelement.WebElement (session=\"b668f4ad7d57e85138476c61e2f4063b\", element=\"26ec486f-d3fc-4a0c-9697-326792bc117d\")>,\n",
       " <selenium.webdriver.remote.webelement.WebElement (session=\"b668f4ad7d57e85138476c61e2f4063b\", element=\"f3e45c3d-4b7e-4e2a-bd0a-2c8f89b6f17a\")>,\n",
       " <selenium.webdriver.remote.webelement.WebElement (session=\"b668f4ad7d57e85138476c61e2f4063b\", element=\"64f25acb-817a-4a2f-965a-13c469fac66a\")>,\n",
       " <selenium.webdriver.remote.webelement.WebElement (session=\"b668f4ad7d57e85138476c61e2f4063b\", element=\"f455cbe5-ba89-4c18-bb0c-b2cf9dfe888c\")>,\n",
       " <selenium.webdriver.remote.webelement.WebElement (session=\"b668f4ad7d57e85138476c61e2f4063b\", element=\"c7b12647-ec1d-4f43-9b6c-0f2a934530df\")>,\n",
       " <selenium.webdriver.remote.webelement.WebElement (session=\"b668f4ad7d57e85138476c61e2f4063b\", element=\"9a688c58-766a-4f7f-9af3-5e4e4d223622\")>,\n",
       " <selenium.webdriver.remote.webelement.WebElement (session=\"b668f4ad7d57e85138476c61e2f4063b\", element=\"b402593e-18b0-4238-98fc-036b4614a904\")>,\n",
       " <selenium.webdriver.remote.webelement.WebElement (session=\"b668f4ad7d57e85138476c61e2f4063b\", element=\"d8358e5e-a5d3-4d23-ae21-31676ad7c869\")>,\n",
       " <selenium.webdriver.remote.webelement.WebElement (session=\"b668f4ad7d57e85138476c61e2f4063b\", element=\"a2490b44-8baa-4d7f-962b-65a061f44416\")>,\n",
       " <selenium.webdriver.remote.webelement.WebElement (session=\"b668f4ad7d57e85138476c61e2f4063b\", element=\"04f2661d-8ebd-41c4-a2e1-35ef79548939\")>,\n",
       " <selenium.webdriver.remote.webelement.WebElement (session=\"b668f4ad7d57e85138476c61e2f4063b\", element=\"4031c5d5-8a76-4725-9410-b2f494dbea2d\")>,\n",
       " <selenium.webdriver.remote.webelement.WebElement (session=\"b668f4ad7d57e85138476c61e2f4063b\", element=\"31afb29a-e136-4371-b156-cc614f6040e2\")>,\n",
       " <selenium.webdriver.remote.webelement.WebElement (session=\"b668f4ad7d57e85138476c61e2f4063b\", element=\"df236801-343f-4224-a249-06da8b21590e\")>,\n",
       " <selenium.webdriver.remote.webelement.WebElement (session=\"b668f4ad7d57e85138476c61e2f4063b\", element=\"791f56e0-bff6-4df3-bebc-6414f315cedc\")>,\n",
       " <selenium.webdriver.remote.webelement.WebElement (session=\"b668f4ad7d57e85138476c61e2f4063b\", element=\"f001504b-891e-47db-8eae-d2ffa8eb339f\")>,\n",
       " <selenium.webdriver.remote.webelement.WebElement (session=\"b668f4ad7d57e85138476c61e2f4063b\", element=\"f1a35d2e-cf98-4953-96e7-13ba39257613\")>,\n",
       " <selenium.webdriver.remote.webelement.WebElement (session=\"b668f4ad7d57e85138476c61e2f4063b\", element=\"730367ad-8431-46d4-b5e0-58ffe8d0510b\")>,\n",
       " <selenium.webdriver.remote.webelement.WebElement (session=\"b668f4ad7d57e85138476c61e2f4063b\", element=\"783f1b5a-26ac-46d1-9e58-0ec0dda1f40a\")>,\n",
       " <selenium.webdriver.remote.webelement.WebElement (session=\"b668f4ad7d57e85138476c61e2f4063b\", element=\"86d70bec-e631-40a3-8fcc-7a265223a45c\")>,\n",
       " <selenium.webdriver.remote.webelement.WebElement (session=\"b668f4ad7d57e85138476c61e2f4063b\", element=\"14d41f6f-5185-4209-a431-4dafeb5396c9\")>,\n",
       " <selenium.webdriver.remote.webelement.WebElement (session=\"b668f4ad7d57e85138476c61e2f4063b\", element=\"8da159e4-b1ca-40a7-87f4-05dd37418758\")>,\n",
       " <selenium.webdriver.remote.webelement.WebElement (session=\"b668f4ad7d57e85138476c61e2f4063b\", element=\"530d82a4-eab6-4c55-936e-32be66f43197\")>,\n",
       " <selenium.webdriver.remote.webelement.WebElement (session=\"b668f4ad7d57e85138476c61e2f4063b\", element=\"8a517b3d-8b01-47d3-8c10-50ff0af4371c\")>]"
      ]
     },
     "execution_count": 35,
     "metadata": {},
     "output_type": "execute_result"
    }
   ],
   "source": [
    "team_list2=driver.find_elements_by_xpath(\"//span[@class='table-body__logo-text']\")\n",
    "team_list2"
   ]
  },
  {
   "cell_type": "code",
   "execution_count": 36,
   "metadata": {},
   "outputs": [
    {
     "data": {
      "text/plain": [
       "['IND', 'IND', 'PAK', 'NZ', 'SA', 'NZ', 'AUS', 'AUS', 'SA']"
      ]
     },
     "execution_count": 36,
     "metadata": {},
     "output_type": "execute_result"
    }
   ],
   "source": [
    "for i in team_list2:\n",
    "    d1=i.text\n",
    "    PlayerTeam.append(d1)\n",
    "PlayerTeam[:9]"
   ]
  },
  {
   "cell_type": "code",
   "execution_count": 37,
   "metadata": {},
   "outputs": [],
   "source": [
    "ratings = driver.find_elements_by_xpath(\"//div[@class='rankings-block__banner--rating']\")\n"
   ]
  },
  {
   "cell_type": "code",
   "execution_count": 38,
   "metadata": {},
   "outputs": [
    {
     "data": {
      "text/plain": [
       "['871']"
      ]
     },
     "execution_count": 38,
     "metadata": {},
     "output_type": "execute_result"
    }
   ],
   "source": [
    "for i in ratings:\n",
    "    d3=i.text\n",
    "    PlayerRating.append(d3)\n",
    "PlayerRating"
   ]
  },
  {
   "cell_type": "code",
   "execution_count": 39,
   "metadata": {},
   "outputs": [],
   "source": [
    "ratings2= driver.find_elements_by_xpath(\"//td[@class='table-body__cell rating']\")"
   ]
  },
  {
   "cell_type": "code",
   "execution_count": 40,
   "metadata": {},
   "outputs": [
    {
     "data": {
      "text/plain": [
       "['871', '855', '837', '818', '790', '765']"
      ]
     },
     "execution_count": 40,
     "metadata": {},
     "output_type": "execute_result"
    }
   ],
   "source": [
    "for i in ratings2:\n",
    "    d3=i.text\n",
    "    PlayerRating.append(d3)\n",
    "PlayerRating[:6]"
   ]
  },
  {
   "cell_type": "code",
   "execution_count": 41,
   "metadata": {},
   "outputs": [],
   "source": [
    "Batsmen=pd.DataFrame({})\n",
    "Batsmen['Player'] = players[:10]\n",
    "Batsmen['Country']= PlayerTeam[:10] \n",
    "Batsmen['Rating'] = PlayerRating[:10]"
   ]
  },
  {
   "cell_type": "code",
   "execution_count": 42,
   "metadata": {},
   "outputs": [
    {
     "data": {
      "text/html": [
       "<div>\n",
       "<style scoped>\n",
       "    .dataframe tbody tr th:only-of-type {\n",
       "        vertical-align: middle;\n",
       "    }\n",
       "\n",
       "    .dataframe tbody tr th {\n",
       "        vertical-align: top;\n",
       "    }\n",
       "\n",
       "    .dataframe thead th {\n",
       "        text-align: right;\n",
       "    }\n",
       "</style>\n",
       "<table border=\"1\" class=\"dataframe\">\n",
       "  <thead>\n",
       "    <tr style=\"text-align: right;\">\n",
       "      <th></th>\n",
       "      <th>Player</th>\n",
       "      <th>Country</th>\n",
       "      <th>Rating</th>\n",
       "    </tr>\n",
       "  </thead>\n",
       "  <tbody>\n",
       "    <tr>\n",
       "      <th>0</th>\n",
       "      <td>Virat Kohli</td>\n",
       "      <td>IND</td>\n",
       "      <td>871</td>\n",
       "    </tr>\n",
       "    <tr>\n",
       "      <th>1</th>\n",
       "      <td>Rohit Sharma</td>\n",
       "      <td>IND</td>\n",
       "      <td>855</td>\n",
       "    </tr>\n",
       "    <tr>\n",
       "      <th>2</th>\n",
       "      <td>Babar Azam</td>\n",
       "      <td>PAK</td>\n",
       "      <td>837</td>\n",
       "    </tr>\n",
       "    <tr>\n",
       "      <th>3</th>\n",
       "      <td>Ross Taylor</td>\n",
       "      <td>NZ</td>\n",
       "      <td>818</td>\n",
       "    </tr>\n",
       "    <tr>\n",
       "      <th>4</th>\n",
       "      <td>Francois du Plessis</td>\n",
       "      <td>SA</td>\n",
       "      <td>790</td>\n",
       "    </tr>\n",
       "    <tr>\n",
       "      <th>5</th>\n",
       "      <td>Kane Williamson</td>\n",
       "      <td>NZ</td>\n",
       "      <td>765</td>\n",
       "    </tr>\n",
       "    <tr>\n",
       "      <th>6</th>\n",
       "      <td>Aaron Finch</td>\n",
       "      <td>AUS</td>\n",
       "      <td>762</td>\n",
       "    </tr>\n",
       "    <tr>\n",
       "      <th>7</th>\n",
       "      <td>David Warner</td>\n",
       "      <td>AUS</td>\n",
       "      <td>759</td>\n",
       "    </tr>\n",
       "    <tr>\n",
       "      <th>8</th>\n",
       "      <td>Quinton de Kock</td>\n",
       "      <td>SA</td>\n",
       "      <td>755</td>\n",
       "    </tr>\n",
       "    <tr>\n",
       "      <th>9</th>\n",
       "      <td>Jonny Bairstow</td>\n",
       "      <td>ENG</td>\n",
       "      <td>754</td>\n",
       "    </tr>\n",
       "  </tbody>\n",
       "</table>\n",
       "</div>"
      ],
      "text/plain": [
       "                Player Country Rating\n",
       "0          Virat Kohli     IND    871\n",
       "1         Rohit Sharma     IND    855\n",
       "2           Babar Azam     PAK    837\n",
       "3          Ross Taylor      NZ    818\n",
       "4  Francois du Plessis      SA    790\n",
       "5      Kane Williamson      NZ    765\n",
       "6          Aaron Finch     AUS    762\n",
       "7         David Warner     AUS    759\n",
       "8      Quinton de Kock      SA    755\n",
       "9       Jonny Bairstow     ENG    754"
      ]
     },
     "execution_count": 42,
     "metadata": {},
     "output_type": "execute_result"
    }
   ],
   "source": [
    "Batsmen"
   ]
  },
  {
   "cell_type": "markdown",
   "metadata": {},
   "source": [
    "# Top 10 Bowlers"
   ]
  },
  {
   "cell_type": "code",
   "execution_count": 43,
   "metadata": {},
   "outputs": [],
   "source": [
    "Bowler=[]\n",
    "Country=[]\n",
    "BowlerRating=[]"
   ]
  },
  {
   "cell_type": "code",
   "execution_count": 44,
   "metadata": {},
   "outputs": [],
   "source": [
    "driver.get(\"https://www.icc-cricket.com/rankings/mens/player-rankings/odi/bowling\")"
   ]
  },
  {
   "cell_type": "code",
   "execution_count": 45,
   "metadata": {},
   "outputs": [],
   "source": [
    "bowl = driver.find_elements_by_xpath(\"//div[@class='rankings-block__banner--name-large']\")\n"
   ]
  },
  {
   "cell_type": "code",
   "execution_count": 46,
   "metadata": {},
   "outputs": [
    {
     "data": {
      "text/plain": [
       "['Trent Boult']"
      ]
     },
     "execution_count": 46,
     "metadata": {},
     "output_type": "execute_result"
    }
   ],
   "source": [
    "for i in bowl:\n",
    "    p1=i.text\n",
    "    Bowler.append(p1)\n",
    "Bowler"
   ]
  },
  {
   "cell_type": "code",
   "execution_count": 47,
   "metadata": {},
   "outputs": [
    {
     "data": {
      "text/plain": [
       "[<selenium.webdriver.remote.webelement.WebElement (session=\"b668f4ad7d57e85138476c61e2f4063b\", element=\"b54c11b6-fc61-4fc9-8080-47a31736839d\")>,\n",
       " <selenium.webdriver.remote.webelement.WebElement (session=\"b668f4ad7d57e85138476c61e2f4063b\", element=\"02db574d-6f3b-49f0-90a4-885d4036fc35\")>,\n",
       " <selenium.webdriver.remote.webelement.WebElement (session=\"b668f4ad7d57e85138476c61e2f4063b\", element=\"d70370d4-f241-4253-a073-f2f3d3c2a970\")>,\n",
       " <selenium.webdriver.remote.webelement.WebElement (session=\"b668f4ad7d57e85138476c61e2f4063b\", element=\"c7831e36-c607-45b4-9833-ed518eeca3ad\")>,\n",
       " <selenium.webdriver.remote.webelement.WebElement (session=\"b668f4ad7d57e85138476c61e2f4063b\", element=\"ed6886e5-eb90-438d-8f58-6f7a4760ecd4\")>,\n",
       " <selenium.webdriver.remote.webelement.WebElement (session=\"b668f4ad7d57e85138476c61e2f4063b\", element=\"367d48c1-ea89-4654-a29c-abd0dc243ebf\")>,\n",
       " <selenium.webdriver.remote.webelement.WebElement (session=\"b668f4ad7d57e85138476c61e2f4063b\", element=\"0c1c1fd9-e750-4a4f-b965-bc4c668149aa\")>,\n",
       " <selenium.webdriver.remote.webelement.WebElement (session=\"b668f4ad7d57e85138476c61e2f4063b\", element=\"83b8b4f5-fe79-4f68-a798-75feac150143\")>,\n",
       " <selenium.webdriver.remote.webelement.WebElement (session=\"b668f4ad7d57e85138476c61e2f4063b\", element=\"d95a9528-daa5-4e5e-89a4-6094b58b9232\")>,\n",
       " <selenium.webdriver.remote.webelement.WebElement (session=\"b668f4ad7d57e85138476c61e2f4063b\", element=\"a9c40d21-4146-4ef9-bbc4-0fc977b103cb\")>,\n",
       " <selenium.webdriver.remote.webelement.WebElement (session=\"b668f4ad7d57e85138476c61e2f4063b\", element=\"30b4c8d4-fa8f-45ec-9daa-9d94e59f8f27\")>,\n",
       " <selenium.webdriver.remote.webelement.WebElement (session=\"b668f4ad7d57e85138476c61e2f4063b\", element=\"9d18e421-d88f-443f-9310-3e35ddd5aadf\")>,\n",
       " <selenium.webdriver.remote.webelement.WebElement (session=\"b668f4ad7d57e85138476c61e2f4063b\", element=\"8bee1487-f598-4d36-a9a2-b3c00811804b\")>,\n",
       " <selenium.webdriver.remote.webelement.WebElement (session=\"b668f4ad7d57e85138476c61e2f4063b\", element=\"c87229f2-86b1-4daf-afa9-918fd55dd79b\")>,\n",
       " <selenium.webdriver.remote.webelement.WebElement (session=\"b668f4ad7d57e85138476c61e2f4063b\", element=\"6588ebc8-a4ff-4dab-bf09-50d74b97e6ba\")>,\n",
       " <selenium.webdriver.remote.webelement.WebElement (session=\"b668f4ad7d57e85138476c61e2f4063b\", element=\"580ae72f-58a1-46ed-b123-5cdf4e9d45b8\")>,\n",
       " <selenium.webdriver.remote.webelement.WebElement (session=\"b668f4ad7d57e85138476c61e2f4063b\", element=\"6e054533-16be-4aaa-aef6-1db8dc0065e0\")>,\n",
       " <selenium.webdriver.remote.webelement.WebElement (session=\"b668f4ad7d57e85138476c61e2f4063b\", element=\"95b1f3a8-788e-427d-b904-b8173a37ea0d\")>,\n",
       " <selenium.webdriver.remote.webelement.WebElement (session=\"b668f4ad7d57e85138476c61e2f4063b\", element=\"9f19c1c1-6087-4f6b-a266-418e3e41bf7a\")>,\n",
       " <selenium.webdriver.remote.webelement.WebElement (session=\"b668f4ad7d57e85138476c61e2f4063b\", element=\"e2b3c715-b60a-473b-a44d-faadffc00d73\")>,\n",
       " <selenium.webdriver.remote.webelement.WebElement (session=\"b668f4ad7d57e85138476c61e2f4063b\", element=\"38e4a46e-6e05-4485-be35-e5f2d642d8b3\")>,\n",
       " <selenium.webdriver.remote.webelement.WebElement (session=\"b668f4ad7d57e85138476c61e2f4063b\", element=\"6aad592f-3af7-4921-9407-73bf3d502df1\")>,\n",
       " <selenium.webdriver.remote.webelement.WebElement (session=\"b668f4ad7d57e85138476c61e2f4063b\", element=\"ed05cbc0-f93c-4c32-9cf7-dbba85f739bf\")>,\n",
       " <selenium.webdriver.remote.webelement.WebElement (session=\"b668f4ad7d57e85138476c61e2f4063b\", element=\"4d5de652-574d-4650-9c26-a002e6d4d128\")>,\n",
       " <selenium.webdriver.remote.webelement.WebElement (session=\"b668f4ad7d57e85138476c61e2f4063b\", element=\"828edad1-703b-464b-88d5-d9d027ca35e5\")>,\n",
       " <selenium.webdriver.remote.webelement.WebElement (session=\"b668f4ad7d57e85138476c61e2f4063b\", element=\"4217064c-15d3-4734-b57d-236c89f02b76\")>,\n",
       " <selenium.webdriver.remote.webelement.WebElement (session=\"b668f4ad7d57e85138476c61e2f4063b\", element=\"da8b0c45-3d28-4158-9940-7c1f1b8be147\")>,\n",
       " <selenium.webdriver.remote.webelement.WebElement (session=\"b668f4ad7d57e85138476c61e2f4063b\", element=\"7c7ae08b-6874-46ab-8f81-141a3eba5141\")>,\n",
       " <selenium.webdriver.remote.webelement.WebElement (session=\"b668f4ad7d57e85138476c61e2f4063b\", element=\"ccd49b8f-c791-4632-8389-6a605a12c774\")>,\n",
       " <selenium.webdriver.remote.webelement.WebElement (session=\"b668f4ad7d57e85138476c61e2f4063b\", element=\"35b26033-2dd4-41a9-a3ec-9c11041ee428\")>,\n",
       " <selenium.webdriver.remote.webelement.WebElement (session=\"b668f4ad7d57e85138476c61e2f4063b\", element=\"1dd00ef7-065f-4de4-8610-6c43acab7259\")>,\n",
       " <selenium.webdriver.remote.webelement.WebElement (session=\"b668f4ad7d57e85138476c61e2f4063b\", element=\"73b1a8f6-8019-43ea-b76d-d8b4d55c6630\")>,\n",
       " <selenium.webdriver.remote.webelement.WebElement (session=\"b668f4ad7d57e85138476c61e2f4063b\", element=\"16dce4a6-1508-4896-8031-10a10a5f4f6c\")>,\n",
       " <selenium.webdriver.remote.webelement.WebElement (session=\"b668f4ad7d57e85138476c61e2f4063b\", element=\"423ef80f-84fd-4b3e-839c-76230afb2d52\")>,\n",
       " <selenium.webdriver.remote.webelement.WebElement (session=\"b668f4ad7d57e85138476c61e2f4063b\", element=\"803885b6-db5a-4e8b-a74f-679ef4f9de38\")>,\n",
       " <selenium.webdriver.remote.webelement.WebElement (session=\"b668f4ad7d57e85138476c61e2f4063b\", element=\"0c57342f-afc8-4504-b472-61811b758554\")>,\n",
       " <selenium.webdriver.remote.webelement.WebElement (session=\"b668f4ad7d57e85138476c61e2f4063b\", element=\"274c9780-fde2-4d3a-89dd-8661889be928\")>,\n",
       " <selenium.webdriver.remote.webelement.WebElement (session=\"b668f4ad7d57e85138476c61e2f4063b\", element=\"dd8e5aac-f838-44d0-9a1d-fb4fcbaf1de7\")>,\n",
       " <selenium.webdriver.remote.webelement.WebElement (session=\"b668f4ad7d57e85138476c61e2f4063b\", element=\"2970f273-2c1d-41ab-abe3-8edd7b018a1a\")>,\n",
       " <selenium.webdriver.remote.webelement.WebElement (session=\"b668f4ad7d57e85138476c61e2f4063b\", element=\"993d7522-6d89-4eca-b172-3b079e137ac5\")>,\n",
       " <selenium.webdriver.remote.webelement.WebElement (session=\"b668f4ad7d57e85138476c61e2f4063b\", element=\"51d9e7b1-932c-4cbc-9dc1-7e9f604ff306\")>,\n",
       " <selenium.webdriver.remote.webelement.WebElement (session=\"b668f4ad7d57e85138476c61e2f4063b\", element=\"d8304bc9-ea97-49b8-9783-b5b82fe46ea7\")>,\n",
       " <selenium.webdriver.remote.webelement.WebElement (session=\"b668f4ad7d57e85138476c61e2f4063b\", element=\"9ece2f1e-6266-42b6-9746-5af505071acb\")>,\n",
       " <selenium.webdriver.remote.webelement.WebElement (session=\"b668f4ad7d57e85138476c61e2f4063b\", element=\"7a25e2f2-08a5-44e7-bbfb-b1582da44209\")>,\n",
       " <selenium.webdriver.remote.webelement.WebElement (session=\"b668f4ad7d57e85138476c61e2f4063b\", element=\"20ec8238-c20a-4943-82d2-16ab390a6332\")>,\n",
       " <selenium.webdriver.remote.webelement.WebElement (session=\"b668f4ad7d57e85138476c61e2f4063b\", element=\"da698fda-ea2e-4dc0-9c46-ed3df4e27ac7\")>,\n",
       " <selenium.webdriver.remote.webelement.WebElement (session=\"b668f4ad7d57e85138476c61e2f4063b\", element=\"5f79ae43-8f91-4105-9a29-435a4fbe9310\")>,\n",
       " <selenium.webdriver.remote.webelement.WebElement (session=\"b668f4ad7d57e85138476c61e2f4063b\", element=\"d1190c29-2158-41df-8fee-4edde38c1e72\")>,\n",
       " <selenium.webdriver.remote.webelement.WebElement (session=\"b668f4ad7d57e85138476c61e2f4063b\", element=\"e1e90620-ce28-4e15-ad8c-0a30cd505490\")>,\n",
       " <selenium.webdriver.remote.webelement.WebElement (session=\"b668f4ad7d57e85138476c61e2f4063b\", element=\"b50618dd-6ec7-4beb-8432-dd4614804e4b\")>,\n",
       " <selenium.webdriver.remote.webelement.WebElement (session=\"b668f4ad7d57e85138476c61e2f4063b\", element=\"531ad539-3de8-4a00-9727-60c4aa2dc94c\")>,\n",
       " <selenium.webdriver.remote.webelement.WebElement (session=\"b668f4ad7d57e85138476c61e2f4063b\", element=\"1fb04598-667a-4b68-bf50-6c0935eecee1\")>,\n",
       " <selenium.webdriver.remote.webelement.WebElement (session=\"b668f4ad7d57e85138476c61e2f4063b\", element=\"540210d1-8549-4699-be62-fce18c52c9b5\")>,\n",
       " <selenium.webdriver.remote.webelement.WebElement (session=\"b668f4ad7d57e85138476c61e2f4063b\", element=\"3fa32b81-fc36-4c4e-ab21-bd44a63d8113\")>,\n",
       " <selenium.webdriver.remote.webelement.WebElement (session=\"b668f4ad7d57e85138476c61e2f4063b\", element=\"918b4472-710a-4300-884f-b619bc2b1377\")>,\n",
       " <selenium.webdriver.remote.webelement.WebElement (session=\"b668f4ad7d57e85138476c61e2f4063b\", element=\"2a9aab3a-c984-49e2-8196-78b1a64cd267\")>,\n",
       " <selenium.webdriver.remote.webelement.WebElement (session=\"b668f4ad7d57e85138476c61e2f4063b\", element=\"7d98b141-05b2-49f9-8a13-aea942f7ac42\")>,\n",
       " <selenium.webdriver.remote.webelement.WebElement (session=\"b668f4ad7d57e85138476c61e2f4063b\", element=\"c055a465-e545-47eb-b3c7-489b844a3fd8\")>,\n",
       " <selenium.webdriver.remote.webelement.WebElement (session=\"b668f4ad7d57e85138476c61e2f4063b\", element=\"60fce74b-d182-4923-9871-60c5e11ca112\")>,\n",
       " <selenium.webdriver.remote.webelement.WebElement (session=\"b668f4ad7d57e85138476c61e2f4063b\", element=\"927bf950-c719-4057-ab65-8f262554ce56\")>,\n",
       " <selenium.webdriver.remote.webelement.WebElement (session=\"b668f4ad7d57e85138476c61e2f4063b\", element=\"14860cc0-930c-4625-8b9c-88e01a36f411\")>,\n",
       " <selenium.webdriver.remote.webelement.WebElement (session=\"b668f4ad7d57e85138476c61e2f4063b\", element=\"6e38d401-4599-4ab0-be63-a05c9bb0f70b\")>,\n",
       " <selenium.webdriver.remote.webelement.WebElement (session=\"b668f4ad7d57e85138476c61e2f4063b\", element=\"4a913920-cd53-451a-8e63-067ef676e794\")>,\n",
       " <selenium.webdriver.remote.webelement.WebElement (session=\"b668f4ad7d57e85138476c61e2f4063b\", element=\"351a5cd3-e36f-44b1-a134-1ae3201ca207\")>,\n",
       " <selenium.webdriver.remote.webelement.WebElement (session=\"b668f4ad7d57e85138476c61e2f4063b\", element=\"1629ed06-e039-4d4a-903f-05b7ffa4d88c\")>,\n",
       " <selenium.webdriver.remote.webelement.WebElement (session=\"b668f4ad7d57e85138476c61e2f4063b\", element=\"28f0b0a1-36c0-45f3-aa2d-03ceaf42cdf0\")>,\n",
       " <selenium.webdriver.remote.webelement.WebElement (session=\"b668f4ad7d57e85138476c61e2f4063b\", element=\"5635e07f-5831-4f74-8c75-469ee7e85f12\")>,\n",
       " <selenium.webdriver.remote.webelement.WebElement (session=\"b668f4ad7d57e85138476c61e2f4063b\", element=\"3d23f267-8a33-413b-b8e2-6640a87144ac\")>,\n",
       " <selenium.webdriver.remote.webelement.WebElement (session=\"b668f4ad7d57e85138476c61e2f4063b\", element=\"cddc1486-46cf-4eb5-8e22-5191907484b6\")>,\n",
       " <selenium.webdriver.remote.webelement.WebElement (session=\"b668f4ad7d57e85138476c61e2f4063b\", element=\"6e0f7675-b322-4664-aec9-ab3181b9b005\")>,\n",
       " <selenium.webdriver.remote.webelement.WebElement (session=\"b668f4ad7d57e85138476c61e2f4063b\", element=\"95bb9f4a-3278-48ef-b5b2-1618b2ba3141\")>,\n",
       " <selenium.webdriver.remote.webelement.WebElement (session=\"b668f4ad7d57e85138476c61e2f4063b\", element=\"dd1e9257-1442-41c7-a313-ceff364a52da\")>,\n",
       " <selenium.webdriver.remote.webelement.WebElement (session=\"b668f4ad7d57e85138476c61e2f4063b\", element=\"31d4f707-782f-4d85-9c7e-0d8956e33834\")>,\n",
       " <selenium.webdriver.remote.webelement.WebElement (session=\"b668f4ad7d57e85138476c61e2f4063b\", element=\"8e7d9eee-3bce-4b03-bbc9-da66e51b42a1\")>,\n",
       " <selenium.webdriver.remote.webelement.WebElement (session=\"b668f4ad7d57e85138476c61e2f4063b\", element=\"72a2b533-696e-4853-951c-77e4955138d9\")>,\n",
       " <selenium.webdriver.remote.webelement.WebElement (session=\"b668f4ad7d57e85138476c61e2f4063b\", element=\"6859eb64-f459-4bf4-ba0f-0e498cb7333a\")>,\n",
       " <selenium.webdriver.remote.webelement.WebElement (session=\"b668f4ad7d57e85138476c61e2f4063b\", element=\"fd13df33-9d0f-4c74-a853-0fa4cf35ea12\")>,\n",
       " <selenium.webdriver.remote.webelement.WebElement (session=\"b668f4ad7d57e85138476c61e2f4063b\", element=\"7afd44a7-810f-44a9-9f37-345f48643e41\")>,\n",
       " <selenium.webdriver.remote.webelement.WebElement (session=\"b668f4ad7d57e85138476c61e2f4063b\", element=\"027720b1-dec5-4f3b-9ebc-98c57945d996\")>,\n",
       " <selenium.webdriver.remote.webelement.WebElement (session=\"b668f4ad7d57e85138476c61e2f4063b\", element=\"188942c7-5ad3-4540-964f-1177a4d358fb\")>,\n",
       " <selenium.webdriver.remote.webelement.WebElement (session=\"b668f4ad7d57e85138476c61e2f4063b\", element=\"8b282e50-5cdd-486d-95ed-175a411df7d4\")>,\n",
       " <selenium.webdriver.remote.webelement.WebElement (session=\"b668f4ad7d57e85138476c61e2f4063b\", element=\"9b00d921-9b66-4a5b-aedf-3b8b7dcf9927\")>,\n",
       " <selenium.webdriver.remote.webelement.WebElement (session=\"b668f4ad7d57e85138476c61e2f4063b\", element=\"c42eebc8-3281-4fcd-ad75-1bb4fa481a91\")>,\n",
       " <selenium.webdriver.remote.webelement.WebElement (session=\"b668f4ad7d57e85138476c61e2f4063b\", element=\"925b1999-dc7e-43f6-9a4e-fb2791ccf4e7\")>,\n",
       " <selenium.webdriver.remote.webelement.WebElement (session=\"b668f4ad7d57e85138476c61e2f4063b\", element=\"836957d3-e327-441e-812c-3347ec91c339\")>,\n",
       " <selenium.webdriver.remote.webelement.WebElement (session=\"b668f4ad7d57e85138476c61e2f4063b\", element=\"aff7f453-e128-4362-9e8d-049dd5cd5f5b\")>,\n",
       " <selenium.webdriver.remote.webelement.WebElement (session=\"b668f4ad7d57e85138476c61e2f4063b\", element=\"53a54a2a-0d2b-4174-a89f-f1090c233614\")>,\n",
       " <selenium.webdriver.remote.webelement.WebElement (session=\"b668f4ad7d57e85138476c61e2f4063b\", element=\"071e2768-b64a-458a-aef1-e45935d8980a\")>,\n",
       " <selenium.webdriver.remote.webelement.WebElement (session=\"b668f4ad7d57e85138476c61e2f4063b\", element=\"ae3fa1c5-4a2f-40d0-936c-559598723cfa\")>,\n",
       " <selenium.webdriver.remote.webelement.WebElement (session=\"b668f4ad7d57e85138476c61e2f4063b\", element=\"44bab467-c208-48b4-b5d1-30fdfbfaf8ad\")>,\n",
       " <selenium.webdriver.remote.webelement.WebElement (session=\"b668f4ad7d57e85138476c61e2f4063b\", element=\"20923d7e-0417-44e4-bd00-fb28c2bf28c3\")>,\n",
       " <selenium.webdriver.remote.webelement.WebElement (session=\"b668f4ad7d57e85138476c61e2f4063b\", element=\"376bc3bf-232b-4e1d-a003-20a4374fbfb7\")>,\n",
       " <selenium.webdriver.remote.webelement.WebElement (session=\"b668f4ad7d57e85138476c61e2f4063b\", element=\"b873b526-4097-4aad-b10d-404fbc425024\")>,\n",
       " <selenium.webdriver.remote.webelement.WebElement (session=\"b668f4ad7d57e85138476c61e2f4063b\", element=\"574bcab1-7a50-498f-b4c6-55d0b9a54fea\")>,\n",
       " <selenium.webdriver.remote.webelement.WebElement (session=\"b668f4ad7d57e85138476c61e2f4063b\", element=\"31472fb6-f433-489b-b3fe-22bb65e204c3\")>,\n",
       " <selenium.webdriver.remote.webelement.WebElement (session=\"b668f4ad7d57e85138476c61e2f4063b\", element=\"0bbd1d5c-d177-406d-92dc-4b74ecbb9a69\")>,\n",
       " <selenium.webdriver.remote.webelement.WebElement (session=\"b668f4ad7d57e85138476c61e2f4063b\", element=\"0d02b5f9-dd72-4565-862f-de8f47a5e6b0\")>,\n",
       " <selenium.webdriver.remote.webelement.WebElement (session=\"b668f4ad7d57e85138476c61e2f4063b\", element=\"fcab51b6-68cf-4301-8814-33d1283626a6\")>,\n",
       " <selenium.webdriver.remote.webelement.WebElement (session=\"b668f4ad7d57e85138476c61e2f4063b\", element=\"3f4e699d-4b11-4b4c-9b92-e8d6fc785d90\")>]"
      ]
     },
     "execution_count": 47,
     "metadata": {},
     "output_type": "execute_result"
    }
   ],
   "source": [
    "bowl2=driver.find_elements_by_xpath(\"//td[@class='table-body__cell rankings-table__name name']\")\n",
    "bowl2"
   ]
  },
  {
   "cell_type": "code",
   "execution_count": 48,
   "metadata": {},
   "outputs": [
    {
     "data": {
      "text/plain": [
       "['Trent Boult',\n",
       " 'Jasprit Bumrah',\n",
       " 'Mujeeb Ur Rahman',\n",
       " 'Chris Woakes',\n",
       " 'Kagiso Rabada',\n",
       " 'Pat Cummins']"
      ]
     },
     "execution_count": 48,
     "metadata": {},
     "output_type": "execute_result"
    }
   ],
   "source": [
    "for i in bowl2:\n",
    "    p1=i.text\n",
    "    Bowler.append(p1)\n",
    "Bowler[:6]"
   ]
  },
  {
   "cell_type": "code",
   "execution_count": 49,
   "metadata": {},
   "outputs": [],
   "source": [
    "bowl3=driver.find_elements_by_xpath(\"//div[@class='rankings-block__banner--nationality']\")"
   ]
  },
  {
   "cell_type": "code",
   "execution_count": 50,
   "metadata": {},
   "outputs": [
    {
     "data": {
      "text/plain": [
       "['NZ']"
      ]
     },
     "execution_count": 50,
     "metadata": {},
     "output_type": "execute_result"
    }
   ],
   "source": [
    "for i in bowl3:\n",
    "    p1=i.text\n",
    "    Country.append(p1)\n",
    "Country"
   ]
  },
  {
   "cell_type": "code",
   "execution_count": 51,
   "metadata": {},
   "outputs": [
    {
     "data": {
      "text/plain": [
       "['NZ', 'IND', 'AFG', 'ENG', 'SA']"
      ]
     },
     "execution_count": 51,
     "metadata": {},
     "output_type": "execute_result"
    }
   ],
   "source": [
    "bowl4=driver.find_elements_by_xpath(\"//span[@class='table-body__logo-text']\")\n",
    "for i in bowl4:\n",
    "    p1=i.text\n",
    "    Country.append(p1)\n",
    "Country[:5]"
   ]
  },
  {
   "cell_type": "code",
   "execution_count": 52,
   "metadata": {},
   "outputs": [
    {
     "data": {
      "text/plain": [
       "['722']"
      ]
     },
     "execution_count": 52,
     "metadata": {},
     "output_type": "execute_result"
    }
   ],
   "source": [
    "bowl5=ratings = driver.find_elements_by_xpath(\"//div[@class='rankings-block__banner--rating']\")\n",
    "for i in bowl5:\n",
    "    p1=i.text\n",
    "    BowlerRating.append(p1)\n",
    "BowlerRating"
   ]
  },
  {
   "cell_type": "code",
   "execution_count": 53,
   "metadata": {},
   "outputs": [
    {
     "data": {
      "text/plain": [
       "['722', '719', '701', '675', '665', '659']"
      ]
     },
     "execution_count": 53,
     "metadata": {},
     "output_type": "execute_result"
    }
   ],
   "source": [
    "bowl6= driver.find_elements_by_xpath(\"//td[@class='table-body__cell rating']\")\n",
    "for i in bowl6:\n",
    "    p1=i.text\n",
    "    BowlerRating.append(p1)\n",
    "BowlerRating[:6]"
   ]
  },
  {
   "cell_type": "code",
   "execution_count": 54,
   "metadata": {},
   "outputs": [],
   "source": [
    "BowlerDetails=pd.DataFrame({})\n",
    "BowlerDetails['Bowler'] = Bowler[:10]\n",
    "BowlerDetails['Country']= Country[:10] \n",
    "BowlerDetails['Rating'] = BowlerRating[:10]"
   ]
  },
  {
   "cell_type": "code",
   "execution_count": 55,
   "metadata": {},
   "outputs": [
    {
     "data": {
      "text/html": [
       "<div>\n",
       "<style scoped>\n",
       "    .dataframe tbody tr th:only-of-type {\n",
       "        vertical-align: middle;\n",
       "    }\n",
       "\n",
       "    .dataframe tbody tr th {\n",
       "        vertical-align: top;\n",
       "    }\n",
       "\n",
       "    .dataframe thead th {\n",
       "        text-align: right;\n",
       "    }\n",
       "</style>\n",
       "<table border=\"1\" class=\"dataframe\">\n",
       "  <thead>\n",
       "    <tr style=\"text-align: right;\">\n",
       "      <th></th>\n",
       "      <th>Bowler</th>\n",
       "      <th>Country</th>\n",
       "      <th>Rating</th>\n",
       "    </tr>\n",
       "  </thead>\n",
       "  <tbody>\n",
       "    <tr>\n",
       "      <th>0</th>\n",
       "      <td>Trent Boult</td>\n",
       "      <td>NZ</td>\n",
       "      <td>722</td>\n",
       "    </tr>\n",
       "    <tr>\n",
       "      <th>1</th>\n",
       "      <td>Jasprit Bumrah</td>\n",
       "      <td>IND</td>\n",
       "      <td>719</td>\n",
       "    </tr>\n",
       "    <tr>\n",
       "      <th>2</th>\n",
       "      <td>Mujeeb Ur Rahman</td>\n",
       "      <td>AFG</td>\n",
       "      <td>701</td>\n",
       "    </tr>\n",
       "    <tr>\n",
       "      <th>3</th>\n",
       "      <td>Chris Woakes</td>\n",
       "      <td>ENG</td>\n",
       "      <td>675</td>\n",
       "    </tr>\n",
       "    <tr>\n",
       "      <th>4</th>\n",
       "      <td>Kagiso Rabada</td>\n",
       "      <td>SA</td>\n",
       "      <td>665</td>\n",
       "    </tr>\n",
       "    <tr>\n",
       "      <th>5</th>\n",
       "      <td>Pat Cummins</td>\n",
       "      <td>AUS</td>\n",
       "      <td>659</td>\n",
       "    </tr>\n",
       "    <tr>\n",
       "      <th>6</th>\n",
       "      <td>Josh Hazlewood</td>\n",
       "      <td>AUS</td>\n",
       "      <td>654</td>\n",
       "    </tr>\n",
       "    <tr>\n",
       "      <th>7</th>\n",
       "      <td>Mohammad Amir</td>\n",
       "      <td>PAK</td>\n",
       "      <td>647</td>\n",
       "    </tr>\n",
       "    <tr>\n",
       "      <th>8</th>\n",
       "      <td>Matt Henry</td>\n",
       "      <td>NZ</td>\n",
       "      <td>641</td>\n",
       "    </tr>\n",
       "    <tr>\n",
       "      <th>9</th>\n",
       "      <td>Jofra Archer</td>\n",
       "      <td>ENG</td>\n",
       "      <td>637</td>\n",
       "    </tr>\n",
       "  </tbody>\n",
       "</table>\n",
       "</div>"
      ],
      "text/plain": [
       "             Bowler Country Rating\n",
       "0       Trent Boult      NZ    722\n",
       "1    Jasprit Bumrah     IND    719\n",
       "2  Mujeeb Ur Rahman     AFG    701\n",
       "3      Chris Woakes     ENG    675\n",
       "4     Kagiso Rabada      SA    665\n",
       "5       Pat Cummins     AUS    659\n",
       "6    Josh Hazlewood     AUS    654\n",
       "7     Mohammad Amir     PAK    647\n",
       "8        Matt Henry      NZ    641\n",
       "9      Jofra Archer     ENG    637"
      ]
     },
     "execution_count": 55,
     "metadata": {},
     "output_type": "execute_result"
    }
   ],
   "source": [
    "BowlerDetails"
   ]
  },
  {
   "cell_type": "code",
   "execution_count": null,
   "metadata": {},
   "outputs": [],
   "source": []
  }
 ],
 "metadata": {
  "kernelspec": {
   "display_name": "Python 3",
   "language": "python",
   "name": "python3"
  },
  "language_info": {
   "codemirror_mode": {
    "name": "ipython",
    "version": 3
   },
   "file_extension": ".py",
   "mimetype": "text/x-python",
   "name": "python",
   "nbconvert_exporter": "python",
   "pygments_lexer": "ipython3",
   "version": "3.7.6"
  }
 },
 "nbformat": 4,
 "nbformat_minor": 4
}
