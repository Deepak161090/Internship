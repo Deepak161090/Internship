{
 "cells": [
  {
   "cell_type": "code",
   "execution_count": 42,
   "metadata": {},
   "outputs": [],
   "source": [
    "import pandas as pd\n",
    "from bs4 import BeautifulSoup\n",
    "import requests\n",
    "import selenium\n",
    "from selenium import webdriver\n",
    "import time"
   ]
  },
  {
   "cell_type": "code",
   "execution_count": 43,
   "metadata": {},
   "outputs": [],
   "source": [
    "driver = webdriver.Chrome(r\"C:\\chromedriver.exe\")\n",
    "driver.get('https://www.amazon.in/s?k=Laptop&i=computers&rh=n%3A1375424031%2Cp_n_feature_thirteen_browse-bin%3A12598163031%7C16757432031&dc&qid=1608221405&rnid=12598141031&ref=sr_nr_p_n_feature_thirteen_browse-bin_17')"
   ]
  },
  {
   "cell_type": "code",
   "execution_count": 44,
   "metadata": {},
   "outputs": [
    {
     "name": "stdout",
     "output_type": "stream",
     "text": [
      "                                               Brand    Price Description\n",
      "0  Asus ROG Strix G15 Core i7 10th Gen - (8 GB/51...  ₹84,990            \n",
      "1  HP Pavilion x360 Core i7 8th Gen 14-inch Touch...  ₹82,990         271\n",
      "2  (Renewed) Lenovo ThinkPad High Performance 12....  ₹36,699            \n",
      "3  Lenovo ThinkPad E14 Intel Core i7 10th Gen14-i...  ₹84,990          11\n",
      "4  ASUS ZenBook 14 (2020) Intel Core i7-1165G7 11...  ₹95,890            \n",
      "5  (Renewed) Dell Inspiron 3567 Laptop Core i3-7t...  ₹29,990           8\n"
     ]
    }
   ],
   "source": [
    "title_names=[]\n",
    "price=[]\n",
    "rating=[]\n",
    "for i in list(driver.find_elements_by_xpath(\"//h2[@class='a-size-mini a-spacing-none a-color-base s-line-clamp-2']\")):\n",
    "    title_names.append(i.text)\n",
    "for i in list(driver.find_elements_by_xpath(\"//span[@class='a-price']\")):  \n",
    "    price.append(i.text)\n",
    "for i in list(driver.find_elements_by_xpath(\"//div[@class='a-row a-size-small']/span\")):\n",
    "    rating.append(i.text)\n",
    "Amazon_df=pd.DataFrame({'Brand':title_names[:6],\n",
    "                         'Price':price[:6],\n",
    "                         'Description':rating[:6]})\n",
    "Amazon_df.to_csv('Shoes of Myntra', index = False)\n",
    "print(Amazon_df)"
   ]
  },
  {
   "cell_type": "code",
   "execution_count": null,
   "metadata": {},
   "outputs": [],
   "source": []
  }
 ],
 "metadata": {
  "kernelspec": {
   "display_name": "Python 3",
   "language": "python",
   "name": "python3"
  },
  "language_info": {
   "codemirror_mode": {
    "name": "ipython",
    "version": 3
   },
   "file_extension": ".py",
   "mimetype": "text/x-python",
   "name": "python",
   "nbconvert_exporter": "python",
   "pygments_lexer": "ipython3",
   "version": "3.7.6"
  }
 },
 "nbformat": 4,
 "nbformat_minor": 4
}
