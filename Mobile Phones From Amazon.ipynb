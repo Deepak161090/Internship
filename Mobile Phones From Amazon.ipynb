{
 "cells": [
  {
   "cell_type": "code",
   "execution_count": 1,
   "metadata": {},
   "outputs": [],
   "source": [
    "import requests\n",
    "from bs4 import BeautifulSoup\n",
    "from selenium import webdriver\n",
    "import pandas as pd"
   ]
  },
  {
   "cell_type": "code",
   "execution_count": 2,
   "metadata": {},
   "outputs": [],
   "source": [
    "driver = webdriver.Chrome(r\"C:\\chromedriver.exe\")\n",
    "driver.get(\"https://www.amazon.in/s?i=electronics&bbn=1805560031&rh=n%3A976419031%2Cn%3A976420031%2Cn%3A1389401031%2Cn%3A1389432031%2Cn%3A1805560031%2Cp_36%3A-2000000%2Cp_85%3A10440599031&hidden-keywords=smartphone&pf_rd_i=1389401031&pf_rd_m=A1K21FY43GMZF8&pf_rd_p=1256e9e9-b753-4049-b447-56796aba6c3f&pf_rd_r=4MFVHM03B0G4PPV96QCS&pf_rd_s=merchandised-search-20&pf_rd_t=101&qid=1607269147&rnid=1318502031&ref=sr_nr_p_36_2\")"
   ]
  },
  {
   "cell_type": "code",
   "execution_count": 3,
   "metadata": {},
   "outputs": [],
   "source": [
    "Handset=[]\n",
    "Price=[]\n",
    "Image=[]\n",
    "Rating=[]"
   ]
  },
  {
   "cell_type": "code",
   "execution_count": 4,
   "metadata": {},
   "outputs": [],
   "source": [
    "name_list=driver.find_elements_by_xpath(\"//span[@class='a-size-medium a-color-base a-text-normal']\")"
   ]
  },
  {
   "cell_type": "code",
   "execution_count": 5,
   "metadata": {},
   "outputs": [
    {
     "data": {
      "text/plain": [
       "['Lava Z66 (Marine Blue, 3GB RAM, 32GB Storage)',\n",
       " 'LAVA Z66 (Berry RED, 3GB RAM, 32GB Storage)',\n",
       " 'Redmi 9 (Sporty Orange, 4GB RAM, 64GB Storage) | 3 Months No Cost EMI on BFL',\n",
       " 'Redmi 9 Prime (Space Blue, 4GB RAM, 64GB Storage)- Full HD+ Display & AI Quad Camera',\n",
       " 'Samsung Galaxy M31 Prime Edition (Ocean Blue, 6GB RAM, 128GB Storage)',\n",
       " 'Redmi 9A (Sea Blue, 3GB Ram, 32GB Storage)',\n",
       " 'Samsung Galaxy M01 (Blue, 3GB RAM, 32GB Storage) with No Cost EMI/Additional Exchange Offers',\n",
       " 'Redmi 9 Prime (Matte Black, 4GB RAM, 64GB Storage) - Full HD+ Display & AI Quad Camera',\n",
       " 'Redmi Note 9 (Pebble Grey, 4GB RAM 64GB Storage) - 48MP Quad Camera & Full HD+ Display',\n",
       " 'Redmi 9A (Midnight Black, 3GB Ram, 32GB Storage)']"
      ]
     },
     "execution_count": 5,
     "metadata": {},
     "output_type": "execute_result"
    }
   ],
   "source": [
    "for i in name_list:\n",
    "    name=i.text\n",
    "    Handset.append(name)\n",
    "Handset[0:10]"
   ]
  },
  {
   "cell_type": "code",
   "execution_count": 6,
   "metadata": {},
   "outputs": [],
   "source": [
    "price_list = driver.find_elements_by_xpath(\"//span[@class='a-price-whole']\") \n",
    "    "
   ]
  },
  {
   "cell_type": "code",
   "execution_count": 7,
   "metadata": {},
   "outputs": [
    {
     "data": {
      "text/plain": [
       "['7,377',\n",
       " '7,377',\n",
       " '8,999',\n",
       " '9,999',\n",
       " '16,499',\n",
       " '7,499',\n",
       " '7,499',\n",
       " '9,999',\n",
       " '11,999',\n",
       " '7,499',\n",
       " '13,999',\n",
       " '13,999',\n",
       " '16,499',\n",
       " '12,999',\n",
       " '13,990',\n",
       " '9,999',\n",
       " '7,499',\n",
       " '9,999',\n",
       " '11,999',\n",
       " '12,999',\n",
       " '11,999',\n",
       " '16,499',\n",
       " '11,990',\n",
       " '7,499',\n",
       " '16,499',\n",
       " '14,999']"
      ]
     },
     "execution_count": 7,
     "metadata": {},
     "output_type": "execute_result"
    }
   ],
   "source": [
    "for i in price_list:\n",
    "    m=i.text\n",
    "    Price.append(m)\n",
    "Price"
   ]
  },
  {
   "cell_type": "code",
   "execution_count": 8,
   "metadata": {},
   "outputs": [],
   "source": [
    "img_list=driver.find_elements_by_xpath(\"//img[@class='s-image']\")"
   ]
  },
  {
   "cell_type": "code",
   "execution_count": 9,
   "metadata": {},
   "outputs": [
    {
     "data": {
      "text/plain": [
       "['',\n",
       " '',\n",
       " '',\n",
       " '',\n",
       " '',\n",
       " '',\n",
       " '',\n",
       " '',\n",
       " '',\n",
       " '',\n",
       " '',\n",
       " '',\n",
       " '',\n",
       " '',\n",
       " '',\n",
       " '',\n",
       " '',\n",
       " '',\n",
       " '',\n",
       " '',\n",
       " '',\n",
       " '',\n",
       " '',\n",
       " '',\n",
       " '',\n",
       " '']"
      ]
     },
     "execution_count": 9,
     "metadata": {},
     "output_type": "execute_result"
    }
   ],
   "source": [
    "for i in img_list:\n",
    "    r1=i.text\n",
    "    Image.append(r1)\n",
    "Image"
   ]
  },
  {
   "cell_type": "code",
   "execution_count": 10,
   "metadata": {},
   "outputs": [],
   "source": [
    "rating_list=driver.find_elements_by_xpath(\"//span[@class='a-icon-alt']\")"
   ]
  },
  {
   "cell_type": "code",
   "execution_count": 11,
   "metadata": {},
   "outputs": [
    {
     "data": {
      "text/plain": [
       "['',\n",
       " '',\n",
       " '',\n",
       " '',\n",
       " '',\n",
       " '',\n",
       " '',\n",
       " '',\n",
       " '',\n",
       " '',\n",
       " '',\n",
       " '',\n",
       " '',\n",
       " '',\n",
       " '',\n",
       " '',\n",
       " '',\n",
       " '',\n",
       " '',\n",
       " '',\n",
       " '',\n",
       " '',\n",
       " '',\n",
       " '',\n",
       " '',\n",
       " '',\n",
       " '',\n",
       " '',\n",
       " '',\n",
       " '']"
      ]
     },
     "execution_count": 11,
     "metadata": {},
     "output_type": "execute_result"
    }
   ],
   "source": [
    "for i in rating_list:\n",
    "    p1=i.text\n",
    "    Rating.append(p1)\n",
    "Rating"
   ]
  },
  {
   "cell_type": "code",
   "execution_count": 12,
   "metadata": {},
   "outputs": [],
   "source": [
    "Mobile=pd.DataFrame({})\n",
    "Mobile['Handset'] = Handset[:10]\n",
    "Mobile['Price'] = Price[:10]\n",
    "Mobile['Image'] = Image[:10]\n",
    "Mobile['Rating'] = Rating[:10]"
   ]
  },
  {
   "cell_type": "code",
   "execution_count": 13,
   "metadata": {},
   "outputs": [
    {
     "data": {
      "text/html": [
       "<div>\n",
       "<style scoped>\n",
       "    .dataframe tbody tr th:only-of-type {\n",
       "        vertical-align: middle;\n",
       "    }\n",
       "\n",
       "    .dataframe tbody tr th {\n",
       "        vertical-align: top;\n",
       "    }\n",
       "\n",
       "    .dataframe thead th {\n",
       "        text-align: right;\n",
       "    }\n",
       "</style>\n",
       "<table border=\"1\" class=\"dataframe\">\n",
       "  <thead>\n",
       "    <tr style=\"text-align: right;\">\n",
       "      <th></th>\n",
       "      <th>Handset</th>\n",
       "      <th>Price</th>\n",
       "      <th>Image</th>\n",
       "      <th>Rating</th>\n",
       "    </tr>\n",
       "  </thead>\n",
       "  <tbody>\n",
       "    <tr>\n",
       "      <th>0</th>\n",
       "      <td>Lava Z66 (Marine Blue, 3GB RAM, 32GB Storage)</td>\n",
       "      <td>7,377</td>\n",
       "      <td></td>\n",
       "      <td></td>\n",
       "    </tr>\n",
       "    <tr>\n",
       "      <th>1</th>\n",
       "      <td>LAVA Z66 (Berry RED, 3GB RAM, 32GB Storage)</td>\n",
       "      <td>7,377</td>\n",
       "      <td></td>\n",
       "      <td></td>\n",
       "    </tr>\n",
       "    <tr>\n",
       "      <th>2</th>\n",
       "      <td>Redmi 9 (Sporty Orange, 4GB RAM, 64GB Storage)...</td>\n",
       "      <td>8,999</td>\n",
       "      <td></td>\n",
       "      <td></td>\n",
       "    </tr>\n",
       "    <tr>\n",
       "      <th>3</th>\n",
       "      <td>Redmi 9 Prime (Space Blue, 4GB RAM, 64GB Stora...</td>\n",
       "      <td>9,999</td>\n",
       "      <td></td>\n",
       "      <td></td>\n",
       "    </tr>\n",
       "    <tr>\n",
       "      <th>4</th>\n",
       "      <td>Samsung Galaxy M31 Prime Edition (Ocean Blue, ...</td>\n",
       "      <td>16,499</td>\n",
       "      <td></td>\n",
       "      <td></td>\n",
       "    </tr>\n",
       "    <tr>\n",
       "      <th>5</th>\n",
       "      <td>Redmi 9A (Sea Blue, 3GB Ram, 32GB Storage)</td>\n",
       "      <td>7,499</td>\n",
       "      <td></td>\n",
       "      <td></td>\n",
       "    </tr>\n",
       "    <tr>\n",
       "      <th>6</th>\n",
       "      <td>Samsung Galaxy M01 (Blue, 3GB RAM, 32GB Storag...</td>\n",
       "      <td>7,499</td>\n",
       "      <td></td>\n",
       "      <td></td>\n",
       "    </tr>\n",
       "    <tr>\n",
       "      <th>7</th>\n",
       "      <td>Redmi 9 Prime (Matte Black, 4GB RAM, 64GB Stor...</td>\n",
       "      <td>9,999</td>\n",
       "      <td></td>\n",
       "      <td></td>\n",
       "    </tr>\n",
       "    <tr>\n",
       "      <th>8</th>\n",
       "      <td>Redmi Note 9 (Pebble Grey, 4GB RAM 64GB Storag...</td>\n",
       "      <td>11,999</td>\n",
       "      <td></td>\n",
       "      <td></td>\n",
       "    </tr>\n",
       "    <tr>\n",
       "      <th>9</th>\n",
       "      <td>Redmi 9A (Midnight Black, 3GB Ram, 32GB Storage)</td>\n",
       "      <td>7,499</td>\n",
       "      <td></td>\n",
       "      <td></td>\n",
       "    </tr>\n",
       "  </tbody>\n",
       "</table>\n",
       "</div>"
      ],
      "text/plain": [
       "                                             Handset   Price Image Rating\n",
       "0      Lava Z66 (Marine Blue, 3GB RAM, 32GB Storage)   7,377             \n",
       "1        LAVA Z66 (Berry RED, 3GB RAM, 32GB Storage)   7,377             \n",
       "2  Redmi 9 (Sporty Orange, 4GB RAM, 64GB Storage)...   8,999             \n",
       "3  Redmi 9 Prime (Space Blue, 4GB RAM, 64GB Stora...   9,999             \n",
       "4  Samsung Galaxy M31 Prime Edition (Ocean Blue, ...  16,499             \n",
       "5         Redmi 9A (Sea Blue, 3GB Ram, 32GB Storage)   7,499             \n",
       "6  Samsung Galaxy M01 (Blue, 3GB RAM, 32GB Storag...   7,499             \n",
       "7  Redmi 9 Prime (Matte Black, 4GB RAM, 64GB Stor...   9,999             \n",
       "8  Redmi Note 9 (Pebble Grey, 4GB RAM 64GB Storag...  11,999             \n",
       "9   Redmi 9A (Midnight Black, 3GB Ram, 32GB Storage)   7,499             "
      ]
     },
     "execution_count": 13,
     "metadata": {},
     "output_type": "execute_result"
    }
   ],
   "source": [
    "Mobile"
   ]
  }
 ],
 "metadata": {
  "kernelspec": {
   "display_name": "Python 3",
   "language": "python",
   "name": "python3"
  },
  "language_info": {
   "codemirror_mode": {
    "name": "ipython",
    "version": 3
   },
   "file_extension": ".py",
   "mimetype": "text/x-python",
   "name": "python",
   "nbconvert_exporter": "python",
   "pygments_lexer": "ipython3",
   "version": "3.7.6"
  }
 },
 "nbformat": 4,
 "nbformat_minor": 4
}
