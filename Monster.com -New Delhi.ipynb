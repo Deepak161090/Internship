{
 "cells": [
  {
   "cell_type": "code",
   "execution_count": 1,
   "metadata": {},
   "outputs": [],
   "source": [
    "import requests\n",
    "from bs4 import BeautifulSoup\n",
    "from selenium import webdriver\n",
    "import pandas as pd"
   ]
  },
  {
   "cell_type": "code",
   "execution_count": 2,
   "metadata": {},
   "outputs": [],
   "source": [
    "driver = webdriver.Chrome(r\"C:\\chromedriver.exe\")"
   ]
  },
  {
   "cell_type": "code",
   "execution_count": 3,
   "metadata": {},
   "outputs": [],
   "source": [
    "driver.get(\"https://www.monsterindia.com/srp/results?query=data%20scientist%20&locations=Delhi&searchId=c06b26fc-51f2-400f-9034-dcdf4e9a352c\")"
   ]
  },
  {
   "cell_type": "code",
   "execution_count": 4,
   "metadata": {},
   "outputs": [],
   "source": [
    "page1= []\n",
    "page2= []\n",
    "page3= []\n",
    "page4= []\n",
    "page5= []\n"
   ]
  },
  {
   "cell_type": "code",
   "execution_count": 5,
   "metadata": {},
   "outputs": [
    {
     "data": {
      "text/plain": [
       "[<selenium.webdriver.remote.webelement.WebElement (session=\"e086416a33e6afa008099200281b71ce\", element=\"0ae29a7b-e1ee-42b0-bad6-b67fcff29b14\")>,\n",
       " <selenium.webdriver.remote.webelement.WebElement (session=\"e086416a33e6afa008099200281b71ce\", element=\"d4df2a88-3dd6-4e2d-aee0-1fdbe3d9bbf3\")>,\n",
       " <selenium.webdriver.remote.webelement.WebElement (session=\"e086416a33e6afa008099200281b71ce\", element=\"47dc7da2-f900-47ce-9e46-056b4c05a3d4\")>,\n",
       " <selenium.webdriver.remote.webelement.WebElement (session=\"e086416a33e6afa008099200281b71ce\", element=\"82d6339b-efbc-477c-b1a4-3aa0e87c9bbd\")>]"
      ]
     },
     "execution_count": 5,
     "metadata": {},
     "output_type": "execute_result"
    }
   ],
   "source": [
    "jobs= driver.find_elements_by_xpath(\"//h3[@class='medium']\")\n",
    "jobs[0:4]"
   ]
  },
  {
   "cell_type": "code",
   "execution_count": 6,
   "metadata": {},
   "outputs": [
    {
     "data": {
      "text/plain": [
       "['Data Engineer - AI',\n",
       " 'Data Engineer',\n",
       " 'Data Analyst – Fresher – Data Scientist – Graduate - Fresher 7303778896 | 9560245147',\n",
       " 'Data Analyst / Fresher / Data Scientist / Graduate Fresher - MNC - 7303778896 | 9560245147']"
      ]
     },
     "execution_count": 6,
     "metadata": {},
     "output_type": "execute_result"
    }
   ],
   "source": [
    "for i in jobs:\n",
    "    titles=i.text\n",
    "    page1.append(titles)\n",
    "page1[0:4]"
   ]
  },
  {
   "cell_type": "code",
   "execution_count": 7,
   "metadata": {},
   "outputs": [
    {
     "data": {
      "text/plain": [
       "['Data Engineer - AI',\n",
       " 'Data Engineer',\n",
       " 'Data Analyst – Fresher – Data Scientist – Graduate - Fresher 7303778896 | 9560245147',\n",
       " 'Data Analyst / Fresher / Data Scientist / Graduate Fresher - MNC - 7303778896 | 9560245147',\n",
       " 'Data Analyst / Fresher / Data Scientist / Graduate Fresher - MNC - 7303778896 | 9560245147',\n",
       " 'Data Analyst – Fresher – Data Scientist – Any Graduate - Fresher 6397800351 | 9717266846',\n",
       " 'Data Analyst / Fresher / Data Scientist / Graduate Fresher - MNC - 7303778896 | 9560245147',\n",
       " 'Data Analyst / Fresher / Data Scientist / Graduate Fresher - MNC - 7303778896 | 9560245147',\n",
       " 'Data Analyst / Fresher / Data Scientist / Graduate Fresher - MNC - 7303778896 | 9560245147',\n",
       " 'Data Analyst – Fresher – Data Scientist – Graduate - Fresher 7303778896 | 9560245147 | 6397800351',\n",
       " 'Data Analyst – Fresher – Data Scientist – Graduate - Fresher 7303778896 | 9560245147 | 6397800351',\n",
       " 'DATA ANALYST – FRESHER – DATA SCIENTIST – SAS – PYTHON – TABLEAU - Fresher / Exp',\n",
       " 'Hindi Call center Hiring (Freshers can Apply)',\n",
       " 'Part time/Full time Job Work from Home/Data Entry/Home Based Job l Earn Rs.10K to 60K PM --- Neha',\n",
       " 'Part Time Typing Work / Home Based Work / Freelancer / Data Entry Job',\n",
       " '8448833475 Part Time Full Time Data Typing Work / Work From Home / Freelancer Job',\n",
       " 'Backend Executive(non Voice Process) Work from Home',\n",
       " 'Part time/Full time Job Work from Home/Data Entry Typing Job',\n",
       " 'Spend 2 To 3 hours a day and earn 1K-5K rupees a day-Work @ Home',\n",
       " 'Online Data Entry / Form Filling / Computer Operator',\n",
       " 'online data entry work from home, data entry, online job from home, data entry job vacancy available',\n",
       " 'online data entry work from home, data entry, online job from home, data entry job vacancy available',\n",
       " 'Home Based Online Job, Online Data Entry Job, Work From Home, Data Entry, Online Job, Data Entry Job',\n",
       " 'Online Data Entry Jobs, Work From Home jobs, Data Entry, Part Time Jobs, Online Jobs, Data Entry Job',\n",
       " 'Home Based Online Job, Online Data Entry Job, Work From Home, Data Entry, Online Job, Data Entry Job']"
      ]
     },
     "execution_count": 7,
     "metadata": {},
     "output_type": "execute_result"
    }
   ],
   "source": [
    "page1"
   ]
  },
  {
   "cell_type": "code",
   "execution_count": 8,
   "metadata": {},
   "outputs": [],
   "source": [
    "driver.get(\"https://www.monsterindia.com/srp/results?start=25&sort=1&limit=25&query=data%20scientist%20&locations=Delhi&searchId=c06b26fc-51f2-400f-9034-dcdf4e9a352c\")"
   ]
  },
  {
   "cell_type": "code",
   "execution_count": 9,
   "metadata": {},
   "outputs": [
    {
     "data": {
      "text/plain": [
       "[<selenium.webdriver.remote.webelement.WebElement (session=\"e086416a33e6afa008099200281b71ce\", element=\"f9ebb9df-41e5-488c-af3a-cff35b74a0f3\")>,\n",
       " <selenium.webdriver.remote.webelement.WebElement (session=\"e086416a33e6afa008099200281b71ce\", element=\"562f9a92-8335-4db0-bf6c-91bd1e2d7dd3\")>,\n",
       " <selenium.webdriver.remote.webelement.WebElement (session=\"e086416a33e6afa008099200281b71ce\", element=\"f80632f8-d94d-47be-906b-9bdf6bd7009c\")>,\n",
       " <selenium.webdriver.remote.webelement.WebElement (session=\"e086416a33e6afa008099200281b71ce\", element=\"a6e82368-62fe-4340-8c0c-4a38abe050c6\")>]"
      ]
     },
     "execution_count": 9,
     "metadata": {},
     "output_type": "execute_result"
    }
   ],
   "source": [
    "jobs1= driver.find_elements_by_xpath(\"//h3[@class='medium']\")\n",
    "jobs1[0:4]"
   ]
  },
  {
   "cell_type": "code",
   "execution_count": 10,
   "metadata": {},
   "outputs": [
    {
     "data": {
      "text/plain": [
       "['Online Data Entry Jobs, Work From Home jobs, Data Entry, Part Time Jobs, Online Jobs, Data Entry Job',\n",
       " 'Home Based Online Job, Online Data Entry Job, Work From Home, Data Entry, Online Job, Data Entry Job',\n",
       " 'Data entry jobs/work from home/online data entry jobs/part time full time jobs/data entry operator',\n",
       " 'Online Data Entry Jobs, Work From Home jobs, Data Entry, Part Time Jobs, Online Jobs, Data Entry Job']"
      ]
     },
     "execution_count": 10,
     "metadata": {},
     "output_type": "execute_result"
    }
   ],
   "source": [
    "for i in jobs1:\n",
    "    titles=i.text\n",
    "    page2.append(titles)\n",
    "page2[0:4]"
   ]
  },
  {
   "cell_type": "code",
   "execution_count": 11,
   "metadata": {},
   "outputs": [
    {
     "data": {
      "text/plain": [
       "['Online Data Entry Jobs, Work From Home jobs, Data Entry, Part Time Jobs, Online Jobs, Data Entry Job',\n",
       " 'Home Based Online Job, Online Data Entry Job, Work From Home, Data Entry, Online Job, Data Entry Job',\n",
       " 'Data entry jobs/work from home/online data entry jobs/part time full time jobs/data entry operator',\n",
       " 'Online Data Entry Jobs, Work From Home jobs, Data Entry, Part Time Jobs, Online Jobs, Data Entry Job',\n",
       " 'Home Based Online Job, Online Data Entry Job, Work From Home, Data Entry, Online Job, Data Entry Job',\n",
       " 'Data Entry Jobs, computer operator, data entry operator, office assistant, Work From Home',\n",
       " 'Data Analytics',\n",
       " 'data entry job vacancy available, work from home jobs, online home based job, data entry jobs',\n",
       " 'Online job, work from home, Data entry, work from home, online jobs, online data entry jobs',\n",
       " 'data entry job vacancy available, work from home jobs, online home based job, data entry jobs',\n",
       " 'Work From Home, Computer Operator, Data Entry, Back Office, Data Entry Operator, Data Entry Jobs',\n",
       " 'Computer Operator, Online Data Entry, Work From Home, Data Entry, Part Time Job, Data Entry Operator',\n",
       " 'Online job, work from home, Data entry, work from home, online jobs, online data entry jobs',\n",
       " 'Part time jobs work from home/online data entry jobs/data entry operator/computer operator jobs',\n",
       " 'Work From Home Jobs, Data Entry, Online Data Entry Jobs, Online Jobs Part Time Jobs, Online Jobs',\n",
       " 'H1B Visa sponsorship Software Professionals For FY21',\n",
       " 'online data entry work from home, data entry, online job from home, data entry job vacancy available',\n",
       " 'Work from home, data entry, online jobs, part time jobs, work from home jobs, data entry jobs',\n",
       " 'Work from home, data entry job vacancy available, online jobs, work from home jobs, data entry jobs',\n",
       " 'online jobs, data entry jobs, work from home jobs, part time jobs, online jobs from home, data entry',\n",
       " 'Home Based Online Job, Online Data Entry Job, Work From Home, Data Entry, Online Job, Data Entry Job',\n",
       " 'work from home jobs india, online data entry jobs for students, data entry jobs online from home',\n",
       " 'online data entry jobs, work from home, freelancer, Home Based Online Job, Data Entry, part time job',\n",
       " 'Online Data Entry Jobs, Work From Home jobs, Data Entry, Part Time Jobs, Online Jobs, Data Entry Job',\n",
       " 'Home Based Online Job, Online Data Entry Job, Work From Home, Data Entry, Online Job, Data Entry Job']"
      ]
     },
     "execution_count": 11,
     "metadata": {},
     "output_type": "execute_result"
    }
   ],
   "source": [
    "page2"
   ]
  },
  {
   "cell_type": "code",
   "execution_count": 12,
   "metadata": {},
   "outputs": [],
   "source": [
    "driver.get(\"https://www.monsterindia.com/srp/results?start=50&sort=1&limit=25&query=data%20scientist%20&locations=Delhi&searchId=c06b26fc-51f2-400f-9034-dcdf4e9a352c\")"
   ]
  },
  {
   "cell_type": "code",
   "execution_count": 13,
   "metadata": {},
   "outputs": [
    {
     "data": {
      "text/plain": [
       "[<selenium.webdriver.remote.webelement.WebElement (session=\"e086416a33e6afa008099200281b71ce\", element=\"bdab8c5a-2d45-4ee5-914d-6cf86fff134a\")>,\n",
       " <selenium.webdriver.remote.webelement.WebElement (session=\"e086416a33e6afa008099200281b71ce\", element=\"306899ec-f10f-4565-9298-018cde02edbe\")>,\n",
       " <selenium.webdriver.remote.webelement.WebElement (session=\"e086416a33e6afa008099200281b71ce\", element=\"94bd953f-6c8d-4513-a20e-ff2a8192c5e0\")>,\n",
       " <selenium.webdriver.remote.webelement.WebElement (session=\"e086416a33e6afa008099200281b71ce\", element=\"eb000896-c698-4c16-99ce-fe2670d1551f\")>]"
      ]
     },
     "execution_count": 13,
     "metadata": {},
     "output_type": "execute_result"
    }
   ],
   "source": [
    "jobs2= driver.find_elements_by_xpath(\"//h3[@class='medium']\")\n",
    "jobs2[0:4]"
   ]
  },
  {
   "cell_type": "code",
   "execution_count": 14,
   "metadata": {},
   "outputs": [
    {
     "data": {
      "text/plain": [
       "['part time jobs near me, work from home jobs, online data entry jobs, data entry jobs from home',\n",
       " 'data entry jobs, online jobs from home, part time jobs, online data entry jobs, work from home jobs',\n",
       " 'work from home jobs, data entry jobs, online data entry jobs, part time jobs, online jobs from home',\n",
       " 'work from home jobs, online data entry jobs, data entry job, home based jobs, typing, part time jobs']"
      ]
     },
     "execution_count": 14,
     "metadata": {},
     "output_type": "execute_result"
    }
   ],
   "source": [
    "for i in jobs2:\n",
    "    titles=i.text\n",
    "    page3.append(titles)\n",
    "page3[0:4]"
   ]
  },
  {
   "cell_type": "code",
   "execution_count": 15,
   "metadata": {},
   "outputs": [],
   "source": [
    "driver.get(\"https://www.monsterindia.com/srp/results?start=75&sort=1&limit=25&query=data%20scientist%20&locations=Delhi&searchId=c06b26fc-51f2-400f-9034-dcdf4e9a352c\")"
   ]
  },
  {
   "cell_type": "code",
   "execution_count": 16,
   "metadata": {},
   "outputs": [
    {
     "data": {
      "text/plain": [
       "[<selenium.webdriver.remote.webelement.WebElement (session=\"e086416a33e6afa008099200281b71ce\", element=\"ec73877d-a456-4426-b44f-61fc5f2a494f\")>,\n",
       " <selenium.webdriver.remote.webelement.WebElement (session=\"e086416a33e6afa008099200281b71ce\", element=\"dd97b15b-98bf-429e-a1a2-d88008164e5c\")>,\n",
       " <selenium.webdriver.remote.webelement.WebElement (session=\"e086416a33e6afa008099200281b71ce\", element=\"fd3e9af6-3a0e-4433-a430-79a5fc2ae170\")>,\n",
       " <selenium.webdriver.remote.webelement.WebElement (session=\"e086416a33e6afa008099200281b71ce\", element=\"b8b33bfe-0a04-4ccc-b3f7-d6eb9217395d\")>]"
      ]
     },
     "execution_count": 16,
     "metadata": {},
     "output_type": "execute_result"
    }
   ],
   "source": [
    "jobs3= driver.find_elements_by_xpath(\"//h3[@class='medium']\")\n",
    "jobs3[0:4]"
   ]
  },
  {
   "cell_type": "code",
   "execution_count": 17,
   "metadata": {},
   "outputs": [
    {
     "data": {
      "text/plain": [
       "['Online job, work from home, Data entry, work from home, online jobs, online data entry jobs',\n",
       " 'Part Time Job, Work From Home, Online Data Entry, Computer Operator, Back Office, Data Entry Jobs',\n",
       " 'Online job, work from home, Data entry, work from home, online jobs, online data entry jobs',\n",
       " 'Data Entry, Work From Home, Online Jobs, Part Time Jobs, Work From Home Jobs, Data Entry Jobs']"
      ]
     },
     "execution_count": 17,
     "metadata": {},
     "output_type": "execute_result"
    }
   ],
   "source": [
    "for i in jobs3:\n",
    "    titles=i.text\n",
    "    page4.append(titles)\n",
    "page4[0:4]"
   ]
  },
  {
   "cell_type": "code",
   "execution_count": 18,
   "metadata": {},
   "outputs": [
    {
     "data": {
      "text/plain": [
       "['Online job, work from home, Data entry, work from home, online jobs, online data entry jobs',\n",
       " 'Part Time Job, Work From Home, Online Data Entry, Computer Operator, Back Office, Data Entry Jobs',\n",
       " 'Online job, work from home, Data entry, work from home, online jobs, online data entry jobs',\n",
       " 'Data Entry, Work From Home, Online Jobs, Part Time Jobs, Work From Home Jobs, Data Entry Jobs',\n",
       " 'DATA QUALITY ANALYST',\n",
       " 'Work From Home, Data Entry, Online Jobs, Part Time Jobs, Work From Home Jobs, Data Entry Jobs',\n",
       " 'Work from home, data entry job vacancy available, online jobs, work from home jobs, data entry jobs',\n",
       " 'work from home jobs india, online data entry jobs for students, data entry jobs online from home',\n",
       " 'Data Entry, Work From Home Jobs, Online Jobs, Part Time Jobs, Work From Home Jobs, Data Entry Jobs',\n",
       " 'part time jobs for students, online data entry jobs, work from home jobs, data entry jobs from home',\n",
       " 'Work from home, online data entry jobs, data entry jobs, work from home jobs, online work from home',\n",
       " 'part time jobs near me, work from home jobs, online data entry jobs, data entry jobs from home',\n",
       " 'work from home job, online data entry job, work from home, part time job, data entry job, online job',\n",
       " 'part time jobs near me, work from home jobs, online data entry jobs, data entry jobs from home',\n",
       " 'part time jobs near me, work from home jobs, online data entry jobs, data entry jobs from home',\n",
       " 'online data entry jobs, work from home jobs, part time jobs work from home, data entry jobs online',\n",
       " 'online data entry job, work from home, online jobs from home, data entry jobs online, part time jobs',\n",
       " 'online jobs from home, data entry jobs from home, work from home job, part time jobs, data entry job',\n",
       " 'online jobs from home, data entry jobs from home, work from home job, part time jobs, data entry job',\n",
       " 'Work From Home Online Jobs Data Entry Part Time Jobs Work From Home Jobs Data Entry Jobs Typing Job',\n",
       " 'Online Data Entry / Form Filling / Computer Operator',\n",
       " 'online jobs from home, data entry jobs from home, work from home job, part time jobs, data entry job',\n",
       " 'Part Time work from Home Data Entry Operator and Typing Jobs',\n",
       " 'SAS Data Integration Developer / SAS Data Integration / Data warehouse System / SAS DI Developer',\n",
       " 'Urgent hiring for the airline jobs']"
      ]
     },
     "execution_count": 18,
     "metadata": {},
     "output_type": "execute_result"
    }
   ],
   "source": [
    "page4"
   ]
  },
  {
   "cell_type": "code",
   "execution_count": 19,
   "metadata": {},
   "outputs": [],
   "source": [
    "driver.get(\"https://www.monsterindia.com/srp/results?start=100&sort=1&limit=25&query=data%20scientist%20&locations=Delhi&searchId=c06b26fc-51f2-400f-9034-dcdf4e9a352c\")"
   ]
  },
  {
   "cell_type": "code",
   "execution_count": 20,
   "metadata": {},
   "outputs": [
    {
     "data": {
      "text/plain": [
       "[<selenium.webdriver.remote.webelement.WebElement (session=\"e086416a33e6afa008099200281b71ce\", element=\"e7104c23-dd8b-4842-87a8-599d81371d49\")>,\n",
       " <selenium.webdriver.remote.webelement.WebElement (session=\"e086416a33e6afa008099200281b71ce\", element=\"c59ba25c-1104-4027-8086-85cac9c73101\")>,\n",
       " <selenium.webdriver.remote.webelement.WebElement (session=\"e086416a33e6afa008099200281b71ce\", element=\"2613182d-1459-47a6-9aa7-70b2a12d2fd2\")>,\n",
       " <selenium.webdriver.remote.webelement.WebElement (session=\"e086416a33e6afa008099200281b71ce\", element=\"0f31531a-8c68-4f88-9f81-59cc0572108d\")>]"
      ]
     },
     "execution_count": 20,
     "metadata": {},
     "output_type": "execute_result"
    }
   ],
   "source": [
    "jobs4= driver.find_elements_by_xpath(\"//h3[@class='medium']\")\n",
    "jobs4[0:4]"
   ]
  },
  {
   "cell_type": "code",
   "execution_count": 21,
   "metadata": {},
   "outputs": [
    {
     "data": {
      "text/plain": [
       "['DATA ANALYST',\n",
       " 'Data administration Data Entry / home based job',\n",
       " 'Data Entry Operator',\n",
       " 'online data entry, work from home, data entry jobs, online jobs from home, online part time jobs']"
      ]
     },
     "execution_count": 21,
     "metadata": {},
     "output_type": "execute_result"
    }
   ],
   "source": [
    "for i in jobs4:\n",
    "    titles=i.text\n",
    "    page5.append(titles)\n",
    "page5[0:4]"
   ]
  },
  {
   "cell_type": "code",
   "execution_count": 22,
   "metadata": {},
   "outputs": [],
   "source": [
    "JobsList = pd.DataFrame({})\n",
    "JobsList['Page1']=page1\n",
    "JobsList['Page2']=page2\n",
    "JobsList['Page3']=page3\n",
    "JobsList['Page4']=page4\n",
    "JobsList['Page5']=page5"
   ]
  },
  {
   "cell_type": "code",
   "execution_count": 23,
   "metadata": {},
   "outputs": [
    {
     "data": {
      "text/html": [
       "<div>\n",
       "<style scoped>\n",
       "    .dataframe tbody tr th:only-of-type {\n",
       "        vertical-align: middle;\n",
       "    }\n",
       "\n",
       "    .dataframe tbody tr th {\n",
       "        vertical-align: top;\n",
       "    }\n",
       "\n",
       "    .dataframe thead th {\n",
       "        text-align: right;\n",
       "    }\n",
       "</style>\n",
       "<table border=\"1\" class=\"dataframe\">\n",
       "  <thead>\n",
       "    <tr style=\"text-align: right;\">\n",
       "      <th></th>\n",
       "      <th>Page1</th>\n",
       "      <th>Page2</th>\n",
       "      <th>Page3</th>\n",
       "      <th>Page4</th>\n",
       "      <th>Page5</th>\n",
       "    </tr>\n",
       "  </thead>\n",
       "  <tbody>\n",
       "    <tr>\n",
       "      <th>0</th>\n",
       "      <td>Data Engineer - AI</td>\n",
       "      <td>Online Data Entry Jobs, Work From Home jobs, D...</td>\n",
       "      <td>part time jobs near me, work from home jobs, o...</td>\n",
       "      <td>Online job, work from home, Data entry, work f...</td>\n",
       "      <td>DATA ANALYST</td>\n",
       "    </tr>\n",
       "    <tr>\n",
       "      <th>1</th>\n",
       "      <td>Data Engineer</td>\n",
       "      <td>Home Based Online Job, Online Data Entry Job, ...</td>\n",
       "      <td>data entry jobs, online jobs from home, part t...</td>\n",
       "      <td>Part Time Job, Work From Home, Online Data Ent...</td>\n",
       "      <td>Data administration Data Entry / home based job</td>\n",
       "    </tr>\n",
       "    <tr>\n",
       "      <th>2</th>\n",
       "      <td>Data Analyst – Fresher – Data Scientist – Grad...</td>\n",
       "      <td>Data entry jobs/work from home/online data ent...</td>\n",
       "      <td>work from home jobs, data entry jobs, online d...</td>\n",
       "      <td>Online job, work from home, Data entry, work f...</td>\n",
       "      <td>Data Entry Operator</td>\n",
       "    </tr>\n",
       "    <tr>\n",
       "      <th>3</th>\n",
       "      <td>Data Analyst / Fresher / Data Scientist / Grad...</td>\n",
       "      <td>Online Data Entry Jobs, Work From Home jobs, D...</td>\n",
       "      <td>work from home jobs, online data entry jobs, d...</td>\n",
       "      <td>Data Entry, Work From Home, Online Jobs, Part ...</td>\n",
       "      <td>online data entry, work from home, data entry ...</td>\n",
       "    </tr>\n",
       "    <tr>\n",
       "      <th>4</th>\n",
       "      <td>Data Analyst / Fresher / Data Scientist / Grad...</td>\n",
       "      <td>Home Based Online Job, Online Data Entry Job, ...</td>\n",
       "      <td>online data entry jobs, work from home jobs, d...</td>\n",
       "      <td>DATA QUALITY ANALYST</td>\n",
       "      <td>online data entry jobs, work from home jobs, p...</td>\n",
       "    </tr>\n",
       "    <tr>\n",
       "      <th>5</th>\n",
       "      <td>Data Analyst – Fresher – Data Scientist – Any ...</td>\n",
       "      <td>Data Entry Jobs, computer operator, data entry...</td>\n",
       "      <td>part time jobs near me, work from home jobs, o...</td>\n",
       "      <td>Work From Home, Data Entry, Online Jobs, Part ...</td>\n",
       "      <td>Reservation &amp; Ticketing Executive – Travel – O...</td>\n",
       "    </tr>\n",
       "    <tr>\n",
       "      <th>6</th>\n",
       "      <td>Data Analyst / Fresher / Data Scientist / Grad...</td>\n",
       "      <td>Data Analytics</td>\n",
       "      <td>part time jobs near me for freshers, work from...</td>\n",
       "      <td>Work from home, data entry job vacancy availab...</td>\n",
       "      <td>work from home jobs online, data entry jobs on...</td>\n",
       "    </tr>\n",
       "    <tr>\n",
       "      <th>7</th>\n",
       "      <td>Data Analyst / Fresher / Data Scientist / Grad...</td>\n",
       "      <td>data entry job vacancy available, work from ho...</td>\n",
       "      <td>online jobs from home part time, work from hom...</td>\n",
       "      <td>work from home jobs india, online data entry j...</td>\n",
       "      <td>work from home jobs for freshers, data entry j...</td>\n",
       "    </tr>\n",
       "    <tr>\n",
       "      <th>8</th>\n",
       "      <td>Data Analyst / Fresher / Data Scientist / Grad...</td>\n",
       "      <td>Online job, work from home, Data entry, work f...</td>\n",
       "      <td>work from home job, online data entry job, wor...</td>\n",
       "      <td>Data Entry, Work From Home Jobs, Online Jobs, ...</td>\n",
       "      <td>Typist &amp; Computer Operator</td>\n",
       "    </tr>\n",
       "    <tr>\n",
       "      <th>9</th>\n",
       "      <td>Data Analyst – Fresher – Data Scientist – Grad...</td>\n",
       "      <td>data entry job vacancy available, work from ho...</td>\n",
       "      <td>Online Data Entry Jobs, Work From Home jobs, D...</td>\n",
       "      <td>part time jobs for students, online data entry...</td>\n",
       "      <td>Data Analyst</td>\n",
       "    </tr>\n",
       "    <tr>\n",
       "      <th>10</th>\n",
       "      <td>Data Analyst – Fresher – Data Scientist – Grad...</td>\n",
       "      <td>Work From Home, Computer Operator, Data Entry,...</td>\n",
       "      <td>Home Based Online Job, Online Data Entry Job, ...</td>\n",
       "      <td>Work from home, online data entry jobs, data e...</td>\n",
       "      <td>work from home jobs for students, data entry j...</td>\n",
       "    </tr>\n",
       "    <tr>\n",
       "      <th>11</th>\n",
       "      <td>DATA ANALYST – FRESHER – DATA SCIENTIST – SAS ...</td>\n",
       "      <td>Computer Operator, Online Data Entry, Work Fro...</td>\n",
       "      <td>online data entry jobs, work from home jobs, p...</td>\n",
       "      <td>part time jobs near me, work from home jobs, o...</td>\n",
       "      <td>online home based job, work from home jobs, da...</td>\n",
       "    </tr>\n",
       "    <tr>\n",
       "      <th>12</th>\n",
       "      <td>Hindi Call center Hiring (Freshers can Apply)</td>\n",
       "      <td>Online job, work from home, Data entry, work f...</td>\n",
       "      <td>online jobs from home, data entry jobs from ho...</td>\n",
       "      <td>work from home job, online data entry job, wor...</td>\n",
       "      <td>Online Jobs Work From Home Jobs, Part Time Wor...</td>\n",
       "    </tr>\n",
       "    <tr>\n",
       "      <th>13</th>\n",
       "      <td>Part time/Full time Job Work from Home/Data En...</td>\n",
       "      <td>Part time jobs work from home/online data entr...</td>\n",
       "      <td>online jobs from home, data entry jobs from ho...</td>\n",
       "      <td>part time jobs near me, work from home jobs, o...</td>\n",
       "      <td>Online Jobs Work From Home Jobs, Part Time Wor...</td>\n",
       "    </tr>\n",
       "    <tr>\n",
       "      <th>14</th>\n",
       "      <td>Part Time Typing Work / Home Based Work / Free...</td>\n",
       "      <td>Work From Home Jobs, Data Entry, Online Data E...</td>\n",
       "      <td>Work From Home Data Entry Online Jobs Part Tim...</td>\n",
       "      <td>part time jobs near me, work from home jobs, o...</td>\n",
       "      <td>work from home jobs for students, data entry j...</td>\n",
       "    </tr>\n",
       "    <tr>\n",
       "      <th>15</th>\n",
       "      <td>8448833475 Part Time Full Time Data Typing Wor...</td>\n",
       "      <td>H1B Visa sponsorship Software Professionals Fo...</td>\n",
       "      <td>work from home job, online data entry job, wor...</td>\n",
       "      <td>online data entry jobs, work from home jobs, p...</td>\n",
       "      <td>Hindi Typist</td>\n",
       "    </tr>\n",
       "    <tr>\n",
       "      <th>16</th>\n",
       "      <td>Backend Executive(non Voice Process) Work from...</td>\n",
       "      <td>online data entry work from home, data entry, ...</td>\n",
       "      <td>Online data entry jobs/work at home jobs/ part...</td>\n",
       "      <td>online data entry job, work from home, online ...</td>\n",
       "      <td>Online Data Entry / Form Filling / Work From H...</td>\n",
       "    </tr>\n",
       "    <tr>\n",
       "      <th>17</th>\n",
       "      <td>Part time/Full time Job Work from Home/Data En...</td>\n",
       "      <td>Work from home, data entry, online jobs, part ...</td>\n",
       "      <td>Urgent Hiring for Back Office Executive | Data...</td>\n",
       "      <td>online jobs from home, data entry jobs from ho...</td>\n",
       "      <td>online home based job, work from home jobs, da...</td>\n",
       "    </tr>\n",
       "    <tr>\n",
       "      <th>18</th>\n",
       "      <td>Spend 2 To 3 hours a day and earn 1K-5K rupees...</td>\n",
       "      <td>Work from home, data entry job vacancy availab...</td>\n",
       "      <td>Work From Home / Fresher / Online Data Entry /...</td>\n",
       "      <td>online jobs from home, data entry jobs from ho...</td>\n",
       "      <td>Data Entry Part Time Work From Home Part Time ...</td>\n",
       "    </tr>\n",
       "    <tr>\n",
       "      <th>19</th>\n",
       "      <td>Online Data Entry / Form Filling / Computer Op...</td>\n",
       "      <td>online jobs, data entry jobs, work from home j...</td>\n",
       "      <td>Opening For Data Entry Operator</td>\n",
       "      <td>Work From Home Online Jobs Data Entry Part Tim...</td>\n",
       "      <td>Data Entry Home Based Part Time Or Full Time W...</td>\n",
       "    </tr>\n",
       "    <tr>\n",
       "      <th>20</th>\n",
       "      <td>online data entry work from home, data entry, ...</td>\n",
       "      <td>Home Based Online Job, Online Data Entry Job, ...</td>\n",
       "      <td>Data Analyst , Senior Data Analyst , Data Anal...</td>\n",
       "      <td>Online Data Entry / Form Filling / Computer Op...</td>\n",
       "      <td>part time jobs work from home, work from home ...</td>\n",
       "    </tr>\n",
       "    <tr>\n",
       "      <th>21</th>\n",
       "      <td>online data entry work from home, data entry, ...</td>\n",
       "      <td>work from home jobs india, online data entry j...</td>\n",
       "      <td>data entry job vacancy available, work from ho...</td>\n",
       "      <td>online jobs from home, data entry jobs from ho...</td>\n",
       "      <td>Urgent Hiring for Delhi Airport</td>\n",
       "    </tr>\n",
       "    <tr>\n",
       "      <th>22</th>\n",
       "      <td>Home Based Online Job, Online Data Entry Job, ...</td>\n",
       "      <td>online data entry jobs, work from home, freela...</td>\n",
       "      <td>data entry job vacancy available, work from ho...</td>\n",
       "      <td>Part Time work from Home Data Entry Operator a...</td>\n",
       "      <td>Data Entry Operator Computer Operator</td>\n",
       "    </tr>\n",
       "    <tr>\n",
       "      <th>23</th>\n",
       "      <td>Online Data Entry Jobs, Work From Home jobs, D...</td>\n",
       "      <td>Online Data Entry Jobs, Work From Home jobs, D...</td>\n",
       "      <td>Data entry jobs, work at home, online data ent...</td>\n",
       "      <td>SAS Data Integration Developer / SAS Data Inte...</td>\n",
       "      <td>Data Entry Operator job vacancies</td>\n",
       "    </tr>\n",
       "    <tr>\n",
       "      <th>24</th>\n",
       "      <td>Home Based Online Job, Online Data Entry Job, ...</td>\n",
       "      <td>Home Based Online Job, Online Data Entry Job, ...</td>\n",
       "      <td>Online job, work from home, Data entry, work f...</td>\n",
       "      <td>Urgent hiring for the airline jobs</td>\n",
       "      <td>Work from Home based Part time jobs for fresher</td>\n",
       "    </tr>\n",
       "  </tbody>\n",
       "</table>\n",
       "</div>"
      ],
      "text/plain": [
       "                                                Page1  \\\n",
       "0                                  Data Engineer - AI   \n",
       "1                                       Data Engineer   \n",
       "2   Data Analyst – Fresher – Data Scientist – Grad...   \n",
       "3   Data Analyst / Fresher / Data Scientist / Grad...   \n",
       "4   Data Analyst / Fresher / Data Scientist / Grad...   \n",
       "5   Data Analyst – Fresher – Data Scientist – Any ...   \n",
       "6   Data Analyst / Fresher / Data Scientist / Grad...   \n",
       "7   Data Analyst / Fresher / Data Scientist / Grad...   \n",
       "8   Data Analyst / Fresher / Data Scientist / Grad...   \n",
       "9   Data Analyst – Fresher – Data Scientist – Grad...   \n",
       "10  Data Analyst – Fresher – Data Scientist – Grad...   \n",
       "11  DATA ANALYST – FRESHER – DATA SCIENTIST – SAS ...   \n",
       "12      Hindi Call center Hiring (Freshers can Apply)   \n",
       "13  Part time/Full time Job Work from Home/Data En...   \n",
       "14  Part Time Typing Work / Home Based Work / Free...   \n",
       "15  8448833475 Part Time Full Time Data Typing Wor...   \n",
       "16  Backend Executive(non Voice Process) Work from...   \n",
       "17  Part time/Full time Job Work from Home/Data En...   \n",
       "18  Spend 2 To 3 hours a day and earn 1K-5K rupees...   \n",
       "19  Online Data Entry / Form Filling / Computer Op...   \n",
       "20  online data entry work from home, data entry, ...   \n",
       "21  online data entry work from home, data entry, ...   \n",
       "22  Home Based Online Job, Online Data Entry Job, ...   \n",
       "23  Online Data Entry Jobs, Work From Home jobs, D...   \n",
       "24  Home Based Online Job, Online Data Entry Job, ...   \n",
       "\n",
       "                                                Page2  \\\n",
       "0   Online Data Entry Jobs, Work From Home jobs, D...   \n",
       "1   Home Based Online Job, Online Data Entry Job, ...   \n",
       "2   Data entry jobs/work from home/online data ent...   \n",
       "3   Online Data Entry Jobs, Work From Home jobs, D...   \n",
       "4   Home Based Online Job, Online Data Entry Job, ...   \n",
       "5   Data Entry Jobs, computer operator, data entry...   \n",
       "6                                      Data Analytics   \n",
       "7   data entry job vacancy available, work from ho...   \n",
       "8   Online job, work from home, Data entry, work f...   \n",
       "9   data entry job vacancy available, work from ho...   \n",
       "10  Work From Home, Computer Operator, Data Entry,...   \n",
       "11  Computer Operator, Online Data Entry, Work Fro...   \n",
       "12  Online job, work from home, Data entry, work f...   \n",
       "13  Part time jobs work from home/online data entr...   \n",
       "14  Work From Home Jobs, Data Entry, Online Data E...   \n",
       "15  H1B Visa sponsorship Software Professionals Fo...   \n",
       "16  online data entry work from home, data entry, ...   \n",
       "17  Work from home, data entry, online jobs, part ...   \n",
       "18  Work from home, data entry job vacancy availab...   \n",
       "19  online jobs, data entry jobs, work from home j...   \n",
       "20  Home Based Online Job, Online Data Entry Job, ...   \n",
       "21  work from home jobs india, online data entry j...   \n",
       "22  online data entry jobs, work from home, freela...   \n",
       "23  Online Data Entry Jobs, Work From Home jobs, D...   \n",
       "24  Home Based Online Job, Online Data Entry Job, ...   \n",
       "\n",
       "                                                Page3  \\\n",
       "0   part time jobs near me, work from home jobs, o...   \n",
       "1   data entry jobs, online jobs from home, part t...   \n",
       "2   work from home jobs, data entry jobs, online d...   \n",
       "3   work from home jobs, online data entry jobs, d...   \n",
       "4   online data entry jobs, work from home jobs, d...   \n",
       "5   part time jobs near me, work from home jobs, o...   \n",
       "6   part time jobs near me for freshers, work from...   \n",
       "7   online jobs from home part time, work from hom...   \n",
       "8   work from home job, online data entry job, wor...   \n",
       "9   Online Data Entry Jobs, Work From Home jobs, D...   \n",
       "10  Home Based Online Job, Online Data Entry Job, ...   \n",
       "11  online data entry jobs, work from home jobs, p...   \n",
       "12  online jobs from home, data entry jobs from ho...   \n",
       "13  online jobs from home, data entry jobs from ho...   \n",
       "14  Work From Home Data Entry Online Jobs Part Tim...   \n",
       "15  work from home job, online data entry job, wor...   \n",
       "16  Online data entry jobs/work at home jobs/ part...   \n",
       "17  Urgent Hiring for Back Office Executive | Data...   \n",
       "18  Work From Home / Fresher / Online Data Entry /...   \n",
       "19                    Opening For Data Entry Operator   \n",
       "20  Data Analyst , Senior Data Analyst , Data Anal...   \n",
       "21  data entry job vacancy available, work from ho...   \n",
       "22  data entry job vacancy available, work from ho...   \n",
       "23  Data entry jobs, work at home, online data ent...   \n",
       "24  Online job, work from home, Data entry, work f...   \n",
       "\n",
       "                                                Page4  \\\n",
       "0   Online job, work from home, Data entry, work f...   \n",
       "1   Part Time Job, Work From Home, Online Data Ent...   \n",
       "2   Online job, work from home, Data entry, work f...   \n",
       "3   Data Entry, Work From Home, Online Jobs, Part ...   \n",
       "4                                DATA QUALITY ANALYST   \n",
       "5   Work From Home, Data Entry, Online Jobs, Part ...   \n",
       "6   Work from home, data entry job vacancy availab...   \n",
       "7   work from home jobs india, online data entry j...   \n",
       "8   Data Entry, Work From Home Jobs, Online Jobs, ...   \n",
       "9   part time jobs for students, online data entry...   \n",
       "10  Work from home, online data entry jobs, data e...   \n",
       "11  part time jobs near me, work from home jobs, o...   \n",
       "12  work from home job, online data entry job, wor...   \n",
       "13  part time jobs near me, work from home jobs, o...   \n",
       "14  part time jobs near me, work from home jobs, o...   \n",
       "15  online data entry jobs, work from home jobs, p...   \n",
       "16  online data entry job, work from home, online ...   \n",
       "17  online jobs from home, data entry jobs from ho...   \n",
       "18  online jobs from home, data entry jobs from ho...   \n",
       "19  Work From Home Online Jobs Data Entry Part Tim...   \n",
       "20  Online Data Entry / Form Filling / Computer Op...   \n",
       "21  online jobs from home, data entry jobs from ho...   \n",
       "22  Part Time work from Home Data Entry Operator a...   \n",
       "23  SAS Data Integration Developer / SAS Data Inte...   \n",
       "24                 Urgent hiring for the airline jobs   \n",
       "\n",
       "                                                Page5  \n",
       "0                                        DATA ANALYST  \n",
       "1     Data administration Data Entry / home based job  \n",
       "2                                 Data Entry Operator  \n",
       "3   online data entry, work from home, data entry ...  \n",
       "4   online data entry jobs, work from home jobs, p...  \n",
       "5   Reservation & Ticketing Executive – Travel – O...  \n",
       "6   work from home jobs online, data entry jobs on...  \n",
       "7   work from home jobs for freshers, data entry j...  \n",
       "8                          Typist & Computer Operator  \n",
       "9                                        Data Analyst  \n",
       "10  work from home jobs for students, data entry j...  \n",
       "11  online home based job, work from home jobs, da...  \n",
       "12  Online Jobs Work From Home Jobs, Part Time Wor...  \n",
       "13  Online Jobs Work From Home Jobs, Part Time Wor...  \n",
       "14  work from home jobs for students, data entry j...  \n",
       "15                                       Hindi Typist  \n",
       "16  Online Data Entry / Form Filling / Work From H...  \n",
       "17  online home based job, work from home jobs, da...  \n",
       "18  Data Entry Part Time Work From Home Part Time ...  \n",
       "19  Data Entry Home Based Part Time Or Full Time W...  \n",
       "20  part time jobs work from home, work from home ...  \n",
       "21                    Urgent Hiring for Delhi Airport  \n",
       "22              Data Entry Operator Computer Operator  \n",
       "23                  Data Entry Operator job vacancies  \n",
       "24    Work from Home based Part time jobs for fresher  "
      ]
     },
     "execution_count": 23,
     "metadata": {},
     "output_type": "execute_result"
    }
   ],
   "source": [
    "JobsList"
   ]
  },
  {
   "cell_type": "code",
   "execution_count": null,
   "metadata": {},
   "outputs": [],
   "source": []
  }
 ],
 "metadata": {
  "kernelspec": {
   "display_name": "Python 3",
   "language": "python",
   "name": "python3"
  },
  "language_info": {
   "codemirror_mode": {
    "name": "ipython",
    "version": 3
   },
   "file_extension": ".py",
   "mimetype": "text/x-python",
   "name": "python",
   "nbconvert_exporter": "python",
   "pygments_lexer": "ipython3",
   "version": "3.7.6"
  }
 },
 "nbformat": 4,
 "nbformat_minor": 4
}
