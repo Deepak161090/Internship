{
 "cells": [
  {
   "cell_type": "code",
   "execution_count": 1,
   "metadata": {},
   "outputs": [],
   "source": [
    "import requests\n",
    "from bs4 import BeautifulSoup\n",
    "from selenium import webdriver\n",
    "import pandas as pd"
   ]
  },
  {
   "cell_type": "code",
   "execution_count": 2,
   "metadata": {},
   "outputs": [],
   "source": [
    "driver = webdriver.Chrome(r\"C:\\chromedriver.exe\")"
   ]
  },
  {
   "cell_type": "markdown",
   "metadata": {},
   "source": [
    "# Top 10 ODI Batsmen"
   ]
  },
  {
   "cell_type": "code",
   "execution_count": 3,
   "metadata": {},
   "outputs": [],
   "source": [
    "driver.get(\"https://www.icc-cricket.com/rankings/womens/player-rankings/odi/batting\")"
   ]
  },
  {
   "cell_type": "code",
   "execution_count": 4,
   "metadata": {},
   "outputs": [],
   "source": [
    "Player=[]\n",
    "PlayerTeam=[]\n",
    "PlayerRating=[]\n",
    "p=[]\n",
    "t=[]\n",
    "k=[]\n",
    "p6=[]"
   ]
  },
  {
   "cell_type": "code",
   "execution_count": 5,
   "metadata": {},
   "outputs": [
    {
     "data": {
      "text/plain": [
       "[<selenium.webdriver.remote.webelement.WebElement (session=\"73adeebc4a16138a90915f19b82f8b18\", element=\"6a7eb6da-c65b-4387-ae0e-846104e821a4\")>]"
      ]
     },
     "execution_count": 5,
     "metadata": {},
     "output_type": "execute_result"
    }
   ],
   "source": [
    "player_list=driver.find_elements_by_xpath(\"//div[@class='rankings-block__banner--name-large']\")\n",
    "player_list"
   ]
  },
  {
   "cell_type": "code",
   "execution_count": 6,
   "metadata": {},
   "outputs": [
    {
     "data": {
      "text/plain": [
       "['Meg Lanning']"
      ]
     },
     "execution_count": 6,
     "metadata": {},
     "output_type": "execute_result"
    }
   ],
   "source": [
    "for i in player_list:\n",
    "    p1=i.text\n",
    "    p.append(p1)\n",
    "p"
   ]
  },
  {
   "cell_type": "code",
   "execution_count": 7,
   "metadata": {},
   "outputs": [
    {
     "data": {
      "text/plain": [
       "[<selenium.webdriver.remote.webelement.WebElement (session=\"73adeebc4a16138a90915f19b82f8b18\", element=\"b52b3316-1058-4b5d-907e-1bbf1c825f77\")>,\n",
       " <selenium.webdriver.remote.webelement.WebElement (session=\"73adeebc4a16138a90915f19b82f8b18\", element=\"8a13a88a-8b7f-49fe-96b3-ec4fbfe90607\")>,\n",
       " <selenium.webdriver.remote.webelement.WebElement (session=\"73adeebc4a16138a90915f19b82f8b18\", element=\"8a47e221-f328-4872-bdca-183c3072129d\")>,\n",
       " <selenium.webdriver.remote.webelement.WebElement (session=\"73adeebc4a16138a90915f19b82f8b18\", element=\"3aa3beed-a95a-4a94-b882-721a467973dc\")>,\n",
       " <selenium.webdriver.remote.webelement.WebElement (session=\"73adeebc4a16138a90915f19b82f8b18\", element=\"42d4ab9d-3dea-4d92-bc62-f4c59f8b94b4\")>,\n",
       " <selenium.webdriver.remote.webelement.WebElement (session=\"73adeebc4a16138a90915f19b82f8b18\", element=\"63014153-24f0-452f-bd76-6cb2718a52ef\")>,\n",
       " <selenium.webdriver.remote.webelement.WebElement (session=\"73adeebc4a16138a90915f19b82f8b18\", element=\"50cd7d0d-73ae-41b2-8d3c-89bd90a80e52\")>,\n",
       " <selenium.webdriver.remote.webelement.WebElement (session=\"73adeebc4a16138a90915f19b82f8b18\", element=\"f06b7355-2a00-4c6a-8a50-6120c66f48ca\")>,\n",
       " <selenium.webdriver.remote.webelement.WebElement (session=\"73adeebc4a16138a90915f19b82f8b18\", element=\"f76e5eec-d820-4fe1-8237-5e39bf5409c1\")>,\n",
       " <selenium.webdriver.remote.webelement.WebElement (session=\"73adeebc4a16138a90915f19b82f8b18\", element=\"49652679-b4a0-492b-a3c3-4388765584ab\")>,\n",
       " <selenium.webdriver.remote.webelement.WebElement (session=\"73adeebc4a16138a90915f19b82f8b18\", element=\"77ee6451-d79f-4ac9-8038-7cb599273cd4\")>,\n",
       " <selenium.webdriver.remote.webelement.WebElement (session=\"73adeebc4a16138a90915f19b82f8b18\", element=\"116ff943-e1e9-4354-81bd-bcadae9ef4eb\")>,\n",
       " <selenium.webdriver.remote.webelement.WebElement (session=\"73adeebc4a16138a90915f19b82f8b18\", element=\"6c1a2970-36fb-4f6d-8674-e360d10cae0e\")>,\n",
       " <selenium.webdriver.remote.webelement.WebElement (session=\"73adeebc4a16138a90915f19b82f8b18\", element=\"0339e777-4d33-4580-893c-6dcf575ade17\")>,\n",
       " <selenium.webdriver.remote.webelement.WebElement (session=\"73adeebc4a16138a90915f19b82f8b18\", element=\"0ecd9d9e-8460-42bd-9182-1404bfff1e67\")>,\n",
       " <selenium.webdriver.remote.webelement.WebElement (session=\"73adeebc4a16138a90915f19b82f8b18\", element=\"c24376f9-225d-4dba-b032-0127c1667ef1\")>,\n",
       " <selenium.webdriver.remote.webelement.WebElement (session=\"73adeebc4a16138a90915f19b82f8b18\", element=\"34f3ff6e-183b-485e-b1b9-f3a3a27930f2\")>,\n",
       " <selenium.webdriver.remote.webelement.WebElement (session=\"73adeebc4a16138a90915f19b82f8b18\", element=\"95ad377b-c7e7-4c47-a264-6de2c103ec58\")>,\n",
       " <selenium.webdriver.remote.webelement.WebElement (session=\"73adeebc4a16138a90915f19b82f8b18\", element=\"5fa83c20-6c6f-487b-a330-b0710c7db983\")>,\n",
       " <selenium.webdriver.remote.webelement.WebElement (session=\"73adeebc4a16138a90915f19b82f8b18\", element=\"b7046b48-95cb-44b1-8602-eedaf9c1e8dc\")>,\n",
       " <selenium.webdriver.remote.webelement.WebElement (session=\"73adeebc4a16138a90915f19b82f8b18\", element=\"f7b2b21c-29e7-4349-9727-77aa68ec10c5\")>,\n",
       " <selenium.webdriver.remote.webelement.WebElement (session=\"73adeebc4a16138a90915f19b82f8b18\", element=\"b6939a79-1386-46cd-9fac-4f6a01c68b12\")>,\n",
       " <selenium.webdriver.remote.webelement.WebElement (session=\"73adeebc4a16138a90915f19b82f8b18\", element=\"96af7810-9b99-4b84-91de-8d0fdd20deb9\")>,\n",
       " <selenium.webdriver.remote.webelement.WebElement (session=\"73adeebc4a16138a90915f19b82f8b18\", element=\"dd7a78b0-7e67-4a1b-97c3-1d8e56400019\")>,\n",
       " <selenium.webdriver.remote.webelement.WebElement (session=\"73adeebc4a16138a90915f19b82f8b18\", element=\"7057e58d-f2ab-446c-ad42-fe8155d4cd23\")>,\n",
       " <selenium.webdriver.remote.webelement.WebElement (session=\"73adeebc4a16138a90915f19b82f8b18\", element=\"45e675be-a440-4f20-b37d-7f747de66adc\")>,\n",
       " <selenium.webdriver.remote.webelement.WebElement (session=\"73adeebc4a16138a90915f19b82f8b18\", element=\"a764a11c-51ae-4041-b84f-e570b2bad1e4\")>,\n",
       " <selenium.webdriver.remote.webelement.WebElement (session=\"73adeebc4a16138a90915f19b82f8b18\", element=\"762ca6aa-0a22-44b7-82ef-ca77cefb3b54\")>,\n",
       " <selenium.webdriver.remote.webelement.WebElement (session=\"73adeebc4a16138a90915f19b82f8b18\", element=\"c8464386-9cac-4cf3-8520-f6a7ace79746\")>,\n",
       " <selenium.webdriver.remote.webelement.WebElement (session=\"73adeebc4a16138a90915f19b82f8b18\", element=\"55c75b23-e3fb-4938-b4c3-3689448b5f1f\")>,\n",
       " <selenium.webdriver.remote.webelement.WebElement (session=\"73adeebc4a16138a90915f19b82f8b18\", element=\"569df3d8-76b7-464b-b125-c4afe449c3df\")>,\n",
       " <selenium.webdriver.remote.webelement.WebElement (session=\"73adeebc4a16138a90915f19b82f8b18\", element=\"10dda11c-0f41-401e-af27-aa0ff85483a7\")>,\n",
       " <selenium.webdriver.remote.webelement.WebElement (session=\"73adeebc4a16138a90915f19b82f8b18\", element=\"6d42b93e-f6a6-4f20-96bb-525bec249249\")>,\n",
       " <selenium.webdriver.remote.webelement.WebElement (session=\"73adeebc4a16138a90915f19b82f8b18\", element=\"cdc3bfd8-78a3-4ad2-a6f4-6b2cd167e665\")>,\n",
       " <selenium.webdriver.remote.webelement.WebElement (session=\"73adeebc4a16138a90915f19b82f8b18\", element=\"33951c85-40e6-465b-865e-35b06a23d0c1\")>,\n",
       " <selenium.webdriver.remote.webelement.WebElement (session=\"73adeebc4a16138a90915f19b82f8b18\", element=\"c0f4593d-e78f-46db-8e26-d2e4a36643b4\")>,\n",
       " <selenium.webdriver.remote.webelement.WebElement (session=\"73adeebc4a16138a90915f19b82f8b18\", element=\"5bb8a5ff-a17c-4d6f-ad70-892e7f7bc9d1\")>,\n",
       " <selenium.webdriver.remote.webelement.WebElement (session=\"73adeebc4a16138a90915f19b82f8b18\", element=\"2625c84d-ee45-4611-95f6-eb3515fef4db\")>,\n",
       " <selenium.webdriver.remote.webelement.WebElement (session=\"73adeebc4a16138a90915f19b82f8b18\", element=\"54126eed-bb8a-4ba2-895f-aca221313e1e\")>,\n",
       " <selenium.webdriver.remote.webelement.WebElement (session=\"73adeebc4a16138a90915f19b82f8b18\", element=\"62b3f8ec-e61d-4d38-ad17-feef15614d12\")>,\n",
       " <selenium.webdriver.remote.webelement.WebElement (session=\"73adeebc4a16138a90915f19b82f8b18\", element=\"933e1b46-900a-438b-b549-e3448ad880d5\")>,\n",
       " <selenium.webdriver.remote.webelement.WebElement (session=\"73adeebc4a16138a90915f19b82f8b18\", element=\"01353989-7213-4ee7-892f-35b3604d80e9\")>,\n",
       " <selenium.webdriver.remote.webelement.WebElement (session=\"73adeebc4a16138a90915f19b82f8b18\", element=\"83205308-4c01-4c03-8648-80746c017b85\")>,\n",
       " <selenium.webdriver.remote.webelement.WebElement (session=\"73adeebc4a16138a90915f19b82f8b18\", element=\"5e734722-4c3c-4c4b-b3a1-c34f03a1b6bd\")>,\n",
       " <selenium.webdriver.remote.webelement.WebElement (session=\"73adeebc4a16138a90915f19b82f8b18\", element=\"968ee6ce-d89c-40ed-a437-cfadac7b0a3c\")>,\n",
       " <selenium.webdriver.remote.webelement.WebElement (session=\"73adeebc4a16138a90915f19b82f8b18\", element=\"51208fa9-1b9a-4a66-bac4-630d6be67d9e\")>,\n",
       " <selenium.webdriver.remote.webelement.WebElement (session=\"73adeebc4a16138a90915f19b82f8b18\", element=\"7a15e799-cfb5-47ce-a257-925279b1c4da\")>,\n",
       " <selenium.webdriver.remote.webelement.WebElement (session=\"73adeebc4a16138a90915f19b82f8b18\", element=\"8a2ada25-2277-46e0-93a0-4a02f301a18a\")>,\n",
       " <selenium.webdriver.remote.webelement.WebElement (session=\"73adeebc4a16138a90915f19b82f8b18\", element=\"a75203de-fda4-4a4f-8b16-505cdfaec52b\")>,\n",
       " <selenium.webdriver.remote.webelement.WebElement (session=\"73adeebc4a16138a90915f19b82f8b18\", element=\"09d232e1-7402-404e-b058-cc4709a9a447\")>,\n",
       " <selenium.webdriver.remote.webelement.WebElement (session=\"73adeebc4a16138a90915f19b82f8b18\", element=\"feb34dce-e142-4c95-a502-6ab4e38a1329\")>,\n",
       " <selenium.webdriver.remote.webelement.WebElement (session=\"73adeebc4a16138a90915f19b82f8b18\", element=\"4a09cb67-db5c-4122-a764-a1fbad89673d\")>,\n",
       " <selenium.webdriver.remote.webelement.WebElement (session=\"73adeebc4a16138a90915f19b82f8b18\", element=\"c76e55dd-0cae-4352-9e76-561e8c4d3ac5\")>,\n",
       " <selenium.webdriver.remote.webelement.WebElement (session=\"73adeebc4a16138a90915f19b82f8b18\", element=\"9e7fbb2a-36ba-4b59-a68f-7536b2a1925b\")>,\n",
       " <selenium.webdriver.remote.webelement.WebElement (session=\"73adeebc4a16138a90915f19b82f8b18\", element=\"86118599-36ec-4cfd-a5dc-f1d47aa0b031\")>,\n",
       " <selenium.webdriver.remote.webelement.WebElement (session=\"73adeebc4a16138a90915f19b82f8b18\", element=\"b8242021-1b8d-40cd-a848-46b0fff65075\")>,\n",
       " <selenium.webdriver.remote.webelement.WebElement (session=\"73adeebc4a16138a90915f19b82f8b18\", element=\"f663d82f-8e8d-4824-ba78-a7604b7547f3\")>,\n",
       " <selenium.webdriver.remote.webelement.WebElement (session=\"73adeebc4a16138a90915f19b82f8b18\", element=\"3738a7e9-3605-4653-93ab-c4998689eb67\")>,\n",
       " <selenium.webdriver.remote.webelement.WebElement (session=\"73adeebc4a16138a90915f19b82f8b18\", element=\"323531a7-32b9-4832-9496-af67aac14cf4\")>,\n",
       " <selenium.webdriver.remote.webelement.WebElement (session=\"73adeebc4a16138a90915f19b82f8b18\", element=\"0465d202-def4-4e4f-aac3-98b7147bbc18\")>,\n",
       " <selenium.webdriver.remote.webelement.WebElement (session=\"73adeebc4a16138a90915f19b82f8b18\", element=\"4428c300-beac-480f-90a5-28640e80f452\")>,\n",
       " <selenium.webdriver.remote.webelement.WebElement (session=\"73adeebc4a16138a90915f19b82f8b18\", element=\"4f8c1b20-5137-4076-852d-3e9e0e086876\")>,\n",
       " <selenium.webdriver.remote.webelement.WebElement (session=\"73adeebc4a16138a90915f19b82f8b18\", element=\"e1d86619-f9de-4900-80b1-3a5b80094b78\")>,\n",
       " <selenium.webdriver.remote.webelement.WebElement (session=\"73adeebc4a16138a90915f19b82f8b18\", element=\"64a94aa8-410d-4441-a6ac-5863689851ed\")>,\n",
       " <selenium.webdriver.remote.webelement.WebElement (session=\"73adeebc4a16138a90915f19b82f8b18\", element=\"2189190c-07a6-4f2e-b309-d3d47c6c4a96\")>,\n",
       " <selenium.webdriver.remote.webelement.WebElement (session=\"73adeebc4a16138a90915f19b82f8b18\", element=\"1101edaa-7b7d-4771-bd2a-74903e92a0cb\")>,\n",
       " <selenium.webdriver.remote.webelement.WebElement (session=\"73adeebc4a16138a90915f19b82f8b18\", element=\"beaec42d-fac0-4e8a-8b59-eae0df1571c8\")>,\n",
       " <selenium.webdriver.remote.webelement.WebElement (session=\"73adeebc4a16138a90915f19b82f8b18\", element=\"b60d04c1-c597-4ce2-a93a-b08e6dbe7ccf\")>,\n",
       " <selenium.webdriver.remote.webelement.WebElement (session=\"73adeebc4a16138a90915f19b82f8b18\", element=\"69865306-4291-4473-a734-23753597869e\")>,\n",
       " <selenium.webdriver.remote.webelement.WebElement (session=\"73adeebc4a16138a90915f19b82f8b18\", element=\"a93150c8-317d-46da-bf4c-81ce153c0918\")>,\n",
       " <selenium.webdriver.remote.webelement.WebElement (session=\"73adeebc4a16138a90915f19b82f8b18\", element=\"1dbe051c-f60e-4b03-a782-c58f8b5bd5aa\")>,\n",
       " <selenium.webdriver.remote.webelement.WebElement (session=\"73adeebc4a16138a90915f19b82f8b18\", element=\"b3e7b72e-5c02-4009-9d6c-585f2e1c39ae\")>,\n",
       " <selenium.webdriver.remote.webelement.WebElement (session=\"73adeebc4a16138a90915f19b82f8b18\", element=\"97b9a4e6-7bff-49c3-96e5-7622f170d758\")>,\n",
       " <selenium.webdriver.remote.webelement.WebElement (session=\"73adeebc4a16138a90915f19b82f8b18\", element=\"3cf8c24b-7708-49bf-b4b8-dbe4e7a77b11\")>,\n",
       " <selenium.webdriver.remote.webelement.WebElement (session=\"73adeebc4a16138a90915f19b82f8b18\", element=\"b7601595-1391-4c71-b632-a92df9bc00bf\")>,\n",
       " <selenium.webdriver.remote.webelement.WebElement (session=\"73adeebc4a16138a90915f19b82f8b18\", element=\"bdb27103-ba64-4449-a238-aaac1c3a9a35\")>,\n",
       " <selenium.webdriver.remote.webelement.WebElement (session=\"73adeebc4a16138a90915f19b82f8b18\", element=\"b1365a4a-5466-487f-992b-e228650f78af\")>,\n",
       " <selenium.webdriver.remote.webelement.WebElement (session=\"73adeebc4a16138a90915f19b82f8b18\", element=\"ebeff04a-6f40-4a9e-a799-fb613bf61d66\")>,\n",
       " <selenium.webdriver.remote.webelement.WebElement (session=\"73adeebc4a16138a90915f19b82f8b18\", element=\"1b858069-cead-49fd-b71f-4fe91c833282\")>,\n",
       " <selenium.webdriver.remote.webelement.WebElement (session=\"73adeebc4a16138a90915f19b82f8b18\", element=\"eda3eb9e-e9c0-4efd-b217-05efe1f2893c\")>,\n",
       " <selenium.webdriver.remote.webelement.WebElement (session=\"73adeebc4a16138a90915f19b82f8b18\", element=\"5da86f18-7c48-484c-9fe1-9068252db352\")>,\n",
       " <selenium.webdriver.remote.webelement.WebElement (session=\"73adeebc4a16138a90915f19b82f8b18\", element=\"310e56ad-8d65-44d4-bf9e-bc997a3962a9\")>,\n",
       " <selenium.webdriver.remote.webelement.WebElement (session=\"73adeebc4a16138a90915f19b82f8b18\", element=\"5ba62f3c-ebd1-4787-90cf-dfd31e61051a\")>,\n",
       " <selenium.webdriver.remote.webelement.WebElement (session=\"73adeebc4a16138a90915f19b82f8b18\", element=\"2286e3c7-21ca-4549-b5c8-f2787b50ba09\")>,\n",
       " <selenium.webdriver.remote.webelement.WebElement (session=\"73adeebc4a16138a90915f19b82f8b18\", element=\"13b47ef0-ae53-40d3-8681-5f700d73e4c4\")>,\n",
       " <selenium.webdriver.remote.webelement.WebElement (session=\"73adeebc4a16138a90915f19b82f8b18\", element=\"da457108-32b5-4728-9153-050146e6f8eb\")>,\n",
       " <selenium.webdriver.remote.webelement.WebElement (session=\"73adeebc4a16138a90915f19b82f8b18\", element=\"b3f94d81-7d71-482a-85ba-c98c67131b9f\")>,\n",
       " <selenium.webdriver.remote.webelement.WebElement (session=\"73adeebc4a16138a90915f19b82f8b18\", element=\"e46f73c3-df5b-47bb-a4c7-a248bb733950\")>,\n",
       " <selenium.webdriver.remote.webelement.WebElement (session=\"73adeebc4a16138a90915f19b82f8b18\", element=\"c0a2f7fe-2770-4f1a-ba96-11138550e47d\")>,\n",
       " <selenium.webdriver.remote.webelement.WebElement (session=\"73adeebc4a16138a90915f19b82f8b18\", element=\"22b8ea83-1092-485c-9c0e-d63dbb76c1af\")>,\n",
       " <selenium.webdriver.remote.webelement.WebElement (session=\"73adeebc4a16138a90915f19b82f8b18\", element=\"d6061128-12ff-4a0b-a7c8-76de0aa65cc9\")>,\n",
       " <selenium.webdriver.remote.webelement.WebElement (session=\"73adeebc4a16138a90915f19b82f8b18\", element=\"7a0d792b-9f25-4011-8751-e7271393bfcd\")>,\n",
       " <selenium.webdriver.remote.webelement.WebElement (session=\"73adeebc4a16138a90915f19b82f8b18\", element=\"c347fc27-421b-4558-be11-dc8857a28d2b\")>,\n",
       " <selenium.webdriver.remote.webelement.WebElement (session=\"73adeebc4a16138a90915f19b82f8b18\", element=\"b778d346-101c-441f-954f-a3889b0ae76b\")>,\n",
       " <selenium.webdriver.remote.webelement.WebElement (session=\"73adeebc4a16138a90915f19b82f8b18\", element=\"27f594e1-474f-4781-a9fa-deafda176156\")>,\n",
       " <selenium.webdriver.remote.webelement.WebElement (session=\"73adeebc4a16138a90915f19b82f8b18\", element=\"339d6337-417c-4092-8a35-a97ca250c841\")>,\n",
       " <selenium.webdriver.remote.webelement.WebElement (session=\"73adeebc4a16138a90915f19b82f8b18\", element=\"2a6b4697-8252-45d2-912f-fd54aa3d540b\")>,\n",
       " <selenium.webdriver.remote.webelement.WebElement (session=\"73adeebc4a16138a90915f19b82f8b18\", element=\"cd067c2c-e7f0-4398-b320-19eeaa042a2c\")>,\n",
       " <selenium.webdriver.remote.webelement.WebElement (session=\"73adeebc4a16138a90915f19b82f8b18\", element=\"768f9833-cb22-4238-a9c2-ee0e55474432\")>]"
      ]
     },
     "execution_count": 7,
     "metadata": {},
     "output_type": "execute_result"
    }
   ],
   "source": [
    "player_list2=driver.find_elements_by_xpath(\"//td[@class='table-body__cell rankings-table__name name']\")\n",
    "player_list2"
   ]
  },
  {
   "cell_type": "code",
   "execution_count": 8,
   "metadata": {},
   "outputs": [
    {
     "data": {
      "text/plain": [
       "['Stafanie Taylor',\n",
       " 'Alyssa Healy',\n",
       " 'Smriti Mandhana',\n",
       " 'Amy Satterthwaite',\n",
       " 'Tammy Beaumont',\n",
       " 'Ellyse Perry']"
      ]
     },
     "execution_count": 8,
     "metadata": {},
     "output_type": "execute_result"
    }
   ],
   "source": [
    "for i in player_list2:\n",
    "    p2=i.text\n",
    "    p6.append(p2)\n",
    "p6[:6]"
   ]
  },
  {
   "cell_type": "code",
   "execution_count": 9,
   "metadata": {},
   "outputs": [
    {
     "data": {
      "text/plain": [
       "['Meg Lanning',\n",
       " 'Stafanie Taylor',\n",
       " 'Alyssa Healy',\n",
       " 'Smriti Mandhana',\n",
       " 'Amy Satterthwaite',\n",
       " 'Tammy Beaumont',\n",
       " 'Ellyse Perry',\n",
       " 'Lizelle Lee',\n",
       " 'Laura Wolvaardt']"
      ]
     },
     "execution_count": 9,
     "metadata": {},
     "output_type": "execute_result"
    }
   ],
   "source": [
    "players= p+p6\n",
    "players[:9]"
   ]
  },
  {
   "cell_type": "code",
   "execution_count": 10,
   "metadata": {},
   "outputs": [],
   "source": [
    "team_list=driver.find_elements_by_xpath(\"//div[@class='rankings-block__banner--nationality']\")"
   ]
  },
  {
   "cell_type": "code",
   "execution_count": 11,
   "metadata": {},
   "outputs": [
    {
     "data": {
      "text/plain": [
       "['AUS']"
      ]
     },
     "execution_count": 11,
     "metadata": {},
     "output_type": "execute_result"
    }
   ],
   "source": [
    "for i in team_list:\n",
    "    d=i.text\n",
    "    PlayerTeam.append(d)\n",
    "PlayerTeam"
   ]
  },
  {
   "cell_type": "code",
   "execution_count": 12,
   "metadata": {},
   "outputs": [
    {
     "data": {
      "text/plain": [
       "[<selenium.webdriver.remote.webelement.WebElement (session=\"73adeebc4a16138a90915f19b82f8b18\", element=\"198a38f9-4962-4e15-b66a-86a990c2bd53\")>,\n",
       " <selenium.webdriver.remote.webelement.WebElement (session=\"73adeebc4a16138a90915f19b82f8b18\", element=\"00b96125-37f0-4637-bda7-b5a6ddd02bcb\")>,\n",
       " <selenium.webdriver.remote.webelement.WebElement (session=\"73adeebc4a16138a90915f19b82f8b18\", element=\"effd1f08-8e18-43d7-9872-145159cf4177\")>,\n",
       " <selenium.webdriver.remote.webelement.WebElement (session=\"73adeebc4a16138a90915f19b82f8b18\", element=\"40ebaf45-4ba3-4930-9e92-89ee57975d40\")>,\n",
       " <selenium.webdriver.remote.webelement.WebElement (session=\"73adeebc4a16138a90915f19b82f8b18\", element=\"b07aeb6c-b00d-44f8-a8d2-098c25a05c92\")>,\n",
       " <selenium.webdriver.remote.webelement.WebElement (session=\"73adeebc4a16138a90915f19b82f8b18\", element=\"c0a8763a-dd6f-41f1-bf6a-76559a280921\")>,\n",
       " <selenium.webdriver.remote.webelement.WebElement (session=\"73adeebc4a16138a90915f19b82f8b18\", element=\"ffbe8fe8-8d57-4a95-a7ab-070286e0eff3\")>,\n",
       " <selenium.webdriver.remote.webelement.WebElement (session=\"73adeebc4a16138a90915f19b82f8b18\", element=\"a69d7767-d2cf-4197-93fe-b8031899461c\")>,\n",
       " <selenium.webdriver.remote.webelement.WebElement (session=\"73adeebc4a16138a90915f19b82f8b18\", element=\"46cf8bd5-9c5e-4aec-9fb2-e67ef8040788\")>,\n",
       " <selenium.webdriver.remote.webelement.WebElement (session=\"73adeebc4a16138a90915f19b82f8b18\", element=\"ab48c98f-3dcc-4d15-9182-84d212a74e35\")>,\n",
       " <selenium.webdriver.remote.webelement.WebElement (session=\"73adeebc4a16138a90915f19b82f8b18\", element=\"662ac77c-8a4b-4ee8-930f-9fbd0f79d018\")>,\n",
       " <selenium.webdriver.remote.webelement.WebElement (session=\"73adeebc4a16138a90915f19b82f8b18\", element=\"d431a7c3-a5a2-4cec-bbea-f48b90c2cbf8\")>,\n",
       " <selenium.webdriver.remote.webelement.WebElement (session=\"73adeebc4a16138a90915f19b82f8b18\", element=\"f02546af-bdeb-4bca-8a55-b29a4e922de8\")>,\n",
       " <selenium.webdriver.remote.webelement.WebElement (session=\"73adeebc4a16138a90915f19b82f8b18\", element=\"299f35a8-6c69-47c8-aa63-7e887af1f5bd\")>,\n",
       " <selenium.webdriver.remote.webelement.WebElement (session=\"73adeebc4a16138a90915f19b82f8b18\", element=\"0789e001-ada3-46ae-81d3-55fd4231c7d5\")>,\n",
       " <selenium.webdriver.remote.webelement.WebElement (session=\"73adeebc4a16138a90915f19b82f8b18\", element=\"ed5c732f-9955-4d52-a76a-ec078f9fd34d\")>,\n",
       " <selenium.webdriver.remote.webelement.WebElement (session=\"73adeebc4a16138a90915f19b82f8b18\", element=\"91dc6461-e5e1-4d13-a550-20864ac2fb03\")>,\n",
       " <selenium.webdriver.remote.webelement.WebElement (session=\"73adeebc4a16138a90915f19b82f8b18\", element=\"18106031-7545-498f-ae6e-2051a3c4784c\")>,\n",
       " <selenium.webdriver.remote.webelement.WebElement (session=\"73adeebc4a16138a90915f19b82f8b18\", element=\"c1d4f196-7e28-4aff-becd-34bda084db87\")>,\n",
       " <selenium.webdriver.remote.webelement.WebElement (session=\"73adeebc4a16138a90915f19b82f8b18\", element=\"36177bf7-2fad-4ec8-a253-a6c067cb0956\")>,\n",
       " <selenium.webdriver.remote.webelement.WebElement (session=\"73adeebc4a16138a90915f19b82f8b18\", element=\"1af23752-0891-4d94-9d32-b90cb6b1faac\")>,\n",
       " <selenium.webdriver.remote.webelement.WebElement (session=\"73adeebc4a16138a90915f19b82f8b18\", element=\"2eddebf7-3a8d-4195-a6d6-d7f2ceca07eb\")>,\n",
       " <selenium.webdriver.remote.webelement.WebElement (session=\"73adeebc4a16138a90915f19b82f8b18\", element=\"3f7c9ac7-2618-47a9-a419-60d5e0b33761\")>,\n",
       " <selenium.webdriver.remote.webelement.WebElement (session=\"73adeebc4a16138a90915f19b82f8b18\", element=\"a5f5ad71-6094-405e-bff9-90b65ebeab12\")>,\n",
       " <selenium.webdriver.remote.webelement.WebElement (session=\"73adeebc4a16138a90915f19b82f8b18\", element=\"928d2214-7576-426f-a8c8-273190190a2c\")>,\n",
       " <selenium.webdriver.remote.webelement.WebElement (session=\"73adeebc4a16138a90915f19b82f8b18\", element=\"cedf1bb4-cd1b-4c6d-b529-72245ad609bd\")>,\n",
       " <selenium.webdriver.remote.webelement.WebElement (session=\"73adeebc4a16138a90915f19b82f8b18\", element=\"f3ff0d47-57e0-449b-ac2c-6eb8e783b7d9\")>,\n",
       " <selenium.webdriver.remote.webelement.WebElement (session=\"73adeebc4a16138a90915f19b82f8b18\", element=\"b0c35284-2608-4eae-9de5-955d6c694057\")>,\n",
       " <selenium.webdriver.remote.webelement.WebElement (session=\"73adeebc4a16138a90915f19b82f8b18\", element=\"1c2e3c0a-5980-472c-aec6-ad43e89b6a1b\")>,\n",
       " <selenium.webdriver.remote.webelement.WebElement (session=\"73adeebc4a16138a90915f19b82f8b18\", element=\"09867dd5-42c7-4921-bfb5-f3c666294fce\")>,\n",
       " <selenium.webdriver.remote.webelement.WebElement (session=\"73adeebc4a16138a90915f19b82f8b18\", element=\"3b40599d-7f43-43d0-894b-f6c0f6f4dc17\")>,\n",
       " <selenium.webdriver.remote.webelement.WebElement (session=\"73adeebc4a16138a90915f19b82f8b18\", element=\"0e8e381d-08f0-44b7-938d-02f30203b09e\")>,\n",
       " <selenium.webdriver.remote.webelement.WebElement (session=\"73adeebc4a16138a90915f19b82f8b18\", element=\"9e819c79-e208-4aa2-b4f4-972a7ebbc09d\")>,\n",
       " <selenium.webdriver.remote.webelement.WebElement (session=\"73adeebc4a16138a90915f19b82f8b18\", element=\"c83b226c-9c31-4e26-bcdf-c9d8eeab1b01\")>,\n",
       " <selenium.webdriver.remote.webelement.WebElement (session=\"73adeebc4a16138a90915f19b82f8b18\", element=\"964b9ad1-c2a0-48b4-abe4-d65e88487ab1\")>,\n",
       " <selenium.webdriver.remote.webelement.WebElement (session=\"73adeebc4a16138a90915f19b82f8b18\", element=\"2d1495db-1829-458e-9f33-ea6fd165e96a\")>,\n",
       " <selenium.webdriver.remote.webelement.WebElement (session=\"73adeebc4a16138a90915f19b82f8b18\", element=\"893dfec7-8c59-40cf-91f7-fdcbc007bb66\")>,\n",
       " <selenium.webdriver.remote.webelement.WebElement (session=\"73adeebc4a16138a90915f19b82f8b18\", element=\"d08321fc-b582-4c36-88e8-03143a70d711\")>,\n",
       " <selenium.webdriver.remote.webelement.WebElement (session=\"73adeebc4a16138a90915f19b82f8b18\", element=\"e17a3b39-43c9-4cd1-ad5f-32f6e31c815b\")>,\n",
       " <selenium.webdriver.remote.webelement.WebElement (session=\"73adeebc4a16138a90915f19b82f8b18\", element=\"d4ee4515-9aec-4f29-9d25-b39c7e843b2e\")>,\n",
       " <selenium.webdriver.remote.webelement.WebElement (session=\"73adeebc4a16138a90915f19b82f8b18\", element=\"888a441d-ca3f-42c6-bb5d-a04113ce8f79\")>,\n",
       " <selenium.webdriver.remote.webelement.WebElement (session=\"73adeebc4a16138a90915f19b82f8b18\", element=\"b511c8cc-0556-4708-a576-9223d177203f\")>,\n",
       " <selenium.webdriver.remote.webelement.WebElement (session=\"73adeebc4a16138a90915f19b82f8b18\", element=\"2b4ee09a-6324-4138-92d5-cff4d0c6abae\")>,\n",
       " <selenium.webdriver.remote.webelement.WebElement (session=\"73adeebc4a16138a90915f19b82f8b18\", element=\"aec39e88-8a1d-4457-b514-42c208bc50cd\")>,\n",
       " <selenium.webdriver.remote.webelement.WebElement (session=\"73adeebc4a16138a90915f19b82f8b18\", element=\"523bba39-3dc5-4e09-b640-531b50534f8f\")>,\n",
       " <selenium.webdriver.remote.webelement.WebElement (session=\"73adeebc4a16138a90915f19b82f8b18\", element=\"9ff65797-8d4e-4204-b82b-9e3bdbdf72a9\")>,\n",
       " <selenium.webdriver.remote.webelement.WebElement (session=\"73adeebc4a16138a90915f19b82f8b18\", element=\"4a81f486-05a2-4953-a104-405032fd1eb5\")>,\n",
       " <selenium.webdriver.remote.webelement.WebElement (session=\"73adeebc4a16138a90915f19b82f8b18\", element=\"a168f0ed-ee6f-4ea7-81f5-e54bb905b693\")>,\n",
       " <selenium.webdriver.remote.webelement.WebElement (session=\"73adeebc4a16138a90915f19b82f8b18\", element=\"4751a20c-a289-42d0-ac4a-d67c8d6397e5\")>,\n",
       " <selenium.webdriver.remote.webelement.WebElement (session=\"73adeebc4a16138a90915f19b82f8b18\", element=\"0ba3d654-6a61-4e21-a9e0-eeb599d99eed\")>,\n",
       " <selenium.webdriver.remote.webelement.WebElement (session=\"73adeebc4a16138a90915f19b82f8b18\", element=\"6b07c833-f774-4fdc-9b9a-45260d89e0d1\")>,\n",
       " <selenium.webdriver.remote.webelement.WebElement (session=\"73adeebc4a16138a90915f19b82f8b18\", element=\"539641be-235f-47b4-834d-ad58e785fb3f\")>,\n",
       " <selenium.webdriver.remote.webelement.WebElement (session=\"73adeebc4a16138a90915f19b82f8b18\", element=\"4be911f3-b4a3-404a-b91e-cd6ea205b8ed\")>,\n",
       " <selenium.webdriver.remote.webelement.WebElement (session=\"73adeebc4a16138a90915f19b82f8b18\", element=\"149ffd72-785a-47fd-a38a-1d72115f978b\")>,\n",
       " <selenium.webdriver.remote.webelement.WebElement (session=\"73adeebc4a16138a90915f19b82f8b18\", element=\"5cba2d96-59da-40a3-8399-4122b8113f56\")>,\n",
       " <selenium.webdriver.remote.webelement.WebElement (session=\"73adeebc4a16138a90915f19b82f8b18\", element=\"f2d050f9-0008-4198-b1e3-11d277545297\")>,\n",
       " <selenium.webdriver.remote.webelement.WebElement (session=\"73adeebc4a16138a90915f19b82f8b18\", element=\"37bd527f-42eb-4a24-a505-338a1a0afd69\")>,\n",
       " <selenium.webdriver.remote.webelement.WebElement (session=\"73adeebc4a16138a90915f19b82f8b18\", element=\"3e7f125a-3002-4c7b-9ff2-0631abee419f\")>,\n",
       " <selenium.webdriver.remote.webelement.WebElement (session=\"73adeebc4a16138a90915f19b82f8b18\", element=\"2da4e3f7-fad0-445b-a9b3-434795953181\")>,\n",
       " <selenium.webdriver.remote.webelement.WebElement (session=\"73adeebc4a16138a90915f19b82f8b18\", element=\"51d911b3-685a-4ca1-887c-3b4fcacccad8\")>,\n",
       " <selenium.webdriver.remote.webelement.WebElement (session=\"73adeebc4a16138a90915f19b82f8b18\", element=\"9fdbd6fb-e4a0-491b-8840-69f469724ef7\")>,\n",
       " <selenium.webdriver.remote.webelement.WebElement (session=\"73adeebc4a16138a90915f19b82f8b18\", element=\"c1118103-6f1d-44a5-8050-d681e76ac8e2\")>,\n",
       " <selenium.webdriver.remote.webelement.WebElement (session=\"73adeebc4a16138a90915f19b82f8b18\", element=\"728da10f-5675-47e0-9172-6cebdbbab072\")>,\n",
       " <selenium.webdriver.remote.webelement.WebElement (session=\"73adeebc4a16138a90915f19b82f8b18\", element=\"38681978-2096-4f84-a009-c976d56e00cb\")>,\n",
       " <selenium.webdriver.remote.webelement.WebElement (session=\"73adeebc4a16138a90915f19b82f8b18\", element=\"1b8cc334-b126-46c6-941a-021309d4acfd\")>,\n",
       " <selenium.webdriver.remote.webelement.WebElement (session=\"73adeebc4a16138a90915f19b82f8b18\", element=\"b99c57d0-a91d-4c90-b2ae-7b1cd37e7bec\")>,\n",
       " <selenium.webdriver.remote.webelement.WebElement (session=\"73adeebc4a16138a90915f19b82f8b18\", element=\"9f7d8551-811e-4a44-bc05-3ecec95b433a\")>,\n",
       " <selenium.webdriver.remote.webelement.WebElement (session=\"73adeebc4a16138a90915f19b82f8b18\", element=\"1f1b3f14-62c4-4ead-bff4-a785301ca04e\")>,\n",
       " <selenium.webdriver.remote.webelement.WebElement (session=\"73adeebc4a16138a90915f19b82f8b18\", element=\"ae6b4d16-3033-4d59-8989-36d55e7ae587\")>,\n",
       " <selenium.webdriver.remote.webelement.WebElement (session=\"73adeebc4a16138a90915f19b82f8b18\", element=\"f5d770a9-5d55-42f1-b28a-5e82f57578ba\")>,\n",
       " <selenium.webdriver.remote.webelement.WebElement (session=\"73adeebc4a16138a90915f19b82f8b18\", element=\"747add23-6f6a-4cf6-87eb-f8789e2f4cd3\")>,\n",
       " <selenium.webdriver.remote.webelement.WebElement (session=\"73adeebc4a16138a90915f19b82f8b18\", element=\"87d61e16-0dad-4af7-b42d-2567cfc315e8\")>,\n",
       " <selenium.webdriver.remote.webelement.WebElement (session=\"73adeebc4a16138a90915f19b82f8b18\", element=\"c983143f-baf6-4bdf-b773-dcb615295b7d\")>,\n",
       " <selenium.webdriver.remote.webelement.WebElement (session=\"73adeebc4a16138a90915f19b82f8b18\", element=\"c01db0e1-a06c-4f1b-aee5-edc2d287d204\")>,\n",
       " <selenium.webdriver.remote.webelement.WebElement (session=\"73adeebc4a16138a90915f19b82f8b18\", element=\"fd0826f1-9463-4551-b117-449b3cccc119\")>,\n",
       " <selenium.webdriver.remote.webelement.WebElement (session=\"73adeebc4a16138a90915f19b82f8b18\", element=\"baf9a9eb-806e-4bc1-9f85-d48b1b710cc2\")>,\n",
       " <selenium.webdriver.remote.webelement.WebElement (session=\"73adeebc4a16138a90915f19b82f8b18\", element=\"d326dad1-502b-4e4e-a16b-30c679776cf0\")>,\n",
       " <selenium.webdriver.remote.webelement.WebElement (session=\"73adeebc4a16138a90915f19b82f8b18\", element=\"b265d9e4-d335-47a5-b949-92cc258fa23e\")>,\n",
       " <selenium.webdriver.remote.webelement.WebElement (session=\"73adeebc4a16138a90915f19b82f8b18\", element=\"757a9127-b17c-4b8d-b61c-88815394418b\")>,\n",
       " <selenium.webdriver.remote.webelement.WebElement (session=\"73adeebc4a16138a90915f19b82f8b18\", element=\"3fac7a4b-4f2f-4461-9306-4715a3131805\")>,\n",
       " <selenium.webdriver.remote.webelement.WebElement (session=\"73adeebc4a16138a90915f19b82f8b18\", element=\"b05d518f-66a0-4dec-83bb-cff4506f4c0b\")>,\n",
       " <selenium.webdriver.remote.webelement.WebElement (session=\"73adeebc4a16138a90915f19b82f8b18\", element=\"a9858945-8af2-42fe-a7f8-f9b7db2ed037\")>,\n",
       " <selenium.webdriver.remote.webelement.WebElement (session=\"73adeebc4a16138a90915f19b82f8b18\", element=\"1a598c27-0018-4429-9d0b-78ea07200f9b\")>,\n",
       " <selenium.webdriver.remote.webelement.WebElement (session=\"73adeebc4a16138a90915f19b82f8b18\", element=\"264f88d0-da81-4c87-9fd7-d9ae89c8d94a\")>,\n",
       " <selenium.webdriver.remote.webelement.WebElement (session=\"73adeebc4a16138a90915f19b82f8b18\", element=\"5fdc198f-3db3-4e37-bc68-a846a9097adb\")>,\n",
       " <selenium.webdriver.remote.webelement.WebElement (session=\"73adeebc4a16138a90915f19b82f8b18\", element=\"282b0c29-1695-4eed-847c-e8cdd65f56cc\")>,\n",
       " <selenium.webdriver.remote.webelement.WebElement (session=\"73adeebc4a16138a90915f19b82f8b18\", element=\"e1225adf-c132-4424-be06-b99b6b3edef4\")>,\n",
       " <selenium.webdriver.remote.webelement.WebElement (session=\"73adeebc4a16138a90915f19b82f8b18\", element=\"96cc5520-c307-4b46-abed-175d7fb26e57\")>,\n",
       " <selenium.webdriver.remote.webelement.WebElement (session=\"73adeebc4a16138a90915f19b82f8b18\", element=\"82e939ba-1808-49a6-8709-e5b7eaad6e2c\")>,\n",
       " <selenium.webdriver.remote.webelement.WebElement (session=\"73adeebc4a16138a90915f19b82f8b18\", element=\"1296d67c-326c-47db-9acc-124321c30a65\")>,\n",
       " <selenium.webdriver.remote.webelement.WebElement (session=\"73adeebc4a16138a90915f19b82f8b18\", element=\"fd46f2a2-e68c-4a22-a9cb-c5f65cf517de\")>,\n",
       " <selenium.webdriver.remote.webelement.WebElement (session=\"73adeebc4a16138a90915f19b82f8b18\", element=\"c29a6b5d-346a-4a55-9f37-fb443aa0c0d7\")>,\n",
       " <selenium.webdriver.remote.webelement.WebElement (session=\"73adeebc4a16138a90915f19b82f8b18\", element=\"6cecddd9-88b2-4b3b-879f-b38fa39c8142\")>,\n",
       " <selenium.webdriver.remote.webelement.WebElement (session=\"73adeebc4a16138a90915f19b82f8b18\", element=\"90ae72d0-9d2c-4b49-9e55-0e3822568aed\")>,\n",
       " <selenium.webdriver.remote.webelement.WebElement (session=\"73adeebc4a16138a90915f19b82f8b18\", element=\"868d79a5-2046-4090-b7cc-5904f88fe903\")>,\n",
       " <selenium.webdriver.remote.webelement.WebElement (session=\"73adeebc4a16138a90915f19b82f8b18\", element=\"872e2b44-51a1-4ccd-acbb-232a7a3525d1\")>,\n",
       " <selenium.webdriver.remote.webelement.WebElement (session=\"73adeebc4a16138a90915f19b82f8b18\", element=\"f8d19bb0-933f-4952-b4f9-42eb36395455\")>,\n",
       " <selenium.webdriver.remote.webelement.WebElement (session=\"73adeebc4a16138a90915f19b82f8b18\", element=\"d5ce3773-2355-4262-a1b9-a85aa1788252\")>,\n",
       " <selenium.webdriver.remote.webelement.WebElement (session=\"73adeebc4a16138a90915f19b82f8b18\", element=\"7802da5d-43b9-40a9-9f4d-0c77ed6ec1c7\")>]"
      ]
     },
     "execution_count": 12,
     "metadata": {},
     "output_type": "execute_result"
    }
   ],
   "source": [
    "team_list2=driver.find_elements_by_xpath(\"//span[@class='table-body__logo-text']\")\n",
    "team_list2"
   ]
  },
  {
   "cell_type": "code",
   "execution_count": 13,
   "metadata": {},
   "outputs": [
    {
     "data": {
      "text/plain": [
       "['AUS', 'WI', 'AUS', 'IND', 'NZ', 'ENG', 'AUS', 'SA', 'SA']"
      ]
     },
     "execution_count": 13,
     "metadata": {},
     "output_type": "execute_result"
    }
   ],
   "source": [
    "for i in team_list2:\n",
    "    d1=i.text\n",
    "    PlayerTeam.append(d1)\n",
    "PlayerTeam[:9]"
   ]
  },
  {
   "cell_type": "code",
   "execution_count": 14,
   "metadata": {},
   "outputs": [],
   "source": [
    "ratings = driver.find_elements_by_xpath(\"//div[@class='rankings-block__banner--rating']\")\n"
   ]
  },
  {
   "cell_type": "code",
   "execution_count": 15,
   "metadata": {},
   "outputs": [
    {
     "data": {
      "text/plain": [
       "['749']"
      ]
     },
     "execution_count": 15,
     "metadata": {},
     "output_type": "execute_result"
    }
   ],
   "source": [
    "for i in ratings:\n",
    "    d3=i.text\n",
    "    PlayerRating.append(d3)\n",
    "PlayerRating"
   ]
  },
  {
   "cell_type": "code",
   "execution_count": 16,
   "metadata": {},
   "outputs": [],
   "source": [
    "ratings2= driver.find_elements_by_xpath(\"//td[@class='table-body__cell rating']\")"
   ]
  },
  {
   "cell_type": "code",
   "execution_count": 17,
   "metadata": {},
   "outputs": [
    {
     "data": {
      "text/plain": [
       "['749', '746', '741', '732', '723', '716']"
      ]
     },
     "execution_count": 17,
     "metadata": {},
     "output_type": "execute_result"
    }
   ],
   "source": [
    "for i in ratings2:\n",
    "    d3=i.text\n",
    "    PlayerRating.append(d3)\n",
    "PlayerRating[:6]"
   ]
  },
  {
   "cell_type": "code",
   "execution_count": 18,
   "metadata": {},
   "outputs": [],
   "source": [
    "Batsmen=pd.DataFrame({})\n",
    "Batsmen['Player'] = players[:10]\n",
    "Batsmen['Country']= PlayerTeam[:10] \n",
    "Batsmen['Rating'] = PlayerRating[:10]"
   ]
  },
  {
   "cell_type": "code",
   "execution_count": 19,
   "metadata": {},
   "outputs": [
    {
     "data": {
      "text/html": [
       "<div>\n",
       "<style scoped>\n",
       "    .dataframe tbody tr th:only-of-type {\n",
       "        vertical-align: middle;\n",
       "    }\n",
       "\n",
       "    .dataframe tbody tr th {\n",
       "        vertical-align: top;\n",
       "    }\n",
       "\n",
       "    .dataframe thead th {\n",
       "        text-align: right;\n",
       "    }\n",
       "</style>\n",
       "<table border=\"1\" class=\"dataframe\">\n",
       "  <thead>\n",
       "    <tr style=\"text-align: right;\">\n",
       "      <th></th>\n",
       "      <th>Player</th>\n",
       "      <th>Country</th>\n",
       "      <th>Rating</th>\n",
       "    </tr>\n",
       "  </thead>\n",
       "  <tbody>\n",
       "    <tr>\n",
       "      <th>0</th>\n",
       "      <td>Meg Lanning</td>\n",
       "      <td>AUS</td>\n",
       "      <td>749</td>\n",
       "    </tr>\n",
       "    <tr>\n",
       "      <th>1</th>\n",
       "      <td>Stafanie Taylor</td>\n",
       "      <td>WI</td>\n",
       "      <td>746</td>\n",
       "    </tr>\n",
       "    <tr>\n",
       "      <th>2</th>\n",
       "      <td>Alyssa Healy</td>\n",
       "      <td>AUS</td>\n",
       "      <td>741</td>\n",
       "    </tr>\n",
       "    <tr>\n",
       "      <th>3</th>\n",
       "      <td>Smriti Mandhana</td>\n",
       "      <td>IND</td>\n",
       "      <td>732</td>\n",
       "    </tr>\n",
       "    <tr>\n",
       "      <th>4</th>\n",
       "      <td>Amy Satterthwaite</td>\n",
       "      <td>NZ</td>\n",
       "      <td>723</td>\n",
       "    </tr>\n",
       "    <tr>\n",
       "      <th>5</th>\n",
       "      <td>Tammy Beaumont</td>\n",
       "      <td>ENG</td>\n",
       "      <td>716</td>\n",
       "    </tr>\n",
       "    <tr>\n",
       "      <th>6</th>\n",
       "      <td>Ellyse Perry</td>\n",
       "      <td>AUS</td>\n",
       "      <td>691</td>\n",
       "    </tr>\n",
       "    <tr>\n",
       "      <th>7</th>\n",
       "      <td>Lizelle Lee</td>\n",
       "      <td>SA</td>\n",
       "      <td>690</td>\n",
       "    </tr>\n",
       "    <tr>\n",
       "      <th>8</th>\n",
       "      <td>Laura Wolvaardt</td>\n",
       "      <td>SA</td>\n",
       "      <td>689</td>\n",
       "    </tr>\n",
       "    <tr>\n",
       "      <th>9</th>\n",
       "      <td>Mithali Raj</td>\n",
       "      <td>IND</td>\n",
       "      <td>687</td>\n",
       "    </tr>\n",
       "  </tbody>\n",
       "</table>\n",
       "</div>"
      ],
      "text/plain": [
       "              Player Country Rating\n",
       "0        Meg Lanning     AUS    749\n",
       "1    Stafanie Taylor      WI    746\n",
       "2       Alyssa Healy     AUS    741\n",
       "3    Smriti Mandhana     IND    732\n",
       "4  Amy Satterthwaite      NZ    723\n",
       "5     Tammy Beaumont     ENG    716\n",
       "6       Ellyse Perry     AUS    691\n",
       "7        Lizelle Lee      SA    690\n",
       "8    Laura Wolvaardt      SA    689\n",
       "9        Mithali Raj     IND    687"
      ]
     },
     "execution_count": 19,
     "metadata": {},
     "output_type": "execute_result"
    }
   ],
   "source": [
    "Batsmen"
   ]
  },
  {
   "cell_type": "markdown",
   "metadata": {},
   "source": [
    "# Top 10 All Rounders"
   ]
  },
  {
   "cell_type": "code",
   "execution_count": 21,
   "metadata": {},
   "outputs": [],
   "source": [
    "Allrounder=[]\n",
    "Country=[]\n",
    "AllrounderRating=[]"
   ]
  },
  {
   "cell_type": "code",
   "execution_count": 22,
   "metadata": {},
   "outputs": [],
   "source": [
    "driver.get(\"https://www.icc-cricket.com/rankings/womens/player-rankings/odi/all-rounder\")"
   ]
  },
  {
   "cell_type": "code",
   "execution_count": 23,
   "metadata": {},
   "outputs": [],
   "source": [
    "all1 = driver.find_elements_by_xpath(\"//div[@class='rankings-block__banner--name-large']\")\n"
   ]
  },
  {
   "cell_type": "code",
   "execution_count": 24,
   "metadata": {},
   "outputs": [],
   "source": [
    "for i in all1:\n",
    "    p1=i.text\n",
    "    Allrounder.append(p1)\n"
   ]
  },
  {
   "cell_type": "code",
   "execution_count": 25,
   "metadata": {},
   "outputs": [],
   "source": [
    "all2=driver.find_elements_by_xpath(\"//td[@class='table-body__cell rankings-table__name name']\")"
   ]
  },
  {
   "cell_type": "code",
   "execution_count": 26,
   "metadata": {},
   "outputs": [],
   "source": [
    "for i in all2:\n",
    "    p1=i.text\n",
    "    Allrounder.append(p1)\n"
   ]
  },
  {
   "cell_type": "code",
   "execution_count": 27,
   "metadata": {},
   "outputs": [],
   "source": [
    "all3=driver.find_elements_by_xpath(\"//div[@class='rankings-block__banner--nationality']\")"
   ]
  },
  {
   "cell_type": "code",
   "execution_count": 28,
   "metadata": {},
   "outputs": [
    {
     "data": {
      "text/plain": [
       "['AUS']"
      ]
     },
     "execution_count": 28,
     "metadata": {},
     "output_type": "execute_result"
    }
   ],
   "source": [
    "for i in all3:\n",
    "    p1=i.text\n",
    "    Country.append(p1)\n",
    "Country"
   ]
  },
  {
   "cell_type": "code",
   "execution_count": 29,
   "metadata": {},
   "outputs": [
    {
     "data": {
      "text/plain": [
       "['AUS', 'WI', 'SA', 'IND', 'SA']"
      ]
     },
     "execution_count": 29,
     "metadata": {},
     "output_type": "execute_result"
    }
   ],
   "source": [
    "all4=driver.find_elements_by_xpath(\"//span[@class='table-body__logo-text']\")\n",
    "for i in all4:\n",
    "    p1=i.text\n",
    "    Country.append(p1)\n",
    "Country[:5]"
   ]
  },
  {
   "cell_type": "code",
   "execution_count": 30,
   "metadata": {},
   "outputs": [],
   "source": [
    "all5=ratings = driver.find_elements_by_xpath(\"//div[@class='rankings-block__banner--rating']\")\n",
    "for i in all5:\n",
    "    p1=i.text\n",
    "    AllrounderRating.append(p1)"
   ]
  },
  {
   "cell_type": "code",
   "execution_count": 32,
   "metadata": {},
   "outputs": [],
   "source": [
    "all6= driver.find_elements_by_xpath(\"//td[@class='table-body__cell rating']\")\n",
    "for i in all6:\n",
    "    p1=i.text\n",
    "    AllrounderRating.append(p1)"
   ]
  },
  {
   "cell_type": "code",
   "execution_count": 34,
   "metadata": {},
   "outputs": [],
   "source": [
    "Details=pd.DataFrame({})\n",
    "Details['Bowler'] = Allrounder[:10]\n",
    "Details['Country']= Country[:10] \n",
    "Details['Rating'] = AllrounderRating[:10]"
   ]
  },
  {
   "cell_type": "code",
   "execution_count": 35,
   "metadata": {},
   "outputs": [
    {
     "data": {
      "text/html": [
       "<div>\n",
       "<style scoped>\n",
       "    .dataframe tbody tr th:only-of-type {\n",
       "        vertical-align: middle;\n",
       "    }\n",
       "\n",
       "    .dataframe tbody tr th {\n",
       "        vertical-align: top;\n",
       "    }\n",
       "\n",
       "    .dataframe thead th {\n",
       "        text-align: right;\n",
       "    }\n",
       "</style>\n",
       "<table border=\"1\" class=\"dataframe\">\n",
       "  <thead>\n",
       "    <tr style=\"text-align: right;\">\n",
       "      <th></th>\n",
       "      <th>Bowler</th>\n",
       "      <th>Country</th>\n",
       "      <th>Rating</th>\n",
       "    </tr>\n",
       "  </thead>\n",
       "  <tbody>\n",
       "    <tr>\n",
       "      <th>0</th>\n",
       "      <td>Ellyse Perry</td>\n",
       "      <td>AUS</td>\n",
       "      <td>460</td>\n",
       "    </tr>\n",
       "    <tr>\n",
       "      <th>1</th>\n",
       "      <td>Stafanie Taylor</td>\n",
       "      <td>WI</td>\n",
       "      <td>410</td>\n",
       "    </tr>\n",
       "    <tr>\n",
       "      <th>2</th>\n",
       "      <td>Marizanne Kapp</td>\n",
       "      <td>SA</td>\n",
       "      <td>389</td>\n",
       "    </tr>\n",
       "    <tr>\n",
       "      <th>3</th>\n",
       "      <td>Deepti Sharma</td>\n",
       "      <td>IND</td>\n",
       "      <td>359</td>\n",
       "    </tr>\n",
       "    <tr>\n",
       "      <th>4</th>\n",
       "      <td>Dane van Niekerk</td>\n",
       "      <td>SA</td>\n",
       "      <td>335</td>\n",
       "    </tr>\n",
       "    <tr>\n",
       "      <th>5</th>\n",
       "      <td>Jess Jonassen</td>\n",
       "      <td>AUS</td>\n",
       "      <td>301</td>\n",
       "    </tr>\n",
       "    <tr>\n",
       "      <th>6</th>\n",
       "      <td>Sophie Devine</td>\n",
       "      <td>NZ</td>\n",
       "      <td>289</td>\n",
       "    </tr>\n",
       "    <tr>\n",
       "      <th>7</th>\n",
       "      <td>Natalie Sciver</td>\n",
       "      <td>ENG</td>\n",
       "      <td>273</td>\n",
       "    </tr>\n",
       "    <tr>\n",
       "      <th>8</th>\n",
       "      <td>Shikha Pandey</td>\n",
       "      <td>IND</td>\n",
       "      <td>250</td>\n",
       "    </tr>\n",
       "    <tr>\n",
       "      <th>9</th>\n",
       "      <td>Katherine Brunt</td>\n",
       "      <td>ENG</td>\n",
       "      <td>232</td>\n",
       "    </tr>\n",
       "  </tbody>\n",
       "</table>\n",
       "</div>"
      ],
      "text/plain": [
       "             Bowler Country Rating\n",
       "0      Ellyse Perry     AUS    460\n",
       "1   Stafanie Taylor      WI    410\n",
       "2    Marizanne Kapp      SA    389\n",
       "3     Deepti Sharma     IND    359\n",
       "4  Dane van Niekerk      SA    335\n",
       "5     Jess Jonassen     AUS    301\n",
       "6     Sophie Devine      NZ    289\n",
       "7    Natalie Sciver     ENG    273\n",
       "8     Shikha Pandey     IND    250\n",
       "9   Katherine Brunt     ENG    232"
      ]
     },
     "execution_count": 35,
     "metadata": {},
     "output_type": "execute_result"
    }
   ],
   "source": [
    "Details"
   ]
  },
  {
   "cell_type": "code",
   "execution_count": null,
   "metadata": {},
   "outputs": [],
   "source": []
  }
 ],
 "metadata": {
  "kernelspec": {
   "display_name": "Python 3",
   "language": "python",
   "name": "python3"
  },
  "language_info": {
   "codemirror_mode": {
    "name": "ipython",
    "version": 3
   },
   "file_extension": ".py",
   "mimetype": "text/x-python",
   "name": "python",
   "nbconvert_exporter": "python",
   "pygments_lexer": "ipython3",
   "version": "3.7.6"
  }
 },
 "nbformat": 4,
 "nbformat_minor": 4
}
