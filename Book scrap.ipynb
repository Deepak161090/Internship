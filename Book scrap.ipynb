{
 "cells": [
  {
   "cell_type": "code",
   "execution_count": 19,
   "metadata": {},
   "outputs": [],
   "source": [
    "import requests\n",
    "from bs4 import BeautifulSoup\n",
    "from selenium import webdriver\n",
    "import pandas as pd"
   ]
  },
  {
   "cell_type": "code",
   "execution_count": 20,
   "metadata": {},
   "outputs": [],
   "source": [
    "page = requests.get('https://bookpage.com/reviews')"
   ]
  },
  {
   "cell_type": "code",
   "execution_count": 21,
   "metadata": {},
   "outputs": [],
   "source": [
    "driver = webdriver.Chrome(r\"C:\\chromedriver.exe\")\n",
    "driver.get('https://bookpage.com/reviews')"
   ]
  },
  {
   "cell_type": "code",
   "execution_count": 22,
   "metadata": {},
   "outputs": [],
   "source": [
    "soup = BeautifulSoup(page.content,'html.parser')"
   ]
  },
  {
   "cell_type": "code",
   "execution_count": 23,
   "metadata": {},
   "outputs": [],
   "source": [
    "Title=[]\n",
    "Author =[]\n",
    "Genre=[]\n",
    "Review=[]"
   ]
  },
  {
   "cell_type": "code",
   "execution_count": 26,
   "metadata": {},
   "outputs": [
    {
     "data": {
      "text/plain": [
       "[<selenium.webdriver.remote.webelement.WebElement (session=\"d09e07996c501e79ed3b4180b4c8c557\", element=\"f6764818-e421-4d9a-b730-9a5b1291ca86\")>,\n",
       " <selenium.webdriver.remote.webelement.WebElement (session=\"d09e07996c501e79ed3b4180b4c8c557\", element=\"5d8c01fa-f015-4c60-ac71-9213ab50157c\")>,\n",
       " <selenium.webdriver.remote.webelement.WebElement (session=\"d09e07996c501e79ed3b4180b4c8c557\", element=\"f503cacb-a890-4e8a-b363-d310cd8f427b\")>,\n",
       " <selenium.webdriver.remote.webelement.WebElement (session=\"d09e07996c501e79ed3b4180b4c8c557\", element=\"9c248d4c-cff4-4ce0-9526-6fb1207c7dea\")>]"
      ]
     },
     "execution_count": 26,
     "metadata": {},
     "output_type": "execute_result"
    }
   ],
   "source": [
    "book_list =  driver.find_elements_by_xpath(\"//h4[@class='italic']\")\n",
    "book_list[0:4]"
   ]
  },
  {
   "cell_type": "code",
   "execution_count": 30,
   "metadata": {},
   "outputs": [
    {
     "data": {
      "text/plain": [
       "['Dancing in the Mosque',\n",
       " 'A Year of Everyday Wonders',\n",
       " 'America the Beautiful',\n",
       " 'The New Long Life']"
      ]
     },
     "execution_count": 30,
     "metadata": {},
     "output_type": "execute_result"
    }
   ],
   "source": [
    "for i in book_list:\n",
    "    bookss=i.text\n",
    "    Title.append(bookss)\n",
    "Title[0:4]"
   ]
  },
  {
   "cell_type": "code",
   "execution_count": 33,
   "metadata": {},
   "outputs": [
    {
     "data": {
      "text/plain": [
       "[<selenium.webdriver.remote.webelement.WebElement (session=\"d09e07996c501e79ed3b4180b4c8c557\", element=\"b0394176-6bb4-4071-90e9-a8a2828634a4\")>,\n",
       " <selenium.webdriver.remote.webelement.WebElement (session=\"d09e07996c501e79ed3b4180b4c8c557\", element=\"04e79a08-b7eb-4764-a9cd-819a39f4d1a7\")>,\n",
       " <selenium.webdriver.remote.webelement.WebElement (session=\"d09e07996c501e79ed3b4180b4c8c557\", element=\"c18ea940-4d5c-42be-9d2c-389329d5188a\")>,\n",
       " <selenium.webdriver.remote.webelement.WebElement (session=\"d09e07996c501e79ed3b4180b4c8c557\", element=\"5da00d39-f7b0-4436-a2c7-778b6161ab72\")>,\n",
       " <selenium.webdriver.remote.webelement.WebElement (session=\"d09e07996c501e79ed3b4180b4c8c557\", element=\"9bde47c2-5d03-41fd-91b3-5a2512f91ab5\")>]"
      ]
     },
     "execution_count": 33,
     "metadata": {},
     "output_type": "execute_result"
    }
   ],
   "source": [
    "author_list = driver.find_elements_by_xpath(\"//p[@class='sans bold']\")\n",
    "author_list[0:5]"
   ]
  },
  {
   "cell_type": "code",
   "execution_count": 34,
   "metadata": {},
   "outputs": [
    {
     "data": {
      "text/plain": [
       "['Homeira Qaderi',\n",
       " 'Cheryl B. Klein, Qin Leng',\n",
       " 'National Geographic',\n",
       " 'Andrew J. Scott, Lynda Gratton']"
      ]
     },
     "execution_count": 34,
     "metadata": {},
     "output_type": "execute_result"
    }
   ],
   "source": [
    "for i in author_list:\n",
    "    a=i.text\n",
    "    Author.append(a)\n",
    "Author[0:4]"
   ]
  },
  {
   "cell_type": "code",
   "execution_count": 31,
   "metadata": {},
   "outputs": [
    {
     "data": {
      "text/plain": [
       "[<selenium.webdriver.remote.webelement.WebElement (session=\"d09e07996c501e79ed3b4180b4c8c557\", element=\"c9f0fe43-4f35-4d56-b428-7bbed25e65bd\")>,\n",
       " <selenium.webdriver.remote.webelement.WebElement (session=\"d09e07996c501e79ed3b4180b4c8c557\", element=\"5c0a281e-f3d7-40ef-b681-f857b68ad627\")>,\n",
       " <selenium.webdriver.remote.webelement.WebElement (session=\"d09e07996c501e79ed3b4180b4c8c557\", element=\"a6192145-2cc7-4642-9be2-f126096f9ceb\")>,\n",
       " <selenium.webdriver.remote.webelement.WebElement (session=\"d09e07996c501e79ed3b4180b4c8c557\", element=\"ebfef590-c4d0-4c11-b36c-9247a254751b\")>,\n",
       " <selenium.webdriver.remote.webelement.WebElement (session=\"d09e07996c501e79ed3b4180b4c8c557\", element=\"066c46a0-f552-48de-81ec-cc0cb2e3f098\")>,\n",
       " <selenium.webdriver.remote.webelement.WebElement (session=\"d09e07996c501e79ed3b4180b4c8c557\", element=\"ba113585-af4b-46c6-b8ca-3d71a764d55a\")>,\n",
       " <selenium.webdriver.remote.webelement.WebElement (session=\"d09e07996c501e79ed3b4180b4c8c557\", element=\"ccc03157-452c-4eb9-8a51-5485da5d16be\")>,\n",
       " <selenium.webdriver.remote.webelement.WebElement (session=\"d09e07996c501e79ed3b4180b4c8c557\", element=\"bf43f963-0326-42f3-a017-19ff89ac89a6\")>,\n",
       " <selenium.webdriver.remote.webelement.WebElement (session=\"d09e07996c501e79ed3b4180b4c8c557\", element=\"b90795d2-f6f5-47ce-9d07-f7339c122e66\")>,\n",
       " <selenium.webdriver.remote.webelement.WebElement (session=\"d09e07996c501e79ed3b4180b4c8c557\", element=\"df023cc5-1c10-47d9-901e-776f47590e80\")>]"
      ]
     },
     "execution_count": 31,
     "metadata": {},
     "output_type": "execute_result"
    }
   ],
   "source": [
    "genre_list=driver.find_elements_by_xpath(\"//p[@class='genre-links hidden-phone']\")   \n",
    "genre_list"
   ]
  },
  {
   "cell_type": "code",
   "execution_count": 32,
   "metadata": {},
   "outputs": [
    {
     "data": {
      "text/plain": [
       "['Nonfiction / Memoir / Middle Eastern History',\n",
       " 'Children’s Picture Book / Children’s',\n",
       " 'Nonfiction / Photography / Culture',\n",
       " 'Nonfiction / Self-Help / Aging']"
      ]
     },
     "execution_count": 32,
     "metadata": {},
     "output_type": "execute_result"
    }
   ],
   "source": [
    "for i in genre_list:\n",
    "    g=i.text\n",
    "    Genre.append(g)\n",
    "Genre[0:4]"
   ]
  },
  {
   "cell_type": "code",
   "execution_count": 8,
   "metadata": {},
   "outputs": [
    {
     "data": {
      "text/plain": [
       "[<div class=\"read-full\">\n",
       " <a href=\"/reviews/25710-homeira-qaderi-dancing-mosque-nonfiction\">Read the Review <i class=\"zmdi zmdi-chevron-right\"></i></a>\n",
       " </div>,\n",
       " <div class=\"read-full\">\n",
       " <a href=\"/reviews/25712-cheryl-b-klein-year-everyday-wonders-childrens-picture-book\">Read the Review <i class=\"zmdi zmdi-chevron-right\"></i></a>\n",
       " </div>,\n",
       " <div class=\"read-full\">\n",
       " <a href=\"/reviews/25692-national-geographic-america-beautiful-nonfiction\">Read the Review <i class=\"zmdi zmdi-chevron-right\"></i></a>\n",
       " </div>,\n",
       " <div class=\"read-full\">\n",
       " <a href=\"/reviews/25743-andrew-j-scott-new-long-life-nonfiction\">Read the Review <i class=\"zmdi zmdi-chevron-right\"></i></a>\n",
       " </div>,\n",
       " <div class=\"read-full\">\n",
       " <a href=\"/reviews/25715-ijeoma-oluo-mediocre-nonfiction\">Read the Review <i class=\"zmdi zmdi-chevron-right\"></i></a>\n",
       " </div>]"
      ]
     },
     "execution_count": 8,
     "metadata": {},
     "output_type": "execute_result"
    }
   ],
   "source": [
    "review_list=soup.find_all('div',class_='read-full')\n",
    "review_list[0:5]"
   ]
  },
  {
   "cell_type": "code",
   "execution_count": 9,
   "metadata": {},
   "outputs": [],
   "source": [
    "for i in book_list:\n",
    "    Title.append(i.find('a').get_text())"
   ]
  },
  {
   "cell_type": "code",
   "execution_count": 10,
   "metadata": {},
   "outputs": [
    {
     "data": {
      "text/plain": [
       "['Dancing in the Mosque',\n",
       " 'A Year of Everyday Wonders',\n",
       " 'America the Beautiful',\n",
       " 'The New Long Life',\n",
       " ' ★ Mediocre']"
      ]
     },
     "execution_count": 10,
     "metadata": {},
     "output_type": "execute_result"
    }
   ],
   "source": [
    "Title[0:5]"
   ]
  },
  {
   "cell_type": "code",
   "execution_count": 11,
   "metadata": {},
   "outputs": [],
   "source": [
    "for i in genre_list:\n",
    "    Genre.append(i.find('a').get_text())"
   ]
  },
  {
   "cell_type": "code",
   "execution_count": 28,
   "metadata": {},
   "outputs": [
    {
     "data": {
      "text/plain": [
       "[]"
      ]
     },
     "execution_count": 28,
     "metadata": {},
     "output_type": "execute_result"
    }
   ],
   "source": [
    "Genre"
   ]
  },
  {
   "cell_type": "code",
   "execution_count": 13,
   "metadata": {},
   "outputs": [],
   "source": [
    "for i in review_list:\n",
    "    Review.append(i.find('a').get_text())"
   ]
  },
  {
   "cell_type": "code",
   "execution_count": 14,
   "metadata": {},
   "outputs": [
    {
     "data": {
      "text/plain": [
       "['Read the Review ',\n",
       " 'Read the Review ',\n",
       " 'Read the Review ',\n",
       " 'Read the Review ',\n",
       " 'Read the Review ',\n",
       " 'Read the Review ',\n",
       " 'Read the Review ',\n",
       " 'Read the Review ',\n",
       " 'Read the Review ',\n",
       " 'Read the Review ']"
      ]
     },
     "execution_count": 14,
     "metadata": {},
     "output_type": "execute_result"
    }
   ],
   "source": [
    "Review"
   ]
  },
  {
   "cell_type": "code",
   "execution_count": 41,
   "metadata": {},
   "outputs": [],
   "source": [
    "BooksList = pd.DataFrame({})\n",
    "BooksList['Title']  =Title[:5]\n",
    "BooksList['Author'] =Author[:5]\n",
    "BooksList['Genre']  =Genre[:5]\n",
    "\n"
   ]
  },
  {
   "cell_type": "code",
   "execution_count": 37,
   "metadata": {},
   "outputs": [
    {
     "data": {
      "text/html": [
       "<div>\n",
       "<style scoped>\n",
       "    .dataframe tbody tr th:only-of-type {\n",
       "        vertical-align: middle;\n",
       "    }\n",
       "\n",
       "    .dataframe tbody tr th {\n",
       "        vertical-align: top;\n",
       "    }\n",
       "\n",
       "    .dataframe thead th {\n",
       "        text-align: right;\n",
       "    }\n",
       "</style>\n",
       "<table border=\"1\" class=\"dataframe\">\n",
       "  <thead>\n",
       "    <tr style=\"text-align: right;\">\n",
       "      <th></th>\n",
       "      <th>Title</th>\n",
       "      <th>Author</th>\n",
       "      <th>Genre</th>\n",
       "    </tr>\n",
       "  </thead>\n",
       "  <tbody>\n",
       "    <tr>\n",
       "      <th>0</th>\n",
       "      <td>Dancing in the Mosque</td>\n",
       "      <td>Homeira Qaderi</td>\n",
       "      <td>Nonfiction / Memoir / Middle Eastern History</td>\n",
       "    </tr>\n",
       "    <tr>\n",
       "      <th>1</th>\n",
       "      <td>A Year of Everyday Wonders</td>\n",
       "      <td>Cheryl B. Klein, Qin Leng</td>\n",
       "      <td>Children’s Picture Book / Children’s</td>\n",
       "    </tr>\n",
       "    <tr>\n",
       "      <th>2</th>\n",
       "      <td>America the Beautiful</td>\n",
       "      <td>National Geographic</td>\n",
       "      <td>Nonfiction / Photography / Culture</td>\n",
       "    </tr>\n",
       "    <tr>\n",
       "      <th>3</th>\n",
       "      <td>The New Long Life</td>\n",
       "      <td>Andrew J. Scott, Lynda Gratton</td>\n",
       "      <td>Nonfiction / Self-Help / Aging</td>\n",
       "    </tr>\n",
       "    <tr>\n",
       "      <th>4</th>\n",
       "      <td>★ Mediocre</td>\n",
       "      <td>Ijeoma Oluo</td>\n",
       "      <td>Nonfiction / Social Science</td>\n",
       "    </tr>\n",
       "  </tbody>\n",
       "</table>\n",
       "</div>"
      ],
      "text/plain": [
       "                        Title                          Author  \\\n",
       "0       Dancing in the Mosque                  Homeira Qaderi   \n",
       "1  A Year of Everyday Wonders       Cheryl B. Klein, Qin Leng   \n",
       "2       America the Beautiful             National Geographic   \n",
       "3           The New Long Life  Andrew J. Scott, Lynda Gratton   \n",
       "4                  ★ Mediocre                     Ijeoma Oluo   \n",
       "\n",
       "                                          Genre  \n",
       "0  Nonfiction / Memoir / Middle Eastern History  \n",
       "1          Children’s Picture Book / Children’s  \n",
       "2            Nonfiction / Photography / Culture  \n",
       "3                Nonfiction / Self-Help / Aging  \n",
       "4                   Nonfiction / Social Science  "
      ]
     },
     "execution_count": 37,
     "metadata": {},
     "output_type": "execute_result"
    }
   ],
   "source": [
    "BooksList"
   ]
  },
  {
   "cell_type": "code",
   "execution_count": null,
   "metadata": {},
   "outputs": [],
   "source": []
  }
 ],
 "metadata": {
  "kernelspec": {
   "display_name": "Python 3",
   "language": "python",
   "name": "python3"
  },
  "language_info": {
   "codemirror_mode": {
    "name": "ipython",
    "version": 3
   },
   "file_extension": ".py",
   "mimetype": "text/x-python",
   "name": "python",
   "nbconvert_exporter": "python",
   "pygments_lexer": "ipython3",
   "version": "3.7.6"
  }
 },
 "nbformat": 4,
 "nbformat_minor": 4
}
