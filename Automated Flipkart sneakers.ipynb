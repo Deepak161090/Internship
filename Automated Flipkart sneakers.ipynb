{
 "cells": [
  {
   "cell_type": "code",
   "execution_count": 59,
   "metadata": {},
   "outputs": [],
   "source": [
    "import pandas as pd\n",
    "from bs4 import BeautifulSoup\n",
    "import requests\n",
    "import selenium\n",
    "from selenium import webdriver\n",
    "import time"
   ]
  },
  {
   "cell_type": "code",
   "execution_count": 75,
   "metadata": {},
   "outputs": [],
   "source": [
    "driver = webdriver.Chrome(r\"C:\\chromedriver.exe\")\n",
    "driver.get('https://www.flipkart.com/')\n",
    "driver.find_element_by_xpath(\"//input[@class='_3704LK']\").send_keys('Sneakers')\n",
    "driver.find_element_by_xpath(\"//button[@class='_2KpZ6l _2doB4z']\").click()\n",
    "driver.find_element_by_xpath(\"//button[@class='L0Z3Pu']\").click()\n",
    "time.sleep(5)"
   ]
  },
  {
   "cell_type": "code",
   "execution_count": 76,
   "metadata": {},
   "outputs": [
    {
     "name": "stdout",
     "output_type": "stream",
     "text": [
      "                Brand   Price Discount  \\\n",
      "0              Ducati  ₹1,259  65% off   \n",
      "1              Ducati    ₹691  68% off   \n",
      "2              Chevit    ₹579  70% off   \n",
      "3              Chevit    ₹249  50% off   \n",
      "4          Deny Brown    ₹375  24% off   \n",
      "..                ...     ...      ...   \n",
      "95            Essence    ₹499  50% off   \n",
      "96          Rockfield    ₹499  50% off   \n",
      "97            ESSENCE    ₹499  50% off   \n",
      "98         D-SNEAKERZ    ₹348  65% off   \n",
      "99  French Connection  ₹1,399  62% off   \n",
      "\n",
      "                                          Description  \n",
      "0                                    Sneakers For Men  \n",
      "1                       DTSS18FT-001 Sneakers For Men  \n",
      "2   Combo Pack of 4 Casual Sneakers With Sneakers ...  \n",
      "3   171 Smart Tan Lace-Ups Casuals for Men Sneaker...  \n",
      "4                   445 Sports Shoes Sneakers For Men  \n",
      "..                                                ...  \n",
      "95                                   Sneakers For Men  \n",
      "96                                   Sneakers For Men  \n",
      "97                                   Sneakers For Men  \n",
      "98  Casual , Partywear Sneakers Shoes For Men's An...  \n",
      "99                                   Sneakers For Men  \n",
      "\n",
      "[100 rows x 4 columns]\n"
     ]
    }
   ],
   "source": [
    "brand_names=[]\n",
    "price=[]\n",
    "discount=[]\n",
    "desc=[]\n",
    "for i in list(driver.find_elements_by_xpath(\"//div[@class='_2WkVRV']\")):\n",
    "    brand_names.append(i.text)\n",
    "for i in list(driver.find_elements_by_xpath(\"//div[@class='_30jeq3']\")):  \n",
    "    price.append(i.text)\n",
    "for i in list(driver.find_elements_by_xpath(\"//div[@class='_3Ay6Sb']/span\")):\n",
    "    discount.append(i.text)\n",
    "for i in list(driver.find_elements_by_xpath(\"//div[@class='_2B099V']/a\")):\n",
    "    desc.append(i.text)\n",
    "li=[]\n",
    "link = driver.find_elements_by_xpath(\"//a[@class='ge-49M']\")\n",
    "for i in link:\n",
    "    li.append(i.get_attribute('href'))\n",
    "for i in li[:3]:\n",
    "    driver.get(i)\n",
    "    time.sleep(5)\n",
    "    for i in list(driver.find_elements_by_xpath(\"//div[@class='_2WkVRV']\")):\n",
    "        brand_names.append(i.text)\n",
    "    for i in list(driver.find_elements_by_xpath(\"//div[@class='_30jeq3']\")):\n",
    "        price.append(i.text)\n",
    "    for i in list(driver.find_elements_by_xpath(\"//div[@class='_3Ay6Sb']/span\")):\n",
    "        discount.append(i.text)\n",
    "    for i in list(driver.find_elements_by_xpath(\"//div[@class='_2B099V']/a\")):\n",
    "        desc.append(i.text)\n",
    "job_df=pd.DataFrame({'Brand':brand_names[:100],\n",
    "                         'Price':price[:100],\n",
    "                         'Discount':discount[:100],\n",
    "                         'Description':desc[0::2][:100]})\n",
    "job_df.to_csv('Sunglasses of flipkart', index = False)\n",
    "print(job_df)"
   ]
  }
 ],
 "metadata": {
  "kernelspec": {
   "display_name": "Python 3",
   "language": "python",
   "name": "python3"
  },
  "language_info": {
   "codemirror_mode": {
    "name": "ipython",
    "version": 3
   },
   "file_extension": ".py",
   "mimetype": "text/x-python",
   "name": "python",
   "nbconvert_exporter": "python",
   "pygments_lexer": "ipython3",
   "version": "3.7.6"
  }
 },
 "nbformat": 4,
 "nbformat_minor": 4
}
