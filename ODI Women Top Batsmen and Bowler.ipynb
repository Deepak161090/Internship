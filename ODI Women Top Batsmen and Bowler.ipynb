{
 "cells": [
  {
   "cell_type": "code",
   "execution_count": 1,
   "metadata": {},
   "outputs": [],
   "source": [
    "import requests\n",
    "from bs4 import BeautifulSoup\n",
    "from selenium import webdriver\n",
    "import pandas as pd"
   ]
  },
  {
   "cell_type": "code",
   "execution_count": 4,
   "metadata": {},
   "outputs": [],
   "source": [
    "driver = webdriver.Chrome(r\"C:\\chromedriver.exe\")"
   ]
  },
  {
   "cell_type": "markdown",
   "metadata": {},
   "source": [
    "# Top 10 ODI Batsmen"
   ]
  },
  {
   "cell_type": "code",
   "execution_count": 5,
   "metadata": {},
   "outputs": [],
   "source": [
    "driver.get(\"https://www.icc-cricket.com/rankings/womens/player-rankings/odi/batting\")"
   ]
  },
  {
   "cell_type": "code",
   "execution_count": 6,
   "metadata": {},
   "outputs": [],
   "source": [
    "Player=[]\n",
    "PlayerTeam=[]\n",
    "PlayerRating=[]\n",
    "p=[]\n",
    "t=[]\n",
    "k=[]\n",
    "p6=[]"
   ]
  },
  {
   "cell_type": "code",
   "execution_count": 7,
   "metadata": {},
   "outputs": [
    {
     "data": {
      "text/plain": [
       "[<selenium.webdriver.remote.webelement.WebElement (session=\"06cc5f75a8a009e3d9e4c90f75e8c8c2\", element=\"6b25e225-9c6c-4840-aa95-6489c977d6e8\")>]"
      ]
     },
     "execution_count": 7,
     "metadata": {},
     "output_type": "execute_result"
    }
   ],
   "source": [
    "player_list=driver.find_elements_by_xpath(\"//div[@class='rankings-block__banner--name-large']\")\n",
    "player_list"
   ]
  },
  {
   "cell_type": "code",
   "execution_count": 8,
   "metadata": {},
   "outputs": [
    {
     "data": {
      "text/plain": [
       "['Meg Lanning']"
      ]
     },
     "execution_count": 8,
     "metadata": {},
     "output_type": "execute_result"
    }
   ],
   "source": [
    "for i in player_list:\n",
    "    p1=i.text\n",
    "    p.append(p1)\n",
    "p"
   ]
  },
  {
   "cell_type": "code",
   "execution_count": 9,
   "metadata": {},
   "outputs": [
    {
     "data": {
      "text/plain": [
       "[<selenium.webdriver.remote.webelement.WebElement (session=\"06cc5f75a8a009e3d9e4c90f75e8c8c2\", element=\"f831f6fa-7cd9-4395-96a4-42ac51a336b6\")>,\n",
       " <selenium.webdriver.remote.webelement.WebElement (session=\"06cc5f75a8a009e3d9e4c90f75e8c8c2\", element=\"183c8abb-857a-4dc4-b702-53baaf05dba8\")>,\n",
       " <selenium.webdriver.remote.webelement.WebElement (session=\"06cc5f75a8a009e3d9e4c90f75e8c8c2\", element=\"3cb3ea37-d762-4d13-84ef-d1a805ed9507\")>,\n",
       " <selenium.webdriver.remote.webelement.WebElement (session=\"06cc5f75a8a009e3d9e4c90f75e8c8c2\", element=\"943e65c6-d0b8-4708-a308-2ac38414b340\")>,\n",
       " <selenium.webdriver.remote.webelement.WebElement (session=\"06cc5f75a8a009e3d9e4c90f75e8c8c2\", element=\"856be2c9-6b64-42bd-a018-66e65242ec48\")>,\n",
       " <selenium.webdriver.remote.webelement.WebElement (session=\"06cc5f75a8a009e3d9e4c90f75e8c8c2\", element=\"41bf06ea-e5da-488a-97a3-8365d71b588f\")>,\n",
       " <selenium.webdriver.remote.webelement.WebElement (session=\"06cc5f75a8a009e3d9e4c90f75e8c8c2\", element=\"0cb5daa8-e03c-4372-8980-c05868ebf6fb\")>,\n",
       " <selenium.webdriver.remote.webelement.WebElement (session=\"06cc5f75a8a009e3d9e4c90f75e8c8c2\", element=\"021745fe-a057-432b-8b92-8a4e95a355da\")>,\n",
       " <selenium.webdriver.remote.webelement.WebElement (session=\"06cc5f75a8a009e3d9e4c90f75e8c8c2\", element=\"e9b13816-3125-4495-8c9a-cd598a25d1e3\")>,\n",
       " <selenium.webdriver.remote.webelement.WebElement (session=\"06cc5f75a8a009e3d9e4c90f75e8c8c2\", element=\"0baf59ce-d93f-4d15-bb05-11b4e87bab1a\")>,\n",
       " <selenium.webdriver.remote.webelement.WebElement (session=\"06cc5f75a8a009e3d9e4c90f75e8c8c2\", element=\"9cabc7ee-6e85-44f9-a8c4-564beb14cadf\")>,\n",
       " <selenium.webdriver.remote.webelement.WebElement (session=\"06cc5f75a8a009e3d9e4c90f75e8c8c2\", element=\"d301e608-b42a-42ca-a205-b0f79dc4ebc3\")>,\n",
       " <selenium.webdriver.remote.webelement.WebElement (session=\"06cc5f75a8a009e3d9e4c90f75e8c8c2\", element=\"6eeccfa3-19fc-4a95-8c01-1469605d4d50\")>,\n",
       " <selenium.webdriver.remote.webelement.WebElement (session=\"06cc5f75a8a009e3d9e4c90f75e8c8c2\", element=\"d54032ce-92ee-4693-8820-8c06bcf1db41\")>,\n",
       " <selenium.webdriver.remote.webelement.WebElement (session=\"06cc5f75a8a009e3d9e4c90f75e8c8c2\", element=\"75a9afc7-bbf0-4a13-a8b1-bfc244b115b9\")>,\n",
       " <selenium.webdriver.remote.webelement.WebElement (session=\"06cc5f75a8a009e3d9e4c90f75e8c8c2\", element=\"0f2ea0b7-bfa4-49c0-9cdd-ed54ecad1282\")>,\n",
       " <selenium.webdriver.remote.webelement.WebElement (session=\"06cc5f75a8a009e3d9e4c90f75e8c8c2\", element=\"7ef562d6-e378-4dd2-9d67-730f4286753a\")>,\n",
       " <selenium.webdriver.remote.webelement.WebElement (session=\"06cc5f75a8a009e3d9e4c90f75e8c8c2\", element=\"301f883a-dcd4-442c-a6f7-2891ed299e50\")>,\n",
       " <selenium.webdriver.remote.webelement.WebElement (session=\"06cc5f75a8a009e3d9e4c90f75e8c8c2\", element=\"f2d46541-45a4-48b2-80fa-31c479e756c1\")>,\n",
       " <selenium.webdriver.remote.webelement.WebElement (session=\"06cc5f75a8a009e3d9e4c90f75e8c8c2\", element=\"304b35fb-53ca-46b6-9d69-7a5f2e36ae3a\")>,\n",
       " <selenium.webdriver.remote.webelement.WebElement (session=\"06cc5f75a8a009e3d9e4c90f75e8c8c2\", element=\"21d7dcc3-1f18-4449-9237-07a587bd5872\")>,\n",
       " <selenium.webdriver.remote.webelement.WebElement (session=\"06cc5f75a8a009e3d9e4c90f75e8c8c2\", element=\"89e239ca-95b4-4fbf-83a6-5a5619aa81f5\")>,\n",
       " <selenium.webdriver.remote.webelement.WebElement (session=\"06cc5f75a8a009e3d9e4c90f75e8c8c2\", element=\"c25d7a2b-aa27-49fb-9d2c-dfd355c6f9b7\")>,\n",
       " <selenium.webdriver.remote.webelement.WebElement (session=\"06cc5f75a8a009e3d9e4c90f75e8c8c2\", element=\"cb6614ee-3c27-4bce-9262-ef139277cdc1\")>,\n",
       " <selenium.webdriver.remote.webelement.WebElement (session=\"06cc5f75a8a009e3d9e4c90f75e8c8c2\", element=\"7ee6f9e9-b211-4266-a041-04950e7d7936\")>,\n",
       " <selenium.webdriver.remote.webelement.WebElement (session=\"06cc5f75a8a009e3d9e4c90f75e8c8c2\", element=\"46604a17-cf1a-43d7-84eb-aae62f6ee77c\")>,\n",
       " <selenium.webdriver.remote.webelement.WebElement (session=\"06cc5f75a8a009e3d9e4c90f75e8c8c2\", element=\"4cc35ed0-c0fc-4c7d-93b1-8a1305549f0a\")>,\n",
       " <selenium.webdriver.remote.webelement.WebElement (session=\"06cc5f75a8a009e3d9e4c90f75e8c8c2\", element=\"99fc3345-b61a-492d-87b1-7932b2cd6ab9\")>,\n",
       " <selenium.webdriver.remote.webelement.WebElement (session=\"06cc5f75a8a009e3d9e4c90f75e8c8c2\", element=\"da98ed1a-32eb-4921-959b-38f2cd28b93b\")>,\n",
       " <selenium.webdriver.remote.webelement.WebElement (session=\"06cc5f75a8a009e3d9e4c90f75e8c8c2\", element=\"009f180b-aefd-4b94-bcd7-fb37fdebf601\")>,\n",
       " <selenium.webdriver.remote.webelement.WebElement (session=\"06cc5f75a8a009e3d9e4c90f75e8c8c2\", element=\"3c9d2c4f-8e6d-468d-9ddb-919b1550fbec\")>,\n",
       " <selenium.webdriver.remote.webelement.WebElement (session=\"06cc5f75a8a009e3d9e4c90f75e8c8c2\", element=\"cdb75ca8-5459-451d-8467-5b8b4b3a030d\")>,\n",
       " <selenium.webdriver.remote.webelement.WebElement (session=\"06cc5f75a8a009e3d9e4c90f75e8c8c2\", element=\"d4e098f1-2f51-452c-9415-d256e7649c8a\")>,\n",
       " <selenium.webdriver.remote.webelement.WebElement (session=\"06cc5f75a8a009e3d9e4c90f75e8c8c2\", element=\"6f36c0b5-1b63-45a2-9269-fe588e6f8d25\")>,\n",
       " <selenium.webdriver.remote.webelement.WebElement (session=\"06cc5f75a8a009e3d9e4c90f75e8c8c2\", element=\"dc97e5d5-781a-4c8b-8ba7-509f1a42f8c3\")>,\n",
       " <selenium.webdriver.remote.webelement.WebElement (session=\"06cc5f75a8a009e3d9e4c90f75e8c8c2\", element=\"64a6cebe-48a1-4602-b231-effbdeed9c39\")>,\n",
       " <selenium.webdriver.remote.webelement.WebElement (session=\"06cc5f75a8a009e3d9e4c90f75e8c8c2\", element=\"cd191093-1cb4-431b-a991-6d79b68cbdaf\")>,\n",
       " <selenium.webdriver.remote.webelement.WebElement (session=\"06cc5f75a8a009e3d9e4c90f75e8c8c2\", element=\"3975e308-e6f0-4c62-bc0c-c62a4e95ccf2\")>,\n",
       " <selenium.webdriver.remote.webelement.WebElement (session=\"06cc5f75a8a009e3d9e4c90f75e8c8c2\", element=\"0f8f89f9-d0cd-4023-8d19-c651126c90e5\")>,\n",
       " <selenium.webdriver.remote.webelement.WebElement (session=\"06cc5f75a8a009e3d9e4c90f75e8c8c2\", element=\"64fad7cd-7924-432c-9df8-b2a44979c16d\")>,\n",
       " <selenium.webdriver.remote.webelement.WebElement (session=\"06cc5f75a8a009e3d9e4c90f75e8c8c2\", element=\"01802212-b656-4800-9cfb-be94daa632fc\")>,\n",
       " <selenium.webdriver.remote.webelement.WebElement (session=\"06cc5f75a8a009e3d9e4c90f75e8c8c2\", element=\"61eabc4d-9693-4bdd-b304-a07cd973fb91\")>,\n",
       " <selenium.webdriver.remote.webelement.WebElement (session=\"06cc5f75a8a009e3d9e4c90f75e8c8c2\", element=\"030eb4ec-ea3c-4546-8a2e-899c5241b935\")>,\n",
       " <selenium.webdriver.remote.webelement.WebElement (session=\"06cc5f75a8a009e3d9e4c90f75e8c8c2\", element=\"a91b08df-6aad-47b9-88a1-0c22018114ab\")>,\n",
       " <selenium.webdriver.remote.webelement.WebElement (session=\"06cc5f75a8a009e3d9e4c90f75e8c8c2\", element=\"712b0541-5b9d-483c-855e-c1d0b75be028\")>,\n",
       " <selenium.webdriver.remote.webelement.WebElement (session=\"06cc5f75a8a009e3d9e4c90f75e8c8c2\", element=\"3abd24ea-5136-48ff-8595-6c45d3b6724a\")>,\n",
       " <selenium.webdriver.remote.webelement.WebElement (session=\"06cc5f75a8a009e3d9e4c90f75e8c8c2\", element=\"38bc65e6-15e6-4a84-8a07-8e63e85a5cb2\")>,\n",
       " <selenium.webdriver.remote.webelement.WebElement (session=\"06cc5f75a8a009e3d9e4c90f75e8c8c2\", element=\"ea5a314d-f00c-4fb2-b86e-8d554c06503d\")>,\n",
       " <selenium.webdriver.remote.webelement.WebElement (session=\"06cc5f75a8a009e3d9e4c90f75e8c8c2\", element=\"a35f87ad-6f44-47f1-89f1-0536dd231f35\")>,\n",
       " <selenium.webdriver.remote.webelement.WebElement (session=\"06cc5f75a8a009e3d9e4c90f75e8c8c2\", element=\"70f74c5b-5e39-4ffc-805c-d85366970c80\")>,\n",
       " <selenium.webdriver.remote.webelement.WebElement (session=\"06cc5f75a8a009e3d9e4c90f75e8c8c2\", element=\"51677049-ad2d-4aff-8c0b-fdc79574ae88\")>,\n",
       " <selenium.webdriver.remote.webelement.WebElement (session=\"06cc5f75a8a009e3d9e4c90f75e8c8c2\", element=\"ea3b05fb-d2ff-40b6-be8f-438e48b5155f\")>,\n",
       " <selenium.webdriver.remote.webelement.WebElement (session=\"06cc5f75a8a009e3d9e4c90f75e8c8c2\", element=\"74eaef24-554d-4e7d-91a2-f2cd4f6f6e56\")>,\n",
       " <selenium.webdriver.remote.webelement.WebElement (session=\"06cc5f75a8a009e3d9e4c90f75e8c8c2\", element=\"3f756675-7ab9-4fc1-8bde-593c2a0e5e00\")>,\n",
       " <selenium.webdriver.remote.webelement.WebElement (session=\"06cc5f75a8a009e3d9e4c90f75e8c8c2\", element=\"f74ba06b-345d-4447-b63d-406797c01049\")>,\n",
       " <selenium.webdriver.remote.webelement.WebElement (session=\"06cc5f75a8a009e3d9e4c90f75e8c8c2\", element=\"fa5ee399-1f0f-425b-b7bb-5ea78f97dddb\")>,\n",
       " <selenium.webdriver.remote.webelement.WebElement (session=\"06cc5f75a8a009e3d9e4c90f75e8c8c2\", element=\"2f05de98-b2a5-4700-ab1f-480f26eb157d\")>,\n",
       " <selenium.webdriver.remote.webelement.WebElement (session=\"06cc5f75a8a009e3d9e4c90f75e8c8c2\", element=\"c77d48f4-7752-40c9-8801-50a431144ed3\")>,\n",
       " <selenium.webdriver.remote.webelement.WebElement (session=\"06cc5f75a8a009e3d9e4c90f75e8c8c2\", element=\"cf944ac0-c584-4b22-9377-d53d6081ac74\")>,\n",
       " <selenium.webdriver.remote.webelement.WebElement (session=\"06cc5f75a8a009e3d9e4c90f75e8c8c2\", element=\"31097fe0-a3f0-4764-a86a-ba038cb8197e\")>,\n",
       " <selenium.webdriver.remote.webelement.WebElement (session=\"06cc5f75a8a009e3d9e4c90f75e8c8c2\", element=\"cb085628-c9ae-40c1-94f1-132eb61e199f\")>,\n",
       " <selenium.webdriver.remote.webelement.WebElement (session=\"06cc5f75a8a009e3d9e4c90f75e8c8c2\", element=\"b6a7d09e-ddba-4742-ae78-51fb5b4449fe\")>,\n",
       " <selenium.webdriver.remote.webelement.WebElement (session=\"06cc5f75a8a009e3d9e4c90f75e8c8c2\", element=\"08d1c07d-08c6-41cd-a870-f62decbdb1d8\")>,\n",
       " <selenium.webdriver.remote.webelement.WebElement (session=\"06cc5f75a8a009e3d9e4c90f75e8c8c2\", element=\"2c4324b0-b680-44fa-81a8-058f31a4fe82\")>,\n",
       " <selenium.webdriver.remote.webelement.WebElement (session=\"06cc5f75a8a009e3d9e4c90f75e8c8c2\", element=\"e46c40ea-4514-44c7-b2ec-c2559791a7bd\")>,\n",
       " <selenium.webdriver.remote.webelement.WebElement (session=\"06cc5f75a8a009e3d9e4c90f75e8c8c2\", element=\"07377ca1-04ca-42c4-8c93-c8f437b83922\")>,\n",
       " <selenium.webdriver.remote.webelement.WebElement (session=\"06cc5f75a8a009e3d9e4c90f75e8c8c2\", element=\"ec754ce3-0a40-493e-9323-463d355b66c3\")>,\n",
       " <selenium.webdriver.remote.webelement.WebElement (session=\"06cc5f75a8a009e3d9e4c90f75e8c8c2\", element=\"e3d0429e-6092-4724-be7f-9d3fab495be6\")>,\n",
       " <selenium.webdriver.remote.webelement.WebElement (session=\"06cc5f75a8a009e3d9e4c90f75e8c8c2\", element=\"7f468e07-67e7-46b7-b121-dcd1a918f372\")>,\n",
       " <selenium.webdriver.remote.webelement.WebElement (session=\"06cc5f75a8a009e3d9e4c90f75e8c8c2\", element=\"f7ae49fe-0c31-4781-87b5-e60640d806b4\")>,\n",
       " <selenium.webdriver.remote.webelement.WebElement (session=\"06cc5f75a8a009e3d9e4c90f75e8c8c2\", element=\"d0e9b7a2-7997-47b6-a21c-8a4363683b0c\")>,\n",
       " <selenium.webdriver.remote.webelement.WebElement (session=\"06cc5f75a8a009e3d9e4c90f75e8c8c2\", element=\"868dd52d-f3e7-431e-8ab4-0b4d29aaebfa\")>,\n",
       " <selenium.webdriver.remote.webelement.WebElement (session=\"06cc5f75a8a009e3d9e4c90f75e8c8c2\", element=\"54d22a2b-e0f6-4971-bb2a-bf794fb4d920\")>,\n",
       " <selenium.webdriver.remote.webelement.WebElement (session=\"06cc5f75a8a009e3d9e4c90f75e8c8c2\", element=\"8fd40509-4618-4e3a-8802-f2a4f96fae98\")>,\n",
       " <selenium.webdriver.remote.webelement.WebElement (session=\"06cc5f75a8a009e3d9e4c90f75e8c8c2\", element=\"1849c839-dcb3-4db3-b8d5-416e67a4cf9a\")>,\n",
       " <selenium.webdriver.remote.webelement.WebElement (session=\"06cc5f75a8a009e3d9e4c90f75e8c8c2\", element=\"3d0f833d-07cd-4f45-8c2b-5eeaa608a257\")>,\n",
       " <selenium.webdriver.remote.webelement.WebElement (session=\"06cc5f75a8a009e3d9e4c90f75e8c8c2\", element=\"c9480c9d-aa9f-4af8-8ec6-5d80d880b03a\")>,\n",
       " <selenium.webdriver.remote.webelement.WebElement (session=\"06cc5f75a8a009e3d9e4c90f75e8c8c2\", element=\"6990c07c-7e31-46eb-b88f-5eeba493a059\")>,\n",
       " <selenium.webdriver.remote.webelement.WebElement (session=\"06cc5f75a8a009e3d9e4c90f75e8c8c2\", element=\"e150472a-6902-42d3-878c-027321724261\")>,\n",
       " <selenium.webdriver.remote.webelement.WebElement (session=\"06cc5f75a8a009e3d9e4c90f75e8c8c2\", element=\"742c45a3-cfb6-4aec-be87-dda099179ae0\")>,\n",
       " <selenium.webdriver.remote.webelement.WebElement (session=\"06cc5f75a8a009e3d9e4c90f75e8c8c2\", element=\"296d4286-bbb7-4b35-843d-c65b0fbf3f69\")>,\n",
       " <selenium.webdriver.remote.webelement.WebElement (session=\"06cc5f75a8a009e3d9e4c90f75e8c8c2\", element=\"607a2355-f62c-4ac6-adf2-a97ca54f9255\")>,\n",
       " <selenium.webdriver.remote.webelement.WebElement (session=\"06cc5f75a8a009e3d9e4c90f75e8c8c2\", element=\"b84a5bc1-22ba-4d04-8337-36a1b435c87e\")>,\n",
       " <selenium.webdriver.remote.webelement.WebElement (session=\"06cc5f75a8a009e3d9e4c90f75e8c8c2\", element=\"43560ddd-3f15-467a-8e2f-c4d39bcba4e8\")>,\n",
       " <selenium.webdriver.remote.webelement.WebElement (session=\"06cc5f75a8a009e3d9e4c90f75e8c8c2\", element=\"62429eb0-51ed-4217-9344-b3e367270dec\")>,\n",
       " <selenium.webdriver.remote.webelement.WebElement (session=\"06cc5f75a8a009e3d9e4c90f75e8c8c2\", element=\"4202240d-7e2a-436c-8102-072f49b965df\")>,\n",
       " <selenium.webdriver.remote.webelement.WebElement (session=\"06cc5f75a8a009e3d9e4c90f75e8c8c2\", element=\"2661803a-4037-4447-93c3-feb217bfb040\")>,\n",
       " <selenium.webdriver.remote.webelement.WebElement (session=\"06cc5f75a8a009e3d9e4c90f75e8c8c2\", element=\"cbbee514-da4a-44f2-92ef-a0c02c2856c4\")>,\n",
       " <selenium.webdriver.remote.webelement.WebElement (session=\"06cc5f75a8a009e3d9e4c90f75e8c8c2\", element=\"a29b55b5-e661-4b23-825e-5c51f23c23d0\")>,\n",
       " <selenium.webdriver.remote.webelement.WebElement (session=\"06cc5f75a8a009e3d9e4c90f75e8c8c2\", element=\"0008ce8b-9bb2-4bc8-8d35-dbc06f0a093c\")>,\n",
       " <selenium.webdriver.remote.webelement.WebElement (session=\"06cc5f75a8a009e3d9e4c90f75e8c8c2\", element=\"7e40e70c-3d97-4703-bad7-cf90fb760bc8\")>,\n",
       " <selenium.webdriver.remote.webelement.WebElement (session=\"06cc5f75a8a009e3d9e4c90f75e8c8c2\", element=\"a32ab5dc-cd83-4264-92b5-d13fbb64ec7c\")>,\n",
       " <selenium.webdriver.remote.webelement.WebElement (session=\"06cc5f75a8a009e3d9e4c90f75e8c8c2\", element=\"4fd9c1ee-9737-4155-a39f-5d7f1a6eee95\")>,\n",
       " <selenium.webdriver.remote.webelement.WebElement (session=\"06cc5f75a8a009e3d9e4c90f75e8c8c2\", element=\"867124fb-92a0-485b-be5f-47f9c493c906\")>,\n",
       " <selenium.webdriver.remote.webelement.WebElement (session=\"06cc5f75a8a009e3d9e4c90f75e8c8c2\", element=\"53f689c4-f514-4857-aa3e-f5bfe6f5d0c1\")>,\n",
       " <selenium.webdriver.remote.webelement.WebElement (session=\"06cc5f75a8a009e3d9e4c90f75e8c8c2\", element=\"a90baaaf-0da0-4360-9661-3d484b380610\")>,\n",
       " <selenium.webdriver.remote.webelement.WebElement (session=\"06cc5f75a8a009e3d9e4c90f75e8c8c2\", element=\"3013d869-d9d7-4bda-a257-7e69461788c9\")>,\n",
       " <selenium.webdriver.remote.webelement.WebElement (session=\"06cc5f75a8a009e3d9e4c90f75e8c8c2\", element=\"c9abc95f-4910-469a-9a2b-b49fe4b5b626\")>,\n",
       " <selenium.webdriver.remote.webelement.WebElement (session=\"06cc5f75a8a009e3d9e4c90f75e8c8c2\", element=\"a3d648f8-f92b-4053-a7ec-b7c22fb9edfe\")>]"
      ]
     },
     "execution_count": 9,
     "metadata": {},
     "output_type": "execute_result"
    }
   ],
   "source": [
    "player_list2=driver.find_elements_by_xpath(\"//td[@class='table-body__cell rankings-table__name name']\")\n",
    "player_list2"
   ]
  },
  {
   "cell_type": "code",
   "execution_count": 10,
   "metadata": {},
   "outputs": [
    {
     "data": {
      "text/plain": [
       "['Stafanie Taylor',\n",
       " 'Alyssa Healy',\n",
       " 'Smriti Mandhana',\n",
       " 'Amy Satterthwaite',\n",
       " 'Tammy Beaumont',\n",
       " 'Ellyse Perry']"
      ]
     },
     "execution_count": 10,
     "metadata": {},
     "output_type": "execute_result"
    }
   ],
   "source": [
    "for i in player_list2:\n",
    "    p2=i.text\n",
    "    p6.append(p2)\n",
    "p6[:6]"
   ]
  },
  {
   "cell_type": "code",
   "execution_count": 11,
   "metadata": {},
   "outputs": [
    {
     "data": {
      "text/plain": [
       "['Meg Lanning',\n",
       " 'Stafanie Taylor',\n",
       " 'Alyssa Healy',\n",
       " 'Smriti Mandhana',\n",
       " 'Amy Satterthwaite',\n",
       " 'Tammy Beaumont',\n",
       " 'Ellyse Perry',\n",
       " 'Lizelle Lee',\n",
       " 'Laura Wolvaardt']"
      ]
     },
     "execution_count": 11,
     "metadata": {},
     "output_type": "execute_result"
    }
   ],
   "source": [
    "players= p+p6\n",
    "players[:9]"
   ]
  },
  {
   "cell_type": "code",
   "execution_count": 12,
   "metadata": {},
   "outputs": [],
   "source": [
    "team_list=driver.find_elements_by_xpath(\"//div[@class='rankings-block__banner--nationality']\")"
   ]
  },
  {
   "cell_type": "code",
   "execution_count": 13,
   "metadata": {},
   "outputs": [
    {
     "data": {
      "text/plain": [
       "['AUS']"
      ]
     },
     "execution_count": 13,
     "metadata": {},
     "output_type": "execute_result"
    }
   ],
   "source": [
    "for i in team_list:\n",
    "    d=i.text\n",
    "    PlayerTeam.append(d)\n",
    "PlayerTeam"
   ]
  },
  {
   "cell_type": "code",
   "execution_count": 14,
   "metadata": {},
   "outputs": [
    {
     "data": {
      "text/plain": [
       "[<selenium.webdriver.remote.webelement.WebElement (session=\"06cc5f75a8a009e3d9e4c90f75e8c8c2\", element=\"211ecb09-f7ed-4430-939f-d6b824974f6c\")>,\n",
       " <selenium.webdriver.remote.webelement.WebElement (session=\"06cc5f75a8a009e3d9e4c90f75e8c8c2\", element=\"1a51db66-1835-4de1-b4b1-863efb6914b4\")>,\n",
       " <selenium.webdriver.remote.webelement.WebElement (session=\"06cc5f75a8a009e3d9e4c90f75e8c8c2\", element=\"1bfba16e-e5aa-4c0c-bdd8-7bb7a5585453\")>,\n",
       " <selenium.webdriver.remote.webelement.WebElement (session=\"06cc5f75a8a009e3d9e4c90f75e8c8c2\", element=\"6e9ff58a-3556-4b1f-9a42-f0bc9decdc8f\")>,\n",
       " <selenium.webdriver.remote.webelement.WebElement (session=\"06cc5f75a8a009e3d9e4c90f75e8c8c2\", element=\"dd08ea65-1930-4ce1-ab91-685d80747b44\")>,\n",
       " <selenium.webdriver.remote.webelement.WebElement (session=\"06cc5f75a8a009e3d9e4c90f75e8c8c2\", element=\"c858a268-a7a4-4a43-9c40-9ff5b73a958a\")>,\n",
       " <selenium.webdriver.remote.webelement.WebElement (session=\"06cc5f75a8a009e3d9e4c90f75e8c8c2\", element=\"e417fc5a-7588-4779-8765-53bcbd355b96\")>,\n",
       " <selenium.webdriver.remote.webelement.WebElement (session=\"06cc5f75a8a009e3d9e4c90f75e8c8c2\", element=\"f95d554c-4934-4adb-92d1-4c21db336fe2\")>,\n",
       " <selenium.webdriver.remote.webelement.WebElement (session=\"06cc5f75a8a009e3d9e4c90f75e8c8c2\", element=\"001f5591-2cd5-4cc9-9e66-676c7dcc8eca\")>,\n",
       " <selenium.webdriver.remote.webelement.WebElement (session=\"06cc5f75a8a009e3d9e4c90f75e8c8c2\", element=\"c4a72acd-3e8e-4796-90bd-6bbaa278f9f6\")>,\n",
       " <selenium.webdriver.remote.webelement.WebElement (session=\"06cc5f75a8a009e3d9e4c90f75e8c8c2\", element=\"fec73801-9d07-424e-bc1e-8c8714dccc7e\")>,\n",
       " <selenium.webdriver.remote.webelement.WebElement (session=\"06cc5f75a8a009e3d9e4c90f75e8c8c2\", element=\"8b8fb6a0-2268-495d-8522-23d04a80f312\")>,\n",
       " <selenium.webdriver.remote.webelement.WebElement (session=\"06cc5f75a8a009e3d9e4c90f75e8c8c2\", element=\"56bc5488-8325-4058-bb94-659f6f5830d1\")>,\n",
       " <selenium.webdriver.remote.webelement.WebElement (session=\"06cc5f75a8a009e3d9e4c90f75e8c8c2\", element=\"c22ef1d6-3b57-4acd-b13e-6928eb5788e0\")>,\n",
       " <selenium.webdriver.remote.webelement.WebElement (session=\"06cc5f75a8a009e3d9e4c90f75e8c8c2\", element=\"87cd1e8c-c313-4881-b07d-f298a8b3c281\")>,\n",
       " <selenium.webdriver.remote.webelement.WebElement (session=\"06cc5f75a8a009e3d9e4c90f75e8c8c2\", element=\"af706118-7982-43ec-9333-bc4b592c1331\")>,\n",
       " <selenium.webdriver.remote.webelement.WebElement (session=\"06cc5f75a8a009e3d9e4c90f75e8c8c2\", element=\"09ec56bc-9238-49f4-a0d0-47054c660c1e\")>,\n",
       " <selenium.webdriver.remote.webelement.WebElement (session=\"06cc5f75a8a009e3d9e4c90f75e8c8c2\", element=\"4018118d-f6a4-46d4-acc8-4b5cddf9f5d8\")>,\n",
       " <selenium.webdriver.remote.webelement.WebElement (session=\"06cc5f75a8a009e3d9e4c90f75e8c8c2\", element=\"ce368ce3-5d59-49a0-9a7e-a24dce42c092\")>,\n",
       " <selenium.webdriver.remote.webelement.WebElement (session=\"06cc5f75a8a009e3d9e4c90f75e8c8c2\", element=\"180ab0bb-391c-4a16-9f43-0d9eb4a9197b\")>,\n",
       " <selenium.webdriver.remote.webelement.WebElement (session=\"06cc5f75a8a009e3d9e4c90f75e8c8c2\", element=\"e0efdb7f-c729-498f-b56b-b5e71a1cf53c\")>,\n",
       " <selenium.webdriver.remote.webelement.WebElement (session=\"06cc5f75a8a009e3d9e4c90f75e8c8c2\", element=\"2d4ee3fa-57c0-456c-b84d-84515ce4eedd\")>,\n",
       " <selenium.webdriver.remote.webelement.WebElement (session=\"06cc5f75a8a009e3d9e4c90f75e8c8c2\", element=\"b19e3ba8-d71a-4b04-9cd8-39fb6cdfcf14\")>,\n",
       " <selenium.webdriver.remote.webelement.WebElement (session=\"06cc5f75a8a009e3d9e4c90f75e8c8c2\", element=\"3b6ff386-36e3-40f9-baf6-45997d4ab0c4\")>,\n",
       " <selenium.webdriver.remote.webelement.WebElement (session=\"06cc5f75a8a009e3d9e4c90f75e8c8c2\", element=\"bbcb2b06-decd-4c32-91ad-e840bd06d6ec\")>,\n",
       " <selenium.webdriver.remote.webelement.WebElement (session=\"06cc5f75a8a009e3d9e4c90f75e8c8c2\", element=\"863cd22e-b210-4edb-b7a6-2ea2519979a4\")>,\n",
       " <selenium.webdriver.remote.webelement.WebElement (session=\"06cc5f75a8a009e3d9e4c90f75e8c8c2\", element=\"83c3671f-12d1-42c7-bb84-abe4c81b8862\")>,\n",
       " <selenium.webdriver.remote.webelement.WebElement (session=\"06cc5f75a8a009e3d9e4c90f75e8c8c2\", element=\"4fe174e4-8ff0-40be-b0bf-7cd570df1376\")>,\n",
       " <selenium.webdriver.remote.webelement.WebElement (session=\"06cc5f75a8a009e3d9e4c90f75e8c8c2\", element=\"5f1d7e2e-301b-41df-90d8-69cb09b37dbd\")>,\n",
       " <selenium.webdriver.remote.webelement.WebElement (session=\"06cc5f75a8a009e3d9e4c90f75e8c8c2\", element=\"4e749f5c-988b-4d69-88c8-d66a10889d80\")>,\n",
       " <selenium.webdriver.remote.webelement.WebElement (session=\"06cc5f75a8a009e3d9e4c90f75e8c8c2\", element=\"2ee74f57-9e96-4396-9f67-cd4651c24ce4\")>,\n",
       " <selenium.webdriver.remote.webelement.WebElement (session=\"06cc5f75a8a009e3d9e4c90f75e8c8c2\", element=\"d85af00b-d7c3-49e5-893f-23578572b254\")>,\n",
       " <selenium.webdriver.remote.webelement.WebElement (session=\"06cc5f75a8a009e3d9e4c90f75e8c8c2\", element=\"94d33662-a63d-417f-abce-6f635b7a84c8\")>,\n",
       " <selenium.webdriver.remote.webelement.WebElement (session=\"06cc5f75a8a009e3d9e4c90f75e8c8c2\", element=\"5cfb8253-4e97-4a98-8b32-3c42e2336fbc\")>,\n",
       " <selenium.webdriver.remote.webelement.WebElement (session=\"06cc5f75a8a009e3d9e4c90f75e8c8c2\", element=\"60dc02f7-83cb-4329-ba8b-4dda5a0e4414\")>,\n",
       " <selenium.webdriver.remote.webelement.WebElement (session=\"06cc5f75a8a009e3d9e4c90f75e8c8c2\", element=\"20360865-6b6f-44cc-823d-b79ccaae34fe\")>,\n",
       " <selenium.webdriver.remote.webelement.WebElement (session=\"06cc5f75a8a009e3d9e4c90f75e8c8c2\", element=\"d79b982d-d344-4eaf-bf9b-fdfc6dafa9c4\")>,\n",
       " <selenium.webdriver.remote.webelement.WebElement (session=\"06cc5f75a8a009e3d9e4c90f75e8c8c2\", element=\"00a977ae-be27-47af-9659-69ea87321094\")>,\n",
       " <selenium.webdriver.remote.webelement.WebElement (session=\"06cc5f75a8a009e3d9e4c90f75e8c8c2\", element=\"4f451080-6c16-4501-9637-a907d7d3c7b4\")>,\n",
       " <selenium.webdriver.remote.webelement.WebElement (session=\"06cc5f75a8a009e3d9e4c90f75e8c8c2\", element=\"a971a01b-3fdd-4f14-adfc-1990a58e6d66\")>,\n",
       " <selenium.webdriver.remote.webelement.WebElement (session=\"06cc5f75a8a009e3d9e4c90f75e8c8c2\", element=\"cf247730-4374-489e-8c97-f730b067dff3\")>,\n",
       " <selenium.webdriver.remote.webelement.WebElement (session=\"06cc5f75a8a009e3d9e4c90f75e8c8c2\", element=\"ea78ee8d-153d-42e4-b05e-baab5fe756e4\")>,\n",
       " <selenium.webdriver.remote.webelement.WebElement (session=\"06cc5f75a8a009e3d9e4c90f75e8c8c2\", element=\"f6f4751c-35d9-493b-bbaa-f92f56d2be6d\")>,\n",
       " <selenium.webdriver.remote.webelement.WebElement (session=\"06cc5f75a8a009e3d9e4c90f75e8c8c2\", element=\"99ff01a4-2f51-422f-b125-17ec6645d7d3\")>,\n",
       " <selenium.webdriver.remote.webelement.WebElement (session=\"06cc5f75a8a009e3d9e4c90f75e8c8c2\", element=\"16999fab-179b-4702-ae7e-ffc057cc6816\")>,\n",
       " <selenium.webdriver.remote.webelement.WebElement (session=\"06cc5f75a8a009e3d9e4c90f75e8c8c2\", element=\"923322f2-66d3-47f1-ac03-ada61381ac29\")>,\n",
       " <selenium.webdriver.remote.webelement.WebElement (session=\"06cc5f75a8a009e3d9e4c90f75e8c8c2\", element=\"16614180-73e3-428e-9bab-e8cf7a4a51da\")>,\n",
       " <selenium.webdriver.remote.webelement.WebElement (session=\"06cc5f75a8a009e3d9e4c90f75e8c8c2\", element=\"e5e34683-2770-43a3-9bb5-4b7df658961b\")>,\n",
       " <selenium.webdriver.remote.webelement.WebElement (session=\"06cc5f75a8a009e3d9e4c90f75e8c8c2\", element=\"bc621dbf-2c7e-4994-b60a-666d9960c66f\")>,\n",
       " <selenium.webdriver.remote.webelement.WebElement (session=\"06cc5f75a8a009e3d9e4c90f75e8c8c2\", element=\"203c4c41-3923-4063-a64f-01adff086e59\")>,\n",
       " <selenium.webdriver.remote.webelement.WebElement (session=\"06cc5f75a8a009e3d9e4c90f75e8c8c2\", element=\"8ba05620-1e3b-4a38-ab04-7ee436f2432d\")>,\n",
       " <selenium.webdriver.remote.webelement.WebElement (session=\"06cc5f75a8a009e3d9e4c90f75e8c8c2\", element=\"6b393d81-c5b0-420b-b5b8-61e1e8a42944\")>,\n",
       " <selenium.webdriver.remote.webelement.WebElement (session=\"06cc5f75a8a009e3d9e4c90f75e8c8c2\", element=\"102ba47c-358b-45c7-b792-7d7c3f66657a\")>,\n",
       " <selenium.webdriver.remote.webelement.WebElement (session=\"06cc5f75a8a009e3d9e4c90f75e8c8c2\", element=\"848d12a9-c7db-4043-9c99-fe9077eadcbb\")>,\n",
       " <selenium.webdriver.remote.webelement.WebElement (session=\"06cc5f75a8a009e3d9e4c90f75e8c8c2\", element=\"f615f898-ebed-4b56-ae82-a291b0fe3fab\")>,\n",
       " <selenium.webdriver.remote.webelement.WebElement (session=\"06cc5f75a8a009e3d9e4c90f75e8c8c2\", element=\"a0413975-165a-42be-acc1-9ab69a88c4f2\")>,\n",
       " <selenium.webdriver.remote.webelement.WebElement (session=\"06cc5f75a8a009e3d9e4c90f75e8c8c2\", element=\"e3746736-8bc3-4f8b-be10-730957662f95\")>,\n",
       " <selenium.webdriver.remote.webelement.WebElement (session=\"06cc5f75a8a009e3d9e4c90f75e8c8c2\", element=\"ba2b4eeb-fedd-44f2-8a11-b3d97c87a8fd\")>,\n",
       " <selenium.webdriver.remote.webelement.WebElement (session=\"06cc5f75a8a009e3d9e4c90f75e8c8c2\", element=\"7c1c625b-c24e-4c38-a5a5-688f5cddad8c\")>,\n",
       " <selenium.webdriver.remote.webelement.WebElement (session=\"06cc5f75a8a009e3d9e4c90f75e8c8c2\", element=\"b532f700-29c9-4614-b061-069cf3b4b6c9\")>,\n",
       " <selenium.webdriver.remote.webelement.WebElement (session=\"06cc5f75a8a009e3d9e4c90f75e8c8c2\", element=\"816a6959-4c4e-44c7-9e4f-6364fed243c0\")>,\n",
       " <selenium.webdriver.remote.webelement.WebElement (session=\"06cc5f75a8a009e3d9e4c90f75e8c8c2\", element=\"dfc4ca79-7319-4063-b0e9-a1edbeec1a1a\")>,\n",
       " <selenium.webdriver.remote.webelement.WebElement (session=\"06cc5f75a8a009e3d9e4c90f75e8c8c2\", element=\"fb622657-9697-4715-8637-62cfdf4b43cf\")>,\n",
       " <selenium.webdriver.remote.webelement.WebElement (session=\"06cc5f75a8a009e3d9e4c90f75e8c8c2\", element=\"a9ac9ad3-01ae-42ef-8b14-764f3fe1d304\")>,\n",
       " <selenium.webdriver.remote.webelement.WebElement (session=\"06cc5f75a8a009e3d9e4c90f75e8c8c2\", element=\"d57de896-7285-4dcd-8816-b86f79ac66e2\")>,\n",
       " <selenium.webdriver.remote.webelement.WebElement (session=\"06cc5f75a8a009e3d9e4c90f75e8c8c2\", element=\"b4387a3a-1ad5-4c9c-9c40-e13b2be0b178\")>,\n",
       " <selenium.webdriver.remote.webelement.WebElement (session=\"06cc5f75a8a009e3d9e4c90f75e8c8c2\", element=\"3699aa12-c43b-4635-b211-256b2035638b\")>,\n",
       " <selenium.webdriver.remote.webelement.WebElement (session=\"06cc5f75a8a009e3d9e4c90f75e8c8c2\", element=\"d9bdd55c-f942-4db4-bebd-5663f1894eb8\")>,\n",
       " <selenium.webdriver.remote.webelement.WebElement (session=\"06cc5f75a8a009e3d9e4c90f75e8c8c2\", element=\"80f8a5ff-c7c0-4d9b-8079-9df9003a543c\")>,\n",
       " <selenium.webdriver.remote.webelement.WebElement (session=\"06cc5f75a8a009e3d9e4c90f75e8c8c2\", element=\"a7e363d6-0c60-4bf6-917d-9187f27903ab\")>,\n",
       " <selenium.webdriver.remote.webelement.WebElement (session=\"06cc5f75a8a009e3d9e4c90f75e8c8c2\", element=\"4b994929-1607-4fa9-8120-64e143ad2381\")>,\n",
       " <selenium.webdriver.remote.webelement.WebElement (session=\"06cc5f75a8a009e3d9e4c90f75e8c8c2\", element=\"a52a1757-8bb0-46a2-a647-3d0d7e077fd8\")>,\n",
       " <selenium.webdriver.remote.webelement.WebElement (session=\"06cc5f75a8a009e3d9e4c90f75e8c8c2\", element=\"e47f79d7-917f-4268-b139-e8d6d0104ab2\")>,\n",
       " <selenium.webdriver.remote.webelement.WebElement (session=\"06cc5f75a8a009e3d9e4c90f75e8c8c2\", element=\"358da84c-d1d9-4003-8f60-ee0192b5a67f\")>,\n",
       " <selenium.webdriver.remote.webelement.WebElement (session=\"06cc5f75a8a009e3d9e4c90f75e8c8c2\", element=\"8e50c97b-fc5c-4f7c-9d63-e00968f96600\")>,\n",
       " <selenium.webdriver.remote.webelement.WebElement (session=\"06cc5f75a8a009e3d9e4c90f75e8c8c2\", element=\"bb919f87-3827-4499-beef-145a8dbe29ce\")>,\n",
       " <selenium.webdriver.remote.webelement.WebElement (session=\"06cc5f75a8a009e3d9e4c90f75e8c8c2\", element=\"d2987159-9a7d-486d-b508-ac1768345e39\")>,\n",
       " <selenium.webdriver.remote.webelement.WebElement (session=\"06cc5f75a8a009e3d9e4c90f75e8c8c2\", element=\"77c10e9e-5a9f-4a9d-b672-003c56aeb613\")>,\n",
       " <selenium.webdriver.remote.webelement.WebElement (session=\"06cc5f75a8a009e3d9e4c90f75e8c8c2\", element=\"53de361e-14ed-4b22-8e1d-11539f550597\")>,\n",
       " <selenium.webdriver.remote.webelement.WebElement (session=\"06cc5f75a8a009e3d9e4c90f75e8c8c2\", element=\"100709c1-241b-4601-8184-491163c8a8e8\")>,\n",
       " <selenium.webdriver.remote.webelement.WebElement (session=\"06cc5f75a8a009e3d9e4c90f75e8c8c2\", element=\"7909abc7-8dba-4ef6-bc83-f8c00b1c123c\")>,\n",
       " <selenium.webdriver.remote.webelement.WebElement (session=\"06cc5f75a8a009e3d9e4c90f75e8c8c2\", element=\"4f8a61b4-e480-4431-9e30-86865d17f2af\")>,\n",
       " <selenium.webdriver.remote.webelement.WebElement (session=\"06cc5f75a8a009e3d9e4c90f75e8c8c2\", element=\"83bd94d1-f9e2-4550-b0bf-875607360150\")>,\n",
       " <selenium.webdriver.remote.webelement.WebElement (session=\"06cc5f75a8a009e3d9e4c90f75e8c8c2\", element=\"a64fb792-03a7-455e-b85b-b07e8b013406\")>,\n",
       " <selenium.webdriver.remote.webelement.WebElement (session=\"06cc5f75a8a009e3d9e4c90f75e8c8c2\", element=\"eb6c1781-5bba-4db2-8997-1eaeb794cc3e\")>,\n",
       " <selenium.webdriver.remote.webelement.WebElement (session=\"06cc5f75a8a009e3d9e4c90f75e8c8c2\", element=\"5f71c2ef-00e7-4eab-94bb-da03f3d11cfc\")>,\n",
       " <selenium.webdriver.remote.webelement.WebElement (session=\"06cc5f75a8a009e3d9e4c90f75e8c8c2\", element=\"3222cc69-1db8-412d-91b5-d4ae96dd30ec\")>,\n",
       " <selenium.webdriver.remote.webelement.WebElement (session=\"06cc5f75a8a009e3d9e4c90f75e8c8c2\", element=\"d1a9d94a-f048-4986-9131-a4aa41cd08c9\")>,\n",
       " <selenium.webdriver.remote.webelement.WebElement (session=\"06cc5f75a8a009e3d9e4c90f75e8c8c2\", element=\"ced2b213-1ffd-43e7-ad67-4a88c91b4072\")>,\n",
       " <selenium.webdriver.remote.webelement.WebElement (session=\"06cc5f75a8a009e3d9e4c90f75e8c8c2\", element=\"17d0b8c7-7efc-49e1-be12-76cae067dc24\")>,\n",
       " <selenium.webdriver.remote.webelement.WebElement (session=\"06cc5f75a8a009e3d9e4c90f75e8c8c2\", element=\"d286954a-090f-4314-bf74-7524d2cf420d\")>,\n",
       " <selenium.webdriver.remote.webelement.WebElement (session=\"06cc5f75a8a009e3d9e4c90f75e8c8c2\", element=\"0a0ef960-1df6-4445-867d-bfcc4b6da93f\")>,\n",
       " <selenium.webdriver.remote.webelement.WebElement (session=\"06cc5f75a8a009e3d9e4c90f75e8c8c2\", element=\"d583fc3d-219e-442c-8504-55d632147793\")>,\n",
       " <selenium.webdriver.remote.webelement.WebElement (session=\"06cc5f75a8a009e3d9e4c90f75e8c8c2\", element=\"fa963340-4c9e-4a50-93c1-f350c87f0ab9\")>,\n",
       " <selenium.webdriver.remote.webelement.WebElement (session=\"06cc5f75a8a009e3d9e4c90f75e8c8c2\", element=\"6b0600dc-9236-4a1a-9452-6475427fd165\")>,\n",
       " <selenium.webdriver.remote.webelement.WebElement (session=\"06cc5f75a8a009e3d9e4c90f75e8c8c2\", element=\"0f79eedb-7b62-49d6-b202-0145463bca87\")>,\n",
       " <selenium.webdriver.remote.webelement.WebElement (session=\"06cc5f75a8a009e3d9e4c90f75e8c8c2\", element=\"fddd52e9-1d65-4a98-b12b-43f47f345115\")>,\n",
       " <selenium.webdriver.remote.webelement.WebElement (session=\"06cc5f75a8a009e3d9e4c90f75e8c8c2\", element=\"e3fda20b-ca97-40b1-8724-3cda4b4c6294\")>,\n",
       " <selenium.webdriver.remote.webelement.WebElement (session=\"06cc5f75a8a009e3d9e4c90f75e8c8c2\", element=\"863ea7d5-59dc-4491-a2d6-98fa5d3686f6\")>]"
      ]
     },
     "execution_count": 14,
     "metadata": {},
     "output_type": "execute_result"
    }
   ],
   "source": [
    "team_list2=driver.find_elements_by_xpath(\"//span[@class='table-body__logo-text']\")\n",
    "team_list2"
   ]
  },
  {
   "cell_type": "code",
   "execution_count": 15,
   "metadata": {},
   "outputs": [
    {
     "data": {
      "text/plain": [
       "['AUS', 'WI', 'AUS', 'IND', 'NZ', 'ENG', 'AUS', 'SA', 'SA']"
      ]
     },
     "execution_count": 15,
     "metadata": {},
     "output_type": "execute_result"
    }
   ],
   "source": [
    "for i in team_list2:\n",
    "    d1=i.text\n",
    "    PlayerTeam.append(d1)\n",
    "PlayerTeam[:9]"
   ]
  },
  {
   "cell_type": "code",
   "execution_count": 16,
   "metadata": {},
   "outputs": [],
   "source": [
    "ratings = driver.find_elements_by_xpath(\"//div[@class='rankings-block__banner--rating']\")\n"
   ]
  },
  {
   "cell_type": "code",
   "execution_count": 17,
   "metadata": {},
   "outputs": [
    {
     "data": {
      "text/plain": [
       "['749']"
      ]
     },
     "execution_count": 17,
     "metadata": {},
     "output_type": "execute_result"
    }
   ],
   "source": [
    "for i in ratings:\n",
    "    d3=i.text\n",
    "    PlayerRating.append(d3)\n",
    "PlayerRating"
   ]
  },
  {
   "cell_type": "code",
   "execution_count": 18,
   "metadata": {},
   "outputs": [],
   "source": [
    "ratings2= driver.find_elements_by_xpath(\"//td[@class='table-body__cell rating']\")"
   ]
  },
  {
   "cell_type": "code",
   "execution_count": 19,
   "metadata": {},
   "outputs": [
    {
     "data": {
      "text/plain": [
       "['749', '746', '741', '732', '723', '716']"
      ]
     },
     "execution_count": 19,
     "metadata": {},
     "output_type": "execute_result"
    }
   ],
   "source": [
    "for i in ratings2:\n",
    "    d3=i.text\n",
    "    PlayerRating.append(d3)\n",
    "PlayerRating[:6]"
   ]
  },
  {
   "cell_type": "code",
   "execution_count": 20,
   "metadata": {},
   "outputs": [],
   "source": [
    "Batsmen=pd.DataFrame({})\n",
    "Batsmen['Player'] = players[:10]\n",
    "Batsmen['Country']= PlayerTeam[:10] \n",
    "Batsmen['Rating'] = PlayerRating[:10]"
   ]
  },
  {
   "cell_type": "code",
   "execution_count": 21,
   "metadata": {},
   "outputs": [
    {
     "data": {
      "text/html": [
       "<div>\n",
       "<style scoped>\n",
       "    .dataframe tbody tr th:only-of-type {\n",
       "        vertical-align: middle;\n",
       "    }\n",
       "\n",
       "    .dataframe tbody tr th {\n",
       "        vertical-align: top;\n",
       "    }\n",
       "\n",
       "    .dataframe thead th {\n",
       "        text-align: right;\n",
       "    }\n",
       "</style>\n",
       "<table border=\"1\" class=\"dataframe\">\n",
       "  <thead>\n",
       "    <tr style=\"text-align: right;\">\n",
       "      <th></th>\n",
       "      <th>Player</th>\n",
       "      <th>Country</th>\n",
       "      <th>Rating</th>\n",
       "    </tr>\n",
       "  </thead>\n",
       "  <tbody>\n",
       "    <tr>\n",
       "      <th>0</th>\n",
       "      <td>Meg Lanning</td>\n",
       "      <td>AUS</td>\n",
       "      <td>749</td>\n",
       "    </tr>\n",
       "    <tr>\n",
       "      <th>1</th>\n",
       "      <td>Stafanie Taylor</td>\n",
       "      <td>WI</td>\n",
       "      <td>746</td>\n",
       "    </tr>\n",
       "    <tr>\n",
       "      <th>2</th>\n",
       "      <td>Alyssa Healy</td>\n",
       "      <td>AUS</td>\n",
       "      <td>741</td>\n",
       "    </tr>\n",
       "    <tr>\n",
       "      <th>3</th>\n",
       "      <td>Smriti Mandhana</td>\n",
       "      <td>IND</td>\n",
       "      <td>732</td>\n",
       "    </tr>\n",
       "    <tr>\n",
       "      <th>4</th>\n",
       "      <td>Amy Satterthwaite</td>\n",
       "      <td>NZ</td>\n",
       "      <td>723</td>\n",
       "    </tr>\n",
       "    <tr>\n",
       "      <th>5</th>\n",
       "      <td>Tammy Beaumont</td>\n",
       "      <td>ENG</td>\n",
       "      <td>716</td>\n",
       "    </tr>\n",
       "    <tr>\n",
       "      <th>6</th>\n",
       "      <td>Ellyse Perry</td>\n",
       "      <td>AUS</td>\n",
       "      <td>691</td>\n",
       "    </tr>\n",
       "    <tr>\n",
       "      <th>7</th>\n",
       "      <td>Lizelle Lee</td>\n",
       "      <td>SA</td>\n",
       "      <td>690</td>\n",
       "    </tr>\n",
       "    <tr>\n",
       "      <th>8</th>\n",
       "      <td>Laura Wolvaardt</td>\n",
       "      <td>SA</td>\n",
       "      <td>689</td>\n",
       "    </tr>\n",
       "    <tr>\n",
       "      <th>9</th>\n",
       "      <td>Mithali Raj</td>\n",
       "      <td>IND</td>\n",
       "      <td>687</td>\n",
       "    </tr>\n",
       "  </tbody>\n",
       "</table>\n",
       "</div>"
      ],
      "text/plain": [
       "              Player Country Rating\n",
       "0        Meg Lanning     AUS    749\n",
       "1    Stafanie Taylor      WI    746\n",
       "2       Alyssa Healy     AUS    741\n",
       "3    Smriti Mandhana     IND    732\n",
       "4  Amy Satterthwaite      NZ    723\n",
       "5     Tammy Beaumont     ENG    716\n",
       "6       Ellyse Perry     AUS    691\n",
       "7        Lizelle Lee      SA    690\n",
       "8    Laura Wolvaardt      SA    689\n",
       "9        Mithali Raj     IND    687"
      ]
     },
     "execution_count": 21,
     "metadata": {},
     "output_type": "execute_result"
    }
   ],
   "source": [
    "Batsmen"
   ]
  },
  {
   "cell_type": "markdown",
   "metadata": {},
   "source": [
    "# Top 10 Bowlers"
   ]
  },
  {
   "cell_type": "code",
   "execution_count": 22,
   "metadata": {},
   "outputs": [],
   "source": [
    "Bowler=[]\n",
    "Country=[]\n",
    "BowlerRating=[]"
   ]
  },
  {
   "cell_type": "code",
   "execution_count": 23,
   "metadata": {},
   "outputs": [],
   "source": [
    "driver.get(\"https://www.icc-cricket.com/rankings/womens/player-rankings/odi/bowling\")"
   ]
  },
  {
   "cell_type": "code",
   "execution_count": 24,
   "metadata": {},
   "outputs": [],
   "source": [
    "bowl = driver.find_elements_by_xpath(\"//div[@class='rankings-block__banner--name-large']\")\n"
   ]
  },
  {
   "cell_type": "code",
   "execution_count": 25,
   "metadata": {},
   "outputs": [
    {
     "data": {
      "text/plain": [
       "['Jess Jonassen']"
      ]
     },
     "execution_count": 25,
     "metadata": {},
     "output_type": "execute_result"
    }
   ],
   "source": [
    "for i in bowl:\n",
    "    p1=i.text\n",
    "    Bowler.append(p1)\n",
    "Bowler"
   ]
  },
  {
   "cell_type": "code",
   "execution_count": 26,
   "metadata": {},
   "outputs": [
    {
     "data": {
      "text/plain": [
       "[<selenium.webdriver.remote.webelement.WebElement (session=\"06cc5f75a8a009e3d9e4c90f75e8c8c2\", element=\"06018538-f9d9-47e2-9521-12411885b827\")>,\n",
       " <selenium.webdriver.remote.webelement.WebElement (session=\"06cc5f75a8a009e3d9e4c90f75e8c8c2\", element=\"fdaf1159-4bbd-4b88-a77b-60819f483893\")>,\n",
       " <selenium.webdriver.remote.webelement.WebElement (session=\"06cc5f75a8a009e3d9e4c90f75e8c8c2\", element=\"e3cc5e93-4a76-4313-ab1e-abb0ab656bdc\")>,\n",
       " <selenium.webdriver.remote.webelement.WebElement (session=\"06cc5f75a8a009e3d9e4c90f75e8c8c2\", element=\"9f871330-3fed-4cfb-9494-cea011b45461\")>,\n",
       " <selenium.webdriver.remote.webelement.WebElement (session=\"06cc5f75a8a009e3d9e4c90f75e8c8c2\", element=\"aed68b21-e86d-4f82-ba57-879e86f446b3\")>,\n",
       " <selenium.webdriver.remote.webelement.WebElement (session=\"06cc5f75a8a009e3d9e4c90f75e8c8c2\", element=\"cefc21bf-f426-4add-a07e-59132d0716ea\")>,\n",
       " <selenium.webdriver.remote.webelement.WebElement (session=\"06cc5f75a8a009e3d9e4c90f75e8c8c2\", element=\"3042c316-8bf1-4516-9867-7bc7dd079f54\")>,\n",
       " <selenium.webdriver.remote.webelement.WebElement (session=\"06cc5f75a8a009e3d9e4c90f75e8c8c2\", element=\"d383f479-ef79-481e-809c-002f61908204\")>,\n",
       " <selenium.webdriver.remote.webelement.WebElement (session=\"06cc5f75a8a009e3d9e4c90f75e8c8c2\", element=\"0634adee-339e-4b32-a810-d5d6f44e3013\")>,\n",
       " <selenium.webdriver.remote.webelement.WebElement (session=\"06cc5f75a8a009e3d9e4c90f75e8c8c2\", element=\"a1803958-a9c0-4d65-9e72-952213430749\")>,\n",
       " <selenium.webdriver.remote.webelement.WebElement (session=\"06cc5f75a8a009e3d9e4c90f75e8c8c2\", element=\"4b1cc3b5-6a8c-4bae-9466-433bc1122ca4\")>,\n",
       " <selenium.webdriver.remote.webelement.WebElement (session=\"06cc5f75a8a009e3d9e4c90f75e8c8c2\", element=\"c3d7bd2b-8d78-462c-834b-49ba3e191163\")>,\n",
       " <selenium.webdriver.remote.webelement.WebElement (session=\"06cc5f75a8a009e3d9e4c90f75e8c8c2\", element=\"e72f70d4-703d-4cd0-ab50-c491d5375a08\")>,\n",
       " <selenium.webdriver.remote.webelement.WebElement (session=\"06cc5f75a8a009e3d9e4c90f75e8c8c2\", element=\"f6b82b58-8b7f-41cb-82a9-e50b87d61a7f\")>,\n",
       " <selenium.webdriver.remote.webelement.WebElement (session=\"06cc5f75a8a009e3d9e4c90f75e8c8c2\", element=\"4fc8498e-1c9a-488c-830c-7032546e0487\")>,\n",
       " <selenium.webdriver.remote.webelement.WebElement (session=\"06cc5f75a8a009e3d9e4c90f75e8c8c2\", element=\"d8c8f547-7f70-4cc5-b6fa-ec46b816c4e7\")>,\n",
       " <selenium.webdriver.remote.webelement.WebElement (session=\"06cc5f75a8a009e3d9e4c90f75e8c8c2\", element=\"00144cd2-eb2c-4b7e-a77b-91429e011fe1\")>,\n",
       " <selenium.webdriver.remote.webelement.WebElement (session=\"06cc5f75a8a009e3d9e4c90f75e8c8c2\", element=\"6926ccb3-cca9-47ac-a96e-078157e045c2\")>,\n",
       " <selenium.webdriver.remote.webelement.WebElement (session=\"06cc5f75a8a009e3d9e4c90f75e8c8c2\", element=\"cd5d43d0-57d5-4038-9394-29dcf35fe88a\")>,\n",
       " <selenium.webdriver.remote.webelement.WebElement (session=\"06cc5f75a8a009e3d9e4c90f75e8c8c2\", element=\"60f31901-cb04-4eb6-aec7-88727992d90c\")>,\n",
       " <selenium.webdriver.remote.webelement.WebElement (session=\"06cc5f75a8a009e3d9e4c90f75e8c8c2\", element=\"67c5fbc4-5e63-4473-82ea-b0b1705cf658\")>,\n",
       " <selenium.webdriver.remote.webelement.WebElement (session=\"06cc5f75a8a009e3d9e4c90f75e8c8c2\", element=\"0c0cf95a-f3ae-4a4c-b6ba-8cacde23c883\")>,\n",
       " <selenium.webdriver.remote.webelement.WebElement (session=\"06cc5f75a8a009e3d9e4c90f75e8c8c2\", element=\"a6112d24-6e32-4baa-8200-2e56f0e2b7ab\")>,\n",
       " <selenium.webdriver.remote.webelement.WebElement (session=\"06cc5f75a8a009e3d9e4c90f75e8c8c2\", element=\"b9fd657a-1a78-4632-8d82-b32e0bb27b37\")>,\n",
       " <selenium.webdriver.remote.webelement.WebElement (session=\"06cc5f75a8a009e3d9e4c90f75e8c8c2\", element=\"04927d42-bb78-4afc-97f1-b0ed0488d5f6\")>,\n",
       " <selenium.webdriver.remote.webelement.WebElement (session=\"06cc5f75a8a009e3d9e4c90f75e8c8c2\", element=\"ec2e2ecc-3bad-411e-b308-291e220c4b70\")>,\n",
       " <selenium.webdriver.remote.webelement.WebElement (session=\"06cc5f75a8a009e3d9e4c90f75e8c8c2\", element=\"11ecb7e5-0bbf-4af6-8664-aca8f5806b52\")>,\n",
       " <selenium.webdriver.remote.webelement.WebElement (session=\"06cc5f75a8a009e3d9e4c90f75e8c8c2\", element=\"446d97e6-d2d0-4990-ae70-1485b43404f6\")>,\n",
       " <selenium.webdriver.remote.webelement.WebElement (session=\"06cc5f75a8a009e3d9e4c90f75e8c8c2\", element=\"43929071-1ff8-4517-8968-c942da34eeea\")>,\n",
       " <selenium.webdriver.remote.webelement.WebElement (session=\"06cc5f75a8a009e3d9e4c90f75e8c8c2\", element=\"c54d5f7f-bde9-4991-8f26-b54fe52c6bc5\")>,\n",
       " <selenium.webdriver.remote.webelement.WebElement (session=\"06cc5f75a8a009e3d9e4c90f75e8c8c2\", element=\"53607d4f-30e3-41ba-b209-5e2754998f21\")>,\n",
       " <selenium.webdriver.remote.webelement.WebElement (session=\"06cc5f75a8a009e3d9e4c90f75e8c8c2\", element=\"3473e927-7f3d-42de-a7fd-b1cdb7daf7a5\")>,\n",
       " <selenium.webdriver.remote.webelement.WebElement (session=\"06cc5f75a8a009e3d9e4c90f75e8c8c2\", element=\"ab2366ac-9fd9-407d-9189-53e42b004c77\")>,\n",
       " <selenium.webdriver.remote.webelement.WebElement (session=\"06cc5f75a8a009e3d9e4c90f75e8c8c2\", element=\"7da73b22-b2d5-43b3-8e9e-c865ffea9c3a\")>,\n",
       " <selenium.webdriver.remote.webelement.WebElement (session=\"06cc5f75a8a009e3d9e4c90f75e8c8c2\", element=\"61ce5963-4179-4af3-b280-d21b4ed741b7\")>,\n",
       " <selenium.webdriver.remote.webelement.WebElement (session=\"06cc5f75a8a009e3d9e4c90f75e8c8c2\", element=\"706ac42c-a35a-4cab-9b96-62c5545f2179\")>,\n",
       " <selenium.webdriver.remote.webelement.WebElement (session=\"06cc5f75a8a009e3d9e4c90f75e8c8c2\", element=\"37e9edf9-f537-44d6-8c4c-969f18737675\")>,\n",
       " <selenium.webdriver.remote.webelement.WebElement (session=\"06cc5f75a8a009e3d9e4c90f75e8c8c2\", element=\"3d7a981c-6468-4e0c-bfbf-58c4932b45c9\")>,\n",
       " <selenium.webdriver.remote.webelement.WebElement (session=\"06cc5f75a8a009e3d9e4c90f75e8c8c2\", element=\"6b7a54ac-16f4-4507-90ef-01f4c15f742b\")>,\n",
       " <selenium.webdriver.remote.webelement.WebElement (session=\"06cc5f75a8a009e3d9e4c90f75e8c8c2\", element=\"09bea976-f16e-46c1-9668-a6f450a12080\")>,\n",
       " <selenium.webdriver.remote.webelement.WebElement (session=\"06cc5f75a8a009e3d9e4c90f75e8c8c2\", element=\"0db29ae8-7d83-4956-8296-4dba6c24393b\")>,\n",
       " <selenium.webdriver.remote.webelement.WebElement (session=\"06cc5f75a8a009e3d9e4c90f75e8c8c2\", element=\"4dfb7721-3727-4037-94ec-ea87ac04d132\")>,\n",
       " <selenium.webdriver.remote.webelement.WebElement (session=\"06cc5f75a8a009e3d9e4c90f75e8c8c2\", element=\"e6219215-7527-475d-a724-99c236bd05e0\")>,\n",
       " <selenium.webdriver.remote.webelement.WebElement (session=\"06cc5f75a8a009e3d9e4c90f75e8c8c2\", element=\"07a8df2d-e797-4fe1-b502-ecf3a6d25d0e\")>,\n",
       " <selenium.webdriver.remote.webelement.WebElement (session=\"06cc5f75a8a009e3d9e4c90f75e8c8c2\", element=\"68438e6d-acb3-4695-b685-7ce75fb92e46\")>,\n",
       " <selenium.webdriver.remote.webelement.WebElement (session=\"06cc5f75a8a009e3d9e4c90f75e8c8c2\", element=\"7e5be549-2ad6-4444-a14c-a2d082bf0d37\")>,\n",
       " <selenium.webdriver.remote.webelement.WebElement (session=\"06cc5f75a8a009e3d9e4c90f75e8c8c2\", element=\"e00d489a-bcd2-46c3-86f8-d2bb3bbea5c0\")>,\n",
       " <selenium.webdriver.remote.webelement.WebElement (session=\"06cc5f75a8a009e3d9e4c90f75e8c8c2\", element=\"2431e210-9727-4121-8661-d7bd61069a46\")>,\n",
       " <selenium.webdriver.remote.webelement.WebElement (session=\"06cc5f75a8a009e3d9e4c90f75e8c8c2\", element=\"c7420921-89e5-4d3b-b4ab-b1d63425b34c\")>,\n",
       " <selenium.webdriver.remote.webelement.WebElement (session=\"06cc5f75a8a009e3d9e4c90f75e8c8c2\", element=\"922832c8-0f85-4571-821f-d0f60a5c7a72\")>,\n",
       " <selenium.webdriver.remote.webelement.WebElement (session=\"06cc5f75a8a009e3d9e4c90f75e8c8c2\", element=\"cbf2c559-7908-4bf1-86fa-ac32e0b02298\")>,\n",
       " <selenium.webdriver.remote.webelement.WebElement (session=\"06cc5f75a8a009e3d9e4c90f75e8c8c2\", element=\"c5c5defe-e968-4be2-832e-39a0c89abd2c\")>,\n",
       " <selenium.webdriver.remote.webelement.WebElement (session=\"06cc5f75a8a009e3d9e4c90f75e8c8c2\", element=\"50b4aef8-5db1-4830-8186-58be5c6c4d02\")>,\n",
       " <selenium.webdriver.remote.webelement.WebElement (session=\"06cc5f75a8a009e3d9e4c90f75e8c8c2\", element=\"39493850-556a-48a0-bcc3-51fd70a114d9\")>,\n",
       " <selenium.webdriver.remote.webelement.WebElement (session=\"06cc5f75a8a009e3d9e4c90f75e8c8c2\", element=\"4c8f7c07-0b83-4d0a-b79f-998cd864a3ca\")>,\n",
       " <selenium.webdriver.remote.webelement.WebElement (session=\"06cc5f75a8a009e3d9e4c90f75e8c8c2\", element=\"90fc143d-d24f-4be9-b652-0a54d7000c43\")>,\n",
       " <selenium.webdriver.remote.webelement.WebElement (session=\"06cc5f75a8a009e3d9e4c90f75e8c8c2\", element=\"498397ad-f0f3-4b59-9d99-527d8c612431\")>,\n",
       " <selenium.webdriver.remote.webelement.WebElement (session=\"06cc5f75a8a009e3d9e4c90f75e8c8c2\", element=\"37c53d5c-e581-41c1-a030-5f8e8bc70647\")>,\n",
       " <selenium.webdriver.remote.webelement.WebElement (session=\"06cc5f75a8a009e3d9e4c90f75e8c8c2\", element=\"71aeb69d-6fd1-49e3-b778-a4e49ef16cee\")>,\n",
       " <selenium.webdriver.remote.webelement.WebElement (session=\"06cc5f75a8a009e3d9e4c90f75e8c8c2\", element=\"a2b7c7ea-2256-4058-8514-63ad894bfdd2\")>,\n",
       " <selenium.webdriver.remote.webelement.WebElement (session=\"06cc5f75a8a009e3d9e4c90f75e8c8c2\", element=\"678909f3-7eb5-4526-bcb0-d099bd8b7953\")>,\n",
       " <selenium.webdriver.remote.webelement.WebElement (session=\"06cc5f75a8a009e3d9e4c90f75e8c8c2\", element=\"1334f285-9217-4515-9239-721dce17199d\")>,\n",
       " <selenium.webdriver.remote.webelement.WebElement (session=\"06cc5f75a8a009e3d9e4c90f75e8c8c2\", element=\"9301ce74-14ae-4d00-b71e-e7edfae3e9fc\")>,\n",
       " <selenium.webdriver.remote.webelement.WebElement (session=\"06cc5f75a8a009e3d9e4c90f75e8c8c2\", element=\"52da41d1-ceb5-42ba-9e88-3a637df66835\")>,\n",
       " <selenium.webdriver.remote.webelement.WebElement (session=\"06cc5f75a8a009e3d9e4c90f75e8c8c2\", element=\"bf6e93e7-e7f6-42a6-8380-625784190c7c\")>,\n",
       " <selenium.webdriver.remote.webelement.WebElement (session=\"06cc5f75a8a009e3d9e4c90f75e8c8c2\", element=\"c51727e7-3c5f-4d56-ac17-aeda51ecd4f7\")>,\n",
       " <selenium.webdriver.remote.webelement.WebElement (session=\"06cc5f75a8a009e3d9e4c90f75e8c8c2\", element=\"e3d39acd-060c-49fd-ae28-1278b6e64d6b\")>,\n",
       " <selenium.webdriver.remote.webelement.WebElement (session=\"06cc5f75a8a009e3d9e4c90f75e8c8c2\", element=\"4bdcf3d4-944f-449f-b112-55d3141b3734\")>,\n",
       " <selenium.webdriver.remote.webelement.WebElement (session=\"06cc5f75a8a009e3d9e4c90f75e8c8c2\", element=\"fde880e0-cedb-4435-ae36-4ce9831f0af1\")>,\n",
       " <selenium.webdriver.remote.webelement.WebElement (session=\"06cc5f75a8a009e3d9e4c90f75e8c8c2\", element=\"c734a421-9e33-435e-b4cb-e83289a8dfe6\")>,\n",
       " <selenium.webdriver.remote.webelement.WebElement (session=\"06cc5f75a8a009e3d9e4c90f75e8c8c2\", element=\"8df09dc5-5823-4416-8b31-9bc59bb427dd\")>,\n",
       " <selenium.webdriver.remote.webelement.WebElement (session=\"06cc5f75a8a009e3d9e4c90f75e8c8c2\", element=\"edee443e-ccf0-4183-86dd-cd5242fa4bc5\")>,\n",
       " <selenium.webdriver.remote.webelement.WebElement (session=\"06cc5f75a8a009e3d9e4c90f75e8c8c2\", element=\"27a5b6fb-959a-498f-82ef-14be3816ea42\")>,\n",
       " <selenium.webdriver.remote.webelement.WebElement (session=\"06cc5f75a8a009e3d9e4c90f75e8c8c2\", element=\"832aff27-3a97-4832-a9be-5d2c75861b92\")>,\n",
       " <selenium.webdriver.remote.webelement.WebElement (session=\"06cc5f75a8a009e3d9e4c90f75e8c8c2\", element=\"09c6e3c4-ac8a-4063-ac29-44a7a35b1a86\")>,\n",
       " <selenium.webdriver.remote.webelement.WebElement (session=\"06cc5f75a8a009e3d9e4c90f75e8c8c2\", element=\"b840b7b6-f090-49dc-9039-37448e25ec22\")>,\n",
       " <selenium.webdriver.remote.webelement.WebElement (session=\"06cc5f75a8a009e3d9e4c90f75e8c8c2\", element=\"b0709f5c-2593-4925-ba9d-d137128007d9\")>,\n",
       " <selenium.webdriver.remote.webelement.WebElement (session=\"06cc5f75a8a009e3d9e4c90f75e8c8c2\", element=\"9e75f52f-550a-416b-9318-d7b374e13d7d\")>,\n",
       " <selenium.webdriver.remote.webelement.WebElement (session=\"06cc5f75a8a009e3d9e4c90f75e8c8c2\", element=\"195a652b-ea5d-481a-9684-3e51aeea4040\")>,\n",
       " <selenium.webdriver.remote.webelement.WebElement (session=\"06cc5f75a8a009e3d9e4c90f75e8c8c2\", element=\"38ea5585-6f04-4a52-9521-eb3a0bfc2323\")>,\n",
       " <selenium.webdriver.remote.webelement.WebElement (session=\"06cc5f75a8a009e3d9e4c90f75e8c8c2\", element=\"bff2e66a-be82-4db2-8325-8fad7d2e2cd3\")>,\n",
       " <selenium.webdriver.remote.webelement.WebElement (session=\"06cc5f75a8a009e3d9e4c90f75e8c8c2\", element=\"5958e3bc-5daf-4c1e-9297-df4646350a6a\")>,\n",
       " <selenium.webdriver.remote.webelement.WebElement (session=\"06cc5f75a8a009e3d9e4c90f75e8c8c2\", element=\"2a97c937-878e-49a7-b492-c71098cec05b\")>,\n",
       " <selenium.webdriver.remote.webelement.WebElement (session=\"06cc5f75a8a009e3d9e4c90f75e8c8c2\", element=\"78f369eb-d280-47db-a908-0537b2196647\")>,\n",
       " <selenium.webdriver.remote.webelement.WebElement (session=\"06cc5f75a8a009e3d9e4c90f75e8c8c2\", element=\"f3348c88-d36c-475f-a555-2ac5f58eb817\")>,\n",
       " <selenium.webdriver.remote.webelement.WebElement (session=\"06cc5f75a8a009e3d9e4c90f75e8c8c2\", element=\"149c442a-558d-496d-89ba-ebf3ab7cc9e1\")>,\n",
       " <selenium.webdriver.remote.webelement.WebElement (session=\"06cc5f75a8a009e3d9e4c90f75e8c8c2\", element=\"d3eca0c7-c5c0-4d2b-a9bd-a0d93ab6391b\")>,\n",
       " <selenium.webdriver.remote.webelement.WebElement (session=\"06cc5f75a8a009e3d9e4c90f75e8c8c2\", element=\"af0a4c97-4b64-4d5e-bd65-e3d20cd8f102\")>,\n",
       " <selenium.webdriver.remote.webelement.WebElement (session=\"06cc5f75a8a009e3d9e4c90f75e8c8c2\", element=\"9a51a00b-2ef7-4e0e-8dab-4fa8f542849f\")>,\n",
       " <selenium.webdriver.remote.webelement.WebElement (session=\"06cc5f75a8a009e3d9e4c90f75e8c8c2\", element=\"9e97086a-a3ce-4f4b-bfd0-0121e9d6eb17\")>,\n",
       " <selenium.webdriver.remote.webelement.WebElement (session=\"06cc5f75a8a009e3d9e4c90f75e8c8c2\", element=\"7c6bcf3e-e7aa-4db0-ab03-54481ba98e33\")>,\n",
       " <selenium.webdriver.remote.webelement.WebElement (session=\"06cc5f75a8a009e3d9e4c90f75e8c8c2\", element=\"21f81ddc-fe1e-4771-8ab4-67912f86beb5\")>,\n",
       " <selenium.webdriver.remote.webelement.WebElement (session=\"06cc5f75a8a009e3d9e4c90f75e8c8c2\", element=\"0fe823ef-47d5-4091-bb63-fc6dec121c24\")>,\n",
       " <selenium.webdriver.remote.webelement.WebElement (session=\"06cc5f75a8a009e3d9e4c90f75e8c8c2\", element=\"d42f073e-c41e-4080-a1c2-8abfa3d79284\")>,\n",
       " <selenium.webdriver.remote.webelement.WebElement (session=\"06cc5f75a8a009e3d9e4c90f75e8c8c2\", element=\"314ba54a-6155-4126-b66c-f7ebcaa3ece3\")>,\n",
       " <selenium.webdriver.remote.webelement.WebElement (session=\"06cc5f75a8a009e3d9e4c90f75e8c8c2\", element=\"ff613b5a-1749-4981-8a95-9a6abe074f8a\")>,\n",
       " <selenium.webdriver.remote.webelement.WebElement (session=\"06cc5f75a8a009e3d9e4c90f75e8c8c2\", element=\"fbf57874-18f1-4c50-9287-7229e67ed09d\")>,\n",
       " <selenium.webdriver.remote.webelement.WebElement (session=\"06cc5f75a8a009e3d9e4c90f75e8c8c2\", element=\"2d47339f-30fc-450e-97eb-3d9d156ede52\")>,\n",
       " <selenium.webdriver.remote.webelement.WebElement (session=\"06cc5f75a8a009e3d9e4c90f75e8c8c2\", element=\"399dc5de-d00c-4b61-9a61-d2e328a4876d\")>]"
      ]
     },
     "execution_count": 26,
     "metadata": {},
     "output_type": "execute_result"
    }
   ],
   "source": [
    "bowl2=driver.find_elements_by_xpath(\"//td[@class='table-body__cell rankings-table__name name']\")\n",
    "bowl2"
   ]
  },
  {
   "cell_type": "code",
   "execution_count": 27,
   "metadata": {},
   "outputs": [
    {
     "data": {
      "text/plain": [
       "['Jess Jonassen',\n",
       " 'Marizanne Kapp',\n",
       " 'Megan Schutt',\n",
       " 'Shabnim Ismail',\n",
       " 'Jhulan Goswami',\n",
       " 'Poonam Yadav']"
      ]
     },
     "execution_count": 27,
     "metadata": {},
     "output_type": "execute_result"
    }
   ],
   "source": [
    "for i in bowl2:\n",
    "    p1=i.text\n",
    "    Bowler.append(p1)\n",
    "Bowler[:6]"
   ]
  },
  {
   "cell_type": "code",
   "execution_count": 28,
   "metadata": {},
   "outputs": [],
   "source": [
    "bowl3=driver.find_elements_by_xpath(\"//div[@class='rankings-block__banner--nationality']\")"
   ]
  },
  {
   "cell_type": "code",
   "execution_count": 29,
   "metadata": {},
   "outputs": [
    {
     "data": {
      "text/plain": [
       "['AUS']"
      ]
     },
     "execution_count": 29,
     "metadata": {},
     "output_type": "execute_result"
    }
   ],
   "source": [
    "for i in bowl3:\n",
    "    p1=i.text\n",
    "    Country.append(p1)\n",
    "Country"
   ]
  },
  {
   "cell_type": "code",
   "execution_count": 30,
   "metadata": {},
   "outputs": [
    {
     "data": {
      "text/plain": [
       "['AUS', 'SA', 'AUS', 'SA', 'IND']"
      ]
     },
     "execution_count": 30,
     "metadata": {},
     "output_type": "execute_result"
    }
   ],
   "source": [
    "bowl4=driver.find_elements_by_xpath(\"//span[@class='table-body__logo-text']\")\n",
    "for i in bowl4:\n",
    "    p1=i.text\n",
    "    Country.append(p1)\n",
    "Country[:5]"
   ]
  },
  {
   "cell_type": "code",
   "execution_count": 31,
   "metadata": {},
   "outputs": [
    {
     "data": {
      "text/plain": [
       "['804']"
      ]
     },
     "execution_count": 31,
     "metadata": {},
     "output_type": "execute_result"
    }
   ],
   "source": [
    "bowl5=ratings = driver.find_elements_by_xpath(\"//div[@class='rankings-block__banner--rating']\")\n",
    "for i in bowl5:\n",
    "    p1=i.text\n",
    "    BowlerRating.append(p1)\n",
    "BowlerRating"
   ]
  },
  {
   "cell_type": "code",
   "execution_count": 32,
   "metadata": {},
   "outputs": [
    {
     "data": {
      "text/plain": [
       "['804', '738', '735', '717', '691', '679']"
      ]
     },
     "execution_count": 32,
     "metadata": {},
     "output_type": "execute_result"
    }
   ],
   "source": [
    "bowl6= driver.find_elements_by_xpath(\"//td[@class='table-body__cell rating']\")\n",
    "for i in bowl6:\n",
    "    p1=i.text\n",
    "    BowlerRating.append(p1)\n",
    "BowlerRating[:6]"
   ]
  },
  {
   "cell_type": "code",
   "execution_count": 33,
   "metadata": {},
   "outputs": [],
   "source": [
    "BowlerDetails=pd.DataFrame({})\n",
    "BowlerDetails['Bowler'] = Bowler[:10]\n",
    "BowlerDetails['Country']= Country[:10] \n",
    "BowlerDetails['Rating'] = BowlerRating[:10]"
   ]
  },
  {
   "cell_type": "code",
   "execution_count": 34,
   "metadata": {},
   "outputs": [
    {
     "data": {
      "text/html": [
       "<div>\n",
       "<style scoped>\n",
       "    .dataframe tbody tr th:only-of-type {\n",
       "        vertical-align: middle;\n",
       "    }\n",
       "\n",
       "    .dataframe tbody tr th {\n",
       "        vertical-align: top;\n",
       "    }\n",
       "\n",
       "    .dataframe thead th {\n",
       "        text-align: right;\n",
       "    }\n",
       "</style>\n",
       "<table border=\"1\" class=\"dataframe\">\n",
       "  <thead>\n",
       "    <tr style=\"text-align: right;\">\n",
       "      <th></th>\n",
       "      <th>Bowler</th>\n",
       "      <th>Country</th>\n",
       "      <th>Rating</th>\n",
       "    </tr>\n",
       "  </thead>\n",
       "  <tbody>\n",
       "    <tr>\n",
       "      <th>0</th>\n",
       "      <td>Jess Jonassen</td>\n",
       "      <td>AUS</td>\n",
       "      <td>804</td>\n",
       "    </tr>\n",
       "    <tr>\n",
       "      <th>1</th>\n",
       "      <td>Marizanne Kapp</td>\n",
       "      <td>SA</td>\n",
       "      <td>738</td>\n",
       "    </tr>\n",
       "    <tr>\n",
       "      <th>2</th>\n",
       "      <td>Megan Schutt</td>\n",
       "      <td>AUS</td>\n",
       "      <td>735</td>\n",
       "    </tr>\n",
       "    <tr>\n",
       "      <th>3</th>\n",
       "      <td>Shabnim Ismail</td>\n",
       "      <td>SA</td>\n",
       "      <td>717</td>\n",
       "    </tr>\n",
       "    <tr>\n",
       "      <th>4</th>\n",
       "      <td>Jhulan Goswami</td>\n",
       "      <td>IND</td>\n",
       "      <td>691</td>\n",
       "    </tr>\n",
       "    <tr>\n",
       "      <th>5</th>\n",
       "      <td>Poonam Yadav</td>\n",
       "      <td>IND</td>\n",
       "      <td>679</td>\n",
       "    </tr>\n",
       "    <tr>\n",
       "      <th>6</th>\n",
       "      <td>Shikha Pandey</td>\n",
       "      <td>IND</td>\n",
       "      <td>675</td>\n",
       "    </tr>\n",
       "    <tr>\n",
       "      <th>7</th>\n",
       "      <td>Ellyse Perry</td>\n",
       "      <td>AUS</td>\n",
       "      <td>666</td>\n",
       "    </tr>\n",
       "    <tr>\n",
       "      <th>8</th>\n",
       "      <td>Anya Shrubsole</td>\n",
       "      <td>ENG</td>\n",
       "      <td>645</td>\n",
       "    </tr>\n",
       "    <tr>\n",
       "      <th>9</th>\n",
       "      <td>Deepti Sharma</td>\n",
       "      <td>IND</td>\n",
       "      <td>639</td>\n",
       "    </tr>\n",
       "  </tbody>\n",
       "</table>\n",
       "</div>"
      ],
      "text/plain": [
       "           Bowler Country Rating\n",
       "0   Jess Jonassen     AUS    804\n",
       "1  Marizanne Kapp      SA    738\n",
       "2    Megan Schutt     AUS    735\n",
       "3  Shabnim Ismail      SA    717\n",
       "4  Jhulan Goswami     IND    691\n",
       "5    Poonam Yadav     IND    679\n",
       "6   Shikha Pandey     IND    675\n",
       "7    Ellyse Perry     AUS    666\n",
       "8  Anya Shrubsole     ENG    645\n",
       "9   Deepti Sharma     IND    639"
      ]
     },
     "execution_count": 34,
     "metadata": {},
     "output_type": "execute_result"
    }
   ],
   "source": [
    "BowlerDetails"
   ]
  },
  {
   "cell_type": "code",
   "execution_count": null,
   "metadata": {},
   "outputs": [],
   "source": []
  }
 ],
 "metadata": {
  "kernelspec": {
   "display_name": "Python 3",
   "language": "python",
   "name": "python3"
  },
  "language_info": {
   "codemirror_mode": {
    "name": "ipython",
    "version": 3
   },
   "file_extension": ".py",
   "mimetype": "text/x-python",
   "name": "python",
   "nbconvert_exporter": "python",
   "pygments_lexer": "ipython3",
   "version": "3.7.6"
  }
 },
 "nbformat": 4,
 "nbformat_minor": 4
}
