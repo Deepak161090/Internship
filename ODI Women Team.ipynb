{
 "cells": [
  {
   "cell_type": "code",
   "execution_count": 1,
   "metadata": {},
   "outputs": [],
   "source": [
    "import requests\n",
    "from bs4 import BeautifulSoup\n",
    "from selenium import webdriver\n",
    "import pandas as pd"
   ]
  },
  {
   "cell_type": "code",
   "execution_count": 2,
   "metadata": {},
   "outputs": [],
   "source": [
    "page = requests.get('https://www.icc-cricket.com/rankings/womens/team-rankings/odi')"
   ]
  },
  {
   "cell_type": "code",
   "execution_count": 3,
   "metadata": {},
   "outputs": [],
   "source": [
    "soup = BeautifulSoup(page.content,'html.parser')"
   ]
  },
  {
   "cell_type": "code",
   "execution_count": 4,
   "metadata": {},
   "outputs": [],
   "source": [
    "driver = webdriver.Chrome(r\"C:\\chromedriver.exe\")\n",
    "driver.get(\"https://www.icc-cricket.com/rankings/womens/team-rankings/odi\")"
   ]
  },
  {
   "cell_type": "markdown",
   "metadata": {},
   "source": [
    "# Top 10 ODI Teams"
   ]
  },
  {
   "cell_type": "code",
   "execution_count": 5,
   "metadata": {},
   "outputs": [],
   "source": [
    "Team=[]\n",
    "Matches =[]\n",
    "Points=[]\n",
    "Rating=[]\n",
    "M=[]\n",
    "A=[]\n",
    "R1=[]\n",
    "R2=[]\n",
    "po=[]"
   ]
  },
  {
   "cell_type": "code",
   "execution_count": 6,
   "metadata": {},
   "outputs": [
    {
     "data": {
      "text/plain": [
       "[<selenium.webdriver.remote.webelement.WebElement (session=\"cb057f213870a71c7f3b8d1e5c9f0a29\", element=\"f4f51f72-68d9-478f-9416-7068a58cacfc\")>,\n",
       " <selenium.webdriver.remote.webelement.WebElement (session=\"cb057f213870a71c7f3b8d1e5c9f0a29\", element=\"8bfb4e35-a2d2-4178-9c77-b66bac1fd3e5\")>,\n",
       " <selenium.webdriver.remote.webelement.WebElement (session=\"cb057f213870a71c7f3b8d1e5c9f0a29\", element=\"fcf8968d-fe42-4788-8916-566c55a6935f\")>,\n",
       " <selenium.webdriver.remote.webelement.WebElement (session=\"cb057f213870a71c7f3b8d1e5c9f0a29\", element=\"ca11af29-e928-4388-a3a9-8ad2c6475bbf\")>,\n",
       " <selenium.webdriver.remote.webelement.WebElement (session=\"cb057f213870a71c7f3b8d1e5c9f0a29\", element=\"e23e3d56-4117-45c2-bf0d-7fa79d5ca723\")>,\n",
       " <selenium.webdriver.remote.webelement.WebElement (session=\"cb057f213870a71c7f3b8d1e5c9f0a29\", element=\"36afdb55-9ace-42b1-8a4b-cb2b03f40c36\")>,\n",
       " <selenium.webdriver.remote.webelement.WebElement (session=\"cb057f213870a71c7f3b8d1e5c9f0a29\", element=\"33032b28-3389-49e9-9d48-bfe6f69ea8b7\")>,\n",
       " <selenium.webdriver.remote.webelement.WebElement (session=\"cb057f213870a71c7f3b8d1e5c9f0a29\", element=\"40775c6d-ed4b-44ac-9a85-4efe13d83e7b\")>,\n",
       " <selenium.webdriver.remote.webelement.WebElement (session=\"cb057f213870a71c7f3b8d1e5c9f0a29\", element=\"289d882c-5ad6-442e-9fa3-9f1932a74c21\")>,\n",
       " <selenium.webdriver.remote.webelement.WebElement (session=\"cb057f213870a71c7f3b8d1e5c9f0a29\", element=\"19b38660-ce0b-4082-976f-db4661ea9cd1\")>]"
      ]
     },
     "execution_count": 6,
     "metadata": {},
     "output_type": "execute_result"
    }
   ],
   "source": [
    "team_list=driver.find_elements_by_xpath(\"//span[@class='u-hide-phablet']\")\n",
    "team_list[0:10]"
   ]
  },
  {
   "cell_type": "code",
   "execution_count": 7,
   "metadata": {},
   "outputs": [
    {
     "data": {
      "text/plain": [
       "['Australia',\n",
       " 'India',\n",
       " 'England',\n",
       " 'South Africa',\n",
       " 'New Zealand',\n",
       " 'West Indies',\n",
       " 'Pakistan',\n",
       " 'Bangladesh',\n",
       " 'Sri Lanka',\n",
       " 'Ireland']"
      ]
     },
     "execution_count": 7,
     "metadata": {},
     "output_type": "execute_result"
    }
   ],
   "source": [
    "for i in team_list:\n",
    "    teams=i.text\n",
    "    Team.append(teams)\n",
    "Team[0:10]"
   ]
  },
  {
   "cell_type": "code",
   "execution_count": 8,
   "metadata": {},
   "outputs": [
    {
     "data": {
      "text/plain": [
       "[<selenium.webdriver.remote.webelement.WebElement (session=\"cb057f213870a71c7f3b8d1e5c9f0a29\", element=\"d2d81984-1d59-4032-95ed-9e92cb156fd0\")>,\n",
       " <selenium.webdriver.remote.webelement.WebElement (session=\"cb057f213870a71c7f3b8d1e5c9f0a29\", element=\"65c9f4ef-5f17-42ee-894e-0a7ba2410cec\")>,\n",
       " <selenium.webdriver.remote.webelement.WebElement (session=\"cb057f213870a71c7f3b8d1e5c9f0a29\", element=\"0ab4d682-d7f1-42ec-aaaf-811b2dd2fc53\")>,\n",
       " <selenium.webdriver.remote.webelement.WebElement (session=\"cb057f213870a71c7f3b8d1e5c9f0a29\", element=\"ab3dd15b-8c17-4d31-9a4e-1c653d839cac\")>,\n",
       " <selenium.webdriver.remote.webelement.WebElement (session=\"cb057f213870a71c7f3b8d1e5c9f0a29\", element=\"5b05c200-a5e5-4b80-a31e-e014d3297c34\")>,\n",
       " <selenium.webdriver.remote.webelement.WebElement (session=\"cb057f213870a71c7f3b8d1e5c9f0a29\", element=\"471137c7-f17c-4a8f-8417-263c789ee364\")>,\n",
       " <selenium.webdriver.remote.webelement.WebElement (session=\"cb057f213870a71c7f3b8d1e5c9f0a29\", element=\"ff6d1a3d-3eee-491c-831a-e9fb48e2c26a\")>,\n",
       " <selenium.webdriver.remote.webelement.WebElement (session=\"cb057f213870a71c7f3b8d1e5c9f0a29\", element=\"edf57009-d1e9-466e-bdd0-a3083a5ce235\")>,\n",
       " <selenium.webdriver.remote.webelement.WebElement (session=\"cb057f213870a71c7f3b8d1e5c9f0a29\", element=\"5085787a-a47a-4fa5-afe6-dafb6e2dc7d2\")>,\n",
       " <selenium.webdriver.remote.webelement.WebElement (session=\"cb057f213870a71c7f3b8d1e5c9f0a29\", element=\"2623f7a8-4921-41d7-9b3a-bf555fcf6ef4\")>,\n",
       " <selenium.webdriver.remote.webelement.WebElement (session=\"cb057f213870a71c7f3b8d1e5c9f0a29\", element=\"387c1742-138d-446c-b9cf-c306a6bc1404\")>,\n",
       " <selenium.webdriver.remote.webelement.WebElement (session=\"cb057f213870a71c7f3b8d1e5c9f0a29\", element=\"0810b784-5ef3-4527-9e2e-85717b8a3cca\")>,\n",
       " <selenium.webdriver.remote.webelement.WebElement (session=\"cb057f213870a71c7f3b8d1e5c9f0a29\", element=\"012f4c0c-eedc-4267-a1ec-5c19c9a8934e\")>,\n",
       " <selenium.webdriver.remote.webelement.WebElement (session=\"cb057f213870a71c7f3b8d1e5c9f0a29\", element=\"8e3cb562-1022-47fc-834a-a16b0bf57bfc\")>,\n",
       " <selenium.webdriver.remote.webelement.WebElement (session=\"cb057f213870a71c7f3b8d1e5c9f0a29\", element=\"f11d8535-a398-4457-b05e-82d129c0f5da\")>,\n",
       " <selenium.webdriver.remote.webelement.WebElement (session=\"cb057f213870a71c7f3b8d1e5c9f0a29\", element=\"b238c2bb-6a1b-4208-8661-024ba03f7523\")>,\n",
       " <selenium.webdriver.remote.webelement.WebElement (session=\"cb057f213870a71c7f3b8d1e5c9f0a29\", element=\"98fe9951-7fdf-44f1-98b5-1d9546d19b89\")>,\n",
       " <selenium.webdriver.remote.webelement.WebElement (session=\"cb057f213870a71c7f3b8d1e5c9f0a29\", element=\"84cba72a-79fa-4752-a5b1-9be0acce59b2\")>]"
      ]
     },
     "execution_count": 8,
     "metadata": {},
     "output_type": "execute_result"
    }
   ],
   "source": [
    "matches_list = driver.find_elements_by_xpath(\"//td[@class='rankings-block__banner--matches']\")\n",
    "matches_list   \n",
    "matches_list2 = driver.find_elements_by_xpath(\"//td[@class='table-body__cell u-center-text']\")\n",
    "matches_list2    "
   ]
  },
  {
   "cell_type": "code",
   "execution_count": 9,
   "metadata": {},
   "outputs": [
    {
     "data": {
      "text/plain": [
       "['15']"
      ]
     },
     "execution_count": 9,
     "metadata": {},
     "output_type": "execute_result"
    }
   ],
   "source": [
    "for i in matches_list:\n",
    "    m=i.text\n",
    "    Matches.append(m)\n",
    "Matches"
   ]
  },
  {
   "cell_type": "code",
   "execution_count": 10,
   "metadata": {},
   "outputs": [],
   "source": [
    "for i in matches_list2:\n",
    "    m2=i.text\n",
    "    M.append(m2)"
   ]
  },
  {
   "cell_type": "code",
   "execution_count": 11,
   "metadata": {},
   "outputs": [],
   "source": [
    "Points=M[1::2]"
   ]
  },
  {
   "cell_type": "code",
   "execution_count": 12,
   "metadata": {},
   "outputs": [
    {
     "data": {
      "text/plain": [
       "['1,812', '1,670', '1,713', '1,384', '1,025', '927', '306', '519', '25']"
      ]
     },
     "execution_count": 12,
     "metadata": {},
     "output_type": "execute_result"
    }
   ],
   "source": [
    "Points"
   ]
  },
  {
   "cell_type": "code",
   "execution_count": 13,
   "metadata": {},
   "outputs": [
    {
     "data": {
      "text/plain": [
       "['15', '14', '16', '15', '12', '12', '5', '11', '2']"
      ]
     },
     "execution_count": 13,
     "metadata": {},
     "output_type": "execute_result"
    }
   ],
   "source": [
    "M[::2]"
   ]
  },
  {
   "cell_type": "code",
   "execution_count": 14,
   "metadata": {},
   "outputs": [],
   "source": [
    "A=M[::2]"
   ]
  },
  {
   "cell_type": "code",
   "execution_count": 15,
   "metadata": {},
   "outputs": [],
   "source": [
    "matches =Matches+A"
   ]
  },
  {
   "cell_type": "code",
   "execution_count": 16,
   "metadata": {},
   "outputs": [
    {
     "data": {
      "text/plain": [
       "['15', '15', '14', '16', '15', '12', '12', '5', '11', '2']"
      ]
     },
     "execution_count": 16,
     "metadata": {},
     "output_type": "execute_result"
    }
   ],
   "source": [
    "matches"
   ]
  },
  {
   "cell_type": "code",
   "execution_count": 17,
   "metadata": {},
   "outputs": [
    {
     "data": {
      "text/plain": [
       "[<selenium.webdriver.remote.webelement.WebElement (session=\"cb057f213870a71c7f3b8d1e5c9f0a29\", element=\"bedf4192-9b71-4d84-8cea-cb143597a078\")>]"
      ]
     },
     "execution_count": 17,
     "metadata": {},
     "output_type": "execute_result"
    }
   ],
   "source": [
    "rating_list=driver.find_elements_by_xpath(\"//td[@class='rankings-block__banner--rating u-text-right']\")\n",
    "rating_list[0:10]"
   ]
  },
  {
   "cell_type": "code",
   "execution_count": 18,
   "metadata": {},
   "outputs": [
    {
     "data": {
      "text/plain": [
       "[<selenium.webdriver.remote.webelement.WebElement (session=\"cb057f213870a71c7f3b8d1e5c9f0a29\", element=\"81ac609c-87d5-4433-abb2-7348f41b1abe\")>,\n",
       " <selenium.webdriver.remote.webelement.WebElement (session=\"cb057f213870a71c7f3b8d1e5c9f0a29\", element=\"1c8c2e55-1214-495a-b8bf-c64e0939a34a\")>,\n",
       " <selenium.webdriver.remote.webelement.WebElement (session=\"cb057f213870a71c7f3b8d1e5c9f0a29\", element=\"1aeb7977-47e3-4cd5-bacc-6f0808c5ea1d\")>,\n",
       " <selenium.webdriver.remote.webelement.WebElement (session=\"cb057f213870a71c7f3b8d1e5c9f0a29\", element=\"c3e6b1ac-ea78-4950-8027-823a782f8014\")>,\n",
       " <selenium.webdriver.remote.webelement.WebElement (session=\"cb057f213870a71c7f3b8d1e5c9f0a29\", element=\"0795cc0c-99b9-4dd3-baf9-72af5c14f027\")>,\n",
       " <selenium.webdriver.remote.webelement.WebElement (session=\"cb057f213870a71c7f3b8d1e5c9f0a29\", element=\"1f39eb8d-6d93-4390-b4df-181ba653d54f\")>,\n",
       " <selenium.webdriver.remote.webelement.WebElement (session=\"cb057f213870a71c7f3b8d1e5c9f0a29\", element=\"61043e97-20e8-47ee-a4c5-d9abc0df11b0\")>,\n",
       " <selenium.webdriver.remote.webelement.WebElement (session=\"cb057f213870a71c7f3b8d1e5c9f0a29\", element=\"14ce3d50-6b1d-4be7-aabe-f1fc7da27b21\")>,\n",
       " <selenium.webdriver.remote.webelement.WebElement (session=\"cb057f213870a71c7f3b8d1e5c9f0a29\", element=\"5b8b494c-c639-4a66-a220-c385020fd60e\")>]"
      ]
     },
     "execution_count": 18,
     "metadata": {},
     "output_type": "execute_result"
    }
   ],
   "source": [
    "rating_list2=driver.find_elements_by_xpath(\"//td[@class='table-body__cell u-text-right rating']\")\n",
    "rating_list2[0:10]\n",
    "\n"
   ]
  },
  {
   "cell_type": "code",
   "execution_count": 19,
   "metadata": {},
   "outputs": [
    {
     "data": {
      "text/plain": [
       "['162']"
      ]
     },
     "execution_count": 19,
     "metadata": {},
     "output_type": "execute_result"
    }
   ],
   "source": [
    "for i in rating_list:\n",
    "    r1=i.text\n",
    "    R1.append(r1)\n",
    "R1"
   ]
  },
  {
   "cell_type": "code",
   "execution_count": 20,
   "metadata": {},
   "outputs": [
    {
     "data": {
      "text/plain": [
       "['121', '119', '107', '92', '85', '77', '61', '47', '13']"
      ]
     },
     "execution_count": 20,
     "metadata": {},
     "output_type": "execute_result"
    }
   ],
   "source": [
    "for i in rating_list2:\n",
    "    r2=i.text\n",
    "    R2.append(r2)\n",
    "R2"
   ]
  },
  {
   "cell_type": "code",
   "execution_count": 21,
   "metadata": {},
   "outputs": [],
   "source": [
    "Rates=R1+R2"
   ]
  },
  {
   "cell_type": "code",
   "execution_count": 22,
   "metadata": {},
   "outputs": [],
   "source": [
    "point = driver.find_elements_by_xpath(\"//td[@class='rankings-block__banner--points']\")"
   ]
  },
  {
   "cell_type": "code",
   "execution_count": 23,
   "metadata": {},
   "outputs": [],
   "source": [
    "for i in point:\n",
    "    ki=i.text\n",
    "    po.append(ki)"
   ]
  },
  {
   "cell_type": "code",
   "execution_count": 24,
   "metadata": {},
   "outputs": [
    {
     "data": {
      "text/plain": [
       "['2,436']"
      ]
     },
     "execution_count": 24,
     "metadata": {},
     "output_type": "execute_result"
    }
   ],
   "source": [
    "po"
   ]
  },
  {
   "cell_type": "code",
   "execution_count": 25,
   "metadata": {},
   "outputs": [
    {
     "data": {
      "text/plain": [
       "['2,436',\n",
       " '1,812',\n",
       " '1,670',\n",
       " '1,713',\n",
       " '1,384',\n",
       " '1,025',\n",
       " '927',\n",
       " '306',\n",
       " '519',\n",
       " '25']"
      ]
     },
     "execution_count": 25,
     "metadata": {},
     "output_type": "execute_result"
    }
   ],
   "source": [
    "Poi = po+Points\n",
    "Poi"
   ]
  },
  {
   "cell_type": "code",
   "execution_count": 26,
   "metadata": {},
   "outputs": [
    {
     "data": {
      "text/plain": [
       "['162', '121', '119', '107', '92', '85', '77', '61', '47', '13']"
      ]
     },
     "execution_count": 26,
     "metadata": {},
     "output_type": "execute_result"
    }
   ],
   "source": [
    "Rates"
   ]
  },
  {
   "cell_type": "code",
   "execution_count": 27,
   "metadata": {},
   "outputs": [],
   "source": [
    "ODI=pd.DataFrame({})\n",
    "ODI['Teams']    =Team[:10]\n",
    "ODI['Matches']  =matches[:10]\n",
    "ODI['Points'] = Poi\n",
    "ODI['Rating']  = Rates"
   ]
  },
  {
   "cell_type": "code",
   "execution_count": 28,
   "metadata": {},
   "outputs": [
    {
     "data": {
      "text/html": [
       "<div>\n",
       "<style scoped>\n",
       "    .dataframe tbody tr th:only-of-type {\n",
       "        vertical-align: middle;\n",
       "    }\n",
       "\n",
       "    .dataframe tbody tr th {\n",
       "        vertical-align: top;\n",
       "    }\n",
       "\n",
       "    .dataframe thead th {\n",
       "        text-align: right;\n",
       "    }\n",
       "</style>\n",
       "<table border=\"1\" class=\"dataframe\">\n",
       "  <thead>\n",
       "    <tr style=\"text-align: right;\">\n",
       "      <th></th>\n",
       "      <th>Teams</th>\n",
       "      <th>Matches</th>\n",
       "      <th>Points</th>\n",
       "      <th>Rating</th>\n",
       "    </tr>\n",
       "  </thead>\n",
       "  <tbody>\n",
       "    <tr>\n",
       "      <th>0</th>\n",
       "      <td>Australia</td>\n",
       "      <td>15</td>\n",
       "      <td>2,436</td>\n",
       "      <td>162</td>\n",
       "    </tr>\n",
       "    <tr>\n",
       "      <th>1</th>\n",
       "      <td>India</td>\n",
       "      <td>15</td>\n",
       "      <td>1,812</td>\n",
       "      <td>121</td>\n",
       "    </tr>\n",
       "    <tr>\n",
       "      <th>2</th>\n",
       "      <td>England</td>\n",
       "      <td>14</td>\n",
       "      <td>1,670</td>\n",
       "      <td>119</td>\n",
       "    </tr>\n",
       "    <tr>\n",
       "      <th>3</th>\n",
       "      <td>South Africa</td>\n",
       "      <td>16</td>\n",
       "      <td>1,713</td>\n",
       "      <td>107</td>\n",
       "    </tr>\n",
       "    <tr>\n",
       "      <th>4</th>\n",
       "      <td>New Zealand</td>\n",
       "      <td>15</td>\n",
       "      <td>1,384</td>\n",
       "      <td>92</td>\n",
       "    </tr>\n",
       "    <tr>\n",
       "      <th>5</th>\n",
       "      <td>West Indies</td>\n",
       "      <td>12</td>\n",
       "      <td>1,025</td>\n",
       "      <td>85</td>\n",
       "    </tr>\n",
       "    <tr>\n",
       "      <th>6</th>\n",
       "      <td>Pakistan</td>\n",
       "      <td>12</td>\n",
       "      <td>927</td>\n",
       "      <td>77</td>\n",
       "    </tr>\n",
       "    <tr>\n",
       "      <th>7</th>\n",
       "      <td>Bangladesh</td>\n",
       "      <td>5</td>\n",
       "      <td>306</td>\n",
       "      <td>61</td>\n",
       "    </tr>\n",
       "    <tr>\n",
       "      <th>8</th>\n",
       "      <td>Sri Lanka</td>\n",
       "      <td>11</td>\n",
       "      <td>519</td>\n",
       "      <td>47</td>\n",
       "    </tr>\n",
       "    <tr>\n",
       "      <th>9</th>\n",
       "      <td>Ireland</td>\n",
       "      <td>2</td>\n",
       "      <td>25</td>\n",
       "      <td>13</td>\n",
       "    </tr>\n",
       "  </tbody>\n",
       "</table>\n",
       "</div>"
      ],
      "text/plain": [
       "          Teams Matches Points Rating\n",
       "0     Australia      15  2,436    162\n",
       "1         India      15  1,812    121\n",
       "2       England      14  1,670    119\n",
       "3  South Africa      16  1,713    107\n",
       "4   New Zealand      15  1,384     92\n",
       "5   West Indies      12  1,025     85\n",
       "6      Pakistan      12    927     77\n",
       "7    Bangladesh       5    306     61\n",
       "8     Sri Lanka      11    519     47\n",
       "9       Ireland       2     25     13"
      ]
     },
     "execution_count": 28,
     "metadata": {},
     "output_type": "execute_result"
    }
   ],
   "source": [
    "ODI"
   ]
  },
  {
   "cell_type": "code",
   "execution_count": null,
   "metadata": {},
   "outputs": [],
   "source": []
  }
 ],
 "metadata": {
  "kernelspec": {
   "display_name": "Python 3",
   "language": "python",
   "name": "python3"
  },
  "language_info": {
   "codemirror_mode": {
    "name": "ipython",
    "version": 3
   },
   "file_extension": ".py",
   "mimetype": "text/x-python",
   "name": "python",
   "nbconvert_exporter": "python",
   "pygments_lexer": "ipython3",
   "version": "3.7.6"
  }
 },
 "nbformat": 4,
 "nbformat_minor": 4
}
