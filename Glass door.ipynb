{
 "cells": [
  {
   "cell_type": "code",
   "execution_count": 2,
   "metadata": {},
   "outputs": [],
   "source": [
    "import pandas as pd\n",
    "from bs4 import BeautifulSoup\n",
    "import requests\n",
    "import selenium\n",
    "from selenium import webdriver\n",
    "import time"
   ]
  },
  {
   "cell_type": "code",
   "execution_count": 3,
   "metadata": {},
   "outputs": [
    {
     "name": "stdout",
     "output_type": "stream",
     "text": [
      "                       Company Name Days Posted Rating\n",
      "0   ANI Calls India Private Limited          2d    3.2\n",
      "1                    WSD Consultant          5d    3.3\n",
      "2                       AI Engineer         10d    3.7\n",
      "3  Applicate IT Solutions Pvt. Ltd.          5d    3.9\n",
      "4                    Biz2Credit Inc        30d+      3\n",
      "5                     NatWest Group          3d    3.5\n",
      "6   ANI Calls India Private Limited          2d    4.4\n",
      "7                          xtLytics        30d+      5\n",
      "8                           Dürr AG         16d    4.3\n",
      "9                         Microsoft         16d    3.3\n"
     ]
    }
   ],
   "source": [
    "driver = webdriver.Chrome(r\"C:\\chromedriver.exe\")\n",
    "driver.get('https://www.glassdoor.co.in/Job/noida-data-scientist-jobs-SRCH_IL.0,5_IC4477468_KO6,20.htm')\n",
    "company=[]\n",
    "Days=[]\n",
    "Rating=[]\n",
    "for i in list(driver.find_elements_by_xpath(\"//div[@class='jobHeader d-flex justify-content-between align-items-start']\"))[:10]:\n",
    "    company.append(i.text)\n",
    "for i in list(driver.find_elements_by_xpath(\"//div[@class='d-flex align-items-end pl-std css-mi55ob']\"))[:10]:  \n",
    "    Days.append(i.text)\n",
    "for i in list(driver.find_elements_by_xpath(\"//span[@class='compactStars ']\"))[:10]:\n",
    "    Rating.append(i.text)\n",
    "job_df=pd.DataFrame({'Company Name':company,\n",
    "                         'Days Posted':Days,\n",
    "                         'Rating':Rating})\n",
    "job_df.to_csv('Data Scientist GlassDoor.com', index = False)\n",
    "print(job_df)\n",
    " "
   ]
  },
  {
   "cell_type": "code",
   "execution_count": 4,
   "metadata": {},
   "outputs": [
    {
     "data": {
      "text/html": [
       "<div>\n",
       "<style scoped>\n",
       "    .dataframe tbody tr th:only-of-type {\n",
       "        vertical-align: middle;\n",
       "    }\n",
       "\n",
       "    .dataframe tbody tr th {\n",
       "        vertical-align: top;\n",
       "    }\n",
       "\n",
       "    .dataframe thead th {\n",
       "        text-align: right;\n",
       "    }\n",
       "</style>\n",
       "<table border=\"1\" class=\"dataframe\">\n",
       "  <thead>\n",
       "    <tr style=\"text-align: right;\">\n",
       "      <th></th>\n",
       "      <th>Company Name</th>\n",
       "      <th>Days Posted</th>\n",
       "      <th>Rating</th>\n",
       "    </tr>\n",
       "  </thead>\n",
       "  <tbody>\n",
       "    <tr>\n",
       "      <th>0</th>\n",
       "      <td>ANI Calls India Private Limited</td>\n",
       "      <td>2d</td>\n",
       "      <td>3.2</td>\n",
       "    </tr>\n",
       "    <tr>\n",
       "      <th>1</th>\n",
       "      <td>WSD Consultant</td>\n",
       "      <td>5d</td>\n",
       "      <td>3.3</td>\n",
       "    </tr>\n",
       "    <tr>\n",
       "      <th>2</th>\n",
       "      <td>AI Engineer</td>\n",
       "      <td>10d</td>\n",
       "      <td>3.7</td>\n",
       "    </tr>\n",
       "    <tr>\n",
       "      <th>3</th>\n",
       "      <td>Applicate IT Solutions Pvt. Ltd.</td>\n",
       "      <td>5d</td>\n",
       "      <td>3.9</td>\n",
       "    </tr>\n",
       "    <tr>\n",
       "      <th>4</th>\n",
       "      <td>Biz2Credit Inc</td>\n",
       "      <td>30d+</td>\n",
       "      <td>3</td>\n",
       "    </tr>\n",
       "    <tr>\n",
       "      <th>5</th>\n",
       "      <td>NatWest Group</td>\n",
       "      <td>3d</td>\n",
       "      <td>3.5</td>\n",
       "    </tr>\n",
       "    <tr>\n",
       "      <th>6</th>\n",
       "      <td>ANI Calls India Private Limited</td>\n",
       "      <td>2d</td>\n",
       "      <td>4.4</td>\n",
       "    </tr>\n",
       "    <tr>\n",
       "      <th>7</th>\n",
       "      <td>xtLytics</td>\n",
       "      <td>30d+</td>\n",
       "      <td>5</td>\n",
       "    </tr>\n",
       "    <tr>\n",
       "      <th>8</th>\n",
       "      <td>Dürr AG</td>\n",
       "      <td>16d</td>\n",
       "      <td>4.3</td>\n",
       "    </tr>\n",
       "    <tr>\n",
       "      <th>9</th>\n",
       "      <td>Microsoft</td>\n",
       "      <td>16d</td>\n",
       "      <td>3.3</td>\n",
       "    </tr>\n",
       "  </tbody>\n",
       "</table>\n",
       "</div>"
      ],
      "text/plain": [
       "                       Company Name Days Posted Rating\n",
       "0   ANI Calls India Private Limited          2d    3.2\n",
       "1                    WSD Consultant          5d    3.3\n",
       "2                       AI Engineer         10d    3.7\n",
       "3  Applicate IT Solutions Pvt. Ltd.          5d    3.9\n",
       "4                    Biz2Credit Inc        30d+      3\n",
       "5                     NatWest Group          3d    3.5\n",
       "6   ANI Calls India Private Limited          2d    4.4\n",
       "7                          xtLytics        30d+      5\n",
       "8                           Dürr AG         16d    4.3\n",
       "9                         Microsoft         16d    3.3"
      ]
     },
     "execution_count": 4,
     "metadata": {},
     "output_type": "execute_result"
    }
   ],
   "source": [
    "job_df"
   ]
  },
  {
   "cell_type": "code",
   "execution_count": null,
   "metadata": {},
   "outputs": [],
   "source": []
  }
 ],
 "metadata": {
  "kernelspec": {
   "display_name": "Python 3",
   "language": "python",
   "name": "python3"
  },
  "language_info": {
   "codemirror_mode": {
    "name": "ipython",
    "version": 3
   },
   "file_extension": ".py",
   "mimetype": "text/x-python",
   "name": "python",
   "nbconvert_exporter": "python",
   "pygments_lexer": "ipython3",
   "version": "3.7.6"
  }
 },
 "nbformat": 4,
 "nbformat_minor": 4
}
